{
 "cells": [
  {
   "cell_type": "code",
   "execution_count": null,
   "id": "4d9186ce-38bc-49e7-a49c-a4da626d37f8",
   "metadata": {},
   "outputs": [],
   "source": [
    "## import statements\n",
    "# These lines load the tests. \n",
    "from gofer.ok import check\n",
    "import numpy as np\n",
    "from datascience import *\n",
    "import pandas as pd\n",
    "import matplotlib\n",
    "from matplotlib import patches\n",
    "%matplotlib inline\n",
    "import matplotlib.pyplot as plt\n",
    "import seaborn as sns\n",
    "import warnings\n",
    "warnings.simplefilter('ignore', FutureWarning)\n",
    "plt.style.use('ggplot')\n",
    "from ipywidgets import interact, interactive, fixed\n",
    "import ipywidgets as widgets\n",
    "# Fix for datascience collections Iterable\n",
    "import collections as collections\n",
    "import collections.abc as abc\n",
    "collections.Iterable = abc.Iterable"
   ]
  },
  {
   "cell_type": "code",
   "execution_count": null,
   "id": "776f6b83-c650-425e-b0fe-6cbb55a856c6",
   "metadata": {},
   "outputs": [],
   "source": [
    "def standard_units(xyz):\n",
    "    \"Convert any array of numbers to standard units.\"\n",
    "    return (xyz - np.mean(xyz))/np.std(xyz)  \n",
    "def correlation(t, label_x, label_y):\n",
    "    return np.mean(standard_units(t.column(label_x))*standard_units(t.column(label_y)))\n",
    "# Regression\n",
    "def slope(t, label_x, label_y):\n",
    "    r = correlation(t, label_x, label_y)\n",
    "    return r*np.std(t.column(label_y))/np.std(t.column(label_x))\n",
    "def intercept(t, label_x, label_y):\n",
    "    return np.mean(t.column(label_y)) - slope(t, label_x, label_y)*np.mean(t.column(label_x))"
   ]
  },
  {
   "cell_type": "code",
   "execution_count": null,
   "id": "cf10d8b6-23cc-4c2c-a1c2-a295202289c9",
   "metadata": {},
   "outputs": [],
   "source": [
    "faithful = Table.read_table(\"../Lab08/faithful-new.csv\")\n",
    "faithful.scatter('duration','wait')"
   ]
  },
  {
   "cell_type": "code",
   "execution_count": null,
   "id": "a6604f6a-927d-464a-9288-e177ee6f82fe",
   "metadata": {},
   "outputs": [],
   "source": [
    "faithful = Table.read_table(\"../Lab08/faithful-new.csv\")\n",
    "faithful.scatter('duration','wait')"
   ]
  },
  {
   "cell_type": "markdown",
   "id": "9a5607f7-1e2e-4d80-9497-2113c89146ef",
   "metadata": {
    "tags": []
   },
   "source": [
    "#### Slope\n",
    "***\n",
    "\n",
    "slope of the regression line $= r \\cdot\n",
    "\\frac{SD_y}{SD_x}$<br>\n",
    "intercept of the regression line $=\n",
    "\\bar{y} - slope \\cdot \\bar{x}$<br><br>\n",
    "***\n",
    "equation of the regression line:<br> $ \\hat{y} =$\n",
    " slope $\\cdot x $+ intercept<br>\n",
    "error in fit:<br> error $ =  y - \\hat{y} = y - $slope $\\cdot x $+ intercept<br>\n",
    "\n",
    "***"
   ]
  },
  {
   "cell_type": "code",
   "execution_count": null,
   "id": "540f433c-54ef-40f2-947c-00cf9f45004b",
   "metadata": {},
   "outputs": [],
   "source": [
    "duration_mean =  np.mean(faithful[\"duration\"])\n",
    "duration_std = np.std(faithful.column(\"duration\"))\n",
    "wait_mean =  np.mean(faithful.column(\"wait\"))\n",
    "wait_std = np.std(faithful.column(\"wait\"))\n",
    "\n",
    "faithful_standard = Table().with_columns(\n",
    "    \"duration (standard units)\", (faithful.column(\"duration\") - duration_mean) / duration_std,\n",
    "    \"wait (standard units)\", (faithful.column(\"wait\") - wait_mean) / wait_std)"
   ]
  },
  {
   "cell_type": "code",
   "execution_count": null,
   "id": "128d8cd4-33ae-44bb-add1-a077fb193d1b",
   "metadata": {},
   "outputs": [],
   "source": [
    "r = np.mean(faithful_standard[\"duration (standard units)\"]*faithful_standard[\"wait (standard units)\"])\n",
    "r"
   ]
  },
  {
   "cell_type": "code",
   "execution_count": null,
   "id": "853101eb-e3cc-4832-8a94-33e1f22a9918",
   "metadata": {},
   "outputs": [],
   "source": [
    "faithful"
   ]
  },
  {
   "cell_type": "code",
   "execution_count": null,
   "id": "51ed72dc-dbd3-44ca-bce9-55ca2cbf0a8d",
   "metadata": {},
   "outputs": [],
   "source": [
    "slope = r * wait_std/duration_std\n",
    "print(\"Slope; \",slope)\n",
    "print(\"For every 1 minute longer eruption duration we wait about \",round(slope,1),\" minutes longer\")"
   ]
  },
  {
   "cell_type": "code",
   "execution_count": null,
   "id": "af12ec9d-d952-4bc8-8203-643177de6aed",
   "metadata": {},
   "outputs": [],
   "source": [
    "intercept = wait_mean - slope * duration_mean\n",
    "intercept"
   ]
  },
  {
   "cell_type": "code",
   "execution_count": null,
   "id": "dc07b24b-9b31-43a3-805f-33d2c90d1ebc",
   "metadata": {},
   "outputs": [],
   "source": [
    "# error = y - ypredict\n",
    "tbl = faithful\n",
    "error_list = []\n",
    "for i in np.arange(tbl.num_rows):\n",
    "    predicted_y = tbl.row(i)[0]*slope+intercept\n",
    "    error = tbl.row(i)[1] - predicted_y\n",
    "    error_list.append(error)"
   ]
  },
  {
   "cell_type": "code",
   "execution_count": null,
   "id": "9ef80f92-61a0-4d69-8684-18f55d69cd56",
   "metadata": {},
   "outputs": [],
   "source": [
    "plt.scatter(faithful['duration'],error_list)\n",
    "plt.show()"
   ]
  },
  {
   "cell_type": "code",
   "execution_count": null,
   "id": "32b348e1-bdd0-409d-acb4-c17348419976",
   "metadata": {},
   "outputs": [],
   "source": [
    "def fit_line(tbl):\n",
    "    # x data is in column 0 and y data is in column 1\n",
    "    # Your code may need more than 1 line below here.\n",
    "    xdata, ydata = tbl.column(0), tbl.column(1)\n",
    "    def mse_f(slope,intercept):\n",
    "        fitted = slope * xdata + intercept\n",
    "        return np.mean((ydata - fitted) ** 2)    \n",
    "    values = minimize(mse_f)\n",
    "    slope = values[0]\n",
    "    intercept = values[1]\n",
    "    return make_array(slope, intercept)"
   ]
  },
  {
   "cell_type": "code",
   "execution_count": null,
   "id": "9e43c8e2-cf9c-408d-9c6a-9b998909cfc1",
   "metadata": {},
   "outputs": [],
   "source": [
    "fit_line(faithful)"
   ]
  },
  {
   "cell_type": "markdown",
   "id": "67e48f9d-cc62-4066-82fd-1d12e7e74794",
   "metadata": {},
   "source": [
    "### Bootstrap 95% Confidence Interval"
   ]
  },
  {
   "cell_type": "code",
   "execution_count": null,
   "id": "b4b11b97-5667-4143-8f9b-114d0bc65bcb",
   "metadata": {},
   "outputs": [],
   "source": [
    "bootstrap_slope = make_array()\n",
    "for i in np.arange(1000):\n",
    "    bootstrap_slope = np.append(bootstrap_slope, fit_line(faithful.sample())) # Sample without replacement\n",
    "\n",
    "lower_end = percentile(2.5,bootstrap_slope)\n",
    "upper_end = percentile(97.5,bootstrap_slope)\n",
    "Table().with_column(\"slope estimate\", bootstrap_slope).hist(bins=np.arange(8, 15, .1), unit=\"minutes\")\n",
    "print(\"95% confidence interval for the predicted additional wait for 1 minute longer duration of Old Fathful : [{:g}, {:g}, {:g}] minutes\".format(lower_end, slope, upper_end))\n"
   ]
  },
  {
   "cell_type": "markdown",
   "id": "a8b75b4b-ec1e-44e6-83a5-37608b07affe",
   "metadata": {},
   "source": [
    "***\n",
    "2018 Philadelphia Primary voting data"
   ]
  },
  {
   "cell_type": "code",
   "execution_count": null,
   "id": "cf456fbd-b74b-48b3-8fc9-40d0b10f9668",
   "metadata": {},
   "outputs": [],
   "source": [
    "url = 'qualified_voter_listing_2018_primary_by_ward.csv'\n",
    "url='https://phl.carto.com/api/v2/sql?q=select+*+from+voter_turnout_primary_election_2018&format=csv&filename=voter_turnout_primary_election_2018&skipfields=cartodb_id,the_geom,the_geom_webmercator'\n",
    "vote = Table().read_table(url)\n",
    "vote"
   ]
  },
  {
   "cell_type": "code",
   "execution_count": null,
   "id": "95447f45-cc34-45bb-86bf-380e23a6ea12",
   "metadata": {},
   "outputs": [],
   "source": [
    "\n",
    "np.average(vote['voter_count'])"
   ]
  },
  {
   "cell_type": "code",
   "execution_count": null,
   "id": "a7187a15-2cfb-48af-8a07-d5dedb7693eb",
   "metadata": {},
   "outputs": [],
   "source": [
    "def one_bootstrap_mean():\n",
    "    resample = vote.sample(10)\n",
    "    return np.mean(resample.column('voter_count'))"
   ]
  },
  {
   "cell_type": "code",
   "execution_count": null,
   "id": "ff3e3086-a86e-4518-b76d-dd4caa8da13d",
   "metadata": {},
   "outputs": [],
   "source": [
    "one_bootstrap_mean()"
   ]
  },
  {
   "cell_type": "code",
   "execution_count": null,
   "id": "3f543836-c767-4ab6-92a4-d81d12d42e1d",
   "metadata": {},
   "outputs": [],
   "source": [
    "percentile(50, vote.column('voter_count'))"
   ]
  },
  {
   "cell_type": "code",
   "execution_count": null,
   "id": "52b4aaed-df0b-4e1f-a341-514a04f6997a",
   "metadata": {},
   "outputs": [],
   "source": [
    "vote.sample()"
   ]
  },
  {
   "cell_type": "code",
   "execution_count": null,
   "id": "7891957d-e1a3-403a-8d0d-225448ba3d3b",
   "metadata": {},
   "outputs": [],
   "source": [
    "vote.sort(\"total\",descending=True)"
   ]
  },
  {
   "cell_type": "code",
   "execution_count": null,
   "id": "749ec259-e928-46b0-891c-fc35e4ceeb44",
   "metadata": {},
   "outputs": [],
   "source": [
    "total_mean = []\n",
    "for i in np.arange(1000):\n",
    "    total_mean.append(one_bootstrap_mean())\n",
    "plt.hist(total_mean)"
   ]
  },
  {
   "cell_type": "code",
   "execution_count": null,
   "id": "0e5a2c35-2e6e-4fbf-80d6-c0dc7cad0a9e",
   "metadata": {},
   "outputs": [],
   "source": [
    "vote.hist(\"total\")\n",
    "plt.show()"
   ]
  },
  {
   "cell_type": "code",
   "execution_count": null,
   "id": "e6afe039-6116-4aaa-a98b-2b18afca88da",
   "metadata": {},
   "outputs": [],
   "source": []
  }
 ],
 "metadata": {
  "kernelspec": {
   "display_name": "Python 3 (ipykernel)",
   "language": "python",
   "name": "python3"
  },
  "language_info": {
   "codemirror_mode": {
    "name": "ipython",
    "version": 3
   },
   "file_extension": ".py",
   "mimetype": "text/x-python",
   "name": "python",
   "nbconvert_exporter": "python",
   "pygments_lexer": "ipython3",
   "version": "3.10.4"
  }
 },
 "nbformat": 4,
 "nbformat_minor": 5
}
