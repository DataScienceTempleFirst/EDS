{
 "cells": [
  {
   "cell_type": "markdown",
   "metadata": {},
   "source": [
    "### Hypothesis testing\n",
    "Elements of Data Science"
   ]
  },
  {
   "cell_type": "markdown",
   "metadata": {
    "tags": []
   },
   "source": [
    "## Hypothesis Testing Learning Goals\n",
    "Develop and test an hypothesis\n",
    "- Hypothesis\n",
    "    - testable hypothesis\n",
    "    - statistic\n",
    "- Simulation: Sample the distribution\n",
    "    - Repeat and collect outcomes\n",
    "    - Iteration: \n",
    "        `for i in np.arange(samples)`\n",
    "- Examine resulting distribution of outcomes\n",
    "    - Probability distribution\n",
    "    - Uncertainty\n",
    "- p-test"
   ]
  },
  {
   "cell_type": "code",
   "execution_count": 3,
   "metadata": {},
   "outputs": [],
   "source": [
    "import numpy as np\n",
    "from datascience import *"
   ]
  },
  {
   "cell_type": "code",
   "execution_count": 4,
   "metadata": {},
   "outputs": [],
   "source": [
    "%matplotlib inline\n",
    "import matplotlib.pyplot as plt\n",
    "plt.style.use('fivethirtyeight')\n",
    "# Fix for datascience plots\n",
    "import collections as collections\n",
    "import collections.abc as abc\n",
    "collections.Iterable = abc.Iterable"
   ]
  },
  {
   "cell_type": "markdown",
   "metadata": {},
   "source": [
    "## Hypothesis Testing"
   ]
  },
  {
   "cell_type": "markdown",
   "metadata": {},
   "source": [
    "#### Ground Hog\n"
   ]
  },
  {
   "cell_type": "code",
   "execution_count": 5,
   "metadata": {},
   "outputs": [
    {
     "data": {
      "text/html": [
       "<table border=\"1\" class=\"dataframe\">\n",
       "    <thead>\n",
       "        <tr>\n",
       "            <th>hogID</th> <th>year</th> <th>shadowPres</th> <th>dateSample</th> <th>julDay</th> <th>GDD</th> <th>cGDD</th> <th>numObs</th> <th>meanJulSpringDay</th> <th>sdJulSpringDay</th> <th>seJulSpringDay</th> <th>earlyOrLate</th>\n",
       "        </tr>\n",
       "    </thead>\n",
       "    <tbody>\n",
       "        <tr>\n",
       "            <td>BC   </td> <td>2018</td> <td>yes       </td> <td>2018-04-11</td> <td>101   </td> <td>3.05556 </td> <td>127.222</td> <td>30    </td> <td>85.8667         </td> <td>12.4367       </td> <td>2.27062       </td> <td>late       </td>\n",
       "        </tr>\n",
       "        <tr>\n",
       "            <td>BC   </td> <td>2019</td> <td>no        </td> <td>2019-04-06</td> <td>96    </td> <td>8.33333 </td> <td>123.889</td> <td>30    </td> <td>85.8667         </td> <td>12.4367       </td> <td>2.27062       </td> <td>late       </td>\n",
       "        </tr>\n",
       "        <tr>\n",
       "            <td>BECK </td> <td>2006</td> <td>yes       </td> <td>2006-02-15</td> <td>46    </td> <td>7.22222 </td> <td>127.006</td> <td>30    </td> <td>72.4333         </td> <td>14.6586       </td> <td>2.67628       </td> <td>early      </td>\n",
       "        </tr>\n",
       "        <tr>\n",
       "            <td>BECK </td> <td>2007</td> <td>no        </td> <td>2007-03-14</td> <td>73    </td> <td>14.1667 </td> <td>129.167</td> <td>30    </td> <td>72.4333         </td> <td>14.6586       </td> <td>2.67628       </td> <td>late       </td>\n",
       "        </tr>\n",
       "        <tr>\n",
       "            <td>BECK </td> <td>2008</td> <td>no        </td> <td>2008-03-17</td> <td>77    </td> <td>0.833333</td> <td>128.611</td> <td>30    </td> <td>72.4333         </td> <td>14.6586       </td> <td>2.67628       </td> <td>late       </td>\n",
       "        </tr>\n",
       "        <tr>\n",
       "            <td>BECK </td> <td>2009</td> <td>yes       </td> <td>2009-03-10</td> <td>69    </td> <td>12.2222 </td> <td>130    </td> <td>30    </td> <td>72.4333         </td> <td>14.6586       </td> <td>2.67628       </td> <td>early      </td>\n",
       "        </tr>\n",
       "        <tr>\n",
       "            <td>BECK </td> <td>2010</td> <td>no        </td> <td>2010-03-21</td> <td>80    </td> <td>7.22222 </td> <td>129.444</td> <td>30    </td> <td>72.4333         </td> <td>14.6586       </td> <td>2.67628       </td> <td>late       </td>\n",
       "        </tr>\n",
       "        <tr>\n",
       "            <td>BECK </td> <td>2011</td> <td>no        </td> <td>2011-03-20</td> <td>79    </td> <td>7.77778 </td> <td>133.611</td> <td>30    </td> <td>72.4333         </td> <td>14.6586       </td> <td>2.67628       </td> <td>late       </td>\n",
       "        </tr>\n",
       "        <tr>\n",
       "            <td>BECK </td> <td>2012</td> <td>no        </td> <td>2012-03-07</td> <td>67    </td> <td>13.3333 </td> <td>129.444</td> <td>30    </td> <td>72.4333         </td> <td>14.6586       </td> <td>2.67628       </td> <td>early      </td>\n",
       "        </tr>\n",
       "        <tr>\n",
       "            <td>BECK </td> <td>2013</td> <td>no        </td> <td>2013-03-30</td> <td>89    </td> <td>3.88889 </td> <td>128.611</td> <td>30    </td> <td>72.4333         </td> <td>14.6586       </td> <td>2.67628       </td> <td>late       </td>\n",
       "        </tr>\n",
       "    </tbody>\n",
       "</table>\n",
       "<p>... (520 rows omitted)</p>"
      ],
      "text/plain": [
       "hogID | year | shadowPres | dateSample | julDay | GDD      | cGDD    | numObs | meanJulSpringDay | sdJulSpringDay | seJulSpringDay | earlyOrLate\n",
       "BC    | 2018 | yes        | 2018-04-11 | 101    | 3.05556  | 127.222 | 30     | 85.8667          | 12.4367        | 2.27062        | late\n",
       "BC    | 2019 | no         | 2019-04-06 | 96     | 8.33333  | 123.889 | 30     | 85.8667          | 12.4367        | 2.27062        | late\n",
       "BECK  | 2006 | yes        | 2006-02-15 | 46     | 7.22222  | 127.006 | 30     | 72.4333          | 14.6586        | 2.67628        | early\n",
       "BECK  | 2007 | no         | 2007-03-14 | 73     | 14.1667  | 129.167 | 30     | 72.4333          | 14.6586        | 2.67628        | late\n",
       "BECK  | 2008 | no         | 2008-03-17 | 77     | 0.833333 | 128.611 | 30     | 72.4333          | 14.6586        | 2.67628        | late\n",
       "BECK  | 2009 | yes        | 2009-03-10 | 69     | 12.2222  | 130     | 30     | 72.4333          | 14.6586        | 2.67628        | early\n",
       "BECK  | 2010 | no         | 2010-03-21 | 80     | 7.22222  | 129.444 | 30     | 72.4333          | 14.6586        | 2.67628        | late\n",
       "BECK  | 2011 | no         | 2011-03-20 | 79     | 7.77778  | 133.611 | 30     | 72.4333          | 14.6586        | 2.67628        | late\n",
       "BECK  | 2012 | no         | 2012-03-07 | 67     | 13.3333  | 129.444 | 30     | 72.4333          | 14.6586        | 2.67628        | early\n",
       "BECK  | 2013 | no         | 2013-03-30 | 89     | 3.88889  | 128.611 | 30     | 72.4333          | 14.6586        | 2.67628        | late\n",
       "... (520 rows omitted)"
      ]
     },
     "execution_count": 5,
     "metadata": {},
     "output_type": "execute_result"
    }
   ],
   "source": [
    "groundhogdata = Table.read_table('Groundhogdata/summarizedGroundhogData_20210326.csv')\n",
    "groundhogdata"
   ]
  },
  {
   "cell_type": "code",
   "execution_count": 6,
   "metadata": {},
   "outputs": [],
   "source": [
    "yes_late = groundhogdata.where('shadowPres', 'yes').where('earlyOrLate', 'late')\n",
    "no_early = groundhogdata.where('shadowPres', 'no').where('earlyOrLate', 'early')\n",
    "\n",
    "correct_tbl = yes_late.append(no_early)"
   ]
  },
  {
   "cell_type": "code",
   "execution_count": 7,
   "metadata": {},
   "outputs": [
    {
     "data": {
      "text/plain": [
       "51.132075471698116"
      ]
     },
     "execution_count": 7,
     "metadata": {},
     "output_type": "execute_result"
    }
   ],
   "source": [
    "num_correct = correct_tbl.num_rows / groundhogdata.num_rows * 100\n",
    "num_correct\n"
   ]
  },
  {
   "cell_type": "code",
   "execution_count": 8,
   "metadata": {},
   "outputs": [],
   "source": [
    "shadow_options = make_array('yes', 'no')\n",
    "spring_options = make_array('late', 'early')\n",
    "num_observations = groundhogdata.num_rows"
   ]
  },
  {
   "cell_type": "code",
   "execution_count": 9,
   "metadata": {},
   "outputs": [
    {
     "data": {
      "text/plain": [
       "0.539622641509434"
      ]
     },
     "execution_count": 9,
     "metadata": {},
     "output_type": "execute_result"
    }
   ],
   "source": [
    "right = 0 \n",
    "wrong = 0\n",
    "\n",
    "for obs in range(num_observations):\n",
    "    shadow = np.random.choice(shadow_options)\n",
    "    spring = np.random.choice(spring_options)\n",
    "    \n",
    "    if shadow == 'yes' and spring == 'late':\n",
    "        right += 1\n",
    "    elif shadow == 'no' and spring == 'early':\n",
    "        right += 1\n",
    "    else:\n",
    "        wrong += 1\n",
    "\n",
    "simulated_num_correct = right / num_observations\n",
    "simulated_num_correct"
   ]
  },
  {
   "cell_type": "code",
   "execution_count": 10,
   "metadata": {},
   "outputs": [],
   "source": [
    "def sim_ground(repeats):\n",
    "    correct_obs = []\n",
    "    for i in np.arange(repeats):\n",
    "        right = 0 \n",
    "        wrong = 0\n",
    "        for obs in range(num_observations):\n",
    "            shadow = np.random.choice(shadow_options)\n",
    "            spring = np.random.choice(spring_options)\n",
    "            if shadow == 'yes' and spring == 'late':\n",
    "                right += 1\n",
    "            elif shadow == 'no' and spring == 'early':\n",
    "                right += 1\n",
    "            else:\n",
    "                wrong += 1\n",
    "        simulated_num_correct = right / num_observations\n",
    "        correct_obs.append(simulated_num_correct)\n",
    "    return correct_obs        "
   ]
  },
  {
   "cell_type": "code",
   "execution_count": 20,
   "metadata": {},
   "outputs": [
    {
     "data": {
      "image/png": "[encoded data removed]",
      "text/plain": [
       "<Figure size 432x288 with 1 Axes>"
      ]
     },
     "metadata": {},
     "output_type": "display_data"
    }
   ],
   "source": [
    "plt.hist(sim_ground(1000),bins=np.arange(0.4,0.6,.01),color = \"skyblue\", ec=\"red\")\n",
    "plt.title('Simulated Groundhog outcomes')\n",
    "plt.savefig('sim_ground.png')\n",
    "plt.show()"
   ]
  },
  {
   "cell_type": "code",
   "execution_count": 19,
   "metadata": {},
   "outputs": [
    {
     "data": {
      "text/html": [
       "<table border=\"1\" class=\"dataframe\">\n",
       "    <thead>\n",
       "        <tr>\n",
       "            <th>Correct</th>\n",
       "        </tr>\n",
       "    </thead>\n",
       "    <tbody>\n",
       "        <tr>\n",
       "            <td>0.526415</td>\n",
       "        </tr>\n",
       "        <tr>\n",
       "            <td>0.511321</td>\n",
       "        </tr>\n",
       "        <tr>\n",
       "            <td>0.49434 </td>\n",
       "        </tr>\n",
       "        <tr>\n",
       "            <td>0.501887</td>\n",
       "        </tr>\n",
       "        <tr>\n",
       "            <td>0.509434</td>\n",
       "        </tr>\n",
       "        <tr>\n",
       "            <td>0.528302</td>\n",
       "        </tr>\n",
       "        <tr>\n",
       "            <td>0.498113</td>\n",
       "        </tr>\n",
       "        <tr>\n",
       "            <td>0.516981</td>\n",
       "        </tr>\n",
       "        <tr>\n",
       "            <td>0.483019</td>\n",
       "        </tr>\n",
       "        <tr>\n",
       "            <td>0.479245</td>\n",
       "        </tr>\n",
       "    </tbody>\n",
       "</table>\n",
       "<p>... (1490 rows omitted)</p>"
      ],
      "text/plain": [
       "Correct\n",
       "0.526415\n",
       "0.511321\n",
       "0.49434\n",
       "0.501887\n",
       "0.509434\n",
       "0.528302\n",
       "0.498113\n",
       "0.516981\n",
       "0.483019\n",
       "0.479245\n",
       "... (1490 rows omitted)"
      ]
     },
     "execution_count": 19,
     "metadata": {},
     "output_type": "execute_result"
    }
   ],
   "source": [
    "hogsimdata = Table().with_columns(\"Correct\",sim_ground(1500))\n",
    "hogsimdata"
   ]
  },
  {
   "cell_type": "code",
   "execution_count": 30,
   "metadata": {},
   "outputs": [
    {
     "data": {
      "image/png": "[encoded data removed]",
      "text/plain": [
       "<Figure size 432x288 with 1 Axes>"
      ]
     },
     "metadata": {},
     "output_type": "display_data"
    }
   ],
   "source": [
    "hogsimdata.hist(0,bins=np.arange(0.4,0.6,.01))\n",
    "plt.scatter(num_correct/100, 0, color='red', s=200);\n",
    "plt.title('Simulated Groundhog outcomes')\n",
    "plt.savefig('sim_ground_correct.png')\n",
    "plt.show()"
   ]
  },
  {
   "cell_type": "code",
   "execution_count": 31,
   "metadata": {},
   "outputs": [
    {
     "data": {
      "text/plain": [
       "0.314"
      ]
     },
     "execution_count": 31,
     "metadata": {},
     "output_type": "execute_result"
    }
   ],
   "source": [
    "np.count_nonzero(hogsimdata.column('Correct') >= num_correct/100) / 1500"
   ]
  },
  {
   "cell_type": "markdown",
   "metadata": {},
   "source": [
    "#### Essex Ed"
   ]
  },
  {
   "cell_type": "code",
   "execution_count": 13,
   "metadata": {},
   "outputs": [
    {
     "data": {
      "text/html": [
       "<table border=\"1\" class=\"dataframe\">\n",
       "    <thead>\n",
       "        <tr>\n",
       "            <th>hogID</th> <th>year</th> <th>shadowPres</th> <th>dateSample</th> <th>julDay</th> <th>GDD</th> <th>cGDD</th> <th>numObs</th> <th>meanJulSpringDay</th> <th>sdJulSpringDay</th> <th>seJulSpringDay</th> <th>earlyOrLate</th>\n",
       "        </tr>\n",
       "    </thead>\n",
       "    <tbody>\n",
       "        <tr>\n",
       "            <td>EE   </td> <td>2011</td> <td>yes       </td> <td>2011-03-05</td> <td>64    </td> <td>11.9444</td> <td>135.556</td> <td>30    </td> <td>50.8333         </td> <td>15.7329       </td> <td>2.87241       </td> <td>late       </td>\n",
       "        </tr>\n",
       "        <tr>\n",
       "            <td>EE   </td> <td>2012</td> <td>no        </td> <td>2012-02-01</td> <td>32    </td> <td>12.7778</td> <td>131.111</td> <td>30    </td> <td>50.8333         </td> <td>15.7329       </td> <td>2.87241       </td> <td>early      </td>\n",
       "        </tr>\n",
       "        <tr>\n",
       "            <td>EE   </td> <td>2013</td> <td>no        </td> <td>2013-02-15</td> <td>46    </td> <td>6.94444</td> <td>129.167</td> <td>30    </td> <td>50.8333         </td> <td>15.7329       </td> <td>2.87241       </td> <td>early      </td>\n",
       "        </tr>\n",
       "        <tr>\n",
       "            <td>EE   </td> <td>2014</td> <td>yes       </td> <td>2014-03-15</td> <td>74    </td> <td>10.8333</td> <td>133.611</td> <td>30    </td> <td>50.8333         </td> <td>15.7329       </td> <td>2.87241       </td> <td>late       </td>\n",
       "        </tr>\n",
       "        <tr>\n",
       "            <td>EE   </td> <td>2015</td> <td>yes       </td> <td>2015-03-27</td> <td>86    </td> <td>6.38889</td> <td>130.278</td> <td>30    </td> <td>50.8333         </td> <td>15.7329       </td> <td>2.87241       </td> <td>late       </td>\n",
       "        </tr>\n",
       "        <tr>\n",
       "            <td>EE   </td> <td>2016</td> <td>yes       </td> <td>2016-02-21</td> <td>52    </td> <td>8.33333</td> <td>131.667</td> <td>30    </td> <td>50.8333         </td> <td>15.7329       </td> <td>2.87241       </td> <td>late       </td>\n",
       "        </tr>\n",
       "        <tr>\n",
       "            <td>EE   </td> <td>2017</td> <td>yes       </td> <td>2017-02-01</td> <td>32    </td> <td>3.88889</td> <td>129.722</td> <td>30    </td> <td>50.8333         </td> <td>15.7329       </td> <td>2.87241       </td> <td>early      </td>\n",
       "        </tr>\n",
       "        <tr>\n",
       "            <td>EE   </td> <td>2018</td> <td>no        </td> <td>2018-02-16</td> <td>47    </td> <td>8.61111</td> <td>134.167</td> <td>30    </td> <td>50.8333         </td> <td>15.7329       </td> <td>2.87241       </td> <td>early      </td>\n",
       "        </tr>\n",
       "        <tr>\n",
       "            <td>EE   </td> <td>2019</td> <td>no        </td> <td>2019-02-22</td> <td>53    </td> <td>4.72222</td> <td>131.667</td> <td>30    </td> <td>50.8333         </td> <td>15.7329       </td> <td>2.87241       </td> <td>late       </td>\n",
       "        </tr>\n",
       "    </tbody>\n",
       "</table>"
      ],
      "text/plain": [
       "hogID | year | shadowPres | dateSample | julDay | GDD     | cGDD    | numObs | meanJulSpringDay | sdJulSpringDay | seJulSpringDay | earlyOrLate\n",
       "EE    | 2011 | yes        | 2011-03-05 | 64     | 11.9444 | 135.556 | 30     | 50.8333          | 15.7329        | 2.87241        | late\n",
       "EE    | 2012 | no         | 2012-02-01 | 32     | 12.7778 | 131.111 | 30     | 50.8333          | 15.7329        | 2.87241        | early\n",
       "EE    | 2013 | no         | 2013-02-15 | 46     | 6.94444 | 129.167 | 30     | 50.8333          | 15.7329        | 2.87241        | early\n",
       "EE    | 2014 | yes        | 2014-03-15 | 74     | 10.8333 | 133.611 | 30     | 50.8333          | 15.7329        | 2.87241        | late\n",
       "EE    | 2015 | yes        | 2015-03-27 | 86     | 6.38889 | 130.278 | 30     | 50.8333          | 15.7329        | 2.87241        | late\n",
       "EE    | 2016 | yes        | 2016-02-21 | 52     | 8.33333 | 131.667 | 30     | 50.8333          | 15.7329        | 2.87241        | late\n",
       "EE    | 2017 | yes        | 2017-02-01 | 32     | 3.88889 | 129.722 | 30     | 50.8333          | 15.7329        | 2.87241        | early\n",
       "EE    | 2018 | no         | 2018-02-16 | 47     | 8.61111 | 134.167 | 30     | 50.8333          | 15.7329        | 2.87241        | early\n",
       "EE    | 2019 | no         | 2019-02-22 | 53     | 4.72222 | 131.667 | 30     | 50.8333          | 15.7329        | 2.87241        | late"
      ]
     },
     "execution_count": 13,
     "metadata": {},
     "output_type": "execute_result"
    }
   ],
   "source": [
    "groundhogdata.where('hogID',\"EE\")"
   ]
  },
  {
   "cell_type": "code",
   "execution_count": 15,
   "metadata": {},
   "outputs": [
    {
     "data": {
      "text/html": [
       "<table border=\"1\" class=\"dataframe\">\n",
       "    <thead>\n",
       "        <tr>\n",
       "            <th>hogID</th> <th>year</th> <th>shadowPres</th> <th>dateSample</th> <th>julDay</th> <th>GDD</th> <th>cGDD</th> <th>numObs</th> <th>meanJulSpringDay</th> <th>sdJulSpringDay</th> <th>seJulSpringDay</th> <th>earlyOrLate</th>\n",
       "        </tr>\n",
       "    </thead>\n",
       "    <tbody>\n",
       "        <tr>\n",
       "            <td>EE   </td> <td>2011</td> <td>yes       </td> <td>2011-03-05</td> <td>64    </td> <td>11.9444</td> <td>135.556</td> <td>30    </td> <td>50.8333         </td> <td>15.7329       </td> <td>2.87241       </td> <td>late       </td>\n",
       "        </tr>\n",
       "        <tr>\n",
       "            <td>EE   </td> <td>2014</td> <td>yes       </td> <td>2014-03-15</td> <td>74    </td> <td>10.8333</td> <td>133.611</td> <td>30    </td> <td>50.8333         </td> <td>15.7329       </td> <td>2.87241       </td> <td>late       </td>\n",
       "        </tr>\n",
       "        <tr>\n",
       "            <td>EE   </td> <td>2015</td> <td>yes       </td> <td>2015-03-27</td> <td>86    </td> <td>6.38889</td> <td>130.278</td> <td>30    </td> <td>50.8333         </td> <td>15.7329       </td> <td>2.87241       </td> <td>late       </td>\n",
       "        </tr>\n",
       "        <tr>\n",
       "            <td>EE   </td> <td>2016</td> <td>yes       </td> <td>2016-02-21</td> <td>52    </td> <td>8.33333</td> <td>131.667</td> <td>30    </td> <td>50.8333         </td> <td>15.7329       </td> <td>2.87241       </td> <td>late       </td>\n",
       "        </tr>\n",
       "        <tr>\n",
       "            <td>EE   </td> <td>2012</td> <td>no        </td> <td>2012-02-01</td> <td>32    </td> <td>12.7778</td> <td>131.111</td> <td>30    </td> <td>50.8333         </td> <td>15.7329       </td> <td>2.87241       </td> <td>early      </td>\n",
       "        </tr>\n",
       "        <tr>\n",
       "            <td>EE   </td> <td>2013</td> <td>no        </td> <td>2013-02-15</td> <td>46    </td> <td>6.94444</td> <td>129.167</td> <td>30    </td> <td>50.8333         </td> <td>15.7329       </td> <td>2.87241       </td> <td>early      </td>\n",
       "        </tr>\n",
       "        <tr>\n",
       "            <td>EE   </td> <td>2018</td> <td>no        </td> <td>2018-02-16</td> <td>47    </td> <td>8.61111</td> <td>134.167</td> <td>30    </td> <td>50.8333         </td> <td>15.7329       </td> <td>2.87241       </td> <td>early      </td>\n",
       "        </tr>\n",
       "    </tbody>\n",
       "</table>"
      ],
      "text/plain": [
       "hogID | year | shadowPres | dateSample | julDay | GDD     | cGDD    | numObs | meanJulSpringDay | sdJulSpringDay | seJulSpringDay | earlyOrLate\n",
       "EE    | 2011 | yes        | 2011-03-05 | 64     | 11.9444 | 135.556 | 30     | 50.8333          | 15.7329        | 2.87241        | late\n",
       "EE    | 2014 | yes        | 2014-03-15 | 74     | 10.8333 | 133.611 | 30     | 50.8333          | 15.7329        | 2.87241        | late\n",
       "EE    | 2015 | yes        | 2015-03-27 | 86     | 6.38889 | 130.278 | 30     | 50.8333          | 15.7329        | 2.87241        | late\n",
       "EE    | 2016 | yes        | 2016-02-21 | 52     | 8.33333 | 131.667 | 30     | 50.8333          | 15.7329        | 2.87241        | late\n",
       "EE    | 2012 | no         | 2012-02-01 | 32     | 12.7778 | 131.111 | 30     | 50.8333          | 15.7329        | 2.87241        | early\n",
       "EE    | 2013 | no         | 2013-02-15 | 46     | 6.94444 | 129.167 | 30     | 50.8333          | 15.7329        | 2.87241        | early\n",
       "EE    | 2018 | no         | 2018-02-16 | 47     | 8.61111 | 134.167 | 30     | 50.8333          | 15.7329        | 2.87241        | early"
      ]
     },
     "execution_count": 15,
     "metadata": {},
     "output_type": "execute_result"
    }
   ],
   "source": [
    "correct_tbl.where('hogID',\"EE\")"
   ]
  },
  {
   "cell_type": "code",
   "execution_count": 17,
   "metadata": {},
   "outputs": [
    {
     "data": {
      "text/plain": [
       "77.77777777777779"
      ]
     },
     "execution_count": 17,
     "metadata": {},
     "output_type": "execute_result"
    }
   ],
   "source": [
    "num_correct = correct_tbl.where('hogID',\"EE\").num_rows / groundhogdata.where('hogID',\"EE\").num_rows * 100\n",
    "num_correct"
   ]
  },
  {
   "cell_type": "code",
   "execution_count": 20,
   "metadata": {},
   "outputs": [
    {
     "data": {
      "image/png": "[encoded data removed]",
      "text/plain": [
       "<Figure size 432x288 with 1 Axes>"
      ]
     },
     "metadata": {},
     "output_type": "display_data"
    }
   ],
   "source": [
    "hogsimdata.hist(0,bins=np.arange(0.4,0.6,.01))\n",
    "plt.scatter(num_correct/100, 0, color='red', s=200);\n",
    "plt.title('Simulated Groundhog outcomes')\n",
    "plt.savefig('sim_ground_correct.png')\n",
    "plt.show()"
   ]
  },
  {
   "cell_type": "code",
   "execution_count": 21,
   "metadata": {},
   "outputs": [
    {
     "data": {
      "text/plain": [
       "0.0"
      ]
     },
     "execution_count": 21,
     "metadata": {},
     "output_type": "execute_result"
    }
   ],
   "source": [
    "np.count_nonzero(hogsimdata.column('Correct') >= num_correct/100) / 1500"
   ]
  },
  {
   "cell_type": "code",
   "execution_count": null,
   "metadata": {},
   "outputs": [],
   "source": []
  }
 ],
 "metadata": {
  "kernelspec": {
   "display_name": "Python 3 (ipykernel)",
   "language": "python",
   "name": "python3"
  },
  "language_info": {
   "codemirror_mode": {
    "name": "ipython",
    "version": 3
   },
   "file_extension": ".py",
   "mimetype": "text/x-python",
   "name": "python",
   "nbconvert_exporter": "python",
   "pygments_lexer": "ipython3",
   "version": "3.10.4"
  }
 },
 "nbformat": 4,
 "nbformat_minor": 4
}
