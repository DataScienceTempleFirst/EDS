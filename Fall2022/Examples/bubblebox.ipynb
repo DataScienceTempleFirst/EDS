{
 "cells": [
  {
   "cell_type": "code",
   "execution_count": 7,
   "id": "38bded3f",
   "metadata": {},
   "outputs": [
    {
     "name": "stdout",
     "output_type": "stream",
     "text": [
      "Requirement already satisfied: bubblebox in /Users/jmsmith1/anaconda3/envs/MDquant/lib/python3.10/site-packages (0.49)\n",
      "Requirement already satisfied: matplotlib in /Users/jmsmith1/anaconda3/envs/MDquant/lib/python3.10/site-packages (3.6.0)\n",
      "Requirement already satisfied: packaging>=20.0 in /Users/jmsmith1/anaconda3/envs/MDquant/lib/python3.10/site-packages (from matplotlib) (21.3)\n",
      "Requirement already satisfied: python-dateutil>=2.7 in /Users/jmsmith1/anaconda3/envs/MDquant/lib/python3.10/site-packages (from matplotlib) (2.8.2)\n",
      "Requirement already satisfied: pillow>=6.2.0 in /Users/jmsmith1/anaconda3/envs/MDquant/lib/python3.10/site-packages (from matplotlib) (9.2.0)\n",
      "Requirement already satisfied: contourpy>=1.0.1 in /Users/jmsmith1/anaconda3/envs/MDquant/lib/python3.10/site-packages (from matplotlib) (1.0.5)\n",
      "Requirement already satisfied: fonttools>=4.22.0 in /Users/jmsmith1/anaconda3/envs/MDquant/lib/python3.10/site-packages (from matplotlib) (4.37.3)\n",
      "Requirement already satisfied: pyparsing>=2.2.1 in /Users/jmsmith1/anaconda3/envs/MDquant/lib/python3.10/site-packages (from matplotlib) (3.0.9)\n",
      "Requirement already satisfied: cycler>=0.10 in /Users/jmsmith1/anaconda3/envs/MDquant/lib/python3.10/site-packages (from matplotlib) (0.11.0)\n",
      "Requirement already satisfied: numpy>=1.19 in /Users/jmsmith1/anaconda3/envs/MDquant/lib/python3.10/site-packages (from matplotlib) (1.23.3)\n",
      "Requirement already satisfied: kiwisolver>=1.0.1 in /Users/jmsmith1/anaconda3/envs/MDquant/lib/python3.10/site-packages (from matplotlib) (1.4.4)\n",
      "Requirement already satisfied: six>=1.5 in /Users/jmsmith1/anaconda3/envs/MDquant/lib/python3.10/site-packages (from python-dateutil>=2.7->matplotlib) (1.16.0)\n",
      "Requirement already satisfied: numba in /Users/jmsmith1/anaconda3/envs/MDquant/lib/python3.10/site-packages (0.56.2)\n",
      "Requirement already satisfied: numpy<1.24,>=1.18 in /Users/jmsmith1/anaconda3/envs/MDquant/lib/python3.10/site-packages (from numba) (1.23.3)\n",
      "Requirement already satisfied: setuptools<60 in /Users/jmsmith1/anaconda3/envs/MDquant/lib/python3.10/site-packages (from numba) (59.8.0)\n",
      "Requirement already satisfied: llvmlite<0.40,>=0.39.0dev0 in /Users/jmsmith1/anaconda3/envs/MDquant/lib/python3.10/site-packages (from numba) (0.39.1)\n",
      "Requirement already satisfied: evince in /Users/jmsmith1/anaconda3/envs/MDquant/lib/python3.10/site-packages (0.40.0)\n",
      "Requirement already satisfied: ipywidgets<9,>=7.6.0 in /Users/jmsmith1/anaconda3/envs/MDquant/lib/python3.10/site-packages (from evince) (7.6.5)\n",
      "Requirement already satisfied: ipython-genutils~=0.2.0 in /Users/jmsmith1/anaconda3/envs/MDquant/lib/python3.10/site-packages (from ipywidgets<9,>=7.6.0->evince) (0.2.0)\n",
      "Requirement already satisfied: ipykernel>=4.5.1 in /Users/jmsmith1/anaconda3/envs/MDquant/lib/python3.10/site-packages (from ipywidgets<9,>=7.6.0->evince) (6.9.1)\n",
      "Requirement already satisfied: nbformat>=4.2.0 in /Users/jmsmith1/anaconda3/envs/MDquant/lib/python3.10/site-packages (from ipywidgets<9,>=7.6.0->evince) (5.3.0)\n",
      "Requirement already satisfied: ipython>=4.0.0 in /Users/jmsmith1/anaconda3/envs/MDquant/lib/python3.10/site-packages (from ipywidgets<9,>=7.6.0->evince) (8.4.0)\n",
      "Requirement already satisfied: widgetsnbextension~=3.5.0 in /Users/jmsmith1/anaconda3/envs/MDquant/lib/python3.10/site-packages (from ipywidgets<9,>=7.6.0->evince) (3.5.2)\n",
      "Requirement already satisfied: jupyterlab-widgets>=1.0.0 in /Users/jmsmith1/anaconda3/envs/MDquant/lib/python3.10/site-packages (from ipywidgets<9,>=7.6.0->evince) (1.0.0)\n",
      "Requirement already satisfied: traitlets>=4.3.1 in /Users/jmsmith1/anaconda3/envs/MDquant/lib/python3.10/site-packages (from ipywidgets<9,>=7.6.0->evince) (5.1.1)\n",
      "Requirement already satisfied: jupyter-client<8.0 in /Users/jmsmith1/anaconda3/envs/MDquant/lib/python3.10/site-packages (from ipykernel>=4.5.1->ipywidgets<9,>=7.6.0->evince) (7.2.2)\n",
      "Requirement already satisfied: debugpy<2.0,>=1.0.0 in /Users/jmsmith1/anaconda3/envs/MDquant/lib/python3.10/site-packages (from ipykernel>=4.5.1->ipywidgets<9,>=7.6.0->evince) (1.5.1)\n",
      "Requirement already satisfied: appnope in /Users/jmsmith1/anaconda3/envs/MDquant/lib/python3.10/site-packages (from ipykernel>=4.5.1->ipywidgets<9,>=7.6.0->evince) (0.1.2)\n",
      "Requirement already satisfied: tornado<7.0,>=4.2 in /Users/jmsmith1/anaconda3/envs/MDquant/lib/python3.10/site-packages (from ipykernel>=4.5.1->ipywidgets<9,>=7.6.0->evince) (6.1)\n",
      "Requirement already satisfied: nest-asyncio in /Users/jmsmith1/anaconda3/envs/MDquant/lib/python3.10/site-packages (from ipykernel>=4.5.1->ipywidgets<9,>=7.6.0->evince) (1.5.5)\n",
      "Requirement already satisfied: matplotlib-inline<0.2.0,>=0.1.0 in /Users/jmsmith1/anaconda3/envs/MDquant/lib/python3.10/site-packages (from ipykernel>=4.5.1->ipywidgets<9,>=7.6.0->evince) (0.1.2)\n",
      "Requirement already satisfied: backcall in /Users/jmsmith1/anaconda3/envs/MDquant/lib/python3.10/site-packages (from ipython>=4.0.0->ipywidgets<9,>=7.6.0->evince) (0.2.0)\n",
      "Requirement already satisfied: decorator in /Users/jmsmith1/anaconda3/envs/MDquant/lib/python3.10/site-packages (from ipython>=4.0.0->ipywidgets<9,>=7.6.0->evince) (5.1.1)\n",
      "Requirement already satisfied: stack-data in /Users/jmsmith1/anaconda3/envs/MDquant/lib/python3.10/site-packages (from ipython>=4.0.0->ipywidgets<9,>=7.6.0->evince) (0.2.0)\n",
      "Requirement already satisfied: pygments>=2.4.0 in /Users/jmsmith1/anaconda3/envs/MDquant/lib/python3.10/site-packages (from ipython>=4.0.0->ipywidgets<9,>=7.6.0->evince) (2.11.2)\n",
      "Requirement already satisfied: pexpect>4.3 in /Users/jmsmith1/anaconda3/envs/MDquant/lib/python3.10/site-packages (from ipython>=4.0.0->ipywidgets<9,>=7.6.0->evince) (4.8.0)\n",
      "Requirement already satisfied: jedi>=0.16 in /Users/jmsmith1/anaconda3/envs/MDquant/lib/python3.10/site-packages (from ipython>=4.0.0->ipywidgets<9,>=7.6.0->evince) (0.18.1)\n",
      "Requirement already satisfied: pickleshare in /Users/jmsmith1/anaconda3/envs/MDquant/lib/python3.10/site-packages (from ipython>=4.0.0->ipywidgets<9,>=7.6.0->evince) (0.7.5)\n",
      "Requirement already satisfied: prompt-toolkit!=3.0.0,!=3.0.1,<3.1.0,>=2.0.0 in /Users/jmsmith1/anaconda3/envs/MDquant/lib/python3.10/site-packages (from ipython>=4.0.0->ipywidgets<9,>=7.6.0->evince) (3.0.20)\n",
      "Requirement already satisfied: setuptools>=18.5 in /Users/jmsmith1/anaconda3/envs/MDquant/lib/python3.10/site-packages (from ipython>=4.0.0->ipywidgets<9,>=7.6.0->evince) (59.8.0)\n",
      "Requirement already satisfied: jupyter-core in /Users/jmsmith1/anaconda3/envs/MDquant/lib/python3.10/site-packages (from nbformat>=4.2.0->ipywidgets<9,>=7.6.0->evince) (4.10.0)\n",
      "Requirement already satisfied: jsonschema>=2.6 in /Users/jmsmith1/anaconda3/envs/MDquant/lib/python3.10/site-packages (from nbformat>=4.2.0->ipywidgets<9,>=7.6.0->evince) (4.4.0)\n",
      "Requirement already satisfied: fastjsonschema in /Users/jmsmith1/anaconda3/envs/MDquant/lib/python3.10/site-packages (from nbformat>=4.2.0->ipywidgets<9,>=7.6.0->evince) (2.16.2)\n",
      "Requirement already satisfied: notebook>=4.4.1 in /Users/jmsmith1/anaconda3/envs/MDquant/lib/python3.10/site-packages (from widgetsnbextension~=3.5.0->ipywidgets<9,>=7.6.0->evince) (6.4.12)\n",
      "Requirement already satisfied: parso<0.9.0,>=0.8.0 in /Users/jmsmith1/anaconda3/envs/MDquant/lib/python3.10/site-packages (from jedi>=0.16->ipython>=4.0.0->ipywidgets<9,>=7.6.0->evince) (0.8.3)\n",
      "Requirement already satisfied: pyrsistent!=0.17.0,!=0.17.1,!=0.17.2,>=0.14.0 in /Users/jmsmith1/anaconda3/envs/MDquant/lib/python3.10/site-packages (from jsonschema>=2.6->nbformat>=4.2.0->ipywidgets<9,>=7.6.0->evince) (0.18.0)\n",
      "Requirement already satisfied: attrs>=17.4.0 in /Users/jmsmith1/anaconda3/envs/MDquant/lib/python3.10/site-packages (from jsonschema>=2.6->nbformat>=4.2.0->ipywidgets<9,>=7.6.0->evince) (21.4.0)\n",
      "Requirement already satisfied: entrypoints in /Users/jmsmith1/anaconda3/envs/MDquant/lib/python3.10/site-packages (from jupyter-client<8.0->ipykernel>=4.5.1->ipywidgets<9,>=7.6.0->evince) (0.4)\n",
      "Requirement already satisfied: pyzmq>=22.3 in /Users/jmsmith1/anaconda3/envs/MDquant/lib/python3.10/site-packages (from jupyter-client<8.0->ipykernel>=4.5.1->ipywidgets<9,>=7.6.0->evince) (23.2.0)\n",
      "Requirement already satisfied: python-dateutil>=2.8.2 in /Users/jmsmith1/anaconda3/envs/MDquant/lib/python3.10/site-packages (from jupyter-client<8.0->ipykernel>=4.5.1->ipywidgets<9,>=7.6.0->evince) (2.8.2)\n",
      "Requirement already satisfied: terminado>=0.8.3 in /Users/jmsmith1/anaconda3/envs/MDquant/lib/python3.10/site-packages (from notebook>=4.4.1->widgetsnbextension~=3.5.0->ipywidgets<9,>=7.6.0->evince) (0.13.1)\n",
      "Requirement already satisfied: prometheus-client in /Users/jmsmith1/anaconda3/envs/MDquant/lib/python3.10/site-packages (from notebook>=4.4.1->widgetsnbextension~=3.5.0->ipywidgets<9,>=7.6.0->evince) (0.14.1)\n",
      "Requirement already satisfied: nbconvert>=5 in /Users/jmsmith1/anaconda3/envs/MDquant/lib/python3.10/site-packages (from notebook>=4.4.1->widgetsnbextension~=3.5.0->ipywidgets<9,>=7.6.0->evince) (6.4.4)\n",
      "Requirement already satisfied: jinja2 in /Users/jmsmith1/anaconda3/envs/MDquant/lib/python3.10/site-packages (from notebook>=4.4.1->widgetsnbextension~=3.5.0->ipywidgets<9,>=7.6.0->evince) (3.0.3)\n",
      "Requirement already satisfied: Send2Trash>=1.8.0 in /Users/jmsmith1/anaconda3/envs/MDquant/lib/python3.10/site-packages (from notebook>=4.4.1->widgetsnbextension~=3.5.0->ipywidgets<9,>=7.6.0->evince) (1.8.0)\n",
      "Requirement already satisfied: argon2-cffi in /Users/jmsmith1/anaconda3/envs/MDquant/lib/python3.10/site-packages (from notebook>=4.4.1->widgetsnbextension~=3.5.0->ipywidgets<9,>=7.6.0->evince) (21.3.0)\n",
      "Requirement already satisfied: ptyprocess>=0.5 in /Users/jmsmith1/anaconda3/envs/MDquant/lib/python3.10/site-packages (from pexpect>4.3->ipython>=4.0.0->ipywidgets<9,>=7.6.0->evince) (0.7.0)\n",
      "Requirement already satisfied: wcwidth in /Users/jmsmith1/anaconda3/envs/MDquant/lib/python3.10/site-packages (from prompt-toolkit!=3.0.0,!=3.0.1,<3.1.0,>=2.0.0->ipython>=4.0.0->ipywidgets<9,>=7.6.0->evince) (0.2.5)\n",
      "Requirement already satisfied: pure-eval in /Users/jmsmith1/anaconda3/envs/MDquant/lib/python3.10/site-packages (from stack-data->ipython>=4.0.0->ipywidgets<9,>=7.6.0->evince) (0.2.2)\n",
      "Requirement already satisfied: asttokens in /Users/jmsmith1/anaconda3/envs/MDquant/lib/python3.10/site-packages (from stack-data->ipython>=4.0.0->ipywidgets<9,>=7.6.0->evince) (2.0.5)\n",
      "Requirement already satisfied: executing in /Users/jmsmith1/anaconda3/envs/MDquant/lib/python3.10/site-packages (from stack-data->ipython>=4.0.0->ipywidgets<9,>=7.6.0->evince) (0.8.3)\n"
     ]
    },
    {
     "name": "stdout",
     "output_type": "stream",
     "text": [
      "Requirement already satisfied: bleach in /Users/jmsmith1/anaconda3/envs/MDquant/lib/python3.10/site-packages (from nbconvert>=5->notebook>=4.4.1->widgetsnbextension~=3.5.0->ipywidgets<9,>=7.6.0->evince) (4.1.0)\n",
      "Requirement already satisfied: nbclient<0.6.0,>=0.5.0 in /Users/jmsmith1/anaconda3/envs/MDquant/lib/python3.10/site-packages (from nbconvert>=5->notebook>=4.4.1->widgetsnbextension~=3.5.0->ipywidgets<9,>=7.6.0->evince) (0.5.13)\n",
      "Requirement already satisfied: defusedxml in /Users/jmsmith1/anaconda3/envs/MDquant/lib/python3.10/site-packages (from nbconvert>=5->notebook>=4.4.1->widgetsnbextension~=3.5.0->ipywidgets<9,>=7.6.0->evince) (0.7.1)\n",
      "Requirement already satisfied: beautifulsoup4 in /Users/jmsmith1/anaconda3/envs/MDquant/lib/python3.10/site-packages (from nbconvert>=5->notebook>=4.4.1->widgetsnbextension~=3.5.0->ipywidgets<9,>=7.6.0->evince) (4.11.1)\n",
      "Requirement already satisfied: jupyterlab-pygments in /Users/jmsmith1/anaconda3/envs/MDquant/lib/python3.10/site-packages (from nbconvert>=5->notebook>=4.4.1->widgetsnbextension~=3.5.0->ipywidgets<9,>=7.6.0->evince) (0.1.2)\n",
      "Requirement already satisfied: testpath in /Users/jmsmith1/anaconda3/envs/MDquant/lib/python3.10/site-packages (from nbconvert>=5->notebook>=4.4.1->widgetsnbextension~=3.5.0->ipywidgets<9,>=7.6.0->evince) (0.6.0)\n",
      "Requirement already satisfied: mistune<2,>=0.8.1 in /Users/jmsmith1/anaconda3/envs/MDquant/lib/python3.10/site-packages (from nbconvert>=5->notebook>=4.4.1->widgetsnbextension~=3.5.0->ipywidgets<9,>=7.6.0->evince) (0.8.4)\n",
      "Requirement already satisfied: pandocfilters>=1.4.1 in /Users/jmsmith1/anaconda3/envs/MDquant/lib/python3.10/site-packages (from nbconvert>=5->notebook>=4.4.1->widgetsnbextension~=3.5.0->ipywidgets<9,>=7.6.0->evince) (1.5.0)\n",
      "Requirement already satisfied: MarkupSafe>=2.0 in /Users/jmsmith1/anaconda3/envs/MDquant/lib/python3.10/site-packages (from jinja2->notebook>=4.4.1->widgetsnbextension~=3.5.0->ipywidgets<9,>=7.6.0->evince) (2.1.1)\n",
      "Requirement already satisfied: six>=1.5 in /Users/jmsmith1/anaconda3/envs/MDquant/lib/python3.10/site-packages (from python-dateutil>=2.8.2->jupyter-client<8.0->ipykernel>=4.5.1->ipywidgets<9,>=7.6.0->evince) (1.16.0)\n",
      "Requirement already satisfied: argon2-cffi-bindings in /Users/jmsmith1/anaconda3/envs/MDquant/lib/python3.10/site-packages (from argon2-cffi->notebook>=4.4.1->widgetsnbextension~=3.5.0->ipywidgets<9,>=7.6.0->evince) (21.2.0)\n",
      "Requirement already satisfied: cffi>=1.0.1 in /Users/jmsmith1/anaconda3/envs/MDquant/lib/python3.10/site-packages (from argon2-cffi-bindings->argon2-cffi->notebook>=4.4.1->widgetsnbextension~=3.5.0->ipywidgets<9,>=7.6.0->evince) (1.15.1)\n",
      "Requirement already satisfied: soupsieve>1.2 in /Users/jmsmith1/anaconda3/envs/MDquant/lib/python3.10/site-packages (from beautifulsoup4->nbconvert>=5->notebook>=4.4.1->widgetsnbextension~=3.5.0->ipywidgets<9,>=7.6.0->evince) (2.3.1)\n",
      "Requirement already satisfied: webencodings in /Users/jmsmith1/anaconda3/envs/MDquant/lib/python3.10/site-packages (from bleach->nbconvert>=5->notebook>=4.4.1->widgetsnbextension~=3.5.0->ipywidgets<9,>=7.6.0->evince) (0.5.1)\n",
      "Requirement already satisfied: packaging in /Users/jmsmith1/anaconda3/envs/MDquant/lib/python3.10/site-packages (from bleach->nbconvert>=5->notebook>=4.4.1->widgetsnbextension~=3.5.0->ipywidgets<9,>=7.6.0->evince) (21.3)\n",
      "Requirement already satisfied: pycparser in /Users/jmsmith1/anaconda3/envs/MDquant/lib/python3.10/site-packages (from cffi>=1.0.1->argon2-cffi-bindings->argon2-cffi->notebook>=4.4.1->widgetsnbextension~=3.5.0->ipywidgets<9,>=7.6.0->evince) (2.21)\n",
      "Requirement already satisfied: pyparsing!=3.0.5,>=2.0.2 in /Users/jmsmith1/anaconda3/envs/MDquant/lib/python3.10/site-packages (from packaging->bleach->nbconvert>=5->notebook>=4.4.1->widgetsnbextension~=3.5.0->ipywidgets<9,>=7.6.0->evince) (3.0.9)\n",
      "Requirement already satisfied: scipy in /Users/jmsmith1/anaconda3/envs/MDquant/lib/python3.10/site-packages (1.9.1)\n",
      "Requirement already satisfied: numpy<1.25.0,>=1.18.5 in /Users/jmsmith1/anaconda3/envs/MDquant/lib/python3.10/site-packages (from scipy) (1.23.3)\n",
      "Collecting sympy\n",
      "  Downloading sympy-1.11.1-py3-none-any.whl (6.5 MB)\n",
      "\u001b[2K     \u001b[90m━━━━━━━━━━━━━━━━━━━━━━━━━━━━━━━━━━━━━━━━\u001b[0m \u001b[32m6.5/6.5 MB\u001b[0m \u001b[31m3.9 MB/s\u001b[0m eta \u001b[36m0:00:00\u001b[0m00:01\u001b[0m00:01\u001b[0m\n",
      "\u001b[?25hCollecting mpmath>=0.19\n",
      "  Downloading mpmath-1.2.1-py3-none-any.whl (532 kB)\n",
      "\u001b[2K     \u001b[90m━━━━━━━━━━━━━━━━━━━━━━━━━━━━━━━━━━━━━━━\u001b[0m \u001b[32m532.6/532.6 kB\u001b[0m \u001b[31m4.9 MB/s\u001b[0m eta \u001b[36m0:00:00\u001b[0m00:01\u001b[0m00:01\u001b[0m\n",
      "\u001b[?25hInstalling collected packages: mpmath, sympy\n",
      "Successfully installed mpmath-1.2.1 sympy-1.11.1\n"
     ]
    }
   ],
   "source": [
    "!pip install bubblebox\n",
    "!pip install matplotlib\n",
    "!pip install numba\n",
    "!pip install evince\n",
    "!pip install scipy\n",
    "!pip install sympy\n",
    "import bubblebox as bb\n",
    "\n",
    "b = bb.mdbox() #initialize a default system"
   ]
  },
  {
   "cell_type": "code",
   "execution_count": 12,
   "id": "81aac6f9",
   "metadata": {},
   "outputs": [
    {
     "data": {
      "application/vnd.jupyter.widget-view+json": {
       "model_id": "0cee351e9d054bf5b2e3101eb4ac2764",
       "version_major": 2,
       "version_minor": 0
      },
      "text/plain": [
       "MDView(bg_color=[1.0, 1.0, 1.0], box=[10, 10], colors=[[0.13249812639978642, 0.780133433596058, 0.989054188629…"
      ]
     },
     "metadata": {},
     "output_type": "display_data"
    }
   ],
   "source": [
    "n_bubbles = 100\n",
    "size = (10,10)\n",
    "b = bb.mdbox(n_bubbles, size = size) #initialize closed 10 by 10 box with 100 bubbles distributed in a grid\n",
    "b.view() #display system to screen"
   ]
  },
  {
   "cell_type": "code",
   "execution_count": 17,
   "id": "3ed00f11",
   "metadata": {},
   "outputs": [],
   "source": [
    "import numpy as np\n",
    "import numpy as np  # numerical tools\n",
    "import matplotlib.pyplot as plt # the standard visualization toolkit"
   ]
  },
  {
   "cell_type": "code",
   "execution_count": 13,
   "id": "ba799a60",
   "metadata": {},
   "outputs": [
    {
     "data": {
      "application/vnd.jupyter.widget-view+json": {
       "model_id": "355e646b3d594ffd9cc3d59241004447",
       "version_major": 2,
       "version_minor": 0
      },
      "text/plain": [
       "SpotlightView(aperture=0.0001, bg_color=[1.0, 1.0, 1.0], box=[10, 10], colors=[[0.5, 0.5, 0.5], [0.5, 0.5, 0.5…"
      ]
     },
     "metadata": {},
     "output_type": "display_data"
    }
   ],
   "source": [
    "b.evince()"
   ]
  },
  {
   "cell_type": "code",
   "execution_count": 18,
   "id": "25e7a12a",
   "metadata": {},
   "outputs": [
    {
     "data": {
      "image/png": "[encoded data removed]",
      "text/plain": [
       "<Figure size 576x432 with 1 Axes>"
      ]
     },
     "metadata": {
      "needs_background": "light"
     },
     "output_type": "display_data"
    },
    {
     "name": "stdout",
     "output_type": "stream",
     "text": [
      "End temperature: 101.20\n",
      "End temperature: 0.51\n",
      "Number of collisions with boundary per time: 3.96\n"
     ]
    }
   ],
   "source": [
    "# Kinetic energy and temperature\n",
    "\n",
    "# Set up box\n",
    "s = bb.mdbox(n_bubbles = 200, size = (10,10)) \n",
    "\n",
    "# Compute kinetic energies for nt timesteps\n",
    "nt = 50000\n",
    "\n",
    "s.dt = 0.0005\n",
    "\n",
    "kinetic_energies = np.zeros(nt, dtype = float)\n",
    "collisions = np.zeros(nt, dtype = float)\n",
    "for i in range(nt):\n",
    "    s.advance()\n",
    "    kinetic_energies[i] = s.compute_kinetic_energy()\n",
    "    collisions[i] = s.col\n",
    "\n",
    "plt.figure(2, figsize=  (8,6))\n",
    "plt.plot(np.linspace(0,s.t, nt), kinetic_energies)\n",
    "plt.xlabel(\"Time / arbitrary units\")\n",
    "plt.ylabel(\"Energy / arbitrary units \")\n",
    "plt.show()\n",
    "\n",
    "print(f\"End temperature: {np.mean(s.compute_kinetic_energy()):.2f}\") #Calculate the average kinetic energy\n",
    "\n",
    "print(f\"End temperature: {s.compute_kinetic_energy()/s.n_bubbles:.2f}\") #We can use kinetic_energy() as well \n",
    "\n",
    "print(f\"Number of collisions with boundary per time: {(np.sum(collisions)/s.t):.2f}\")"
   ]
  },
  {
   "cell_type": "code",
   "execution_count": 19,
   "id": "f955e7ee",
   "metadata": {},
   "outputs": [
    {
     "data": {
      "application/vnd.jupyter.widget-view+json": {
       "model_id": "9a68f769e69045948f6d9b34155d8eaf",
       "version_major": 2,
       "version_minor": 0
      },
      "text/plain": [
       "MDView(bg_color=[1.0, 1.0, 1.0], box=[10, 10], colors=[[0.18624187131001158, 0.1933955779112504, 0.94951697043…"
      ]
     },
     "metadata": {},
     "output_type": "display_data"
    }
   ],
   "source": [
    "s.view()"
   ]
  },
  {
   "cell_type": "code",
   "execution_count": null,
   "id": "7f29d90b",
   "metadata": {},
   "outputs": [],
   "source": []
  }
 ],
 "metadata": {
  "kernelspec": {
   "display_name": "Python 3 (ipykernel)",
   "language": "python",
   "name": "python3"
  },
  "language_info": {
   "codemirror_mode": {
    "name": "ipython",
    "version": 3
   },
   "file_extension": ".py",
   "mimetype": "text/x-python",
   "name": "python",
   "nbconvert_exporter": "python",
   "pygments_lexer": "ipython3",
   "version": "3.10.4"
  }
 },
 "nbformat": 4,
 "nbformat_minor": 5
}
