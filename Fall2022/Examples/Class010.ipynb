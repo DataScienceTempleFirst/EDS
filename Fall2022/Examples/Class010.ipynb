{
 "cells": [
  {
   "cell_type": "markdown",
   "id": "a3ed0f12-60c0-4d84-a32b-43e830e446a0",
   "metadata": {},
   "source": [
    "# table group and pivot methods\n",
    "These methods are a powerful way to summarize a data set along chosen dimensions"
   ]
  },
  {
   "cell_type": "code",
   "execution_count": null,
   "id": "c08a3204-7e0b-467d-add2-3467ee247a32",
   "metadata": {},
   "outputs": [],
   "source": [
    "from datascience import *"
   ]
  },
  {
   "cell_type": "markdown",
   "id": "2f83fc23-13c8-45a9-9c23-67ce4b32e7be",
   "metadata": {},
   "source": [
    "## Example\n",
    "[See Inferential Thinking](https://inferentialthinking.com/chapters/07/1/Visualizing_Categorical_Distributions.html?highlight=group)"
   ]
  },
  {
   "cell_type": "code",
   "execution_count": null,
   "id": "2b7a272f-939d-4a62-bb4f-233568256a0e",
   "metadata": {},
   "outputs": [],
   "source": [
    "more_cones = Table().with_columns(\n",
    "    'Flavor', make_array('strawberry', 'chocolate', 'chocolate', 'strawberry', 'chocolate', 'bubblegum'),\n",
    "    'Color', make_array('pink', 'light brown', 'dark brown', 'pink', 'dark brown', 'pink'),\n",
    "    'Price', make_array(3.55, 4.75, 5.25, 5.25, 5.25, 4.75)\n",
    ")\n",
    "\n",
    "more_cones"
   ]
  },
  {
   "cell_type": "markdown",
   "id": "4138ad1a-7819-490e-822c-9717518115bb",
   "metadata": {},
   "source": [
    "### .group"
   ]
  },
  {
   "cell_type": "code",
   "execution_count": null,
   "id": "24e8ce72-26c4-41c0-8dc5-148639a4ed23",
   "metadata": {},
   "outputs": [],
   "source": [
    "more_cones.group('Flavor')"
   ]
  },
  {
   "cell_type": "code",
   "execution_count": null,
   "id": "e2697b84-a5ed-4f32-b048-56edf1a09e5d",
   "metadata": {},
   "outputs": [],
   "source": [
    "import numpy as np\n",
    "%matplotlib inline\n",
    "import matplotlib.pyplot as plt\n",
    "plt.style.use('fivethirtyeight')\n",
    "# Fix for datascience plots\n",
    "import collections as collections\n",
    "import collections.abc as abc\n",
    "collections.Iterable = abc.Iterable"
   ]
  },
  {
   "cell_type": "code",
   "execution_count": null,
   "id": "07d0edff-2f6b-447c-b9b1-42168fba26a6",
   "metadata": {},
   "outputs": [],
   "source": [
    "more_cones.group('Flavor').sort('count', descending=True).barh('Flavor')"
   ]
  },
  {
   "cell_type": "code",
   "execution_count": null,
   "id": "fe86c5a7-720f-4563-bcd6-4631b558affb",
   "metadata": {},
   "outputs": [],
   "source": [
    "more_cones.group(['Flavor', 'Color'])"
   ]
  },
  {
   "cell_type": "markdown",
   "id": "477f2dc8-3dfb-4db7-a762-4c7247d7c765",
   "metadata": {},
   "source": [
    "### .pivot"
   ]
  },
  {
   "cell_type": "code",
   "execution_count": null,
   "id": "455ed2d9-3de9-4f61-ab13-7fa2b77be1ab",
   "metadata": {},
   "outputs": [],
   "source": [
    "more_cones.pivot('Flavor', 'Color')"
   ]
  },
  {
   "cell_type": "code",
   "execution_count": null,
   "id": "3a0c8356-4cb8-4442-a821-bed5259a52b6",
   "metadata": {},
   "outputs": [],
   "source": [
    "data = 'http://www2.census.gov/programs-surveys/popest/datasets/2010-2020/national/asrh/nc-est2020-agesex-res.csv'\n",
    "full_census_table = Table.read_table(data)\n",
    "partial_census_table = full_census_table.select('SEX', 'AGE', 'POPESTIMATE2010', 'POPESTIMATE2020')\n",
    "census = partial_census_table.relabeled('SEX', 'GENDER').relabeled('POPESTIMATE2010', '2010').relabeled('POPESTIMATE2020', '2020')\n",
    "census"
   ]
  },
  {
   "cell_type": "code",
   "execution_count": null,
   "id": "21b8e035-6d98-4d4b-aad0-4efa536fa6f3",
   "metadata": {},
   "outputs": [],
   "source": [
    "census.group('GENDER',sum)"
   ]
  },
  {
   "cell_type": "code",
   "execution_count": null,
   "id": "70153cc3-b86b-4b09-a2a6-380cd2764325",
   "metadata": {},
   "outputs": [],
   "source": [
    "census.select(1,2,3).group('AGE',sum)"
   ]
  },
  {
   "cell_type": "code",
   "execution_count": null,
   "id": "0f59bf81-a65e-4add-b6ae-36c0b7da4326",
   "metadata": {},
   "outputs": [],
   "source": [
    "census.select(1,2,3).where('AGE',are.below(99)).group('AGE',sum).plot('AGE')"
   ]
  },
  {
   "cell_type": "code",
   "execution_count": null,
   "id": "81101a2e-ea83-4dec-9604-9516c0b47004",
   "metadata": {},
   "outputs": [],
   "source": []
  }
 ],
 "metadata": {
  "kernelspec": {
   "display_name": "Python 3 (ipykernel)",
   "language": "python",
   "name": "python3"
  },
  "language_info": {
   "codemirror_mode": {
    "name": "ipython",
    "version": 3
   },
   "file_extension": ".py",
   "mimetype": "text/x-python",
   "name": "python",
   "nbconvert_exporter": "python",
   "pygments_lexer": "ipython3",
   "version": "3.10.4"
  }
 },
 "nbformat": 4,
 "nbformat_minor": 5
}
