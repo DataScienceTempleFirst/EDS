{
 "cells": [
  {
   "cell_type": "markdown",
   "metadata": {},
   "source": [
    "### Hypothesis testing\n",
    "Elements of Data Science"
   ]
  },
  {
   "cell_type": "markdown",
   "metadata": {
    "tags": []
   },
   "source": [
    "## Hypothesis Testing Learning Goals\n",
    "Develop and test an hypothesis\n",
    "- Hypothesis\n",
    "    - testable hypothesis\n",
    "    - statistic\n",
    "- Simulation: Sample the distribution\n",
    "    - Repeat and collect outcomes\n",
    "    - Iteration: \n",
    "        `for i in np.arange(samples)`\n",
    "- Examine resulting distribution of outcomes\n",
    "    - Probability distribution\n",
    "    - Uncertainty\n",
    "- p-test"
   ]
  },
  {
   "cell_type": "code",
   "execution_count": 2,
   "metadata": {},
   "outputs": [],
   "source": [
    "import numpy as np\n",
    "from datascience import *"
   ]
  },
  {
   "cell_type": "code",
   "execution_count": 3,
   "metadata": {},
   "outputs": [],
   "source": [
    "%matplotlib inline\n",
    "import matplotlib.pyplot as plt\n",
    "plt.style.use('fivethirtyeight')\n",
    "# Fix for datascience plots\n",
    "import collections as collections\n",
    "import collections.abc as abc\n",
    "collections.Iterable = abc.Iterable"
   ]
  },
  {
   "cell_type": "markdown",
   "metadata": {},
   "source": [
    "## Hypothesis Testing"
   ]
  },
  {
   "cell_type": "markdown",
   "metadata": {},
   "source": [
    "#### Ground Hog\n"
   ]
  },
  {
   "cell_type": "code",
   "execution_count": 4,
   "metadata": {},
   "outputs": [
    {
     "data": {
      "text/html": [
       "<table border=\"1\" class=\"dataframe\">\n",
       "    <thead>\n",
       "        <tr>\n",
       "            <th>hogID</th> <th>year</th> <th>shadowPres</th> <th>dateSample</th> <th>julDay</th> <th>GDD</th> <th>cGDD</th> <th>numObs</th> <th>meanJulSpringDay</th> <th>sdJulSpringDay</th> <th>seJulSpringDay</th> <th>earlyOrLate</th>\n",
       "        </tr>\n",
       "    </thead>\n",
       "    <tbody>\n",
       "        <tr>\n",
       "            <td>BC   </td> <td>2018</td> <td>yes       </td> <td>2018-04-11</td> <td>101   </td> <td>3.05556 </td> <td>127.222</td> <td>30    </td> <td>85.8667         </td> <td>12.4367       </td> <td>2.27062       </td> <td>late       </td>\n",
       "        </tr>\n",
       "        <tr>\n",
       "            <td>BC   </td> <td>2019</td> <td>no        </td> <td>2019-04-06</td> <td>96    </td> <td>8.33333 </td> <td>123.889</td> <td>30    </td> <td>85.8667         </td> <td>12.4367       </td> <td>2.27062       </td> <td>late       </td>\n",
       "        </tr>\n",
       "        <tr>\n",
       "            <td>BECK </td> <td>2006</td> <td>yes       </td> <td>2006-02-15</td> <td>46    </td> <td>7.22222 </td> <td>127.006</td> <td>30    </td> <td>72.4333         </td> <td>14.6586       </td> <td>2.67628       </td> <td>early      </td>\n",
       "        </tr>\n",
       "        <tr>\n",
       "            <td>BECK </td> <td>2007</td> <td>no        </td> <td>2007-03-14</td> <td>73    </td> <td>14.1667 </td> <td>129.167</td> <td>30    </td> <td>72.4333         </td> <td>14.6586       </td> <td>2.67628       </td> <td>late       </td>\n",
       "        </tr>\n",
       "        <tr>\n",
       "            <td>BECK </td> <td>2008</td> <td>no        </td> <td>2008-03-17</td> <td>77    </td> <td>0.833333</td> <td>128.611</td> <td>30    </td> <td>72.4333         </td> <td>14.6586       </td> <td>2.67628       </td> <td>late       </td>\n",
       "        </tr>\n",
       "        <tr>\n",
       "            <td>BECK </td> <td>2009</td> <td>yes       </td> <td>2009-03-10</td> <td>69    </td> <td>12.2222 </td> <td>130    </td> <td>30    </td> <td>72.4333         </td> <td>14.6586       </td> <td>2.67628       </td> <td>early      </td>\n",
       "        </tr>\n",
       "        <tr>\n",
       "            <td>BECK </td> <td>2010</td> <td>no        </td> <td>2010-03-21</td> <td>80    </td> <td>7.22222 </td> <td>129.444</td> <td>30    </td> <td>72.4333         </td> <td>14.6586       </td> <td>2.67628       </td> <td>late       </td>\n",
       "        </tr>\n",
       "        <tr>\n",
       "            <td>BECK </td> <td>2011</td> <td>no        </td> <td>2011-03-20</td> <td>79    </td> <td>7.77778 </td> <td>133.611</td> <td>30    </td> <td>72.4333         </td> <td>14.6586       </td> <td>2.67628       </td> <td>late       </td>\n",
       "        </tr>\n",
       "        <tr>\n",
       "            <td>BECK </td> <td>2012</td> <td>no        </td> <td>2012-03-07</td> <td>67    </td> <td>13.3333 </td> <td>129.444</td> <td>30    </td> <td>72.4333         </td> <td>14.6586       </td> <td>2.67628       </td> <td>early      </td>\n",
       "        </tr>\n",
       "        <tr>\n",
       "            <td>BECK </td> <td>2013</td> <td>no        </td> <td>2013-03-30</td> <td>89    </td> <td>3.88889 </td> <td>128.611</td> <td>30    </td> <td>72.4333         </td> <td>14.6586       </td> <td>2.67628       </td> <td>late       </td>\n",
       "        </tr>\n",
       "    </tbody>\n",
       "</table>\n",
       "<p>... (520 rows omitted)</p>"
      ],
      "text/plain": [
       "hogID | year | shadowPres | dateSample | julDay | GDD      | cGDD    | numObs | meanJulSpringDay | sdJulSpringDay | seJulSpringDay | earlyOrLate\n",
       "BC    | 2018 | yes        | 2018-04-11 | 101    | 3.05556  | 127.222 | 30     | 85.8667          | 12.4367        | 2.27062        | late\n",
       "BC    | 2019 | no         | 2019-04-06 | 96     | 8.33333  | 123.889 | 30     | 85.8667          | 12.4367        | 2.27062        | late\n",
       "BECK  | 2006 | yes        | 2006-02-15 | 46     | 7.22222  | 127.006 | 30     | 72.4333          | 14.6586        | 2.67628        | early\n",
       "BECK  | 2007 | no         | 2007-03-14 | 73     | 14.1667  | 129.167 | 30     | 72.4333          | 14.6586        | 2.67628        | late\n",
       "BECK  | 2008 | no         | 2008-03-17 | 77     | 0.833333 | 128.611 | 30     | 72.4333          | 14.6586        | 2.67628        | late\n",
       "BECK  | 2009 | yes        | 2009-03-10 | 69     | 12.2222  | 130     | 30     | 72.4333          | 14.6586        | 2.67628        | early\n",
       "BECK  | 2010 | no         | 2010-03-21 | 80     | 7.22222  | 129.444 | 30     | 72.4333          | 14.6586        | 2.67628        | late\n",
       "BECK  | 2011 | no         | 2011-03-20 | 79     | 7.77778  | 133.611 | 30     | 72.4333          | 14.6586        | 2.67628        | late\n",
       "BECK  | 2012 | no         | 2012-03-07 | 67     | 13.3333  | 129.444 | 30     | 72.4333          | 14.6586        | 2.67628        | early\n",
       "BECK  | 2013 | no         | 2013-03-30 | 89     | 3.88889  | 128.611 | 30     | 72.4333          | 14.6586        | 2.67628        | late\n",
       "... (520 rows omitted)"
      ]
     },
     "execution_count": 4,
     "metadata": {},
     "output_type": "execute_result"
    }
   ],
   "source": [
    "groundhogdata = Table.read_table('Groundhogdata/summarizedGroundhogData_20210326.csv')\n",
    "groundhogdata"
   ]
  },
  {
   "cell_type": "code",
   "execution_count": 5,
   "metadata": {},
   "outputs": [
    {
     "data": {
      "text/html": [
       "<table border=\"1\" class=\"dataframe\">\n",
       "    <thead>\n",
       "        <tr>\n",
       "            <th>hogID</th> <th>count</th>\n",
       "        </tr>\n",
       "    </thead>\n",
       "    <tbody>\n",
       "        <tr>\n",
       "            <td>BC   </td> <td>1    </td>\n",
       "        </tr>\n",
       "        <tr>\n",
       "            <td>BECK </td> <td>1    </td>\n",
       "        </tr>\n",
       "        <tr>\n",
       "            <td>CACK </td> <td>6    </td>\n",
       "        </tr>\n",
       "        <tr>\n",
       "            <td>CECK </td> <td>4    </td>\n",
       "        </tr>\n",
       "        <tr>\n",
       "            <td>CID  </td> <td>2    </td>\n",
       "        </tr>\n",
       "        <tr>\n",
       "            <td>CS   </td> <td>8    </td>\n",
       "        </tr>\n",
       "        <tr>\n",
       "            <td>DKDV </td> <td>4    </td>\n",
       "        </tr>\n",
       "        <tr>\n",
       "            <td>EE   </td> <td>7    </td>\n",
       "        </tr>\n",
       "        <tr>\n",
       "            <td>FCFE </td> <td>5    </td>\n",
       "        </tr>\n",
       "        <tr>\n",
       "            <td>FDG  </td> <td>4    </td>\n",
       "        </tr>\n",
       "    </tbody>\n",
       "</table>\n",
       "<p>... (23 rows omitted)</p>"
      ],
      "text/plain": [
       "hogID | count\n",
       "BC    | 1\n",
       "BECK  | 1\n",
       "CACK  | 6\n",
       "CECK  | 4\n",
       "CID   | 2\n",
       "CS    | 8\n",
       "DKDV  | 4\n",
       "EE    | 7\n",
       "FCFE  | 5\n",
       "FDG   | 4\n",
       "... (23 rows omitted)"
      ]
     },
     "execution_count": 5,
     "metadata": {},
     "output_type": "execute_result"
    }
   ],
   "source": [
    "yes_late = groundhogdata.where('shadowPres', 'yes').where('earlyOrLate', 'late')\n",
    "no_early = groundhogdata.where('shadowPres', 'no').where('earlyOrLate', 'early')\n",
    "\n",
    "correct_tbl = yes_late.append(no_early)\n",
    "correct_tbl.group('hogID')"
   ]
  },
  {
   "cell_type": "code",
   "execution_count": 6,
   "metadata": {},
   "outputs": [
    {
     "data": {
      "text/plain": [
       "51.132075471698116"
      ]
     },
     "execution_count": 6,
     "metadata": {},
     "output_type": "execute_result"
    }
   ],
   "source": [
    "percent_correct = correct_tbl.num_rows / groundhogdata.num_rows * 100\n",
    "percent_correct\n"
   ]
  },
  {
   "cell_type": "code",
   "execution_count": 7,
   "metadata": {},
   "outputs": [
    {
     "data": {
      "text/plain": [
       "530"
      ]
     },
     "execution_count": 7,
     "metadata": {},
     "output_type": "execute_result"
    }
   ],
   "source": [
    "shadow_options = make_array('yes', 'no')\n",
    "spring_options = make_array('late', 'early')\n",
    "num_observations = groundhogdata.num_rows\n",
    "groundhogdata.num_rows"
   ]
  },
  {
   "cell_type": "code",
   "execution_count": 8,
   "metadata": {},
   "outputs": [
    {
     "data": {
      "text/plain": [
       "array([  0,   1,   2,   3,   4,   5,   6,   7,   8,   9,  10,  11,  12,\n",
       "        13,  14,  15,  16,  17,  18,  19,  20,  21,  22,  23,  24,  25,\n",
       "        26,  27,  28,  29,  30,  31,  32,  33,  34,  35,  36,  37,  38,\n",
       "        39,  40,  41,  42,  43,  44,  45,  46,  47,  48,  49,  50,  51,\n",
       "        52,  53,  54,  55,  56,  57,  58,  59,  60,  61,  62,  63,  64,\n",
       "        65,  66,  67,  68,  69,  70,  71,  72,  73,  74,  75,  76,  77,\n",
       "        78,  79,  80,  81,  82,  83,  84,  85,  86,  87,  88,  89,  90,\n",
       "        91,  92,  93,  94,  95,  96,  97,  98,  99, 100, 101, 102, 103,\n",
       "       104, 105, 106, 107, 108, 109, 110, 111, 112, 113, 114, 115, 116,\n",
       "       117, 118, 119, 120, 121, 122, 123, 124, 125, 126, 127, 128, 129,\n",
       "       130, 131, 132, 133, 134, 135, 136, 137, 138, 139, 140, 141, 142,\n",
       "       143, 144, 145, 146, 147, 148, 149, 150, 151, 152, 153, 154, 155,\n",
       "       156, 157, 158, 159, 160, 161, 162, 163, 164, 165, 166, 167, 168,\n",
       "       169, 170, 171, 172, 173, 174, 175, 176, 177, 178, 179, 180, 181,\n",
       "       182, 183, 184, 185, 186, 187, 188, 189, 190, 191, 192, 193, 194,\n",
       "       195, 196, 197, 198, 199, 200, 201, 202, 203, 204, 205, 206, 207,\n",
       "       208, 209, 210, 211, 212, 213, 214, 215, 216, 217, 218, 219, 220,\n",
       "       221, 222, 223, 224, 225, 226, 227, 228, 229, 230, 231, 232, 233,\n",
       "       234, 235, 236, 237, 238, 239, 240, 241, 242, 243, 244, 245, 246,\n",
       "       247, 248, 249, 250, 251, 252, 253, 254, 255, 256, 257, 258, 259,\n",
       "       260, 261, 262, 263, 264, 265, 266, 267, 268, 269, 270, 271, 272,\n",
       "       273, 274, 275, 276, 277, 278, 279, 280, 281, 282, 283, 284, 285,\n",
       "       286, 287, 288, 289, 290, 291, 292, 293, 294, 295, 296, 297, 298,\n",
       "       299, 300, 301, 302, 303, 304, 305, 306, 307, 308, 309, 310, 311,\n",
       "       312, 313, 314, 315, 316, 317, 318, 319, 320, 321, 322, 323, 324,\n",
       "       325, 326, 327, 328, 329, 330, 331, 332, 333, 334, 335, 336, 337,\n",
       "       338, 339, 340, 341, 342, 343, 344, 345, 346, 347, 348, 349, 350,\n",
       "       351, 352, 353, 354, 355, 356, 357, 358, 359, 360, 361, 362, 363,\n",
       "       364, 365, 366, 367, 368, 369, 370, 371, 372, 373, 374, 375, 376,\n",
       "       377, 378, 379, 380, 381, 382, 383, 384, 385, 386, 387, 388, 389,\n",
       "       390, 391, 392, 393, 394, 395, 396, 397, 398, 399, 400, 401, 402,\n",
       "       403, 404, 405, 406, 407, 408, 409, 410, 411, 412, 413, 414, 415,\n",
       "       416, 417, 418, 419, 420, 421, 422, 423, 424, 425, 426, 427, 428,\n",
       "       429, 430, 431, 432, 433, 434, 435, 436, 437, 438, 439, 440, 441,\n",
       "       442, 443, 444, 445, 446, 447, 448, 449, 450, 451, 452, 453, 454,\n",
       "       455, 456, 457, 458, 459, 460, 461, 462, 463, 464, 465, 466, 467,\n",
       "       468, 469, 470, 471, 472, 473, 474, 475, 476, 477, 478, 479, 480,\n",
       "       481, 482, 483, 484, 485, 486, 487, 488, 489, 490, 491, 492, 493,\n",
       "       494, 495, 496, 497, 498, 499, 500, 501, 502, 503, 504, 505, 506,\n",
       "       507, 508, 509, 510, 511, 512, 513, 514, 515, 516, 517, 518, 519,\n",
       "       520, 521, 522, 523, 524, 525, 526, 527, 528, 529])"
      ]
     },
     "execution_count": 8,
     "metadata": {},
     "output_type": "execute_result"
    }
   ],
   "source": [
    "np.arange(num_observations)"
   ]
  },
  {
   "cell_type": "code",
   "execution_count": null,
   "metadata": {},
   "outputs": [],
   "source": [
    "right = 0 \n",
    "wrong = 0\n",
    "\n",
    "for obs in np.arange(num_observations):\n",
    "    shadow = np.random.choice(shadow_options)\n",
    "    spring = np.random.choice(spring_options)\n",
    "    #print(obs,shadow,spring)\n",
    "    if shadow == 'yes' and spring == 'late':\n",
    "        right = right + 1\n",
    "    elif shadow == 'no' and spring == 'early':\n",
    "        right += 1\n",
    "    else:\n",
    "        wrong += 1\n",
    "\n",
    "simulated_num_correct = right / num_observations\n",
    "simulated_num_correct"
   ]
  },
  {
   "cell_type": "code",
   "execution_count": null,
   "metadata": {},
   "outputs": [],
   "source": [
    "def sim_ground(repeats):\n",
    "    correct_obs = []\n",
    "    for i in np.arange(repeats):\n",
    "        right = 0 \n",
    "        wrong = 0\n",
    "        for obs in range(num_observations):\n",
    "            shadow = np.random.choice(shadow_options)\n",
    "            spring = np.random.choice(spring_options)\n",
    "            if shadow == 'yes' and spring == 'late':\n",
    "                right += 1\n",
    "            elif shadow == 'no' and spring == 'early':\n",
    "                right += 1\n",
    "            else:\n",
    "                wrong += 1\n",
    "        simulated_num_correct = right / num_observations\n",
    "        correct_obs.append(simulated_num_correct)\n",
    "    return correct_obs        "
   ]
  },
  {
   "cell_type": "code",
   "execution_count": null,
   "metadata": {},
   "outputs": [],
   "source": [
    "plt.hist(sim_ground(1000),bins=np.arange(0.4,0.6,.01),color = \"skyblue\", ec=\"red\")\n",
    "plt.title('Simulated Groundhog outcomes')\n",
    "plt.savefig('sim_ground.png')\n",
    "plt.show()"
   ]
  },
  {
   "cell_type": "code",
   "execution_count": null,
   "metadata": {},
   "outputs": [],
   "source": [
    "hogsimdata = Table().with_columns(\"Correct\",sim_ground(1500))\n",
    "hogsimdata"
   ]
  },
  {
   "cell_type": "code",
   "execution_count": null,
   "metadata": {},
   "outputs": [],
   "source": [
    "hogsimdata.hist(\"Correct\",bins=np.arange(0.4,0.6,.01))\n",
    "plt.scatter(percent_correct/100, 0, color='green', s=200);\n",
    "plt.title('Simulated Groundhog outcomes')\n",
    "plt.savefig('sim_ground_correct.png')\n",
    "plt.show()"
   ]
  },
  {
   "cell_type": "code",
   "execution_count": null,
   "metadata": {},
   "outputs": [],
   "source": [
    "np.count_nonzero(hogsimdata.column('Correct') >= percent_correct/100) / 1500"
   ]
  },
  {
   "cell_type": "markdown",
   "metadata": {},
   "source": [
    "#### Essex Ed"
   ]
  },
  {
   "cell_type": "code",
   "execution_count": null,
   "metadata": {},
   "outputs": [],
   "source": [
    "groundhogdata.where('hogID',\"EE\").num_rows"
   ]
  },
  {
   "cell_type": "code",
   "execution_count": null,
   "metadata": {},
   "outputs": [],
   "source": [
    "correct_tbl.where('hogID',\"\").num_rows"
   ]
  },
  {
   "cell_type": "code",
   "execution_count": null,
   "metadata": {},
   "outputs": [],
   "source": [
    "num_correct = correct_tbl.where('hogID',\"PYPL\").num_rows / groundhogdata.where('hogID',\"PYPL\").num_rows * 100\n",
    "num_correct"
   ]
  },
  {
   "cell_type": "code",
   "execution_count": null,
   "metadata": {},
   "outputs": [],
   "source": [
    "hogsimdata.hist(0,bins=np.arange(0.4,0.6,.01))\n",
    "plt.scatter(num_correct/100, 0, color='red', s=200);\n",
    "plt.title('Simulated Groundhog outcomes')\n",
    "plt.savefig('sim_ground_correct.png')\n",
    "plt.show()"
   ]
  },
  {
   "cell_type": "code",
   "execution_count": null,
   "metadata": {},
   "outputs": [],
   "source": [
    "np.count_nonzero(hogsimdata.column('Correct') >= num_correct/100) / 1500"
   ]
  },
  {
   "cell_type": "markdown",
   "metadata": {},
   "source": [
    "### Central Limit Theorem"
   ]
  },
  {
   "cell_type": "code",
   "execution_count": null,
   "metadata": {},
   "outputs": [],
   "source": [
    "import numpy.random as np\n",
    "import seaborn as sns\n",
    "import matplotlib.pyplot as plt\n",
    "population_size = 1000000\n",
    "population = np.rand(1000000)"
   ]
  },
  {
   "cell_type": "code",
   "execution_count": null,
   "metadata": {},
   "outputs": [],
   "source": [
    "number_of_samples = 10000\n",
    "sample_means = np.rand(number_of_samples)\n",
    "sample_size = 1"
   ]
  },
  {
   "cell_type": "code",
   "execution_count": null,
   "metadata": {},
   "outputs": [],
   "source": [
    "c = np.rand(number_of_samples)\n",
    "for i in range(0,number_of_samples):\n",
    " c = np.randint(1,population_size,sample_size)\n",
    " sample_means[i] = population[c].mean()"
   ]
  },
  {
   "cell_type": "code",
   "execution_count": null,
   "metadata": {},
   "outputs": [],
   "source": [
    "plt.subplot(1,2,1)\n",
    "plt.xticks(fontsize=14)\n",
    "plt.yticks(fontsize=14)\n",
    "sns.distplot(sample_means,bins=int(180/5),hist = True,kde = False)\n",
    "plt.title('Histogram of Sample mean',fontsize=20)\n",
    "plt.xlabel('Sample mean',fontsize=20)\n",
    "plt.ylabel('Count',fontsize=20)\n",
    "plt.subplot(1,2,2)\n",
    "plt.xticks(fontsize=14)\n",
    "plt.yticks(fontsize=14)\n",
    "sns.distplot(sample_means,hist = False,kdeplot = True)\n",
    "plt.title('Density of Sample mean',fontsize=20)\n",
    "plt.xlabel('Sample mean',fontsize=20)\n",
    "plt.ylabel('Density',fontsize=20)\n",
    "plt.subplots_adjust(bottom=0.1, right=2, top=0.9)"
   ]
  },
  {
   "cell_type": "markdown",
   "metadata": {},
   "source": [
    "### Testing differences"
   ]
  },
  {
   "cell_type": "code",
   "execution_count": null,
   "metadata": {},
   "outputs": [],
   "source": [
    "def diff_n(values, n):\n",
    "    return np.array(values)[n:] - np.array(values)[:-n]\n",
    "\n",
    "diff_n(make_array(1, 10, 100, 1000, 10000), 2)"
   ]
  },
  {
   "cell_type": "code",
   "execution_count": null,
   "metadata": {},
   "outputs": [],
   "source": [
    "!pip install meteostat\n",
    "from datetime import datetime\n",
    "import matplotlib.pyplot as plt\n",
    "from meteostat import Point, Daily"
   ]
  },
  {
   "cell_type": "code",
   "execution_count": null,
   "metadata": {},
   "outputs": [],
   "source": [
    "# Set time period\n",
    "start = datetime(2021, 1, 1)\n",
    "end = datetime(2021, 12, 31)\n",
    "# Create Point for SERC, Philadelphia\n",
    "location = Point(39.9816, -75.153, 70)\n",
    "# Get daily data for 2021\n",
    "data = Daily(location, start, end)\n",
    "data = data.fetch()['tavg'].values # Values in Celsius\n",
    "data = (data*9/5)+32"
   ]
  },
  {
   "cell_type": "code",
   "execution_count": null,
   "metadata": {},
   "outputs": [],
   "source": [
    "differences = diff_n(rates, years)"
   ]
  }
 ],
 "metadata": {
  "kernelspec": {
   "display_name": "Python 3 (ipykernel)",
   "language": "python",
   "name": "python3"
  },
  "language_info": {
   "codemirror_mode": {
    "name": "ipython",
    "version": 3
   },
   "file_extension": ".py",
   "mimetype": "text/x-python",
   "name": "python",
   "nbconvert_exporter": "python",
   "pygments_lexer": "ipython3",
   "version": "3.10.4"
  }
 },
 "nbformat": 4,
 "nbformat_minor": 4
}
