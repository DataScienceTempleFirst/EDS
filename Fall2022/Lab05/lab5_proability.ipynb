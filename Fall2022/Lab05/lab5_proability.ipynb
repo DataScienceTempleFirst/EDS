{
 "cells": [
  {
   "cell_type": "markdown",
   "metadata": {},
   "source": [
    "# Lab 5: Probability & Randomization\n",
    "\n",
    "Welcome to our 2nd Module on statistics and lab 5! This week, we will go over conditionals and iteration, and introduce the concept of randomness. Randomness and probability are central concepts to statistics. All of this material is covered in [Chapter 8](https://inferentialthinking.com/chapters/09/Randomness.html) of the textbook. \n",
    "\n",
    "First, set up the tests and imports by running the cell below."
   ]
  },
  {
   "cell_type": "code",
   "execution_count": null,
   "metadata": {},
   "outputs": [],
   "source": [
    "name = ..."
   ]
  },
  {
   "cell_type": "code",
   "execution_count": null,
   "metadata": {},
   "outputs": [],
   "source": [
    "import numpy as np\n",
    "from datascience import *\n",
    "%matplotlib inline\n",
    "import matplotlib.pyplot as plt\n",
    "plt.style.use('fivethirtyeight')\n",
    "\n",
    "# These lines load the tests.\n",
    "from gofer.ok import check"
   ]
  },
  {
   "cell_type": "markdown",
   "metadata": {},
   "source": [
    "## 1. Conditionals"
   ]
  },
  {
   "cell_type": "markdown",
   "metadata": {},
   "source": [
    "In Python, Boolean values can either be `True` or `False`. We get Boolean values when using comparison operators, among which are `<` (less than), `>` (greater than), and `==` (equal to). For a complete list, refer to [Booleans and Comparison](https://inferentialthinking.com/chapters/09/Randomness.html) at the start of Chapter 8.\n",
    "\n",
    "Run the cell below to see an example of a comparison operator in action."
   ]
  },
  {
   "cell_type": "code",
   "execution_count": null,
   "metadata": {},
   "outputs": [],
   "source": [
    "bool_expression = 3 > 1 + 1\n",
    "bool_expression"
   ]
  },
  {
   "cell_type": "markdown",
   "metadata": {},
   "source": [
    "Arrays are compatible with comparison operators. The output is an array of boolean values."
   ]
  },
  {
   "cell_type": "code",
   "execution_count": null,
   "metadata": {},
   "outputs": [],
   "source": [
    "make_array(1, 5, 7, 8, 3, -1) > 3"
   ]
  },
  {
   "cell_type": "markdown",
   "metadata": {},
   "source": [
    "You're hanging out with friends and ordered pizza.  You have a stack of pizza boxes that include plain cheese, veggie, supreme, and pepperoni.  \n",
    "\n",
    "Using the function call `np.random.choice(array_name)`, let's simulate opening a pizza box at random. Start by running the cell below several times, and observe how the results change."
   ]
  },
  {
   "cell_type": "code",
   "execution_count": null,
   "metadata": {},
   "outputs": [],
   "source": [
    "pizza = make_array('cheese', 'veggie', 'supreme', 'pepperoni')\n",
    "np.random.choice(pizza)"
   ]
  },
  {
   "cell_type": "markdown",
   "metadata": {},
   "source": [
    "**Question 1:**  Assume we took 7 slices of pizza at random, and stored the results in an array called `seven_slices`. Find the number of slices of pepperoni pizza (do not hardcode the answer).  \n",
    "\n",
    "*Hint:* Our solution involves a comparison operator and the `np.count_nonzero` method."
   ]
  },
  {
   "cell_type": "code",
   "execution_count": null,
   "metadata": {},
   "outputs": [],
   "source": [
    "seven_slices = make_array('cheese', 'supreme', 'cheese', 'pepperoni', 'veggie', 'veggie', 'cheese')\n",
    "number_pepperoni = ...\n",
    "number_pepperoni"
   ]
  },
  {
   "cell_type": "code",
   "execution_count": null,
   "metadata": {},
   "outputs": [],
   "source": [
    "check('tests/q1.py')"
   ]
  },
  {
   "cell_type": "markdown",
   "metadata": {},
   "source": [
    "**Conditional Statements**\n",
    "\n",
    "A conditional statement is made up of many lines that allow Python to choose from different alternatives based on whether some condition is true.\n",
    "\n",
    "Here is a basic example.\n",
    "\n",
    "```\n",
    "def sign(x):\n",
    "    if x > 0:\n",
    "        return 'Positive'\n",
    "```\n",
    "\n",
    "How the function works is if the input `x` is greater than `0`, we get the string `'Positive'` back.\n",
    "\n",
    "If we want to test multiple conditions at once, we use the following general format.\n",
    "\n",
    "```\n",
    "if <if expression>:\n",
    "    <if body>\n",
    "elif <elif expression 0>:\n",
    "    <elif body 0>\n",
    "elif <elif expression 1>:\n",
    "    <elif body 1>\n",
    "...\n",
    "else:\n",
    "    <else body>\n",
    "```\n",
    "\n",
    "Only one of the bodies will ever be executed. Each `if` and `elif` expression is evaluated and considered in order, starting at the top. As soon as a true value is found, the corresponding body is executed, and the rest of the expression is skipped. If none of the `if` or `elif` expressions are true, then the `else body` is executed. For more examples and explanation, refer to [Section 8.1](https://www.inferentialthinking.com/chapters/08/1/conditional-statements.html)."
   ]
  },
  {
   "cell_type": "markdown",
   "metadata": {},
   "source": [
    "**Question 2:**  We want to write a function that returns the price of a pizza depending on the type.  The function takes in the type of pizza as a string and returns a price: 10 dollars for cheese,  12 dollars for veggie, 13 dollars for pepperoni, and 15 dollars for supreme.  "
   ]
  },
  {
   "cell_type": "code",
   "execution_count": null,
   "metadata": {},
   "outputs": [],
   "source": [
    "def pizza_price(pizza):\n",
    "    if ...\n",
    "        return 10\n",
    "    # next condition should return 12\n",
    "    ...\n",
    "    # next condition should return 13\n",
    "    ...\n",
    "    # next condition should return 15\n",
    "    ...\n",
    "\n",
    "plain_price = pizza_price('cheese')\n",
    "plain_price"
   ]
  },
  {
   "cell_type": "code",
   "execution_count": null,
   "metadata": {},
   "outputs": [],
   "source": [
    "check('tests/q2.py')"
   ]
  },
  {
   "cell_type": "markdown",
   "metadata": {},
   "source": [
    "## 2. Iteration\n",
    "\n",
    "Using a `for` statement, we can perform a task multiple times. This is known as iteration. Here, we'll simulate drawing different suits from a deck of cards. "
   ]
  },
  {
   "cell_type": "code",
   "execution_count": null,
   "metadata": {},
   "outputs": [],
   "source": [
    "suits = make_array(\"♤\", \"♡\", \"♢\", \"♧\")\n",
    "\n",
    "draws = make_array()\n",
    "\n",
    "repetitions = 6\n",
    "\n",
    "for i in np.arange(repetitions):\n",
    "    draws = np.append(draws, np.random.choice(suits))\n",
    "\n",
    "draws"
   ]
  },
  {
   "cell_type": "markdown",
   "metadata": {},
   "source": [
    "Another use of iteration is to loop through a set of values. For instance, we can print out all of the colors of the rainbow."
   ]
  },
  {
   "cell_type": "code",
   "execution_count": null,
   "metadata": {},
   "outputs": [],
   "source": [
    "rainbow = make_array(\"red\", \"orange\", \"yellow\", \"green\", \"blue\", \"indigo\", \"violet\")\n",
    "\n",
    "for color in rainbow:\n",
    "    print(color)"
   ]
  },
  {
   "cell_type": "markdown",
   "metadata": {},
   "source": [
    "We can see that the indented part of the `for` loop, known as the body, is executed once for each item in `rainbow`. Note that the name `color` is arbitrary; we could easily have named it something else."
   ]
  },
  {
   "cell_type": "markdown",
   "metadata": {},
   "source": [
    "**Question 3:**  You're working at a pizza shop, and we want to simulate the amount of money the shop brings in over two weeks (the shop sells 500 pizzas a week on average).  Write code that simulates the total money made after 2 weeks using your `pizza_price` function above."
   ]
  },
  {
   "cell_type": "code",
   "execution_count": null,
   "metadata": {},
   "outputs": [],
   "source": [
    "possible_pizzas = ...\n",
    "pizzas = 1000\n",
    "\n",
    "total_money = ...\n",
    "\n",
    "for ... in ...:\n",
    "    pizza = ...\n",
    "    cost = ...\n",
    "    ...\n",
    "\n",
    "total_money"
   ]
  },
  {
   "cell_type": "code",
   "execution_count": null,
   "metadata": {},
   "outputs": [],
   "source": [
    "check('tests/q3.py')"
   ]
  },
  {
   "cell_type": "markdown",
   "metadata": {},
   "source": [
    "**Question 4:** Charles Darwin is a famous naturalist and biologist from the late 1800s.  While Darwin is known for several different theories, one of his most well known theory involved the finches on Galapagos Islands and helped form his theory on natural selection and speciation.  In this question, we are going to loop through Charles Darwin's book on the Origin of Species and count up the number of times he refers to bird or birds in the text.  "
   ]
  },
  {
   "cell_type": "code",
   "execution_count": null,
   "metadata": {},
   "outputs": [],
   "source": [
    "darwin_string = open('darwin_origin_species.txt', encoding='utf-8').read()\n",
    "darwin_words = np.array(darwin_string.split())\n",
    "\n",
    "birds = ...\n",
    "...\n",
    "\n",
    "\n",
    "birds "
   ]
  },
  {
   "cell_type": "code",
   "execution_count": 2,
   "metadata": {},
   "outputs": [
    {
     "data": {
      "text/plain": [
       "155622"
      ]
     },
     "execution_count": 2,
     "metadata": {},
     "output_type": "execute_result"
    }
   ],
   "source": [
    "import numpy as np\n",
    "darwin_string = open('darwin_origin_species.txt', encoding='utf-8').read()\n",
    "darwin_words = np.array(darwin_string.split())\n",
    "len(darwin_words)"
   ]
  },
  {
   "cell_type": "code",
   "execution_count": null,
   "metadata": {},
   "outputs": [],
   "source": [
    "check('tests/q4.py')"
   ]
  },
  {
   "cell_type": "markdown",
   "metadata": {},
   "source": [
    "## 3. Probability"
   ]
  },
  {
   "cell_type": "markdown",
   "metadata": {},
   "source": [
    "Astronomers have their telescope pointed towards a particular section of sky.  During an hour period, astronomers have 0.7 chance of seeing a Meteoroid in the sky. \n",
    "\n",
    "**Question 5:** What is the probability that the astronomer will not see a Meteoroid in this hour?"
   ]
  },
  {
   "cell_type": "code",
   "execution_count": null,
   "metadata": {},
   "outputs": [],
   "source": [
    "no_meteoroid = ...\n",
    "no_meteoroid"
   ]
  },
  {
   "cell_type": "code",
   "execution_count": null,
   "metadata": {},
   "outputs": [],
   "source": [
    "check('tests/q5.py')"
   ]
  },
  {
   "cell_type": "markdown",
   "metadata": {},
   "source": [
    "**Question 6:** What is the probability of seeing a meteroid in the first hour and then seeing a meteoroid in the second hour?"
   ]
  },
  {
   "cell_type": "code",
   "execution_count": null,
   "metadata": {},
   "outputs": [],
   "source": [
    "two_meteoroids = ...\n",
    "two_meteoroids"
   ]
  },
  {
   "cell_type": "code",
   "execution_count": null,
   "metadata": {},
   "outputs": [],
   "source": [
    "check('tests/q6.py')"
   ]
  },
  {
   "cell_type": "markdown",
   "metadata": {},
   "source": [
    "**Question 7:** A club on campus is holding a contest.  There is a bag with two red marbles, two green marbles, and two blue marbles. You have to draw three marbles separately. In order to win, all three of these marbles must be of different colors.  What is the probability of you winning the contest?"
   ]
  },
  {
   "cell_type": "code",
   "execution_count": null,
   "metadata": {},
   "outputs": [],
   "source": [
    "winning_prob = ...\n",
    "winning_prob"
   ]
  },
  {
   "cell_type": "code",
   "execution_count": null,
   "metadata": {},
   "outputs": [],
   "source": [
    "check('tests/q7.py')"
   ]
  },
  {
   "cell_type": "markdown",
   "metadata": {},
   "source": [
    "## 4. Application:  Groundhog's Day\n",
    "\n",
    "Researchers seek to understand whether Groundhogs are able to predict the onset of spring any better than chance.  In this particular study, researchers look at 33 groundhogs across North America (USA and Canada) and gather data for several years.  This includes whether the groundhog saw its shadow and whether the onset of spring was late or early - which for our uses are going to be the two columns we're going to focus on.  In the cell below, we read in dataset into a table called `groundhogdata`.  "
   ]
  },
  {
   "cell_type": "code",
   "execution_count": null,
   "metadata": {},
   "outputs": [],
   "source": [
    "groundhogdata = Table.read_table('GroundHogData/summarizedGroundhogData_20210326.csv')\n",
    "groundhogdata"
   ]
  },
  {
   "cell_type": "markdown",
   "metadata": {},
   "source": [
    "Each groundhog has the options of either seeing their shadow or not seeing their shadow.  If the groundhog sees their shadow, they are then predicting that spring will come late.  If a groundhog doesn't see their shadow, then they are predicting that spring will come early. We are trying to see if the groundhog has special perception and can predict the onset of Spring better  than a coin toss (50/50).\n",
    "\n",
    "**Question 8:** Create a table that contains all the rows where the Groundhogs correctly predicted the onset of Spring. Since there are two ways the groundhogs could be correct, you may want to make multiple tables and then combine them.   "
   ]
  },
  {
   "cell_type": "code",
   "execution_count": null,
   "metadata": {},
   "outputs": [],
   "source": [
    "...\n",
    "\n",
    "correct_tbl = ..."
   ]
  },
  {
   "cell_type": "code",
   "execution_count": null,
   "metadata": {},
   "outputs": [],
   "source": [
    "check('tests/q8.py')"
   ]
  },
  {
   "cell_type": "markdown",
   "metadata": {},
   "source": [
    "**Question 9:**  Calculate the percent of time that the groundhogs correctly identified the onset of Spring.  "
   ]
  },
  {
   "cell_type": "code",
   "execution_count": null,
   "metadata": {},
   "outputs": [],
   "source": [
    "num_correct = ...\n",
    "num_correct"
   ]
  },
  {
   "cell_type": "code",
   "execution_count": null,
   "metadata": {},
   "outputs": [],
   "source": [
    "check('tests/q9.py')"
   ]
  },
  {
   "cell_type": "markdown",
   "metadata": {},
   "source": [
    "Now that we know how often groundhogs across North America correctly identify the onset of spring, we want to simulate groundhog data to see if the groundhogs do better than random.  \n",
    "\n",
    "**Question 10:** Let's set up the needed options and iterations.  Set the possible options for whether the groundhog sees shadows and the spring onset.  Set num_observations to the total number of groundhog observations from the dataset.  "
   ]
  },
  {
   "cell_type": "code",
   "execution_count": null,
   "metadata": {},
   "outputs": [],
   "source": [
    "shadow_options = ...\n",
    "spring_options = ...\n",
    "num_observations = ..."
   ]
  },
  {
   "cell_type": "code",
   "execution_count": null,
   "metadata": {},
   "outputs": [],
   "source": [
    "check('tests/q10.py')"
   ]
  },
  {
   "cell_type": "markdown",
   "metadata": {},
   "source": [
    "**Question 11:** Now let's set up the simulation. For each of the observations, random choose whether the groundhog sees their shadow and then randomly choose when spring starts.  Depending on the random choices, we can use conditional statements to either record the choice as right or wrong by adding one to `right` or `wrong` variables (increment).  Use concepts in Questions 2 and 3."
   ]
  },
  {
   "cell_type": "code",
   "execution_count": null,
   "metadata": {},
   "outputs": [],
   "source": [
    "right = 0 # Initialize at zero \n",
    "wrong = ...\n",
    "# Iteration\n",
    "for obs in range():\n",
    "    shadow = np.random.choice(shadow_options)\n",
    "    spring = ...\n",
    "# Now decide of silicon groundhog is right or wrong\n",
    "    for ... in ...:\n",
    "        ...\n",
    "        if shadow == 'yes' and spring == 'late':\n",
    "            ...\n",
    "        elif ...:\n",
    "            ...\n",
    "        else ...:\n",
    "            ...\n",
    "    \n",
    "\n",
    "simulated_num_correct = ...\n",
    "simulated_num_correct"
   ]
  },
  {
   "cell_type": "code",
   "execution_count": null,
   "metadata": {},
   "outputs": [],
   "source": [
    "check('tests/q11.py')"
   ]
  },
  {
   "cell_type": "markdown",
   "metadata": {},
   "source": [
    "**Question 12:** In the markdown cell below, compare the results of your simulation in question 11 and the actual number of correctly identified spring onsets by the groundhogs in the study.  "
   ]
  },
  {
   "cell_type": "markdown",
   "metadata": {},
   "source": [
    " Use this cell to complete question 12. "
   ]
  },
  {
   "cell_type": "code",
   "execution_count": null,
   "metadata": {},
   "outputs": [],
   "source": [
    "# For your convenience, you can run this cell to run all the tests at once!\n",
    "import glob\n",
    "from gofer.ok import check\n",
    "correct = 0\n",
    "total = 11\n",
    "for x in range(1, total+1):\n",
    "    print('Testing question {}: '.format(str(x)))\n",
    "    g = check('tests/q{}.py'.format(str(x)))\n",
    "    if g.grade == 1.0:\n",
    "        print(\"Passed\")\n",
    "        correct += 1\n",
    "    else:\n",
    "        print('Failed')\n",
    "        display(g)\n",
    "\n",
    "print('Grade:  {}'.format(str(correct/total)))"
   ]
  },
  {
   "cell_type": "code",
   "execution_count": null,
   "metadata": {},
   "outputs": [],
   "source": [
    "print(name,\" Great work!\")"
   ]
  }
 ],
 "metadata": {
  "kernelspec": {
   "display_name": "Python 3",
   "language": "python",
   "name": "python3"
  },
  "language_info": {
   "codemirror_mode": {
    "name": "ipython",
    "version": 3
   },
   "file_extension": ".py",
   "mimetype": "text/x-python",
   "name": "python",
   "nbconvert_exporter": "python",
   "pygments_lexer": "ipython3",
   "version": "3.7.7"
  }
 },
 "nbformat": 4,
 "nbformat_minor": 2
}
