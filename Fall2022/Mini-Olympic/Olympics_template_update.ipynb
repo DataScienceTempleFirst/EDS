{
 "cells": [
  {
   "cell_type": "markdown",
   "metadata": {},
   "source": [
    "## Olympics Data mini-project\n",
    "Temple Elements of Data Science"
   ]
  },
  {
   "cell_type": "code",
   "execution_count": null,
   "metadata": {},
   "outputs": [],
   "source": [
    "# Enter your name as a string\n",
    "name = ..."
   ]
  },
  {
   "cell_type": "code",
   "execution_count": 2,
   "metadata": {},
   "outputs": [],
   "source": [
    "# Extra Python functionality to import\n",
    "from datascience import *  # datascience Table \n",
    "\n",
    "import numpy as np\n",
    "import pandas as pd\n",
    "%matplotlib inline\n",
    "import matplotlib.pyplot as plt\n",
    "plt.style.use('fivethirtyeight')"
   ]
  },
  {
   "cell_type": "markdown",
   "metadata": {},
   "source": [
    "### Data Sets\n",
    "Athletes: Olympic_Data/athlete_events.csv\n",
    "Source: Kaggle https://www.kaggle.com/heesoo37/120-years-of-olympic-history-athletes-and-results"
   ]
  },
  {
   "cell_type": "code",
   "execution_count": 3,
   "metadata": {},
   "outputs": [
    {
     "data": {
      "text/html": [
       "<table border=\"1\" class=\"dataframe\">\n",
       "    <thead>\n",
       "        <tr>\n",
       "            <th>ID</th> <th>Name</th> <th>Sex</th> <th>Age</th> <th>Height</th> <th>Weight</th> <th>Team</th> <th>NOC</th> <th>Games</th> <th>Year</th> <th>Season</th> <th>City</th> <th>Sport</th> <th>Event</th> <th>Medal</th>\n",
       "        </tr>\n",
       "    </thead>\n",
       "    <tbody>\n",
       "        <tr>\n",
       "            <td>16  </td> <td>Juhamatti Tapio Aaltonen          </td> <td>M   </td> <td>28  </td> <td>184   </td> <td>85    </td> <td>Finland      </td> <td>FIN </td> <td>2014 Winter</td> <td>2014</td> <td>Winter</td> <td>Sochi</td> <td>Ice Hockey      </td> <td>Ice Hockey Men's Ice Hockey       </td> <td>Bronze</td>\n",
       "        </tr>\n",
       "        <tr>\n",
       "            <td>126 </td> <td>Forough Abbasi                    </td> <td>F   </td> <td>20  </td> <td>164   </td> <td>58    </td> <td>Iran         </td> <td>IRI </td> <td>2014 Winter</td> <td>2014</td> <td>Winter</td> <td>Sochi</td> <td>Alpine Skiing   </td> <td>Alpine Skiing Women's Slalom      </td> <td>nan   </td>\n",
       "        </tr>\n",
       "        <tr>\n",
       "            <td>145 </td> <td>Jeremy Abbott                     </td> <td>M   </td> <td>28  </td> <td>175   </td> <td>70    </td> <td>United States</td> <td>USA </td> <td>2014 Winter</td> <td>2014</td> <td>Winter</td> <td>Sochi</td> <td>Figure Skating  </td> <td>Figure Skating Men's Singles      </td> <td>nan   </td>\n",
       "        </tr>\n",
       "        <tr>\n",
       "            <td>145 </td> <td>Jeremy Abbott                     </td> <td>M   </td> <td>28  </td> <td>175   </td> <td>70    </td> <td>United States</td> <td>USA </td> <td>2014 Winter</td> <td>2014</td> <td>Winter</td> <td>Sochi</td> <td>Figure Skating  </td> <td>Figure Skating Mixed Team         </td> <td>Bronze</td>\n",
       "        </tr>\n",
       "        <tr>\n",
       "            <td>463 </td> <td>Agnese boltia                     </td> <td>F   </td> <td>17  </td> <td>166   </td> <td>60    </td> <td>Latvia       </td> <td>LAT </td> <td>2014 Winter</td> <td>2014</td> <td>Winter</td> <td>Sochi</td> <td>Alpine Skiing   </td> <td>Alpine Skiing Women's Super G     </td> <td>nan   </td>\n",
       "        </tr>\n",
       "        <tr>\n",
       "            <td>463 </td> <td>Agnese boltia                     </td> <td>F   </td> <td>17  </td> <td>166   </td> <td>60    </td> <td>Latvia       </td> <td>LAT </td> <td>2014 Winter</td> <td>2014</td> <td>Winter</td> <td>Sochi</td> <td>Alpine Skiing   </td> <td>Alpine Skiing Women's Giant Slalom</td> <td>nan   </td>\n",
       "        </tr>\n",
       "        <tr>\n",
       "            <td>463 </td> <td>Agnese boltia                     </td> <td>F   </td> <td>17  </td> <td>166   </td> <td>60    </td> <td>Latvia       </td> <td>LAT </td> <td>2014 Winter</td> <td>2014</td> <td>Winter</td> <td>Sochi</td> <td>Alpine Skiing   </td> <td>Alpine Skiing Women's Slalom      </td> <td>nan   </td>\n",
       "        </tr>\n",
       "        <tr>\n",
       "            <td>532 </td> <td>Iason Abramashvili                </td> <td>M   </td> <td>25  </td> <td>176   </td> <td>82    </td> <td>Georgia      </td> <td>GEO </td> <td>2014 Winter</td> <td>2014</td> <td>Winter</td> <td>Sochi</td> <td>Alpine Skiing   </td> <td>Alpine Skiing Men's Giant Slalom  </td> <td>nan   </td>\n",
       "        </tr>\n",
       "        <tr>\n",
       "            <td>532 </td> <td>Iason Abramashvili                </td> <td>M   </td> <td>25  </td> <td>176   </td> <td>82    </td> <td>Georgia      </td> <td>GEO </td> <td>2014 Winter</td> <td>2014</td> <td>Winter</td> <td>Sochi</td> <td>Alpine Skiing   </td> <td>Alpine Skiing Men's Slalom        </td> <td>nan   </td>\n",
       "        </tr>\n",
       "        <tr>\n",
       "            <td>534 </td> <td>Oleksandr Volodymyrovych Abramenko</td> <td>M   </td> <td>25  </td> <td>180   </td> <td>82    </td> <td>Ukraine      </td> <td>UKR </td> <td>2014 Winter</td> <td>2014</td> <td>Winter</td> <td>Sochi</td> <td>Freestyle Skiing</td> <td>Freestyle Skiing Men's Aerials    </td> <td>nan   </td>\n",
       "        </tr>\n",
       "    </tbody>\n",
       "</table>\n",
       "<p>... (48554 rows omitted)</p>"
      ],
      "text/plain": [
       "ID   | Name                               | Sex  | Age  | Height | Weight | Team          | NOC  | Games       | Year | Season | City  | Sport            | Event                              | Medal\n",
       "16   | Juhamatti Tapio Aaltonen           | M    | 28   | 184    | 85     | Finland       | FIN  | 2014 Winter | 2014 | Winter | Sochi | Ice Hockey       | Ice Hockey Men's Ice Hockey        | Bronze\n",
       "126  | Forough Abbasi                     | F    | 20   | 164    | 58     | Iran          | IRI  | 2014 Winter | 2014 | Winter | Sochi | Alpine Skiing    | Alpine Skiing Women's Slalom       | nan\n",
       "145  | Jeremy Abbott                      | M    | 28   | 175    | 70     | United States | USA  | 2014 Winter | 2014 | Winter | Sochi | Figure Skating   | Figure Skating Men's Singles       | nan\n",
       "145  | Jeremy Abbott                      | M    | 28   | 175    | 70     | United States | USA  | 2014 Winter | 2014 | Winter | Sochi | Figure Skating   | Figure Skating Mixed Team          | Bronze\n",
       "463  | Agnese boltia                      | F    | 17   | 166    | 60     | Latvia        | LAT  | 2014 Winter | 2014 | Winter | Sochi | Alpine Skiing    | Alpine Skiing Women's Super G      | nan\n",
       "463  | Agnese boltia                      | F    | 17   | 166    | 60     | Latvia        | LAT  | 2014 Winter | 2014 | Winter | Sochi | Alpine Skiing    | Alpine Skiing Women's Giant Slalom | nan\n",
       "463  | Agnese boltia                      | F    | 17   | 166    | 60     | Latvia        | LAT  | 2014 Winter | 2014 | Winter | Sochi | Alpine Skiing    | Alpine Skiing Women's Slalom       | nan\n",
       "532  | Iason Abramashvili                 | M    | 25   | 176    | 82     | Georgia       | GEO  | 2014 Winter | 2014 | Winter | Sochi | Alpine Skiing    | Alpine Skiing Men's Giant Slalom   | nan\n",
       "532  | Iason Abramashvili                 | M    | 25   | 176    | 82     | Georgia       | GEO  | 2014 Winter | 2014 | Winter | Sochi | Alpine Skiing    | Alpine Skiing Men's Slalom         | nan\n",
       "534  | Oleksandr Volodymyrovych Abramenko | M    | 25   | 180    | 82     | Ukraine       | UKR  | 2014 Winter | 2014 | Winter | Sochi | Freestyle Skiing | Freestyle Skiing Men's Aerials     | nan\n",
       "... (48554 rows omitted)"
      ]
     },
     "execution_count": 3,
     "metadata": {},
     "output_type": "execute_result"
    }
   ],
   "source": [
    "datafile = \"Olympic_Data/athlete_events.csv\"\n",
    "athletes = Table.read_table(datafile).sort(\"Year\",descending=True).where(\"Season\",\"Winter\")\n",
    "athletes"
   ]
  },
  {
   "cell_type": "markdown",
   "metadata": {},
   "source": [
    "### Stage 1: Data exploration"
   ]
  },
  {
   "cell_type": "markdown",
   "metadata": {},
   "source": [
    "### Ages of Athletes\n",
    "Some ages are entered as <i>nan</i>.  <i>nan</i> is hard to work with so we will use a quick pandas command to remove these by converting the Table to a pandas dataframe,change <i>nan</i> to 0 and then convert the data back to a Table object. "
   ]
  },
  {
   "cell_type": "code",
   "execution_count": 4,
   "metadata": {},
   "outputs": [],
   "source": [
    "df = athletes.to_df() # Create pandas dataframe from Table object\n",
    "df['Age'].fillna(0, inplace=True)\n",
    "athletes = Table().from_df(df)\n",
    "#df = df[0:0] # This erases the data in the Dataframe but leaves column headings"
   ]
  },
  {
   "cell_type": "code",
   "execution_count": 8,
   "metadata": {},
   "outputs": [
    {
     "data": {
      "text/plain": [
       "pandas.core.frame.DataFrame"
      ]
     },
     "execution_count": 8,
     "metadata": {},
     "output_type": "execute_result"
    }
   ],
   "source": [
    "df = df[0:0]\n",
    "dfnew = athletes.to_df()\n",
    "dfnew\n",
    "type(dfnew)"
   ]
  },
  {
   "cell_type": "markdown",
   "metadata": {},
   "source": [
    "### Stage 2: Time trends and comparative results"
   ]
  },
  {
   "cell_type": "code",
   "execution_count": null,
   "metadata": {},
   "outputs": [],
   "source": []
  },
  {
   "cell_type": "code",
   "execution_count": null,
   "metadata": {},
   "outputs": [],
   "source": [
    "# To examine combined data use this panda trick to overwrite athletes table with US & Norway data only\n",
    "df = athletes.to_df() # Create pandas dataframe from Table object\n",
    "df = df.loc[(df['Team'] == \"United States\") | (df['Team'] == \"Norway\" )] # Easy way to get \n",
    "athletes = Table().from_df(df) # Overwrite athletes Table object"
   ]
  },
  {
   "cell_type": "code",
   "execution_count": null,
   "metadata": {},
   "outputs": [],
   "source": []
  },
  {
   "cell_type": "code",
   "execution_count": null,
   "metadata": {},
   "outputs": [],
   "source": [
    "import time\n",
    "localtime = time.asctime( time.localtime(time.time()) )\n",
    "print(\"Submitted by: \", name, \" on: \", localtime)"
   ]
  }
 ],
 "metadata": {
  "kernelspec": {
   "display_name": "Python 3",
   "language": "python",
   "name": "python3"
  },
  "language_info": {
   "codemirror_mode": {
    "name": "ipython",
    "version": 3
   },
   "file_extension": ".py",
   "mimetype": "text/x-python",
   "name": "python",
   "nbconvert_exporter": "python",
   "pygments_lexer": "ipython3",
   "version": "3.7.7"
  }
 },
 "nbformat": 4,
 "nbformat_minor": 2
}
