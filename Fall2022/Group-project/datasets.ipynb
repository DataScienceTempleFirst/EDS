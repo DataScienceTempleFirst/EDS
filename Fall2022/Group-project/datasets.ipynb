{
 "cells": [
  {
   "cell_type": "markdown",
   "metadata": {},
   "source": [
    "# Potential Datasets \n",
    "\n",
    "#### Below are some datasets which could be used for Project 3.  Please feel free to find your own datasets as well if you have a particular interest or question.  Some great websites for dataset curation include: \n",
    "\n",
    "\n",
    "1. https://www.kaggle.com/\n",
    "2. https://data.world/\n",
    "3. https://opendata.cern.ch/\n",
    "4. https://www.sciencebase.gov/catalog/\n",
    "5. https://data.neonscience.org/"
   ]
  },
  {
   "cell_type": "code",
   "execution_count": null,
   "metadata": {},
   "outputs": [],
   "source": [
    "# Import Numpy and Datascience modules.\n",
    "import numpy as np\n",
    "import pandas as pd\n",
    "from datascience import *\n",
    "\n",
    "# Plotting modules\n",
    "import matplotlib\n",
    "%matplotlib inline\n",
    "import matplotlib.pyplot as plt\n",
    "plt.style.use('fivethirtyeight')\n",
    "import warnings\n",
    "warnings.simplefilter('ignore', UserWarning)"
   ]
  },
  {
   "cell_type": "markdown",
   "metadata": {},
   "source": [
    "### Biology Datasets\n",
    "includes: Palmer Penguins, Ecological Footprint, & kidney disease."
   ]
  },
  {
   "cell_type": "markdown",
   "metadata": {},
   "source": [
    "##### Palmer Penguins\n",
    "See: https://allisonhorst.github.io/palmerpenguins/"
   ]
  },
  {
   "cell_type": "code",
   "execution_count": null,
   "metadata": {},
   "outputs": [],
   "source": [
    "url = \"https://raw.githubusercontent.com/mwaskom/seaborn-data/master/penguins.csv\"\n",
    "penguin = Table.read_table(url)\n",
    "penguin"
   ]
  },
  {
   "cell_type": "markdown",
   "metadata": {},
   "source": [
    "##### Ecological Footprint \n",
    "This dataset measures the amount of ecological resources are used from each country in the years 1961 to 2016.  More information can be found at: https://data.world/footprint/nfa-2019-edition"
   ]
  },
  {
   "cell_type": "code",
   "execution_count": null,
   "metadata": {},
   "outputs": [],
   "source": [
    "url = 'data/NFA 2019 public_data.csv'\n",
    "ecoFootprint = Table.read_table(url)\n",
    "ecoFootprint"
   ]
  },
  {
   "cell_type": "markdown",
   "metadata": {},
   "source": [
    "##### Chronic Kidney Disease \n",
    "More information on columns at: https://archive.ics.uci.edu/ml/datasets/Chronic_Kidney_Disease"
   ]
  },
  {
   "cell_type": "code",
   "execution_count": null,
   "metadata": {},
   "outputs": [],
   "source": [
    "url = 'data/kidney_disease.csv'\n",
    "kidneyDisease = Table.read_table(url)\n",
    "kidneyDisease"
   ]
  },
  {
   "cell_type": "markdown",
   "metadata": {},
   "source": [
    "__________________________"
   ]
  },
  {
   "cell_type": "markdown",
   "metadata": {},
   "source": [
    "### Chemistry Datasets\n",
    "including pKa, High Entropy Alloys, & Periodic Table"
   ]
  },
  {
   "cell_type": "markdown",
   "metadata": {},
   "source": [
    "##### Molecular acid dissociation constant, pKa data\n",
    "See: https://github.com/samplchallenges/SAMPL7/tree/master/physical_property/pKa\n",
    "SMILES is a representaion of chemical structure."
   ]
  },
  {
   "cell_type": "code",
   "execution_count": null,
   "metadata": {},
   "outputs": [],
   "source": [
    "url = \"https://raw.githubusercontent.com/robraddi/GP-SAMPL7/main/pKaDatabase/OChem/ochem0-2000.csv\"\n",
    "pka = Table.read_table(url)\n",
    "pka"
   ]
  },
  {
   "cell_type": "markdown",
   "metadata": {},
   "source": [
    "##### Periodic Table \n",
    "More information on columns: https://www.kaggle.com/datasets/berkayalan/chemical-periodic-table-elements?select=chemical_elements.csv"
   ]
  },
  {
   "cell_type": "code",
   "execution_count": null,
   "metadata": {},
   "outputs": [],
   "source": [
    "url = 'data/chemical_elements.csv'\n",
    "ptdf = pd.read_csv(url, sep = ';')\n",
    "pt = Table.from_df(ptdf)\n",
    "pt"
   ]
  },
  {
   "cell_type": "markdown",
   "metadata": {},
   "source": [
    "##### High Entropy Alloys\n",
    "https://www.sciencedirect.com/science/article/pii/S2352340921006302?via%3Dihub"
   ]
  },
  {
   "cell_type": "code",
   "execution_count": null,
   "metadata": {},
   "outputs": [],
   "source": [
    "url = 'data/high_entropy_alloys.csv'\n",
    "alloys = Table.read_table(url)\n",
    "alloys"
   ]
  },
  {
   "cell_type": "markdown",
   "metadata": {},
   "source": [
    "##### Wine Quality Dataset \n",
    "More information at https://archive.ics.uci.edu/ml/datasets/wine+quality"
   ]
  },
  {
   "cell_type": "code",
   "execution_count": null,
   "metadata": {},
   "outputs": [],
   "source": [
    "url1 = 'data/winequality-red.csv'\n",
    "url2 = 'data/winequality-white.csv'\n",
    "df1 = pd.read_csv(url1, sep = ';')\n",
    "df1.loc[:, 'type'] = ['red' for x in range(len(df1))]\n",
    "df2 = pd.read_csv(url2, sep = ';')\n",
    "df2.loc[:, 'type'] = ['white' for x in range(len(df2))]\n",
    "wine = Table.from_df(pd.concat([df1, df2]))\n",
    "wine"
   ]
  },
  {
   "cell_type": "markdown",
   "metadata": {},
   "source": [
    "________________________________________________________________"
   ]
  },
  {
   "cell_type": "markdown",
   "metadata": {},
   "source": [
    "### Physics datasets\n",
    "including exoplanets, Near Earth Objects (NEO), & CERN Electron Collision data. "
   ]
  },
  {
   "cell_type": "markdown",
   "metadata": {},
   "source": [
    "##### Exoplanets observed by Kepler telescope\n",
    "https://exoplanets.nasa.gov/keplerscience/"
   ]
  },
  {
   "cell_type": "code",
   "execution_count": null,
   "metadata": {},
   "outputs": [],
   "source": [
    "url = \"https://raw.githubusercontent.com/DataScienceTempleFirst/code-cod/main/kepler.csv\"\n",
    "exoplanets = Table.read_table(url)\n",
    "exoplanets"
   ]
  },
  {
   "cell_type": "markdown",
   "metadata": {},
   "source": [
    "##### Near Earth Objects \n",
    "Data is found at https://cneos.jpl.nasa.gov/ca/, but more information about the project can be found here: https://cneos.jpl.nasa.gov/"
   ]
  },
  {
   "cell_type": "code",
   "execution_count": null,
   "metadata": {},
   "outputs": [],
   "source": [
    "url = 'data/cneos_closeapproach_data.csv'\n",
    "neo = Table.read_table(url)\n",
    "neo"
   ]
  },
  {
   "cell_type": "markdown",
   "metadata": {},
   "source": [
    "##### CERN Electron Collision Data \n",
    "Data was downloaded from https://www.kaggle.com/datasets/fedesoriano/cern-electron-collision-data but was modified from the original data https://opendata.cern.ch/record/304"
   ]
  },
  {
   "cell_type": "code",
   "execution_count": null,
   "metadata": {},
   "outputs": [],
   "source": [
    "url = 'data/dielectron.csv'\n",
    "electron = Table.read_table(url)\n",
    "electron"
   ]
  },
  {
   "cell_type": "markdown",
   "metadata": {},
   "source": [
    "________________"
   ]
  },
  {
   "cell_type": "markdown",
   "metadata": {},
   "source": [
    "### Public Health datasets\n",
    "including Philadelphia vaccination rates, global vaccination rates, & Hepatitis C diagnosis.  "
   ]
  },
  {
   "cell_type": "markdown",
   "metadata": {},
   "source": [
    "##### Philadelphia vaccination rates by zip code\n",
    "COVID-19 Vaccinations\n",
    "\n",
    "Shows distribution counts of first and second dose, as well as total dose information for all vaccinations performed by the health department. Also provides vaccinations by census tract, ZIP code, age, race, and sex. Vaccinations include residents and non-residents of Philadelphia. Updates daily.\n",
    "See: https://www.opendataphilly.org/dataset/covid-vaccinations/resource/87ac5b4e-8491-41e3-8cf0-5bfebba2e3a0"
   ]
  },
  {
   "cell_type": "code",
   "execution_count": null,
   "metadata": {},
   "outputs": [],
   "source": [
    "url = \"https://phl.carto.com/api/v2/sql?filename=covid_vaccines_by_zip&format=csv&skipfields=cartodb_id,the_geom,the_geom_webmercator&q=SELECT%20*%20FROM%20covid_vaccines_by_zip\"\n",
    "phillyVax = Table.read_table(url)\n",
    "phillyVax"
   ]
  },
  {
   "cell_type": "code",
   "execution_count": null,
   "metadata": {},
   "outputs": [],
   "source": [
    "## might be also useful to have population for looking at Philly Vaccination Rates\n",
    "url = \"https://raw.githubusercontent.com/DataScienceTempleFirst/code-cod/main/PA_zip_pop.csv\"\n",
    "paPop = Table.read_table(url)\n",
    "paPop.sort(\"pop\",descending=True)\n",
    "paPop.where('county','Philadelphia')"
   ]
  },
  {
   "cell_type": "markdown",
   "metadata": {},
   "source": [
    "##### COVID Vaccination data by country"
   ]
  },
  {
   "cell_type": "code",
   "execution_count": null,
   "metadata": {},
   "outputs": [],
   "source": [
    "url = \"https://raw.githubusercontent.com/DataScienceTempleFirst/code-cod/main/COVID_VAXDATA.csv\"\n",
    "globalVax = Table.read_table(url)\n",
    "globalVax"
   ]
  },
  {
   "cell_type": "markdown",
   "metadata": {},
   "source": [
    "##### Hepatitis C Diagnosis Datasets \n",
    "Heptatitis C is a disease caused by the Hepatitus C virus.  More information on the dataset can be found: https://archive.ics.uci.edu/ml/datasets/HCV+data"
   ]
  },
  {
   "cell_type": "code",
   "execution_count": null,
   "metadata": {},
   "outputs": [],
   "source": [
    "url = 'data/HepatitisCdata.csv'\n",
    "hepC = Table.read_table(url)\n",
    "hepC"
   ]
  },
  {
   "cell_type": "markdown",
   "metadata": {},
   "source": [
    "_____________________________________________________________________________________________"
   ]
  },
  {
   "cell_type": "markdown",
   "metadata": {},
   "source": [
    "###  Other datasets\n",
    "including Philadelphia Graduation Rates & Jeopardy"
   ]
  },
  {
   "cell_type": "markdown",
   "metadata": {},
   "source": [
    "##### Philadelphia Open Data School Graduation Rates\n",
    "This longitudinal open data file includes information about the graduation rates for schools broken out by: graduation rate type (four-year, five-year, or six-year), demographic category (EL status, IEP status, Economically Disadvantaged Status, Gender, or Ethnicity), and ninth-grade cohort. Students are attributed to the last school at which they actively attended in the respective graduation window, which ends on September 30 each year. Students are classified as EL, as having an IEP, and/or economically disadvantaged if they were designated as such at any point during their high school career.\n",
    "see: https://www.philasd.org/performance/programsservices/open-data/school-performance/#school_graduation_rates "
   ]
  },
  {
   "cell_type": "code",
   "execution_count": null,
   "metadata": {},
   "outputs": [],
   "source": [
    "url = \"https://cdn.philasd.org/offices/performance/Open_Data/School_Performance/Graduation_Rates/SDP_Graduation_Rates_School_S.csv\"\n",
    "grad = Table.read_table(url)\n",
    "grad"
   ]
  },
  {
   "cell_type": "markdown",
   "metadata": {},
   "source": [
    "##### Jeopardy\n",
    "see: https://www.jeopardy.com"
   ]
  },
  {
   "cell_type": "code",
   "execution_count": null,
   "metadata": {},
   "outputs": [],
   "source": [
    "contestant = \"https://raw.githubusercontent.com/anuparna/jeopardy/master/dataset/contestants.csv\"\n",
    "locations =  \"https://raw.githubusercontent.com/anuparna/jeopardy/master/dataset/locations.csv\"\n",
    "results =  \"https://raw.githubusercontent.com/anuparna/jeopardy/master/dataset/final_results.csv\"\n",
    "loc = Table.read_table(locations)\n",
    "contest = Table.read_table(contestant)\n",
    "outcome = Table.read_table(results)\n",
    "outcome"
   ]
  },
  {
   "cell_type": "code",
   "execution_count": null,
   "metadata": {},
   "outputs": [],
   "source": []
  },
  {
   "cell_type": "code",
   "execution_count": null,
   "metadata": {},
   "outputs": [],
   "source": []
  },
  {
   "cell_type": "code",
   "execution_count": null,
   "metadata": {},
   "outputs": [],
   "source": []
  }
 ],
 "metadata": {
  "kernelspec": {
   "display_name": "Python 3 (ipykernel)",
   "language": "python",
   "name": "python3"
  },
  "language_info": {
   "codemirror_mode": {
    "name": "ipython",
    "version": 3
   },
   "file_extension": ".py",
   "mimetype": "text/x-python",
   "name": "python",
   "nbconvert_exporter": "python",
   "pygments_lexer": "ipython3",
   "version": "3.10.4"
  }
 },
 "nbformat": 4,
 "nbformat_minor": 4
}
