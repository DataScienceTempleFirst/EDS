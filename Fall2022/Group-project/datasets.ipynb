{
 "cells": [
  {
   "cell_type": "markdown",
   "metadata": {},
   "source": [
    "# Potential Datasets \n",
    "\n",
    "#### Below are some datasets which could be used for Project 3.  Please feel free to find your own datasets as well if you have a particular interest or question.  Some great websites for dataset curation include: \n",
    "\n",
    "\n",
    "1. https://www.kaggle.com/\n",
    "2. https://data.world/\n",
    "3. https://opendata.cern.ch/\n",
    "4. https://www.sciencebase.gov/catalog/\n",
    "5. https://data.neonscience.org/"
   ]
  },
  {
   "cell_type": "code",
   "execution_count": 1,
   "metadata": {},
   "outputs": [],
   "source": [
    "# Import Numpy and Datascience modules.\n",
    "import numpy as np\n",
    "import pandas as pd\n",
    "from datascience import *\n",
    "\n",
    "# Plotting modules\n",
    "import matplotlib\n",
    "%matplotlib inline\n",
    "import matplotlib.pyplot as plt\n",
    "plt.style.use('fivethirtyeight')\n",
    "import warnings\n",
    "warnings.simplefilter('ignore', UserWarning)\n",
    "# Fix for datascience collections Iterable\n",
    "import collections as collections\n",
    "import collections.abc as abc\n",
    "collections.Iterable = abc.Iterable"
   ]
  },
  {
   "cell_type": "markdown",
   "metadata": {},
   "source": [
    "### Biology Datasets\n",
    "includes: Palmer Penguins, Ecological Footprint, & kidney disease."
   ]
  },
  {
   "cell_type": "markdown",
   "metadata": {},
   "source": [
    "##### Palmer Penguins\n",
    "See: https://allisonhorst.github.io/palmerpenguins/"
   ]
  },
  {
   "cell_type": "code",
   "execution_count": 2,
   "metadata": {},
   "outputs": [
    {
     "data": {
      "text/html": [
       "<table border=\"1\" class=\"dataframe\">\n",
       "    <thead>\n",
       "        <tr>\n",
       "            <th>species</th> <th>island</th> <th>bill_length_mm</th> <th>bill_depth_mm</th> <th>flipper_length_mm</th> <th>body_mass_g</th> <th>sex</th>\n",
       "        </tr>\n",
       "    </thead>\n",
       "    <tbody>\n",
       "        <tr>\n",
       "            <td>Adelie </td> <td>Torgersen</td> <td>39.1          </td> <td>18.7         </td> <td>181              </td> <td>3750       </td> <td>MALE  </td>\n",
       "        </tr>\n",
       "        <tr>\n",
       "            <td>Adelie </td> <td>Torgersen</td> <td>39.5          </td> <td>17.4         </td> <td>186              </td> <td>3800       </td> <td>FEMALE</td>\n",
       "        </tr>\n",
       "        <tr>\n",
       "            <td>Adelie </td> <td>Torgersen</td> <td>40.3          </td> <td>18           </td> <td>195              </td> <td>3250       </td> <td>FEMALE</td>\n",
       "        </tr>\n",
       "        <tr>\n",
       "            <td>Adelie </td> <td>Torgersen</td> <td>nan           </td> <td>nan          </td> <td>nan              </td> <td>nan        </td> <td>nan   </td>\n",
       "        </tr>\n",
       "        <tr>\n",
       "            <td>Adelie </td> <td>Torgersen</td> <td>36.7          </td> <td>19.3         </td> <td>193              </td> <td>3450       </td> <td>FEMALE</td>\n",
       "        </tr>\n",
       "        <tr>\n",
       "            <td>Adelie </td> <td>Torgersen</td> <td>39.3          </td> <td>20.6         </td> <td>190              </td> <td>3650       </td> <td>MALE  </td>\n",
       "        </tr>\n",
       "        <tr>\n",
       "            <td>Adelie </td> <td>Torgersen</td> <td>38.9          </td> <td>17.8         </td> <td>181              </td> <td>3625       </td> <td>FEMALE</td>\n",
       "        </tr>\n",
       "        <tr>\n",
       "            <td>Adelie </td> <td>Torgersen</td> <td>39.2          </td> <td>19.6         </td> <td>195              </td> <td>4675       </td> <td>MALE  </td>\n",
       "        </tr>\n",
       "        <tr>\n",
       "            <td>Adelie </td> <td>Torgersen</td> <td>34.1          </td> <td>18.1         </td> <td>193              </td> <td>3475       </td> <td>nan   </td>\n",
       "        </tr>\n",
       "        <tr>\n",
       "            <td>Adelie </td> <td>Torgersen</td> <td>42            </td> <td>20.2         </td> <td>190              </td> <td>4250       </td> <td>nan   </td>\n",
       "        </tr>\n",
       "    </tbody>\n",
       "</table>\n",
       "<p>... (334 rows omitted)</p>"
      ],
      "text/plain": [
       "species | island    | bill_length_mm | bill_depth_mm | flipper_length_mm | body_mass_g | sex\n",
       "Adelie  | Torgersen | 39.1           | 18.7          | 181               | 3750        | MALE\n",
       "Adelie  | Torgersen | 39.5           | 17.4          | 186               | 3800        | FEMALE\n",
       "Adelie  | Torgersen | 40.3           | 18            | 195               | 3250        | FEMALE\n",
       "Adelie  | Torgersen | nan            | nan           | nan               | nan         | nan\n",
       "Adelie  | Torgersen | 36.7           | 19.3          | 193               | 3450        | FEMALE\n",
       "Adelie  | Torgersen | 39.3           | 20.6          | 190               | 3650        | MALE\n",
       "Adelie  | Torgersen | 38.9           | 17.8          | 181               | 3625        | FEMALE\n",
       "Adelie  | Torgersen | 39.2           | 19.6          | 195               | 4675        | MALE\n",
       "Adelie  | Torgersen | 34.1           | 18.1          | 193               | 3475        | nan\n",
       "Adelie  | Torgersen | 42             | 20.2          | 190               | 4250        | nan\n",
       "... (334 rows omitted)"
      ]
     },
     "execution_count": 2,
     "metadata": {},
     "output_type": "execute_result"
    }
   ],
   "source": [
    "url = \"https://raw.githubusercontent.com/mwaskom/seaborn-data/master/penguins.csv\"\n",
    "penguin = Table.read_table(url)\n",
    "penguin"
   ]
  },
  {
   "cell_type": "markdown",
   "metadata": {},
   "source": [
    "##### Ecological Footprint \n",
    "This dataset measures the amount of ecological resources are used from each country in the years 1961 to 2016.  More information can be found at: https://data.world/footprint/nfa-2019-edition"
   ]
  },
  {
   "cell_type": "code",
   "execution_count": 3,
   "metadata": {},
   "outputs": [
    {
     "name": "stderr",
     "output_type": "stream",
     "text": [
      "/opt/conda/lib/python3.10/site-packages/datascience/tables.py:179: DtypeWarning: Columns (6) have mixed types. Specify dtype option on import or set low_memory=False.\n",
      "  df = pandas.read_csv(filepath_or_buffer, *args, **vargs)\n"
     ]
    },
    {
     "data": {
      "text/html": [
       "<table border=\"1\" class=\"dataframe\">\n",
       "    <thead>\n",
       "        <tr>\n",
       "            <th>country</th> <th>year</th> <th>country_code</th> <th>record</th> <th>crop_land</th> <th>grazing_land</th> <th>forest_land</th> <th>fishing_ground</th> <th>built_up_land</th> <th>carbon</th> <th>total</th> <th>QScore</th>\n",
       "        </tr>\n",
       "    </thead>\n",
       "    <tbody>\n",
       "        <tr>\n",
       "            <td>Armenia</td> <td>1992</td> <td>1           </td> <td>AreaPerCap  </td> <td>0.140292   </td> <td>0.199546    </td> <td>0.097188051</td> <td>0.0368885     </td> <td>0.0293199    </td> <td>0          </td> <td>0.503235   </td> <td>3A    </td>\n",
       "        </tr>\n",
       "        <tr>\n",
       "            <td>Armenia</td> <td>1992</td> <td>1           </td> <td>AreaTotHA   </td> <td>483000     </td> <td>687000      </td> <td>334600     </td> <td>127000        </td> <td>100943       </td> <td>0          </td> <td>1.73254e+06</td> <td>3A    </td>\n",
       "        </tr>\n",
       "        <tr>\n",
       "            <td>Armenia</td> <td>1992</td> <td>1           </td> <td>BiocapPerCap</td> <td>0.159804   </td> <td>0.135261    </td> <td>0.084003213</td> <td>0.0137421     </td> <td>0.0333978    </td> <td>0          </td> <td>0.426209   </td> <td>3A    </td>\n",
       "        </tr>\n",
       "        <tr>\n",
       "            <td>Armenia</td> <td>1992</td> <td>1           </td> <td>BiocapTotGHA</td> <td>550176     </td> <td>465678      </td> <td>289207.1078</td> <td>47311.6       </td> <td>114982       </td> <td>0          </td> <td>1.46736e+06</td> <td>3A    </td>\n",
       "        </tr>\n",
       "        <tr>\n",
       "            <td>Armenia</td> <td>1992</td> <td>1           </td> <td>EFConsPerCap</td> <td>0.38751    </td> <td>0.189462    </td> <td>1.26E-06   </td> <td>0.00416483    </td> <td>0.0333978    </td> <td>1.11409    </td> <td>1.72863    </td> <td>3A    </td>\n",
       "        </tr>\n",
       "        <tr>\n",
       "            <td>Armenia</td> <td>1992</td> <td>1           </td> <td>EFConsTotGHA</td> <td>1.33412e+06</td> <td>652282      </td> <td>4.328086713</td> <td>14338.7       </td> <td>114982       </td> <td>3.83561e+06</td> <td>5.95134e+06</td> <td>3A    </td>\n",
       "        </tr>\n",
       "        <tr>\n",
       "            <td>Armenia</td> <td>1992</td> <td>1           </td> <td>EFProdPerCap</td> <td>0.159804   </td> <td>0.135261    </td> <td>0          </td> <td>0.00126587    </td> <td>0.0333978    </td> <td>1.07463    </td> <td>1.40436    </td> <td>3A    </td>\n",
       "        </tr>\n",
       "        <tr>\n",
       "            <td>Armenia</td> <td>1992</td> <td>1           </td> <td>EFProdTotGHA</td> <td>550176     </td> <td>465678      </td> <td>0          </td> <td>4358.14       </td> <td>114982       </td> <td>3.69975e+06</td> <td>4.83494e+06</td> <td>3A    </td>\n",
       "        </tr>\n",
       "        <tr>\n",
       "            <td>Armenia</td> <td>1993</td> <td>1           </td> <td>AreaPerCap  </td> <td>0.146591   </td> <td>0.204573    </td> <td>0.099432069</td> <td>0.0377628     </td> <td>0.0293199    </td> <td>0          </td> <td>0.517679   </td> <td>3A    </td>\n",
       "        </tr>\n",
       "        <tr>\n",
       "            <td>Armenia</td> <td>1993</td> <td>1           </td> <td>AreaTotHA   </td> <td>493000     </td> <td>688000      </td> <td>334400     </td> <td>127000        </td> <td>98605.7      </td> <td>0          </td> <td>1.74101e+06</td> <td>3A    </td>\n",
       "        </tr>\n",
       "    </tbody>\n",
       "</table>\n",
       "<p>... (72176 rows omitted)</p>"
      ],
      "text/plain": [
       "country | year | country_code | record       | crop_land   | grazing_land | forest_land | fishing_ground | built_up_land | carbon      | total       | QScore\n",
       "Armenia | 1992 | 1            | AreaPerCap   | 0.140292    | 0.199546     | 0.097188051 | 0.0368885      | 0.0293199     | 0           | 0.503235    | 3A\n",
       "Armenia | 1992 | 1            | AreaTotHA    | 483000      | 687000       | 334600      | 127000         | 100943        | 0           | 1.73254e+06 | 3A\n",
       "Armenia | 1992 | 1            | BiocapPerCap | 0.159804    | 0.135261     | 0.084003213 | 0.0137421      | 0.0333978     | 0           | 0.426209    | 3A\n",
       "Armenia | 1992 | 1            | BiocapTotGHA | 550176      | 465678       | 289207.1078 | 47311.6        | 114982        | 0           | 1.46736e+06 | 3A\n",
       "Armenia | 1992 | 1            | EFConsPerCap | 0.38751     | 0.189462     | 1.26E-06    | 0.00416483     | 0.0333978     | 1.11409     | 1.72863     | 3A\n",
       "Armenia | 1992 | 1            | EFConsTotGHA | 1.33412e+06 | 652282       | 4.328086713 | 14338.7        | 114982        | 3.83561e+06 | 5.95134e+06 | 3A\n",
       "Armenia | 1992 | 1            | EFProdPerCap | 0.159804    | 0.135261     | 0           | 0.00126587     | 0.0333978     | 1.07463     | 1.40436     | 3A\n",
       "Armenia | 1992 | 1            | EFProdTotGHA | 550176      | 465678       | 0           | 4358.14        | 114982        | 3.69975e+06 | 4.83494e+06 | 3A\n",
       "Armenia | 1993 | 1            | AreaPerCap   | 0.146591    | 0.204573     | 0.099432069 | 0.0377628      | 0.0293199     | 0           | 0.517679    | 3A\n",
       "Armenia | 1993 | 1            | AreaTotHA    | 493000      | 688000       | 334400      | 127000         | 98605.7       | 0           | 1.74101e+06 | 3A\n",
       "... (72176 rows omitted)"
      ]
     },
     "execution_count": 3,
     "metadata": {},
     "output_type": "execute_result"
    }
   ],
   "source": [
    "url = 'data/NFA 2019 public_data.csv'\n",
    "ecoFootprint = Table.read_table(url)\n",
    "ecoFootprint"
   ]
  },
  {
   "cell_type": "markdown",
   "metadata": {},
   "source": [
    "##### Chronic Kidney Disease \n",
    "More information on columns at: https://archive.ics.uci.edu/ml/datasets/Chronic_Kidney_Disease"
   ]
  },
  {
   "cell_type": "code",
   "execution_count": null,
   "metadata": {},
   "outputs": [],
   "source": [
    "url = 'data/kidney_disease.csv'\n",
    "kidneyDisease = Table.read_table(url)\n",
    "kidneyDisease"
   ]
  },
  {
   "cell_type": "markdown",
   "metadata": {},
   "source": [
    "__________________________"
   ]
  },
  {
   "cell_type": "markdown",
   "metadata": {},
   "source": [
    "### Chemistry Datasets\n",
    "including pKa, High Entropy Alloys, & Periodic Table"
   ]
  },
  {
   "cell_type": "markdown",
   "metadata": {},
   "source": [
    "Philadelphia Air Quality Measurements (Ozone, PM10, Carbon monoxide)"
   ]
  },
  {
   "cell_type": "code",
   "execution_count": 3,
   "metadata": {},
   "outputs": [
    {
     "data": {
      "text/html": [
       "<table border=\"1\" class=\"dataframe\">\n",
       "    <thead>\n",
       "        <tr>\n",
       "            <th>X</th> <th>Y</th> <th>OBJECTID</th> <th>SITE_NAME</th> <th>SITE_ID</th> <th>SITE_TYPE</th> <th>SITE_ADDRESS</th> <th>CARBON_MONOXIDE_PPM</th> <th>NITROGEN_DIOXIDE_PPM</th> <th>OZONE_PPM</th> <th>PM10_UG_M3</th> <th>PM25_UG_M3</th> <th>SULFUR_DIOXIDE_PPB</th> <th>SAMPLE_TIMESTAMP</th> <th>SAMPLE_HOUR</th>\n",
       "        </tr>\n",
       "    </thead>\n",
       "    <tbody>\n",
       "        <tr>\n",
       "            <td>-74.9852</td> <td>40.0542</td> <td>589133  </td> <td>TOR      </td> <td>421010075</td> <td>nan      </td> <td>4901 GRANT AVENUE & JAMES STREET             </td> <td>0.443727           </td> <td>12.2076             </td> <td>nan      </td> <td>nan       </td> <td>4.77341   </td> <td>nan               </td> <td>2022/11/16 10:00:00+00</td> <td>5 - 6      </td>\n",
       "        </tr>\n",
       "        <tr>\n",
       "            <td>-75.1869</td> <td>39.9229</td> <td>589134  </td> <td>RIT      </td> <td>421010055</td> <td>nan      </td> <td>24TH ST. & RITNER ST., PHILADELPHIA, PA 19145</td> <td>nan                </td> <td>nan                 </td> <td>nan      </td> <td>nan       </td> <td>4.1095    </td> <td>0.693039          </td> <td>2022/11/16 10:00:00+00</td> <td>5 - 6      </td>\n",
       "        </tr>\n",
       "        <tr>\n",
       "            <td>-75.1424</td> <td>39.9603</td> <td>589135  </td> <td>FAB      </td> <td>421010057</td> <td>nan      </td> <td>240 SPRING GARDEN STREET                     </td> <td>nan                </td> <td>nan                 </td> <td>nan      </td> <td>nan       </td> <td>4.50408   </td> <td>nan               </td> <td>2022/11/16 10:00:00+00</td> <td>5 - 6      </td>\n",
       "        </tr>\n",
       "        <tr>\n",
       "            <td>-75.0808</td> <td>39.9914</td> <td>589136  </td> <td>NEW      </td> <td>421010048</td> <td>nan      </td> <td>3900 RICHMOND                                </td> <td>0.17932            </td> <td>18.1878             </td> <td>11.8605  </td> <td>8.04242   </td> <td>6.09648   </td> <td>0.693979          </td> <td>2022/11/16 10:00:00+00</td> <td>5 - 6      </td>\n",
       "        </tr>\n",
       "        <tr>\n",
       "            <td>-75.2072</td> <td>39.9888</td> <td>589441  </td> <td>MON      </td> <td>421010076</td> <td>nan      </td> <td>4100 MONTGOMERY DRIVE                        </td> <td>0.309233           </td> <td>34.1657             </td> <td>nan      </td> <td>nan       </td> <td>3.35074   </td> <td>nan               </td> <td>2022/11/16 10:00:00+00</td> <td>5 - 6      </td>\n",
       "        </tr>\n",
       "        <tr>\n",
       "            <td>-75.0977</td> <td>40.0089</td> <td>589442  </td> <td>LABP     </td> <td>421010004</td> <td>nan      </td> <td>EAST LYCOMING ST., PHILADELPHIA, PA 19124    </td> <td>nan                </td> <td>nan                 </td> <td>12.6554  </td> <td>nan       </td> <td>4.40486   </td> <td>nan               </td> <td>2022/11/16 10:00:00+00</td> <td>5 - 6      </td>\n",
       "        </tr>\n",
       "        <tr>\n",
       "            <td>-75.0119</td> <td>40.0764</td> <td>589443  </td> <td>NEA      </td> <td>421010024</td> <td>nan      </td> <td>GRANT AVENUE & ASHTON ROAD, PHILADELPHIA, PA </td> <td>nan                </td> <td>nan                 </td> <td>17.1751  </td> <td>nan       </td> <td>nan       </td> <td>nan               </td> <td>2022/11/16 10:00:00+00</td> <td>5 - 6      </td>\n",
       "        </tr>\n",
       "    </tbody>\n",
       "</table>"
      ],
      "text/plain": [
       "X        | Y       | OBJECTID | SITE_NAME | SITE_ID   | SITE_TYPE | SITE_ADDRESS                                  | CARBON_MONOXIDE_PPM | NITROGEN_DIOXIDE_PPM | OZONE_PPM | PM10_UG_M3 | PM25_UG_M3 | SULFUR_DIOXIDE_PPB | SAMPLE_TIMESTAMP       | SAMPLE_HOUR\n",
       "-74.9852 | 40.0542 | 589133   | TOR       | 421010075 | nan       | 4901 GRANT AVENUE & JAMES STREET              | 0.443727            | 12.2076              | nan       | nan        | 4.77341    | nan                | 2022/11/16 10:00:00+00 | 5 - 6\n",
       "-75.1869 | 39.9229 | 589134   | RIT       | 421010055 | nan       | 24TH ST. & RITNER ST., PHILADELPHIA, PA 19145 | nan                 | nan                  | nan       | nan        | 4.1095     | 0.693039           | 2022/11/16 10:00:00+00 | 5 - 6\n",
       "-75.1424 | 39.9603 | 589135   | FAB       | 421010057 | nan       | 240 SPRING GARDEN STREET                      | nan                 | nan                  | nan       | nan        | 4.50408    | nan                | 2022/11/16 10:00:00+00 | 5 - 6\n",
       "-75.0808 | 39.9914 | 589136   | NEW       | 421010048 | nan       | 3900 RICHMOND                                 | 0.17932             | 18.1878              | 11.8605   | 8.04242    | 6.09648    | 0.693979           | 2022/11/16 10:00:00+00 | 5 - 6\n",
       "-75.2072 | 39.9888 | 589441   | MON       | 421010076 | nan       | 4100 MONTGOMERY DRIVE                         | 0.309233            | 34.1657              | nan       | nan        | 3.35074    | nan                | 2022/11/16 10:00:00+00 | 5 - 6\n",
       "-75.0977 | 40.0089 | 589442   | LABP      | 421010004 | nan       | EAST LYCOMING ST., PHILADELPHIA, PA 19124     | nan                 | nan                  | 12.6554   | nan        | 4.40486    | nan                | 2022/11/16 10:00:00+00 | 5 - 6\n",
       "-75.0119 | 40.0764 | 589443   | NEA       | 421010024 | nan       | GRANT AVENUE & ASHTON ROAD, PHILADELPHIA, PA  | nan                 | nan                  | 17.1751   | nan        | nan        | nan                | 2022/11/16 10:00:00+00 | 5 - 6"
      ]
     },
     "execution_count": 3,
     "metadata": {},
     "output_type": "execute_result"
    }
   ],
   "source": [
    "url = \"https://opendata.arcgis.com/api/v3/datasets/3899a065577747fbb824f0a21afc2e7c_0/downloads/data?format=csv&spatialRefId=4326\"\n",
    "air = Table.read_table(url)\n",
    "air"
   ]
  },
  {
   "cell_type": "markdown",
   "metadata": {},
   "source": [
    "##### Molecular acid dissociation constant, pKa data\n",
    "See: https://github.com/samplchallenges/SAMPL7/tree/master/physical_property/pKa\n",
    "SMILES is a representaion of chemical structure."
   ]
  },
  {
   "cell_type": "code",
   "execution_count": null,
   "metadata": {},
   "outputs": [],
   "source": [
    "url = \"https://raw.githubusercontent.com/robraddi/GP-SAMPL7/main/pKaDatabase/OChem/ochem0-2000.csv\"\n",
    "pka = Table.read_table(url)\n",
    "pka"
   ]
  },
  {
   "cell_type": "markdown",
   "metadata": {},
   "source": [
    "##### Periodic Table \n",
    "More information on columns: https://www.kaggle.com/datasets/berkayalan/chemical-periodic-table-elements?select=chemical_elements.csv"
   ]
  },
  {
   "cell_type": "code",
   "execution_count": null,
   "metadata": {},
   "outputs": [],
   "source": [
    "url = 'data/chemical_elements.csv'\n",
    "ptdf = pd.read_csv(url, sep = ';')\n",
    "pt = Table.from_df(ptdf)\n",
    "pt"
   ]
  },
  {
   "cell_type": "markdown",
   "metadata": {},
   "source": [
    "##### High Entropy Alloys\n",
    "https://www.sciencedirect.com/science/article/pii/S2352340921006302?via%3Dihub"
   ]
  },
  {
   "cell_type": "code",
   "execution_count": null,
   "metadata": {},
   "outputs": [],
   "source": [
    "url = 'data/high_entropy_alloys.csv'\n",
    "alloys = Table.read_table(url)\n",
    "alloys"
   ]
  },
  {
   "cell_type": "markdown",
   "metadata": {},
   "source": [
    "##### Wine Quality Dataset \n",
    "More information at https://archive.ics.uci.edu/ml/datasets/wine+quality"
   ]
  },
  {
   "cell_type": "code",
   "execution_count": null,
   "metadata": {},
   "outputs": [],
   "source": [
    "url1 = 'data/winequality-red.csv'\n",
    "url2 = 'data/winequality-white.csv'\n",
    "df1 = pd.read_csv(url1, sep = ';')\n",
    "df1.loc[:, 'type'] = ['red' for x in range(len(df1))]\n",
    "df2 = pd.read_csv(url2, sep = ';')\n",
    "df2.loc[:, 'type'] = ['white' for x in range(len(df2))]\n",
    "wine = Table.from_df(pd.concat([df1, df2]))\n",
    "wine"
   ]
  },
  {
   "cell_type": "markdown",
   "metadata": {},
   "source": [
    "________________________________________________________________"
   ]
  },
  {
   "cell_type": "markdown",
   "metadata": {},
   "source": [
    "### Physics datasets\n",
    "including exoplanets, Near Earth Objects (NEO), & CERN Electron Collision data. "
   ]
  },
  {
   "cell_type": "markdown",
   "metadata": {},
   "source": [
    "##### Exoplanets observed by Kepler telescope\n",
    "https://exoplanets.nasa.gov/keplerscience/"
   ]
  },
  {
   "cell_type": "code",
   "execution_count": null,
   "metadata": {},
   "outputs": [],
   "source": [
    "url = \"https://raw.githubusercontent.com/DataScienceTempleFirst/code-cod/main/kepler.csv\"\n",
    "exoplanets = Table.read_table(url)\n",
    "exoplanets"
   ]
  },
  {
   "cell_type": "markdown",
   "metadata": {},
   "source": [
    "##### Near Earth Objects \n",
    "Data is found at https://cneos.jpl.nasa.gov/ca/, but more information about the project can be found here: https://cneos.jpl.nasa.gov/"
   ]
  },
  {
   "cell_type": "code",
   "execution_count": null,
   "metadata": {},
   "outputs": [],
   "source": [
    "url = 'data/cneos_closeapproach_data.csv'\n",
    "neo = Table.read_table(url)\n",
    "neo"
   ]
  },
  {
   "cell_type": "markdown",
   "metadata": {},
   "source": [
    "##### CERN Electron Collision Data \n",
    "Data was downloaded from https://www.kaggle.com/datasets/fedesoriano/cern-electron-collision-data but was modified from the original data https://opendata.cern.ch/record/304"
   ]
  },
  {
   "cell_type": "code",
   "execution_count": null,
   "metadata": {},
   "outputs": [],
   "source": [
    "url = 'data/dielectron.csv'\n",
    "electron = Table.read_table(url)\n",
    "electron"
   ]
  },
  {
   "cell_type": "markdown",
   "metadata": {},
   "source": [
    "________________"
   ]
  },
  {
   "cell_type": "markdown",
   "metadata": {},
   "source": [
    "### Public Health datasets\n",
    "including Philadelphia vaccination rates, global vaccination rates, & Hepatitis C diagnosis.  "
   ]
  },
  {
   "cell_type": "markdown",
   "metadata": {},
   "source": [
    "##### Philadelphia vaccination rates by zip code\n",
    "COVID-19 Vaccinations\n",
    "\n",
    "Shows distribution counts of first and second dose, as well as total dose information for all vaccinations performed by the health department. Also provides vaccinations by census tract, ZIP code, age, race, and sex. Vaccinations include residents and non-residents of Philadelphia. Updates daily.\n",
    "See: https://www.opendataphilly.org/dataset/covid-vaccinations/resource/87ac5b4e-8491-41e3-8cf0-5bfebba2e3a0"
   ]
  },
  {
   "cell_type": "code",
   "execution_count": null,
   "metadata": {},
   "outputs": [],
   "source": [
    "url = \"https://phl.carto.com/api/v2/sql?filename=covid_vaccines_by_zip&format=csv&skipfields=cartodb_id,the_geom,the_geom_webmercator&q=SELECT%20*%20FROM%20covid_vaccines_by_zip\"\n",
    "phillyVax = Table.read_table(url)\n",
    "phillyVax"
   ]
  },
  {
   "cell_type": "code",
   "execution_count": null,
   "metadata": {},
   "outputs": [],
   "source": [
    "## might be also useful to have population for looking at Philly Vaccination Rates\n",
    "url = \"https://raw.githubusercontent.com/DataScienceTempleFirst/code-cod/main/PA_zip_pop.csv\"\n",
    "paPop = Table.read_table(url)\n",
    "paPop.sort(\"pop\",descending=True)\n",
    "paPop.where('county','Philadelphia')"
   ]
  },
  {
   "cell_type": "markdown",
   "metadata": {},
   "source": [
    "##### COVID Vaccination data by country"
   ]
  },
  {
   "cell_type": "code",
   "execution_count": null,
   "metadata": {},
   "outputs": [],
   "source": [
    "url = \"https://raw.githubusercontent.com/DataScienceTempleFirst/code-cod/main/COVID_VAXDATA.csv\"\n",
    "globalVax = Table.read_table(url)\n",
    "globalVax"
   ]
  },
  {
   "cell_type": "markdown",
   "metadata": {},
   "source": [
    "##### Hepatitis C Diagnosis Datasets \n",
    "Heptatitis C is a disease caused by the Hepatitus C virus.  More information on the dataset can be found: https://archive.ics.uci.edu/ml/datasets/HCV+data"
   ]
  },
  {
   "cell_type": "code",
   "execution_count": null,
   "metadata": {},
   "outputs": [],
   "source": [
    "url = 'data/HepatitisCdata.csv'\n",
    "hepC = Table.read_table(url)\n",
    "hepC"
   ]
  },
  {
   "cell_type": "markdown",
   "metadata": {},
   "source": [
    "_____________________________________________________________________________________________"
   ]
  },
  {
   "cell_type": "markdown",
   "metadata": {},
   "source": [
    "###  Other datasets\n",
    "including Philadelphia Graduation Rates & Jeopardy"
   ]
  },
  {
   "cell_type": "markdown",
   "metadata": {},
   "source": [
    "##### Philadelphia Open Data School Graduation Rates\n",
    "This longitudinal open data file includes information about the graduation rates for schools broken out by: graduation rate type (four-year, five-year, or six-year), demographic category (EL status, IEP status, Economically Disadvantaged Status, Gender, or Ethnicity), and ninth-grade cohort. Students are attributed to the last school at which they actively attended in the respective graduation window, which ends on September 30 each year. Students are classified as EL, as having an IEP, and/or economically disadvantaged if they were designated as such at any point during their high school career.\n",
    "see: https://www.philasd.org/performance/programsservices/open-data/school-performance/#school_graduation_rates "
   ]
  },
  {
   "cell_type": "code",
   "execution_count": 5,
   "metadata": {},
   "outputs": [
    {
     "data": {
      "text/html": [
       "<table border=\"1\" class=\"dataframe\">\n",
       "    <thead>\n",
       "        <tr>\n",
       "            <th>cohort</th> <th>schoolid_ulcs</th> <th>schoolname</th> <th>sector</th> <th>rate_type</th> <th>group</th> <th>subgroup</th> <th>denom</th> <th>num</th> <th>score</th>\n",
       "        </tr>\n",
       "    </thead>\n",
       "    <tbody>\n",
       "        <tr>\n",
       "            <td>2010-2011</td> <td>1010         </td> <td>John Bartram High School</td> <td>District</td> <td>4-Year Graduation Rate</td> <td>All Students              </td> <td>All Students                  </td> <td>281  </td> <td>203 </td> <td>72.24</td>\n",
       "        </tr>\n",
       "        <tr>\n",
       "            <td>2010-2011</td> <td>1010         </td> <td>John Bartram High School</td> <td>District</td> <td>4-Year Graduation Rate</td> <td>Economically Disadvantaged</td> <td>Economically Disadvantaged    </td> <td>211  </td> <td>153 </td> <td>72.51</td>\n",
       "        </tr>\n",
       "        <tr>\n",
       "            <td>2010-2011</td> <td>1010         </td> <td>John Bartram High School</td> <td>District</td> <td>4-Year Graduation Rate</td> <td>Economically Disadvantaged</td> <td>Not Economically Disadvantaged</td> <td>70   </td> <td>50  </td> <td>71.43</td>\n",
       "        </tr>\n",
       "        <tr>\n",
       "            <td>2010-2011</td> <td>1010         </td> <td>John Bartram High School</td> <td>District</td> <td>4-Year Graduation Rate</td> <td>ELL                       </td> <td>EL                            </td> <td>37   </td> <td>24  </td> <td>64.86</td>\n",
       "        </tr>\n",
       "        <tr>\n",
       "            <td>2010-2011</td> <td>1010         </td> <td>John Bartram High School</td> <td>District</td> <td>4-Year Graduation Rate</td> <td>ELL                       </td> <td>Non-EL                        </td> <td>244  </td> <td>179 </td> <td>73.36</td>\n",
       "        </tr>\n",
       "        <tr>\n",
       "            <td>2010-2011</td> <td>1010         </td> <td>John Bartram High School</td> <td>District</td> <td>4-Year Graduation Rate</td> <td>Ethnicity                 </td> <td>Asian                         </td> <td>13   </td> <td>10  </td> <td>76.92</td>\n",
       "        </tr>\n",
       "        <tr>\n",
       "            <td>2010-2011</td> <td>1010         </td> <td>John Bartram High School</td> <td>District</td> <td>4-Year Graduation Rate</td> <td>Ethnicity                 </td> <td>Black/African American        </td> <td>253  </td> <td>182 </td> <td>71.94</td>\n",
       "        </tr>\n",
       "        <tr>\n",
       "            <td>2010-2011</td> <td>1010         </td> <td>John Bartram High School</td> <td>District</td> <td>4-Year Graduation Rate</td> <td>Ethnicity                 </td> <td>Hispanic/Latino               </td> <td>6    </td> <td>s   </td> <td>s    </td>\n",
       "        </tr>\n",
       "        <tr>\n",
       "            <td>2010-2011</td> <td>1010         </td> <td>John Bartram High School</td> <td>District</td> <td>4-Year Graduation Rate</td> <td>Ethnicity                 </td> <td>Multi Racial/Other            </td> <td>6    </td> <td>s   </td> <td>s    </td>\n",
       "        </tr>\n",
       "        <tr>\n",
       "            <td>2010-2011</td> <td>1010         </td> <td>John Bartram High School</td> <td>District</td> <td>4-Year Graduation Rate</td> <td>Ethnicity                 </td> <td>White                         </td> <td>3    </td> <td>s   </td> <td>s    </td>\n",
       "        </tr>\n",
       "    </tbody>\n",
       "</table>\n",
       "<p>... (23011 rows omitted)</p>"
      ],
      "text/plain": [
       "cohort    | schoolid_ulcs | schoolname               | sector   | rate_type              | group                      | subgroup                       | denom | num  | score\n",
       "2010-2011 | 1010          | John Bartram High School | District | 4-Year Graduation Rate | All Students               | All Students                   | 281   | 203  | 72.24\n",
       "2010-2011 | 1010          | John Bartram High School | District | 4-Year Graduation Rate | Economically Disadvantaged | Economically Disadvantaged     | 211   | 153  | 72.51\n",
       "2010-2011 | 1010          | John Bartram High School | District | 4-Year Graduation Rate | Economically Disadvantaged | Not Economically Disadvantaged | 70    | 50   | 71.43\n",
       "2010-2011 | 1010          | John Bartram High School | District | 4-Year Graduation Rate | ELL                        | EL                             | 37    | 24   | 64.86\n",
       "2010-2011 | 1010          | John Bartram High School | District | 4-Year Graduation Rate | ELL                        | Non-EL                         | 244   | 179  | 73.36\n",
       "2010-2011 | 1010          | John Bartram High School | District | 4-Year Graduation Rate | Ethnicity                  | Asian                          | 13    | 10   | 76.92\n",
       "2010-2011 | 1010          | John Bartram High School | District | 4-Year Graduation Rate | Ethnicity                  | Black/African American         | 253   | 182  | 71.94\n",
       "2010-2011 | 1010          | John Bartram High School | District | 4-Year Graduation Rate | Ethnicity                  | Hispanic/Latino                | 6     | s    | s\n",
       "2010-2011 | 1010          | John Bartram High School | District | 4-Year Graduation Rate | Ethnicity                  | Multi Racial/Other             | 6     | s    | s\n",
       "2010-2011 | 1010          | John Bartram High School | District | 4-Year Graduation Rate | Ethnicity                  | White                          | 3     | s    | s\n",
       "... (23011 rows omitted)"
      ]
     },
     "execution_count": 5,
     "metadata": {},
     "output_type": "execute_result"
    }
   ],
   "source": [
    "url = \"https://cdn.philasd.org/offices/performance/Open_Data/School_Performance/Graduation_Rates/SDP_Graduation_Rates_School_S_2022-05-23.csv\"\n",
    "grad = Table.read_table(url)\n",
    "grad"
   ]
  },
  {
   "cell_type": "markdown",
   "metadata": {},
   "source": [
    "##### Jeopardy\n",
    "see: https://www.jeopardy.com"
   ]
  },
  {
   "cell_type": "code",
   "execution_count": null,
   "metadata": {},
   "outputs": [],
   "source": [
    "contestant = \"https://raw.githubusercontent.com/anuparna/jeopardy/master/dataset/contestants.csv\"\n",
    "locations =  \"https://raw.githubusercontent.com/anuparna/jeopardy/master/dataset/locations.csv\"\n",
    "results =  \"https://raw.githubusercontent.com/anuparna/jeopardy/master/dataset/final_results.csv\"\n",
    "loc = Table.read_table(locations)\n",
    "contest = Table.read_table(contestant)\n",
    "outcome = Table.read_table(results)\n",
    "outcome"
   ]
  },
  {
   "cell_type": "code",
   "execution_count": null,
   "metadata": {},
   "outputs": [],
   "source": []
  },
  {
   "cell_type": "code",
   "execution_count": null,
   "metadata": {},
   "outputs": [],
   "source": []
  },
  {
   "cell_type": "code",
   "execution_count": null,
   "metadata": {},
   "outputs": [],
   "source": []
  }
 ],
 "metadata": {
  "kernelspec": {
   "display_name": "Python 3 (ipykernel)",
   "language": "python",
   "name": "python3"
  },
  "language_info": {
   "codemirror_mode": {
    "name": "ipython",
    "version": 3
   },
   "file_extension": ".py",
   "mimetype": "text/x-python",
   "name": "python",
   "nbconvert_exporter": "python",
   "pygments_lexer": "ipython3",
   "version": "3.10.4"
  }
 },
 "nbformat": 4,
 "nbformat_minor": 4
}
