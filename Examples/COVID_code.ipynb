{
 "cells": [
  {
   "cell_type": "code",
   "execution_count": 48,
   "metadata": {
    "id": "2vWbpBjsxEJC"
   },
   "outputs": [],
   "source": [
    "from datascience import *\n",
    "import numpy as np\n",
    "\n",
    "%matplotlib inline\n",
    "import matplotlib.pyplot as plots\n",
    "plots.style.use('fivethirtyeight')"
   ]
  },
  {
   "cell_type": "code",
   "execution_count": 4,
   "metadata": {
    "id": "GclbTB63xS1i"
   },
   "outputs": [],
   "source": [
    "COVID = Table.read_table(\"worldwide covid data.csv\")"
   ]
  },
  {
   "cell_type": "code",
   "execution_count": null,
   "metadata": {
    "colab": {
     "base_uri": "https://localhost:8080/",
     "height": 435
    },
    "id": "eLY_IefIyvsP",
    "outputId": "5a38adeb-d1ea-4c63-e53e-ffbe56eba805"
   },
   "outputs": [
    {
     "data": {
      "text/html": [
       "<table border=\"1\" class=\"dataframe\">\n",
       "    <thead>\n",
       "        <tr>\n",
       "            <th>Country</th> <th>Total Cases</th> <th>Total Deaths</th> <th>Total Recovered</th> <th>Active Cases</th> <th>Total Cases/1M population</th> <th>Deaths/1M population</th> <th>Total Tests</th> <th>Tests/1M population</th> <th>Population</th>\n",
       "        </tr>\n",
       "    </thead>\n",
       "    <tbody>\n",
       "        <tr>\n",
       "            <td>Afghanistan        </td> <td>155540     </td> <td>7228        </td> <td>126459         </td> <td>21853       </td> <td>3884                     </td> <td>180                 </td> <td>764934     </td> <td>19102              </td> <td>40044373  </td>\n",
       "        </tr>\n",
       "        <tr>\n",
       "            <td>Albania            </td> <td>175163     </td> <td>2777        </td> <td>165434         </td> <td>6952        </td> <td>60952                    </td> <td>966                 </td> <td>1.2402e+06 </td> <td>431558             </td> <td>2873784   </td>\n",
       "        </tr>\n",
       "        <tr>\n",
       "            <td>Algeria            </td> <td>204695     </td> <td>5855        </td> <td>140319         </td> <td>58521       </td> <td>4563                     </td> <td>131                 </td> <td>230861     </td> <td>5146               </td> <td>44859760  </td>\n",
       "        </tr>\n",
       "        <tr>\n",
       "            <td>Andorra            </td> <td>15307      </td> <td>130         </td> <td>15098          </td> <td>79          </td> <td>197706                   </td> <td>1679                </td> <td>193595     </td> <td>2.50048e+06        </td> <td>77423     </td>\n",
       "        </tr>\n",
       "        <tr>\n",
       "            <td>Angola             </td> <td>61580      </td> <td>1629        </td> <td>49977          </td> <td>9974        </td> <td>1802                     </td> <td>48                  </td> <td>1.04345e+06</td> <td>30541              </td> <td>34165887  </td>\n",
       "        </tr>\n",
       "        <tr>\n",
       "            <td>Antigua and Barbuda</td> <td>3750       </td> <td>93          </td> <td>2667           </td> <td>990         </td> <td>37893                    </td> <td>940                 </td> <td>17674      </td> <td>178592             </td> <td>98963     </td>\n",
       "        </tr>\n",
       "        <tr>\n",
       "            <td>Argentina          </td> <td>5266275    </td> <td>115491      </td> <td>5.13369e+06    </td> <td>17092       </td> <td>115173                   </td> <td>2526                </td> <td>2.42528e+07</td> <td>530409             </td> <td>45724788  </td>\n",
       "        </tr>\n",
       "        <tr>\n",
       "            <td>Armenia            </td> <td>272957     </td> <td>5575        </td> <td>249158         </td> <td>18224       </td> <td>91895                    </td> <td>1877                </td> <td>1.81113e+06</td> <td>609744             </td> <td>2970314   </td>\n",
       "        </tr>\n",
       "        <tr>\n",
       "            <td>Aruba              </td> <td>15645      </td> <td>170         </td> <td>15324          </td> <td>151         </td> <td>145745                   </td> <td>1584                </td> <td>177885     </td> <td>1.65713e+06        </td> <td>107345    </td>\n",
       "        </tr>\n",
       "        <tr>\n",
       "            <td>Australia          </td> <td>131415     </td> <td>1461        </td> <td>96234          </td> <td>33720       </td> <td>5078                     </td> <td>56                  </td> <td>4.01115e+07</td> <td>1.55007e+06        </td> <td>25877157  </td>\n",
       "        </tr>\n",
       "    </tbody>\n",
       "</table>\n",
       "<p>... (196 rows omitted)</p>"
      ],
      "text/plain": [
       "Country             | Total Cases | Total Deaths | Total Recovered | Active Cases | Total Cases/1M population | Deaths/1M population | Total Tests | Tests/1M population | Population\n",
       "Afghanistan         | 155540      | 7228         | 126459          | 21853        | 3884                      | 180                  | 764934      | 19102               | 40044373\n",
       "Albania             | 175163      | 2777         | 165434          | 6952         | 60952                     | 966                  | 1.2402e+06  | 431558              | 2873784\n",
       "Algeria             | 204695      | 5855         | 140319          | 58521        | 4563                      | 131                  | 230861      | 5146                | 44859760\n",
       "Andorra             | 15307       | 130          | 15098           | 79           | 197706                    | 1679                 | 193595      | 2.50048e+06         | 77423\n",
       "Angola              | 61580       | 1629         | 49977           | 9974         | 1802                      | 48                   | 1.04345e+06 | 30541               | 34165887\n",
       "Antigua and Barbuda | 3750        | 93           | 2667            | 990          | 37893                     | 940                  | 17674       | 178592              | 98963\n",
       "Argentina           | 5266275     | 115491       | 5.13369e+06     | 17092        | 115173                    | 2526                 | 2.42528e+07 | 530409              | 45724788\n",
       "Armenia             | 272957      | 5575         | 249158          | 18224        | 91895                     | 1877                 | 1.81113e+06 | 609744              | 2970314\n",
       "Aruba               | 15645       | 170          | 15324           | 151          | 145745                    | 1584                 | 177885      | 1.65713e+06         | 107345\n",
       "Australia           | 131415      | 1461         | 96234           | 33720        | 5078                      | 56                   | 4.01115e+07 | 1.55007e+06         | 25877157\n",
       "... (196 rows omitted)"
      ]
     },
     "execution_count": 5,
     "metadata": {},
     "output_type": "execute_result"
    }
   ],
   "source": [
    "COVID"
   ]
  },
  {
   "cell_type": "code",
   "execution_count": 5,
   "metadata": {
    "colab": {
     "base_uri": "https://localhost:8080/",
     "height": 419
    },
    "id": "6RG6AB5uy8R9",
    "outputId": "8ca83690-3c32-44ba-b0fd-9f0f41d386e7"
   },
   "outputs": [
    {
     "data": {
      "text/html": [
       "<table border=\"1\" class=\"dataframe\">\n",
       "    <thead>\n",
       "        <tr>\n",
       "            <th>Country</th> <th>Total Cases</th> <th>Total Deaths</th> <th>Total Recovered</th> <th>Active Cases</th> <th>Total Cases/1M population</th> <th>Deaths/1M population</th> <th>Total Tests</th> <th>Tests/1M population</th> <th>Population</th>\n",
       "        </tr>\n",
       "    </thead>\n",
       "    <tbody>\n",
       "        <tr>\n",
       "            <td>USA      </td> <td>45313353   </td> <td>734611      </td> <td>3.47972e+07    </td> <td>9.78158e+06 </td> <td>135880                   </td> <td>2203                </td> <td>6.59964e+08</td> <td>1.97902e+06        </td> <td>333479557 </td>\n",
       "        </tr>\n",
       "        <tr>\n",
       "            <td>India    </td> <td>33985920   </td> <td>450991      </td> <td>3.33201e+07    </td> <td>214872      </td> <td>24322                    </td> <td>323                 </td> <td>5.85038e+08</td> <td>418689             </td> <td>1397309368</td>\n",
       "        </tr>\n",
       "        <tr>\n",
       "            <td>Brazil   </td> <td>21582738   </td> <td>601266      </td> <td>2.06947e+07    </td> <td>286803      </td> <td>100625                   </td> <td>2803                </td> <td>6.37762e+07</td> <td>297342             </td> <td>214487273 </td>\n",
       "        </tr>\n",
       "        <tr>\n",
       "            <td>UK       </td> <td>8193769    </td> <td>137763      </td> <td>6.6867e+06     </td> <td>1.36931e+06 </td> <td>119895                   </td> <td>2016                </td> <td>3.1424e+08 </td> <td>4.59811e+06        </td> <td>68341111  </td>\n",
       "        </tr>\n",
       "        <tr>\n",
       "            <td>Russia   </td> <td>7804774    </td> <td>217372      </td> <td>6.87358e+06    </td> <td>713823      </td> <td>53452                    </td> <td>1489                </td> <td>1.972e+08  </td> <td>1.35055e+06        </td> <td>146014362 </td>\n",
       "        </tr>\n",
       "        <tr>\n",
       "            <td>Turkey   </td> <td>7475115    </td> <td>66368       </td> <td>6.92734e+06    </td> <td>481410      </td> <td>87432                    </td> <td>776                 </td> <td>9.0203e+07 </td> <td>1.05505e+06        </td> <td>85496437  </td>\n",
       "        </tr>\n",
       "        <tr>\n",
       "            <td>France   </td> <td>7057631    </td> <td>117082      </td> <td>6.84762e+06    </td> <td>92932       </td> <td>107819                   </td> <td>1789                </td> <td>1.46047e+08</td> <td>2.23116e+06        </td> <td>65457901  </td>\n",
       "        </tr>\n",
       "        <tr>\n",
       "            <td>Iran     </td> <td>5716394    </td> <td>122868      </td> <td>5.23401e+06    </td> <td>359516      </td> <td>66965                    </td> <td>1439                </td> <td>3.26192e+07</td> <td>382121             </td> <td>85363583  </td>\n",
       "        </tr>\n",
       "        <tr>\n",
       "            <td>Argentina</td> <td>5266275    </td> <td>115491      </td> <td>5.13369e+06    </td> <td>17092       </td> <td>115173                   </td> <td>2526                </td> <td>2.42528e+07</td> <td>530409             </td> <td>45724788  </td>\n",
       "        </tr>\n",
       "        <tr>\n",
       "            <td>Spain    </td> <td>4977448    </td> <td>86827       </td> <td>4.81619e+06    </td> <td>74427       </td> <td>106406                   </td> <td>1856                </td> <td>6.62139e+07</td> <td>1.41549e+06        </td> <td>46777901  </td>\n",
       "        </tr>\n",
       "    </tbody>\n",
       "</table>\n",
       "<p>... (196 rows omitted)</p>"
      ],
      "text/plain": [
       "Country   | Total Cases | Total Deaths | Total Recovered | Active Cases | Total Cases/1M population | Deaths/1M population | Total Tests | Tests/1M population | Population\n",
       "USA       | 45313353    | 734611       | 3.47972e+07     | 9.78158e+06  | 135880                    | 2203                 | 6.59964e+08 | 1.97902e+06         | 333479557\n",
       "India     | 33985920    | 450991       | 3.33201e+07     | 214872       | 24322                     | 323                  | 5.85038e+08 | 418689              | 1397309368\n",
       "Brazil    | 21582738    | 601266       | 2.06947e+07     | 286803       | 100625                    | 2803                 | 6.37762e+07 | 297342              | 214487273\n",
       "UK        | 8193769     | 137763       | 6.6867e+06      | 1.36931e+06  | 119895                    | 2016                 | 3.1424e+08  | 4.59811e+06         | 68341111\n",
       "Russia    | 7804774     | 217372       | 6.87358e+06     | 713823       | 53452                     | 1489                 | 1.972e+08   | 1.35055e+06         | 146014362\n",
       "Turkey    | 7475115     | 66368        | 6.92734e+06     | 481410       | 87432                     | 776                  | 9.0203e+07  | 1.05505e+06         | 85496437\n",
       "France    | 7057631     | 117082       | 6.84762e+06     | 92932        | 107819                    | 1789                 | 1.46047e+08 | 2.23116e+06         | 65457901\n",
       "Iran      | 5716394     | 122868       | 5.23401e+06     | 359516       | 66965                     | 1439                 | 3.26192e+07 | 382121              | 85363583\n",
       "Argentina | 5266275     | 115491       | 5.13369e+06     | 17092        | 115173                    | 2526                 | 2.42528e+07 | 530409              | 45724788\n",
       "Spain     | 4977448     | 86827        | 4.81619e+06     | 74427        | 106406                    | 1856                 | 6.62139e+07 | 1.41549e+06         | 46777901\n",
       "... (196 rows omitted)"
      ]
     },
     "execution_count": 5,
     "metadata": {},
     "output_type": "execute_result"
    }
   ],
   "source": [
    "COVID.sort(1,descending=True)"
   ]
  },
  {
   "cell_type": "code",
   "execution_count": 6,
   "metadata": {
    "colab": {
     "base_uri": "https://localhost:8080/",
     "height": 380
    },
    "id": "TA5rULMbzJVy",
    "outputId": "48f2ab85-e615-4d48-c7d0-a57f46cab8b5"
   },
   "outputs": [
    {
     "data": {
      "image/png": "[encoded data removed]",
      "text/plain": [
       "<Figure size 360x360 with 1 Axes>"
      ]
     },
     "metadata": {},
     "output_type": "display_data"
    }
   ],
   "source": [
    "COVID.scatter(5,6)"
   ]
  },
  {
   "cell_type": "code",
   "execution_count": 7,
   "metadata": {
    "colab": {
     "base_uri": "https://localhost:8080/"
    },
    "id": "K7cNYBR38LNl",
    "outputId": "a02d8bdc-6ba0-4298-d15a-57545f90b946"
   },
   "outputs": [
    {
     "name": "stderr",
     "output_type": "stream",
     "text": [
      "/Users/jms/.conda/envs/MDQUANT/lib/python3.7/site-packages/datascience/tables.py:310: FutureWarning: column_labels is deprecated; use labels\n",
      "  warnings.warn(\"column_labels is deprecated; use labels\", FutureWarning)\n"
     ]
    },
    {
     "data": {
      "text/plain": [
       "('Country',\n",
       " 'Total Cases',\n",
       " 'Total Deaths',\n",
       " 'Total Recovered',\n",
       " 'Active Cases',\n",
       " 'Total Cases/1M population',\n",
       " 'Deaths/1M population',\n",
       " 'Total Tests',\n",
       " 'Tests/1M population',\n",
       " 'Population')"
      ]
     },
     "execution_count": 7,
     "metadata": {},
     "output_type": "execute_result"
    }
   ],
   "source": [
    "COVID.column_labels"
   ]
  },
  {
   "cell_type": "code",
   "execution_count": 8,
   "metadata": {
    "colab": {
     "base_uri": "https://localhost:8080/"
    },
    "id": "DqfgVjFtumeh",
    "outputId": "db577d3f-9ce8-4f50-9e41-cc697ebf1bb7"
   },
   "outputs": [],
   "source": [
    "VACCINE = Table.read_table(\"country_vaccinations_by_manufacturer.csv\")"
   ]
  },
  {
   "cell_type": "code",
   "execution_count": 40,
   "metadata": {
    "colab": {
     "base_uri": "https://localhost:8080/"
    },
    "id": "807pnGpBW0a-",
    "outputId": "1a321b90-ad84-4007-cd7a-d8d2747221b2"
   },
   "outputs": [
    {
     "data": {
      "text/html": [
       "<table border=\"1\" class=\"dataframe\">\n",
       "    <thead>\n",
       "        <tr>\n",
       "            <th>location</th> <th>date</th> <th>vaccine</th> <th>total_vaccinations</th>\n",
       "        </tr>\n",
       "    </thead>\n",
       "    <tbody>\n",
       "        <tr>\n",
       "            <td>United States</td> <td>2021-10-01</td> <td>Pfizer/BioNTech   </td> <td>226714560         </td>\n",
       "        </tr>\n",
       "        <tr>\n",
       "            <td>United States</td> <td>2021-10-01</td> <td>Moderna           </td> <td>151622624         </td>\n",
       "        </tr>\n",
       "        <tr>\n",
       "            <td>Spain        </td> <td>2021-10-01</td> <td>Pfizer/BioNTech   </td> <td>45761253          </td>\n",
       "        </tr>\n",
       "        <tr>\n",
       "            <td>South Korea  </td> <td>2021-10-01</td> <td>Pfizer/BioNTech   </td> <td>33668681          </td>\n",
       "        </tr>\n",
       "        <tr>\n",
       "            <td>Poland       </td> <td>2021-10-01</td> <td>Pfizer/BioNTech   </td> <td>25670314          </td>\n",
       "        </tr>\n",
       "        <tr>\n",
       "            <td>South Korea  </td> <td>2021-10-01</td> <td>Oxford/AstraZeneca</td> <td>21525019          </td>\n",
       "        </tr>\n",
       "        <tr>\n",
       "            <td>Netherlands  </td> <td>2021-10-01</td> <td>Pfizer/BioNTech   </td> <td>16830205          </td>\n",
       "        </tr>\n",
       "        <tr>\n",
       "            <td>United States</td> <td>2021-10-01</td> <td>Johnson&Johnson   </td> <td>15022960          </td>\n",
       "        </tr>\n",
       "        <tr>\n",
       "            <td>Sweden       </td> <td>2021-10-01</td> <td>Pfizer/BioNTech   </td> <td>10279797          </td>\n",
       "        </tr>\n",
       "        <tr>\n",
       "            <td>Spain        </td> <td>2021-10-01</td> <td>Oxford/AstraZeneca</td> <td>9776264           </td>\n",
       "        </tr>\n",
       "    </tbody>\n",
       "</table>\n",
       "<p>... (38 rows omitted)</p>"
      ],
      "text/plain": [
       "location      | date       | vaccine            | total_vaccinations\n",
       "United States | 2021-10-01 | Pfizer/BioNTech    | 226714560\n",
       "United States | 2021-10-01 | Moderna            | 151622624\n",
       "Spain         | 2021-10-01 | Pfizer/BioNTech    | 45761253\n",
       "South Korea   | 2021-10-01 | Pfizer/BioNTech    | 33668681\n",
       "Poland        | 2021-10-01 | Pfizer/BioNTech    | 25670314\n",
       "South Korea   | 2021-10-01 | Oxford/AstraZeneca | 21525019\n",
       "Netherlands   | 2021-10-01 | Pfizer/BioNTech    | 16830205\n",
       "United States | 2021-10-01 | Johnson&Johnson    | 15022960\n",
       "Sweden        | 2021-10-01 | Pfizer/BioNTech    | 10279797\n",
       "Spain         | 2021-10-01 | Oxford/AstraZeneca | 9776264\n",
       "... (38 rows omitted)"
      ]
     },
     "execution_count": 40,
     "metadata": {},
     "output_type": "execute_result"
    }
   ],
   "source": [
    "VAXDATA=VACCINE.where('date','2021-10-01').sort(3,descending=True)\n",
    "VAXDATA.where('location',are.above('N'))"
   ]
  },
  {
   "cell_type": "code",
   "execution_count": 42,
   "metadata": {},
   "outputs": [
    {
     "data": {
      "text/plain": [
       "array(['European Union', 'United States', 'United States', 'Germany',\n",
       "       'France', 'European Union', 'Italy', 'European Union', 'Spain',\n",
       "       'South Korea', 'Poland', 'South Korea', 'Chile', 'Netherlands',\n",
       "       'United States', 'European Union', 'Germany', 'Italy', 'Belgium',\n",
       "       'Italy', 'France', 'Sweden', 'Czechia', 'Spain', 'Portugal',\n",
       "       'Germany', 'Spain', 'South Korea', 'Romania', 'France', 'Austria',\n",
       "       'Denmark', 'Chile', 'Switzerland', 'Finland', 'Norway',\n",
       "       'Hong Kong', 'Poland', 'Hungary', 'Ireland', 'Switzerland',\n",
       "       'Uruguay', 'Germany', 'Hong Kong', 'Slovakia', 'Poland', 'Belgium',\n",
       "       'Netherlands', 'Croatia', 'Portugal', 'Hungary', 'European Union',\n",
       "       'Lithuania', 'Poland', 'Uruguay', 'Netherlands', 'Spain',\n",
       "       'Portugal', 'European Union', 'Hungary', 'Sweden', 'Austria',\n",
       "       'Bulgaria', 'Norway', 'Italy', 'South Korea', 'Belgium', 'Sweden',\n",
       "       'Slovenia', 'Hungary', 'Ireland', 'Denmark', 'Portugal', 'France',\n",
       "       'Austria', 'Latvia', 'Czechia', 'Estonia', 'Czechia', 'Romania',\n",
       "       'Slovakia', 'Netherlands', 'Finland', 'Romania', 'Cyprus',\n",
       "       'Romania', 'Hungary', 'Ireland', 'Chile', 'Finland', 'Croatia',\n",
       "       'Lithuania', 'Chile', 'Luxembourg', 'Slovakia', 'Bulgaria',\n",
       "       'Malta', 'Belgium', 'Croatia', 'Iceland', 'Slovenia', 'Austria',\n",
       "       'Bulgaria', 'Latvia', 'Lithuania', 'Cyprus', 'Latvia', 'Czechia',\n",
       "       'Estonia', 'Ireland', 'Malta', 'Lithuania', 'Bulgaria', 'Slovenia',\n",
       "       'Denmark', 'Hungary', 'Norway', 'Estonia', 'Latvia', 'Slovenia',\n",
       "       'Iceland', 'Luxembourg', 'Croatia', 'Uruguay', 'Slovakia',\n",
       "       'Cyprus', 'Luxembourg', 'Iceland', 'Iceland', 'Estonia', 'Denmark',\n",
       "       'Malta', 'Luxembourg', 'Liechtenstein', 'Malta', 'Cyprus',\n",
       "       'Liechtenstein', 'Norway', 'Finland', 'Switzerland'], dtype='<U14')"
      ]
     },
     "execution_count": 42,
     "metadata": {},
     "output_type": "execute_result"
    }
   ],
   "source": [
    "VAXDATA.column('location')"
   ]
  },
  {
   "cell_type": "code",
   "execution_count": 27,
   "metadata": {},
   "outputs": [],
   "source": [
    "def Country_label(country):\n",
    "    if country == 'United States':\n",
    "        country = 'USA'\n",
    "    return country\n",
    "        "
   ]
  },
  {
   "cell_type": "code",
   "execution_count": 44,
   "metadata": {},
   "outputs": [],
   "source": [
    "VAXDATA=VAXDATA.with_column('Country',VAXDATA.apply(Country_label,'location'))\n",
    "VAXDATA.to_csv('VAXDATA.csv')"
   ]
  },
  {
   "cell_type": "code",
   "execution_count": 45,
   "metadata": {},
   "outputs": [
    {
     "data": {
      "text/html": [
       "<table border=\"1\" class=\"dataframe\">\n",
       "    <thead>\n",
       "        <tr>\n",
       "            <th>location</th> <th>date</th> <th>vaccine</th> <th>total_vaccinations</th> <th>Country</th>\n",
       "        </tr>\n",
       "    </thead>\n",
       "    <tbody>\n",
       "        <tr>\n",
       "            <td>European Union</td> <td>2021-10-01</td> <td>Pfizer/BioNTech   </td> <td>400547685         </td> <td>European Union</td>\n",
       "        </tr>\n",
       "        <tr>\n",
       "            <td>United States </td> <td>2021-10-01</td> <td>Pfizer/BioNTech   </td> <td>226714560         </td> <td>USA           </td>\n",
       "        </tr>\n",
       "        <tr>\n",
       "            <td>United States </td> <td>2021-10-01</td> <td>Moderna           </td> <td>151622624         </td> <td>USA           </td>\n",
       "        </tr>\n",
       "        <tr>\n",
       "            <td>Germany       </td> <td>2021-10-01</td> <td>Pfizer/BioNTech   </td> <td>82531243          </td> <td>Germany       </td>\n",
       "        </tr>\n",
       "        <tr>\n",
       "            <td>France        </td> <td>2021-10-01</td> <td>Pfizer/BioNTech   </td> <td>75851493          </td> <td>France        </td>\n",
       "        </tr>\n",
       "        <tr>\n",
       "            <td>European Union</td> <td>2021-10-01</td> <td>Oxford/AstraZeneca</td> <td>67140493          </td> <td>European Union</td>\n",
       "        </tr>\n",
       "        <tr>\n",
       "            <td>Italy         </td> <td>2021-10-01</td> <td>Pfizer/BioNTech   </td> <td>60679056          </td> <td>Italy         </td>\n",
       "        </tr>\n",
       "        <tr>\n",
       "            <td>European Union</td> <td>2021-10-01</td> <td>Moderna           </td> <td>57232847          </td> <td>European Union</td>\n",
       "        </tr>\n",
       "        <tr>\n",
       "            <td>Spain         </td> <td>2021-10-01</td> <td>Pfizer/BioNTech   </td> <td>45761253          </td> <td>Spain         </td>\n",
       "        </tr>\n",
       "        <tr>\n",
       "            <td>South Korea   </td> <td>2021-10-01</td> <td>Pfizer/BioNTech   </td> <td>33668681          </td> <td>South Korea   </td>\n",
       "        </tr>\n",
       "    </tbody>\n",
       "</table>\n",
       "<p>... (130 rows omitted)</p>"
      ],
      "text/plain": [
       "location       | date       | vaccine            | total_vaccinations | Country\n",
       "European Union | 2021-10-01 | Pfizer/BioNTech    | 400547685          | European Union\n",
       "United States  | 2021-10-01 | Pfizer/BioNTech    | 226714560          | USA\n",
       "United States  | 2021-10-01 | Moderna            | 151622624          | USA\n",
       "Germany        | 2021-10-01 | Pfizer/BioNTech    | 82531243           | Germany\n",
       "France         | 2021-10-01 | Pfizer/BioNTech    | 75851493           | France\n",
       "European Union | 2021-10-01 | Oxford/AstraZeneca | 67140493           | European Union\n",
       "Italy          | 2021-10-01 | Pfizer/BioNTech    | 60679056           | Italy\n",
       "European Union | 2021-10-01 | Moderna            | 57232847           | European Union\n",
       "Spain          | 2021-10-01 | Pfizer/BioNTech    | 45761253           | Spain\n",
       "South Korea    | 2021-10-01 | Pfizer/BioNTech    | 33668681           | South Korea\n",
       "... (130 rows omitted)"
      ]
     },
     "execution_count": 45,
     "metadata": {},
     "output_type": "execute_result"
    }
   ],
   "source": [
    "VACread = Table.read_table(\"VAXDATA.csv\")\n",
    "VACread"
   ]
  },
  {
   "cell_type": "code",
   "execution_count": 37,
   "metadata": {},
   "outputs": [
    {
     "data": {
      "text/html": [
       "<table border=\"1\" class=\"dataframe\">\n",
       "    <thead>\n",
       "        <tr>\n",
       "            <th>location</th> <th>date</th> <th>vaccine</th> <th>total_vaccinations</th> <th>Country</th>\n",
       "        </tr>\n",
       "    </thead>\n",
       "    <tbody>\n",
       "        <tr>\n",
       "            <td>United States</td> <td>2021-10-01</td> <td>Pfizer/BioNTech   </td> <td>226714560         </td> <td>USA    </td>\n",
       "        </tr>\n",
       "        <tr>\n",
       "            <td>United States</td> <td>2021-10-01</td> <td>Moderna           </td> <td>151622624         </td> <td>USA    </td>\n",
       "        </tr>\n",
       "        <tr>\n",
       "            <td>United States</td> <td>2021-10-01</td> <td>Johnson&Johnson   </td> <td>15022960          </td> <td>USA    </td>\n",
       "        </tr>\n",
       "        <tr>\n",
       "            <td>Uruguay      </td> <td>2021-10-01</td> <td>Sinovac           </td> <td>3245944           </td> <td>Uruguay</td>\n",
       "        </tr>\n",
       "        <tr>\n",
       "            <td>Uruguay      </td> <td>2021-10-01</td> <td>Pfizer/BioNTech   </td> <td>1975498           </td> <td>Uruguay</td>\n",
       "        </tr>\n",
       "        <tr>\n",
       "            <td>Uruguay      </td> <td>2021-10-01</td> <td>Oxford/AstraZeneca</td> <td>86603             </td> <td>Uruguay</td>\n",
       "        </tr>\n",
       "    </tbody>\n",
       "</table>"
      ],
      "text/plain": [
       "location      | date       | vaccine            | total_vaccinations | Country\n",
       "United States | 2021-10-01 | Pfizer/BioNTech    | 226714560          | USA\n",
       "United States | 2021-10-01 | Moderna            | 151622624          | USA\n",
       "United States | 2021-10-01 | Johnson&Johnson    | 15022960           | USA\n",
       "Uruguay       | 2021-10-01 | Sinovac            | 3245944            | Uruguay\n",
       "Uruguay       | 2021-10-01 | Pfizer/BioNTech    | 1975498            | Uruguay\n",
       "Uruguay       | 2021-10-01 | Oxford/AstraZeneca | 86603              | Uruguay"
      ]
     },
     "execution_count": 37,
     "metadata": {},
     "output_type": "execute_result"
    }
   ],
   "source": [
    "VAXDATA.where('Country',are.above('U'))"
   ]
  },
  {
   "cell_type": "code",
   "execution_count": 32,
   "metadata": {},
   "outputs": [
    {
     "data": {
      "text/html": [
       "<table border=\"1\" class=\"dataframe\">\n",
       "    <thead>\n",
       "        <tr>\n",
       "            <th>vaccine</th> <th>count</th>\n",
       "        </tr>\n",
       "    </thead>\n",
       "    <tbody>\n",
       "        <tr>\n",
       "            <td>CanSino           </td> <td>1    </td>\n",
       "        </tr>\n",
       "        <tr>\n",
       "            <td>Johnson&Johnson   </td> <td>29   </td>\n",
       "        </tr>\n",
       "        <tr>\n",
       "            <td>Moderna           </td> <td>31   </td>\n",
       "        </tr>\n",
       "        <tr>\n",
       "            <td>Oxford/AstraZeneca</td> <td>30   </td>\n",
       "        </tr>\n",
       "        <tr>\n",
       "            <td>Pfizer/BioNTech   </td> <td>34   </td>\n",
       "        </tr>\n",
       "        <tr>\n",
       "            <td>Sinopharm/Beijing </td> <td>1    </td>\n",
       "        </tr>\n",
       "        <tr>\n",
       "            <td>Sinovac           </td> <td>3    </td>\n",
       "        </tr>\n",
       "        <tr>\n",
       "            <td>Sputnik V         </td> <td>1    </td>\n",
       "        </tr>\n",
       "    </tbody>\n",
       "</table>"
      ],
      "text/plain": [
       "vaccine            | count\n",
       "CanSino            | 1\n",
       "Johnson&Johnson    | 29\n",
       "Moderna            | 31\n",
       "Oxford/AstraZeneca | 30\n",
       "Pfizer/BioNTech    | 34\n",
       "Sinopharm/Beijing  | 1\n",
       "Sinovac            | 3\n",
       "Sputnik V          | 1"
      ]
     },
     "execution_count": 32,
     "metadata": {},
     "output_type": "execute_result"
    }
   ],
   "source": [
    "COVID.join('Country',VAXDATA,'Country').sort('total_vaccinations',descending=True).group('vaccine')"
   ]
  },
  {
   "cell_type": "code",
   "execution_count": 46,
   "metadata": {},
   "outputs": [],
   "source": [
    "COVID_VAX=COVID.join('Country',VAXDATA,'Country').sort('total_vaccinations',descending=True).group('Country')"
   ]
  },
  {
   "cell_type": "code",
   "execution_count": 47,
   "metadata": {},
   "outputs": [],
   "source": [
    "COVID_VAX.to_csv('COVID_VAXDATA.csv')"
   ]
  },
  {
   "cell_type": "code",
   "execution_count": 1,
   "metadata": {
    "colab": {
     "base_uri": "https://localhost:8080/"
    },
    "id": "92ZL1dSFW233",
    "outputId": "e7a9a20f-bd29-4dee-e806-3ce7f21345f4"
   },
   "outputs": [
    {
     "name": "stdout",
     "output_type": "stream",
     "text": [
      "Cloning into 'neural-style'...\n",
      "remote: Enumerating objects: 342, done.\u001b[K\n",
      "remote: Counting objects: 100% (28/28), done.\u001b[K\n",
      "remote: Compressing objects: 100% (16/16), done.\u001b[K\n",
      "remote: Total 342 (delta 11), reused 23 (delta 7), pack-reused 314\u001b[K\n",
      "Receiving objects: 100% (342/342), 2.65 MiB | 13.56 MiB/s, done.\n",
      "Resolving deltas: 100% (177/177), done.\n"
     ]
    }
   ],
   "source": [
    "!git clone https://github.com/anishathalye/neural-style.git"
   ]
  },
  {
   "cell_type": "code",
   "execution_count": 2,
   "metadata": {
    "colab": {
     "base_uri": "https://localhost:8080/"
    },
    "id": "HM6KOVInZj-8",
    "outputId": "dcc35926-276b-410c-faa5-d94caa1b9075"
   },
   "outputs": [
    {
     "name": "stdout",
     "output_type": "stream",
     "text": [
      "/content/neural-style\n"
     ]
    }
   ],
   "source": [
    "%cd neural-style/"
   ]
  },
  {
   "cell_type": "code",
   "execution_count": 3,
   "metadata": {
    "colab": {
     "base_uri": "https://localhost:8080/"
    },
    "id": "d3OAnQznZ4vJ",
    "outputId": "17116aec-9e51-4eaa-800c-257dd2bb5a28"
   },
   "outputs": [
    {
     "name": "stdout",
     "output_type": "stream",
     "text": [
      "Requirement already satisfied: numpy in /usr/local/lib/python3.7/dist-packages (from -r requirements.txt (line 1)) (1.19.5)\n",
      "Requirement already satisfied: Pillow in /usr/local/lib/python3.7/dist-packages (from -r requirements.txt (line 2)) (7.1.2)\n",
      "Requirement already satisfied: scipy in /usr/local/lib/python3.7/dist-packages (from -r requirements.txt (line 3)) (1.4.1)\n",
      "Requirement already satisfied: tensorflow in /usr/local/lib/python3.7/dist-packages (from -r requirements.txt (line 4)) (2.6.0)\n",
      "Requirement already satisfied: protobuf>=3.9.2 in /usr/local/lib/python3.7/dist-packages (from tensorflow->-r requirements.txt (line 4)) (3.17.3)\n",
      "Requirement already satisfied: absl-py~=0.10 in /usr/local/lib/python3.7/dist-packages (from tensorflow->-r requirements.txt (line 4)) (0.12.0)\n",
      "Requirement already satisfied: termcolor~=1.1.0 in /usr/local/lib/python3.7/dist-packages (from tensorflow->-r requirements.txt (line 4)) (1.1.0)\n",
      "Requirement already satisfied: wheel~=0.35 in /usr/local/lib/python3.7/dist-packages (from tensorflow->-r requirements.txt (line 4)) (0.37.0)\n",
      "Requirement already satisfied: flatbuffers~=1.12.0 in /usr/local/lib/python3.7/dist-packages (from tensorflow->-r requirements.txt (line 4)) (1.12)\n",
      "Requirement already satisfied: astunparse~=1.6.3 in /usr/local/lib/python3.7/dist-packages (from tensorflow->-r requirements.txt (line 4)) (1.6.3)\n",
      "Requirement already satisfied: six~=1.15.0 in /usr/local/lib/python3.7/dist-packages (from tensorflow->-r requirements.txt (line 4)) (1.15.0)\n",
      "Requirement already satisfied: clang~=5.0 in /usr/local/lib/python3.7/dist-packages (from tensorflow->-r requirements.txt (line 4)) (5.0)\n",
      "Requirement already satisfied: h5py~=3.1.0 in /usr/local/lib/python3.7/dist-packages (from tensorflow->-r requirements.txt (line 4)) (3.1.0)\n",
      "Requirement already satisfied: google-pasta~=0.2 in /usr/local/lib/python3.7/dist-packages (from tensorflow->-r requirements.txt (line 4)) (0.2.0)\n",
      "Requirement already satisfied: tensorflow-estimator~=2.6 in /usr/local/lib/python3.7/dist-packages (from tensorflow->-r requirements.txt (line 4)) (2.6.0)\n",
      "Requirement already satisfied: tensorboard~=2.6 in /usr/local/lib/python3.7/dist-packages (from tensorflow->-r requirements.txt (line 4)) (2.6.0)\n",
      "Requirement already satisfied: grpcio<2.0,>=1.37.0 in /usr/local/lib/python3.7/dist-packages (from tensorflow->-r requirements.txt (line 4)) (1.41.0)\n",
      "Requirement already satisfied: gast==0.4.0 in /usr/local/lib/python3.7/dist-packages (from tensorflow->-r requirements.txt (line 4)) (0.4.0)\n",
      "Requirement already satisfied: typing-extensions~=3.7.4 in /usr/local/lib/python3.7/dist-packages (from tensorflow->-r requirements.txt (line 4)) (3.7.4.3)\n",
      "Requirement already satisfied: opt-einsum~=3.3.0 in /usr/local/lib/python3.7/dist-packages (from tensorflow->-r requirements.txt (line 4)) (3.3.0)\n",
      "Requirement already satisfied: wrapt~=1.12.1 in /usr/local/lib/python3.7/dist-packages (from tensorflow->-r requirements.txt (line 4)) (1.12.1)\n",
      "Requirement already satisfied: keras~=2.6 in /usr/local/lib/python3.7/dist-packages (from tensorflow->-r requirements.txt (line 4)) (2.6.0)\n",
      "Requirement already satisfied: keras-preprocessing~=1.1.2 in /usr/local/lib/python3.7/dist-packages (from tensorflow->-r requirements.txt (line 4)) (1.1.2)\n",
      "Requirement already satisfied: cached-property in /usr/local/lib/python3.7/dist-packages (from h5py~=3.1.0->tensorflow->-r requirements.txt (line 4)) (1.5.2)\n",
      "Requirement already satisfied: werkzeug>=0.11.15 in /usr/local/lib/python3.7/dist-packages (from tensorboard~=2.6->tensorflow->-r requirements.txt (line 4)) (1.0.1)\n",
      "Requirement already satisfied: google-auth-oauthlib<0.5,>=0.4.1 in /usr/local/lib/python3.7/dist-packages (from tensorboard~=2.6->tensorflow->-r requirements.txt (line 4)) (0.4.6)\n",
      "Requirement already satisfied: tensorboard-data-server<0.7.0,>=0.6.0 in /usr/local/lib/python3.7/dist-packages (from tensorboard~=2.6->tensorflow->-r requirements.txt (line 4)) (0.6.1)\n",
      "Requirement already satisfied: google-auth<2,>=1.6.3 in /usr/local/lib/python3.7/dist-packages (from tensorboard~=2.6->tensorflow->-r requirements.txt (line 4)) (1.35.0)\n",
      "Requirement already satisfied: tensorboard-plugin-wit>=1.6.0 in /usr/local/lib/python3.7/dist-packages (from tensorboard~=2.6->tensorflow->-r requirements.txt (line 4)) (1.8.0)\n",
      "Requirement already satisfied: requests<3,>=2.21.0 in /usr/local/lib/python3.7/dist-packages (from tensorboard~=2.6->tensorflow->-r requirements.txt (line 4)) (2.23.0)\n",
      "Requirement already satisfied: setuptools>=41.0.0 in /usr/local/lib/python3.7/dist-packages (from tensorboard~=2.6->tensorflow->-r requirements.txt (line 4)) (57.4.0)\n",
      "Requirement already satisfied: markdown>=2.6.8 in /usr/local/lib/python3.7/dist-packages (from tensorboard~=2.6->tensorflow->-r requirements.txt (line 4)) (3.3.4)\n",
      "Requirement already satisfied: rsa<5,>=3.1.4 in /usr/local/lib/python3.7/dist-packages (from google-auth<2,>=1.6.3->tensorboard~=2.6->tensorflow->-r requirements.txt (line 4)) (4.7.2)\n",
      "Requirement already satisfied: pyasn1-modules>=0.2.1 in /usr/local/lib/python3.7/dist-packages (from google-auth<2,>=1.6.3->tensorboard~=2.6->tensorflow->-r requirements.txt (line 4)) (0.2.8)\n",
      "Requirement already satisfied: cachetools<5.0,>=2.0.0 in /usr/local/lib/python3.7/dist-packages (from google-auth<2,>=1.6.3->tensorboard~=2.6->tensorflow->-r requirements.txt (line 4)) (4.2.4)\n",
      "Requirement already satisfied: requests-oauthlib>=0.7.0 in /usr/local/lib/python3.7/dist-packages (from google-auth-oauthlib<0.5,>=0.4.1->tensorboard~=2.6->tensorflow->-r requirements.txt (line 4)) (1.3.0)\n",
      "Requirement already satisfied: importlib-metadata in /usr/local/lib/python3.7/dist-packages (from markdown>=2.6.8->tensorboard~=2.6->tensorflow->-r requirements.txt (line 4)) (4.8.1)\n",
      "Requirement already satisfied: pyasn1<0.5.0,>=0.4.6 in /usr/local/lib/python3.7/dist-packages (from pyasn1-modules>=0.2.1->google-auth<2,>=1.6.3->tensorboard~=2.6->tensorflow->-r requirements.txt (line 4)) (0.4.8)\n",
      "Requirement already satisfied: certifi>=2017.4.17 in /usr/local/lib/python3.7/dist-packages (from requests<3,>=2.21.0->tensorboard~=2.6->tensorflow->-r requirements.txt (line 4)) (2021.5.30)\n",
      "Requirement already satisfied: chardet<4,>=3.0.2 in /usr/local/lib/python3.7/dist-packages (from requests<3,>=2.21.0->tensorboard~=2.6->tensorflow->-r requirements.txt (line 4)) (3.0.4)\n",
      "Requirement already satisfied: idna<3,>=2.5 in /usr/local/lib/python3.7/dist-packages (from requests<3,>=2.21.0->tensorboard~=2.6->tensorflow->-r requirements.txt (line 4)) (2.10)\n",
      "Requirement already satisfied: urllib3!=1.25.0,!=1.25.1,<1.26,>=1.21.1 in /usr/local/lib/python3.7/dist-packages (from requests<3,>=2.21.0->tensorboard~=2.6->tensorflow->-r requirements.txt (line 4)) (1.24.3)\n",
      "Requirement already satisfied: oauthlib>=3.0.0 in /usr/local/lib/python3.7/dist-packages (from requests-oauthlib>=0.7.0->google-auth-oauthlib<0.5,>=0.4.1->tensorboard~=2.6->tensorflow->-r requirements.txt (line 4)) (3.1.1)\n",
      "Requirement already satisfied: zipp>=0.5 in /usr/local/lib/python3.7/dist-packages (from importlib-metadata->markdown>=2.6.8->tensorboard~=2.6->tensorflow->-r requirements.txt (line 4)) (3.6.0)\n"
     ]
    }
   ],
   "source": [
    "!pip install -r requirements.txt"
   ]
  },
  {
   "cell_type": "code",
   "execution_count": null,
   "metadata": {
    "id": "ElSIypfZaAt-"
   },
   "outputs": [],
   "source": []
  }
 ],
 "metadata": {
  "accelerator": "GPU",
  "colab": {
   "collapsed_sections": [],
   "name": "data_work.ipynb",
   "provenance": []
  },
  "kernelspec": {
   "display_name": "Python 3",
   "language": "python",
   "name": "python3"
  },
  "language_info": {
   "codemirror_mode": {
    "name": "ipython",
    "version": 3
   },
   "file_extension": ".py",
   "mimetype": "text/x-python",
   "name": "python",
   "nbconvert_exporter": "python",
   "pygments_lexer": "ipython3",
   "version": "3.7.7"
  }
 },
 "nbformat": 4,
 "nbformat_minor": 1
}
