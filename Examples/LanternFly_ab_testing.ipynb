{
 "cells": [
  {
   "cell_type": "code",
   "execution_count": 1,
   "metadata": {},
   "outputs": [],
   "source": [
    "from datascience import *\n",
    "import numpy as np\n",
    "\n",
    "import matplotlib.pyplot as plots\n",
    "plots.style.use('fivethirtyeight')\n",
    "%matplotlib inline"
   ]
  },
  {
   "cell_type": "markdown",
   "metadata": {},
   "source": [
    "Read data from github"
   ]
  },
  {
   "cell_type": "code",
   "execution_count": 3,
   "metadata": {},
   "outputs": [
    {
     "data": {
      "text/html": [
       "<table border=\"1\" class=\"dataframe\">\n",
       "    <thead>\n",
       "        <tr>\n",
       "            <th>Environment</th> <th>Spotted Lanternfly Observed</th>\n",
       "        </tr>\n",
       "    </thead>\n",
       "    <tbody>\n",
       "        <tr>\n",
       "            <td>Urban      </td> <td>55                         </td>\n",
       "        </tr>\n",
       "        <tr>\n",
       "            <td>Urban      </td> <td>120                        </td>\n",
       "        </tr>\n",
       "        <tr>\n",
       "            <td>Urban      </td> <td>105                        </td>\n",
       "        </tr>\n",
       "        <tr>\n",
       "            <td>Urban      </td> <td>196                        </td>\n",
       "        </tr>\n",
       "        <tr>\n",
       "            <td>Urban      </td> <td>244                        </td>\n",
       "        </tr>\n",
       "        <tr>\n",
       "            <td>Urban      </td> <td>117                        </td>\n",
       "        </tr>\n",
       "        <tr>\n",
       "            <td>Urban      </td> <td>194                        </td>\n",
       "        </tr>\n",
       "        <tr>\n",
       "            <td>Urban      </td> <td>230                        </td>\n",
       "        </tr>\n",
       "        <tr>\n",
       "            <td>Urban      </td> <td>165                        </td>\n",
       "        </tr>\n",
       "        <tr>\n",
       "            <td>Urban      </td> <td>61                         </td>\n",
       "        </tr>\n",
       "        <tr>\n",
       "            <td>Urban      </td> <td>212                        </td>\n",
       "        </tr>\n",
       "        <tr>\n",
       "            <td>Urban      </td> <td>200                        </td>\n",
       "        </tr>\n",
       "        <tr>\n",
       "            <td>Urban      </td> <td>51                         </td>\n",
       "        </tr>\n",
       "        <tr>\n",
       "            <td>Urban      </td> <td>201                        </td>\n",
       "        </tr>\n",
       "        <tr>\n",
       "            <td>Urban      </td> <td>154                        </td>\n",
       "        </tr>\n",
       "        <tr>\n",
       "            <td>Urban      </td> <td>184                        </td>\n",
       "        </tr>\n",
       "        <tr>\n",
       "            <td>Urban      </td> <td>82                         </td>\n",
       "        </tr>\n",
       "        <tr>\n",
       "            <td>Urban      </td> <td>251                        </td>\n",
       "        </tr>\n",
       "        <tr>\n",
       "            <td>Urban      </td> <td>235                        </td>\n",
       "        </tr>\n",
       "        <tr>\n",
       "            <td>Urban      </td> <td>217                        </td>\n",
       "        </tr>\n",
       "        <tr>\n",
       "            <td>Urban      </td> <td>252                        </td>\n",
       "        </tr>\n",
       "        <tr>\n",
       "            <td>Urban      </td> <td>51                         </td>\n",
       "        </tr>\n",
       "        <tr>\n",
       "            <td>Urban      </td> <td>76                         </td>\n",
       "        </tr>\n",
       "        <tr>\n",
       "            <td>Urban      </td> <td>176                        </td>\n",
       "        </tr>\n",
       "        <tr>\n",
       "            <td>Urban      </td> <td>214                        </td>\n",
       "        </tr>\n",
       "        <tr>\n",
       "            <td>Urban      </td> <td>62                         </td>\n",
       "        </tr>\n",
       "        <tr>\n",
       "            <td>Urban      </td> <td>95                         </td>\n",
       "        </tr>\n",
       "        <tr>\n",
       "            <td>Urban      </td> <td>209                        </td>\n",
       "        </tr>\n",
       "        <tr>\n",
       "            <td>Urban      </td> <td>246                        </td>\n",
       "        </tr>\n",
       "        <tr>\n",
       "            <td>Urban      </td> <td>224                        </td>\n",
       "        </tr>\n",
       "        <tr>\n",
       "            <td>Urban      </td> <td>195                        </td>\n",
       "        </tr>\n",
       "        <tr>\n",
       "            <td>Urban      </td> <td>173                        </td>\n",
       "        </tr>\n",
       "        <tr>\n",
       "            <td>Urban      </td> <td>150                        </td>\n",
       "        </tr>\n",
       "        <tr>\n",
       "            <td>Urban      </td> <td>133                        </td>\n",
       "        </tr>\n",
       "        <tr>\n",
       "            <td>Urban      </td> <td>198                        </td>\n",
       "        </tr>\n",
       "        <tr>\n",
       "            <td>Urban      </td> <td>234                        </td>\n",
       "        </tr>\n",
       "        <tr>\n",
       "            <td>Urban      </td> <td>195                        </td>\n",
       "        </tr>\n",
       "        <tr>\n",
       "            <td>Urban      </td> <td>155                        </td>\n",
       "        </tr>\n",
       "        <tr>\n",
       "            <td>Urban      </td> <td>77                         </td>\n",
       "        </tr>\n",
       "        <tr>\n",
       "            <td>Urban      </td> <td>257                        </td>\n",
       "        </tr>\n",
       "        <tr>\n",
       "            <td>Urban      </td> <td>210                        </td>\n",
       "        </tr>\n",
       "        <tr>\n",
       "            <td>Urban      </td> <td>237                        </td>\n",
       "        </tr>\n",
       "        <tr>\n",
       "            <td>Urban      </td> <td>81                         </td>\n",
       "        </tr>\n",
       "        <tr>\n",
       "            <td>Urban      </td> <td>85                         </td>\n",
       "        </tr>\n",
       "        <tr>\n",
       "            <td>Urban      </td> <td>52                         </td>\n",
       "        </tr>\n",
       "        <tr>\n",
       "            <td>Rural      </td> <td>259                        </td>\n",
       "        </tr>\n",
       "        <tr>\n",
       "            <td>Rural      </td> <td>267                        </td>\n",
       "        </tr>\n",
       "        <tr>\n",
       "            <td>Rural      </td> <td>222                        </td>\n",
       "        </tr>\n",
       "        <tr>\n",
       "            <td>Rural      </td> <td>246                        </td>\n",
       "        </tr>\n",
       "        <tr>\n",
       "            <td>Rural      </td> <td>164                        </td>\n",
       "        </tr>\n",
       "        <tr>\n",
       "            <td>Rural      </td> <td>269                        </td>\n",
       "        </tr>\n",
       "        <tr>\n",
       "            <td>Rural      </td> <td>249                        </td>\n",
       "        </tr>\n",
       "        <tr>\n",
       "            <td>Rural      </td> <td>239                        </td>\n",
       "        </tr>\n",
       "        <tr>\n",
       "            <td>Rural      </td> <td>270                        </td>\n",
       "        </tr>\n",
       "        <tr>\n",
       "            <td>Rural      </td> <td>181                        </td>\n",
       "        </tr>\n",
       "        <tr>\n",
       "            <td>Rural      </td> <td>186                        </td>\n",
       "        </tr>\n",
       "        <tr>\n",
       "            <td>Rural      </td> <td>163                        </td>\n",
       "        </tr>\n",
       "        <tr>\n",
       "            <td>Rural      </td> <td>237                        </td>\n",
       "        </tr>\n",
       "        <tr>\n",
       "            <td>Rural      </td> <td>129                        </td>\n",
       "        </tr>\n",
       "        <tr>\n",
       "            <td>Rural      </td> <td>187                        </td>\n",
       "        </tr>\n",
       "        <tr>\n",
       "            <td>Rural      </td> <td>209                        </td>\n",
       "        </tr>\n",
       "        <tr>\n",
       "            <td>Rural      </td> <td>259                        </td>\n",
       "        </tr>\n",
       "        <tr>\n",
       "            <td>Rural      </td> <td>205                        </td>\n",
       "        </tr>\n",
       "        <tr>\n",
       "            <td>Rural      </td> <td>245                        </td>\n",
       "        </tr>\n",
       "        <tr>\n",
       "            <td>Rural      </td> <td>82                         </td>\n",
       "        </tr>\n",
       "        <tr>\n",
       "            <td>Rural      </td> <td>225                        </td>\n",
       "        </tr>\n",
       "        <tr>\n",
       "            <td>Rural      </td> <td>167                        </td>\n",
       "        </tr>\n",
       "        <tr>\n",
       "            <td>Rural      </td> <td>262                        </td>\n",
       "        </tr>\n",
       "        <tr>\n",
       "            <td>Rural      </td> <td>213                        </td>\n",
       "        </tr>\n",
       "        <tr>\n",
       "            <td>Rural      </td> <td>187                        </td>\n",
       "        </tr>\n",
       "        <tr>\n",
       "            <td>Rural      </td> <td>87                         </td>\n",
       "        </tr>\n",
       "        <tr>\n",
       "            <td>Rural      </td> <td>256                        </td>\n",
       "        </tr>\n",
       "        <tr>\n",
       "            <td>Rural      </td> <td>205                        </td>\n",
       "        </tr>\n",
       "        <tr>\n",
       "            <td>Rural      </td> <td>225                        </td>\n",
       "        </tr>\n",
       "        <tr>\n",
       "            <td>Rural      </td> <td>218                        </td>\n",
       "        </tr>\n",
       "        <tr>\n",
       "            <td>Rural      </td> <td>102                        </td>\n",
       "        </tr>\n",
       "        <tr>\n",
       "            <td>Rural      </td> <td>185                        </td>\n",
       "        </tr>\n",
       "        <tr>\n",
       "            <td>Rural      </td> <td>255                        </td>\n",
       "        </tr>\n",
       "        <tr>\n",
       "            <td>Rural      </td> <td>108                        </td>\n",
       "        </tr>\n",
       "        <tr>\n",
       "            <td>Rural      </td> <td>127                        </td>\n",
       "        </tr>\n",
       "        <tr>\n",
       "            <td>Rural      </td> <td>93                         </td>\n",
       "        </tr>\n",
       "        <tr>\n",
       "            <td>Rural      </td> <td>105                        </td>\n",
       "        </tr>\n",
       "        <tr>\n",
       "            <td>Rural      </td> <td>223                        </td>\n",
       "        </tr>\n",
       "        <tr>\n",
       "            <td>Rural      </td> <td>273                        </td>\n",
       "        </tr>\n",
       "        <tr>\n",
       "            <td>Rural      </td> <td>274                        </td>\n",
       "        </tr>\n",
       "        <tr>\n",
       "            <td>Rural      </td> <td>171                        </td>\n",
       "        </tr>\n",
       "        <tr>\n",
       "            <td>Rural      </td> <td>106                        </td>\n",
       "        </tr>\n",
       "        <tr>\n",
       "            <td>Rural      </td> <td>192                        </td>\n",
       "        </tr>\n",
       "        <tr>\n",
       "            <td>Rural      </td> <td>229                        </td>\n",
       "        </tr>\n",
       "        <tr>\n",
       "            <td>Rural      </td> <td>176                        </td>\n",
       "        </tr>\n",
       "        <tr>\n",
       "            <td>Rural      </td> <td>160                        </td>\n",
       "        </tr>\n",
       "        <tr>\n",
       "            <td>Rural      </td> <td>231                        </td>\n",
       "        </tr>\n",
       "        <tr>\n",
       "            <td>Rural      </td> <td>92                         </td>\n",
       "        </tr>\n",
       "        <tr>\n",
       "            <td>Rural      </td> <td>119                        </td>\n",
       "        </tr>\n",
       "        <tr>\n",
       "            <td>Rural      </td> <td>209                        </td>\n",
       "        </tr>\n",
       "        <tr>\n",
       "            <td>Rural      </td> <td>92                         </td>\n",
       "        </tr>\n",
       "        <tr>\n",
       "            <td>Rural      </td> <td>272                        </td>\n",
       "        </tr>\n",
       "        <tr>\n",
       "            <td>Rural      </td> <td>122                        </td>\n",
       "        </tr>\n",
       "        <tr>\n",
       "            <td>Rural      </td> <td>118                        </td>\n",
       "        </tr>\n",
       "        <tr>\n",
       "            <td>Rural      </td> <td>247                        </td>\n",
       "        </tr>\n",
       "        <tr>\n",
       "            <td>Rural      </td> <td>247                        </td>\n",
       "        </tr>\n",
       "        <tr>\n",
       "            <td>Rural      </td> <td>212                        </td>\n",
       "        </tr>\n",
       "        <tr>\n",
       "            <td>Rural      </td> <td>264                        </td>\n",
       "        </tr>\n",
       "        <tr>\n",
       "            <td>Rural      </td> <td>164                        </td>\n",
       "        </tr>\n",
       "        <tr>\n",
       "            <td>Rural      </td> <td>176                        </td>\n",
       "        </tr>\n",
       "        <tr>\n",
       "            <td>Rural      </td> <td>225                        </td>\n",
       "        </tr>\n",
       "        <tr>\n",
       "            <td>Rural      </td> <td>210                        </td>\n",
       "        </tr>\n",
       "        <tr>\n",
       "            <td>Rural      </td> <td>164                        </td>\n",
       "        </tr>\n",
       "        <tr>\n",
       "            <td>Rural      </td> <td>112                        </td>\n",
       "        </tr>\n",
       "        <tr>\n",
       "            <td>Rural      </td> <td>93                         </td>\n",
       "        </tr>\n",
       "        <tr>\n",
       "            <td>Rural      </td> <td>131                        </td>\n",
       "        </tr>\n",
       "        <tr>\n",
       "            <td>Rural      </td> <td>210                        </td>\n",
       "        </tr>\n",
       "        <tr>\n",
       "            <td>Rural      </td> <td>81                         </td>\n",
       "        </tr>\n",
       "        <tr>\n",
       "            <td>Rural      </td> <td>132                        </td>\n",
       "        </tr>\n",
       "        <tr>\n",
       "            <td>Rural      </td> <td>162                        </td>\n",
       "        </tr>\n",
       "        <tr>\n",
       "            <td>Rural      </td> <td>187                        </td>\n",
       "        </tr>\n",
       "        <tr>\n",
       "            <td>Rural      </td> <td>263                        </td>\n",
       "        </tr>\n",
       "        <tr>\n",
       "            <td>Rural      </td> <td>85                         </td>\n",
       "        </tr>\n",
       "        <tr>\n",
       "            <td>Rural      </td> <td>207                        </td>\n",
       "        </tr>\n",
       "        <tr>\n",
       "            <td>Rural      </td> <td>194                        </td>\n",
       "        </tr>\n",
       "        <tr>\n",
       "            <td>Rural      </td> <td>272                        </td>\n",
       "        </tr>\n",
       "        <tr>\n",
       "            <td>Rural      </td> <td>164                        </td>\n",
       "        </tr>\n",
       "        <tr>\n",
       "            <td>Rural      </td> <td>140                        </td>\n",
       "        </tr>\n",
       "        <tr>\n",
       "            <td>Rural      </td> <td>131                        </td>\n",
       "        </tr>\n",
       "        <tr>\n",
       "            <td>Rural      </td> <td>199                        </td>\n",
       "        </tr>\n",
       "        <tr>\n",
       "            <td>Rural      </td> <td>245                        </td>\n",
       "        </tr>\n",
       "        <tr>\n",
       "            <td>Rural      </td> <td>267                        </td>\n",
       "        </tr>\n",
       "        <tr>\n",
       "            <td>Rural      </td> <td>172                        </td>\n",
       "        </tr>\n",
       "        <tr>\n",
       "            <td>Rural      </td> <td>207                        </td>\n",
       "        </tr>\n",
       "        <tr>\n",
       "            <td>Rural      </td> <td>254                        </td>\n",
       "        </tr>\n",
       "    </tbody>\n",
       "</table>"
      ],
      "text/plain": [
       "<IPython.core.display.HTML object>"
      ]
     },
     "metadata": {},
     "output_type": "display_data"
    }
   ],
   "source": [
    "## read in spotted lanternfly dataset \n",
    "data_url = \"https://raw.githubusercontent.com/DataScienceTempleFirst/code-cod/main/spotted_lanternfly.csv\"\n",
    "spotted_lanternfly = Table.read_table(data_url)\n",
    "spotted_lanternfly.show()"
   ]
  },
  {
   "cell_type": "markdown",
   "metadata": {},
   "source": [
    "Look at hypothesis that more Spotted Lanterfly's are observed in rural environment"
   ]
  },
  {
   "cell_type": "code",
   "execution_count": 4,
   "metadata": {},
   "outputs": [
    {
     "data": {
      "text/html": [
       "<table border=\"1\" class=\"dataframe\">\n",
       "    <thead>\n",
       "        <tr>\n",
       "            <th>Environment</th> <th>count</th>\n",
       "        </tr>\n",
       "    </thead>\n",
       "    <tbody>\n",
       "        <tr>\n",
       "            <td>Rural      </td> <td>85   </td>\n",
       "        </tr>\n",
       "        <tr>\n",
       "            <td>Urban      </td> <td>45   </td>\n",
       "        </tr>\n",
       "    </tbody>\n",
       "</table>"
      ],
      "text/plain": [
       "Environment | count\n",
       "Rural       | 85\n",
       "Urban       | 45"
      ]
     },
     "execution_count": 4,
     "metadata": {},
     "output_type": "execute_result"
    }
   ],
   "source": [
    "## how many locations in each of the environment\n",
    "spotted_lanternfly.group('Environment')"
   ]
  },
  {
   "cell_type": "code",
   "execution_count": 10,
   "metadata": {},
   "outputs": [
    {
     "data": {
      "image/png": "[encoded data removed]",
      "text/plain": [
       "<Figure size 432x288 with 1 Axes>"
      ]
     },
     "metadata": {
      "needs_background": "light"
     },
     "output_type": "display_data"
    }
   ],
   "source": [
    "## draw histogram\n",
    "spotted_lanternfly.hist('Spotted Lanternfly Observed', group = 'Environment', bins = np.arange(50, 300, 10) )"
   ]
  },
  {
   "cell_type": "code",
   "execution_count": 12,
   "metadata": {},
   "outputs": [
    {
     "data": {
      "text/html": [
       "<table border=\"1\" class=\"dataframe\">\n",
       "    <thead>\n",
       "        <tr>\n",
       "            <th>Environment</th> <th>Spotted Lanternfly Observed average</th>\n",
       "        </tr>\n",
       "    </thead>\n",
       "    <tbody>\n",
       "        <tr>\n",
       "            <td>Rural      </td> <td>190.165                            </td>\n",
       "        </tr>\n",
       "        <tr>\n",
       "            <td>Urban      </td> <td>162.467                            </td>\n",
       "        </tr>\n",
       "    </tbody>\n",
       "</table>"
      ],
      "text/plain": [
       "Environment | Spotted Lanternfly Observed average\n",
       "Rural       | 190.165\n",
       "Urban       | 162.467"
      ]
     },
     "execution_count": 12,
     "metadata": {},
     "output_type": "execute_result"
    }
   ],
   "source": [
    "## create table with average number of observed lanternflies\n",
    "table_of_means = spotted_lanternfly.group('Environment', np.average)\n",
    "table_of_means"
   ]
  },
  {
   "cell_type": "code",
   "execution_count": 14,
   "metadata": {},
   "outputs": [
    {
     "data": {
      "text/plain": [
       "27.698039215686265"
      ]
     },
     "execution_count": 14,
     "metadata": {},
     "output_type": "execute_result"
    }
   ],
   "source": [
    "## extract the difference in means\n",
    "mean_column = table_of_means.column(1)\n",
    "observed_difference = mean_column.item(0) - mean_column.item(1)\n",
    "observed_difference"
   ]
  },
  {
   "cell_type": "code",
   "execution_count": 18,
   "metadata": {},
   "outputs": [
    {
     "data": {
      "text/plain": [
       "array([198, 272, 118, 122, 210, 187, 209, 176,  92, 235, 217, 247, 172,\n",
       "       259, 267, 196,  93,  93,  52, 163, 155, 140, 131, 129, 164, 205,\n",
       "       239,  51, 195, 245, 194, 160,  92, 272, 246,  55, 218, 209, 127,\n",
       "       209, 185, 210, 225, 112, 224, 154, 207, 237, 244, 132, 257, 263,\n",
       "       207, 164, 131,  87, 133, 273,  62, 252, 251,  81, 184, 194, 247,\n",
       "       223, 117, 255,  51, 274, 187, 120, 205, 222, 195, 201, 106, 176,\n",
       "       259, 249, 245, 119,  76, 262, 176, 150, 230, 237, 164, 229, 267,\n",
       "       186, 164, 225, 171, 165, 256, 212,  77, 231, 187, 234, 167, 264,\n",
       "       162, 269, 105, 210, 200, 213,  95,  82,  82, 173,  85, 105,  81,\n",
       "       246, 254,  61, 270, 214,  85, 181, 199, 192, 102, 225, 108, 212])"
      ]
     },
     "execution_count": 18,
     "metadata": {},
     "output_type": "execute_result"
    }
   ],
   "source": [
    "#### Shuffle all the values\n",
    "slf_obs = spotted_lanternfly.select('Spotted Lanternfly Observed')\n",
    "shuffled_obs = slf_obs.sample(with_replacement = False).column(0)\n",
    "shuffled_obs"
   ]
  },
  {
   "cell_type": "code",
   "execution_count": 19,
   "metadata": {},
   "outputs": [
    {
     "data": {
      "text/html": [
       "<table border=\"1\" class=\"dataframe\">\n",
       "    <thead>\n",
       "        <tr>\n",
       "            <th>Environment</th> <th>Spotted Lanternfly Observed</th> <th>Shuffled Observations</th>\n",
       "        </tr>\n",
       "    </thead>\n",
       "    <tbody>\n",
       "        <tr>\n",
       "            <td>Urban      </td> <td>55                         </td> <td>198                  </td>\n",
       "        </tr>\n",
       "        <tr>\n",
       "            <td>Urban      </td> <td>120                        </td> <td>272                  </td>\n",
       "        </tr>\n",
       "        <tr>\n",
       "            <td>Urban      </td> <td>105                        </td> <td>118                  </td>\n",
       "        </tr>\n",
       "        <tr>\n",
       "            <td>Urban      </td> <td>196                        </td> <td>122                  </td>\n",
       "        </tr>\n",
       "        <tr>\n",
       "            <td>Urban      </td> <td>244                        </td> <td>210                  </td>\n",
       "        </tr>\n",
       "        <tr>\n",
       "            <td>Urban      </td> <td>117                        </td> <td>187                  </td>\n",
       "        </tr>\n",
       "        <tr>\n",
       "            <td>Urban      </td> <td>194                        </td> <td>209                  </td>\n",
       "        </tr>\n",
       "        <tr>\n",
       "            <td>Urban      </td> <td>230                        </td> <td>176                  </td>\n",
       "        </tr>\n",
       "        <tr>\n",
       "            <td>Urban      </td> <td>165                        </td> <td>92                   </td>\n",
       "        </tr>\n",
       "        <tr>\n",
       "            <td>Urban      </td> <td>61                         </td> <td>235                  </td>\n",
       "        </tr>\n",
       "    </tbody>\n",
       "</table>\n",
       "<p>... (120 rows omitted)</p>"
      ],
      "text/plain": [
       "Environment | Spotted Lanternfly Observed | Shuffled Observations\n",
       "Urban       | 55                          | 198\n",
       "Urban       | 120                         | 272\n",
       "Urban       | 105                         | 118\n",
       "Urban       | 196                         | 122\n",
       "Urban       | 244                         | 210\n",
       "Urban       | 117                         | 187\n",
       "Urban       | 194                         | 209\n",
       "Urban       | 230                         | 176\n",
       "Urban       | 165                         | 92\n",
       "Urban       | 61                          | 235\n",
       "... (120 rows omitted)"
      ]
     },
     "execution_count": 19,
     "metadata": {},
     "output_type": "execute_result"
    }
   ],
   "source": [
    "### assign some of these values to group A and the rest of group B (using same sample sizes)\n",
    "add_shuffled = spotted_lanternfly.with_column('Shuffled Observations', shuffled_obs)\n",
    "add_shuffled"
   ]
  },
  {
   "cell_type": "code",
   "execution_count": 20,
   "metadata": {},
   "outputs": [
    {
     "data": {
      "text/html": [
       "<table border=\"1\" class=\"dataframe\">\n",
       "    <thead>\n",
       "        <tr>\n",
       "            <th>Environment</th> <th>Spotted Lanternfly Observed average</th> <th>Shuffled Observations average</th>\n",
       "        </tr>\n",
       "    </thead>\n",
       "    <tbody>\n",
       "        <tr>\n",
       "            <td>Rural      </td> <td>190.165                            </td> <td>182.412                      </td>\n",
       "        </tr>\n",
       "        <tr>\n",
       "            <td>Urban      </td> <td>162.467                            </td> <td>177.111                      </td>\n",
       "        </tr>\n",
       "    </tbody>\n",
       "</table>"
      ],
      "text/plain": [
       "Environment | Spotted Lanternfly Observed average | Shuffled Observations average\n",
       "Rural       | 190.165                             | 182.412\n",
       "Urban       | 162.467                             | 177.111"
      ]
     },
     "execution_count": 20,
     "metadata": {},
     "output_type": "execute_result"
    }
   ],
   "source": [
    "### find the difference between the averages of two shuffled groups\n",
    "single_mean_table = add_shuffled.group(\"Environment\", np.average)\n",
    "single_mean_table"
   ]
  },
  {
   "cell_type": "code",
   "execution_count": 22,
   "metadata": {},
   "outputs": [
    {
     "data": {
      "text/plain": [
       "5.300653594771234"
      ]
     },
     "execution_count": 22,
     "metadata": {},
     "output_type": "execute_result"
    }
   ],
   "source": [
    "single_mean_table.column(2).item(0) - single_mean_table.column(2).item(1)"
   ]
  },
  {
   "cell_type": "code",
   "execution_count": null,
   "metadata": {},
   "outputs": [],
   "source": [
    "### SIMULATION"
   ]
  },
  {
   "cell_type": "code",
   "execution_count": 27,
   "metadata": {},
   "outputs": [],
   "source": [
    "differences = make_array()\n",
    "reps = 2000\n",
    "\n",
    "for i in np.arange(reps):\n",
    "    ### STEP 1: array of shuffled observations\n",
    "    shuffled_obs = slf_obs.sample(with_replacement = False).column(0)\n",
    "    \n",
    "    ### STEP 2: assign to either group \n",
    "    add_shuffled = spotted_lanternfly.with_column('Shuffled Observations', shuffled_obs)\n",
    "\n",
    "    ### STEP 3: find difference between means\n",
    "    mean_table = add_shuffled.group(\"Environment\", np.average).column(2)\n",
    "    simulated_diff = mean_table.item(1) - mean_table.item(0)\n",
    "    \n",
    "    ## STEP 4: repeat\n",
    "    differences = np.append(differences, simulated_diff)\n"
   ]
  },
  {
   "cell_type": "code",
   "execution_count": 28,
   "metadata": {},
   "outputs": [
    {
     "data": {
      "image/png": "[encoded data removed]",
      "text/plain": [
       "<Figure size 432x288 with 1 Axes>"
      ]
     },
     "metadata": {
      "needs_background": "light"
     },
     "output_type": "display_data"
    }
   ],
   "source": [
    "## STEP 5: draw a histogram\n",
    "Table().with_column('Difference between Means', differences).hist(bins = 20, ec = 'w')"
   ]
  },
  {
   "cell_type": "code",
   "execution_count": 25,
   "metadata": {},
   "outputs": [
    {
     "data": {
      "text/plain": [
       "27.698039215686265"
      ]
     },
     "execution_count": 25,
     "metadata": {},
     "output_type": "execute_result"
    }
   ],
   "source": [
    "observed_difference"
   ]
  },
  {
   "cell_type": "code",
   "execution_count": 29,
   "metadata": {},
   "outputs": [
    {
     "data": {
      "text/plain": [
       "0.0045"
      ]
     },
     "execution_count": 29,
     "metadata": {},
     "output_type": "execute_result"
    }
   ],
   "source": [
    "np.count_nonzero(differences >= observed_difference) / reps"
   ]
  },
  {
   "cell_type": "code",
   "execution_count": null,
   "metadata": {},
   "outputs": [],
   "source": []
  }
 ],
 "metadata": {
  "kernelspec": {
   "display_name": "Python 3",
   "language": "python",
   "name": "python3"
  },
  "language_info": {
   "codemirror_mode": {
    "name": "ipython",
    "version": 3
   },
   "file_extension": ".py",
   "mimetype": "text/x-python",
   "name": "python",
   "nbconvert_exporter": "python",
   "pygments_lexer": "ipython3",
   "version": "3.7.7"
  }
 },
 "nbformat": 4,
 "nbformat_minor": 2
}
