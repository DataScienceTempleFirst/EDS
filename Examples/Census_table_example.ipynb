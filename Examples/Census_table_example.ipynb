{
 "cells": [
  {
   "cell_type": "markdown",
   "metadata": {},
   "source": [
    "# Using Table from datascience to examine US Census Data"
   ]
  },
  {
   "cell_type": "code",
   "execution_count": 23,
   "metadata": {},
   "outputs": [],
   "source": [
    "from datascience import *\n",
    "\n",
    "\n",
    "%matplotlib inline\n",
    "import matplotlib.pyplot as plots\n",
    "plots.style.use('fivethirtyeight')"
   ]
  },
  {
   "cell_type": "code",
   "execution_count": 24,
   "metadata": {},
   "outputs": [
    {
     "data": {
      "text/html": [
       "<table border=\"1\" class=\"dataframe\">\n",
       "    <thead>\n",
       "        <tr>\n",
       "            <th>SEX</th> <th>AGE</th> <th>CENSUS2010POP</th> <th>ESTIMATESBASE2010</th> <th>POPESTIMATE2010</th> <th>POPESTIMATE2011</th> <th>POPESTIMATE2012</th> <th>POPESTIMATE2013</th> <th>POPESTIMATE2014</th> <th>POPESTIMATE2015</th> <th>POPESTIMATE2016</th> <th>POPESTIMATE2017</th> <th>POPESTIMATE2018</th> <th>POPESTIMATE2019</th> <th>POPESTIMATE2020</th>\n",
       "        </tr>\n",
       "    </thead>\n",
       "    <tbody>\n",
       "        <tr>\n",
       "            <td>0   </td> <td>0   </td> <td>3944153      </td> <td>3944160          </td> <td>3951495        </td> <td>3963264        </td> <td>3926731        </td> <td>3931411        </td> <td>3954973        </td> <td>3984144        </td> <td>3963268        </td> <td>3882437        </td> <td>3826908        </td> <td>3762227        </td> <td>3735010        </td>\n",
       "        </tr>\n",
       "        <tr>\n",
       "            <td>0   </td> <td>1   </td> <td>3978070      </td> <td>3978090          </td> <td>3957904        </td> <td>3966768        </td> <td>3978210        </td> <td>3943348        </td> <td>3949559        </td> <td>3973828        </td> <td>4003586        </td> <td>3981864        </td> <td>3897917        </td> <td>3842257        </td> <td>3773884        </td>\n",
       "        </tr>\n",
       "        <tr>\n",
       "            <td>0   </td> <td>2   </td> <td>4096929      </td> <td>4096939          </td> <td>4090799        </td> <td>3971498        </td> <td>3980139        </td> <td>3993047        </td> <td>3960015        </td> <td>3967672        </td> <td>3992657        </td> <td>4021261        </td> <td>3996742        </td> <td>3911822        </td> <td>3853025        </td>\n",
       "        </tr>\n",
       "        <tr>\n",
       "            <td>0   </td> <td>3   </td> <td>4119040      </td> <td>4119051          </td> <td>4111869        </td> <td>4102429        </td> <td>3983007        </td> <td>3992839        </td> <td>4007852        </td> <td>3976277        </td> <td>3984985        </td> <td>4009060        </td> <td>4035053        </td> <td>4009037        </td> <td>3921526        </td>\n",
       "        </tr>\n",
       "        <tr>\n",
       "            <td>0   </td> <td>4   </td> <td>4063170      </td> <td>4063186          </td> <td>4077511        </td> <td>4122252        </td> <td>4112849        </td> <td>3994539        </td> <td>4006407        </td> <td>4022785        </td> <td>3992241        </td> <td>4000394        </td> <td>4021907        </td> <td>4045996        </td> <td>4017847        </td>\n",
       "        </tr>\n",
       "        <tr>\n",
       "            <td>0   </td> <td>5   </td> <td>4056858      </td> <td>4056872          </td> <td>4064653        </td> <td>4087770        </td> <td>4132349        </td> <td>4123745        </td> <td>4007123        </td> <td>4020489        </td> <td>4038022        </td> <td>4007233        </td> <td>4012789        </td> <td>4032231        </td> <td>4054336        </td>\n",
       "        </tr>\n",
       "        <tr>\n",
       "            <td>0   </td> <td>6   </td> <td>4066381      </td> <td>4066412          </td> <td>4073031        </td> <td>4075153        </td> <td>4097860        </td> <td>4142923        </td> <td>4135738        </td> <td>4020428        </td> <td>4034969        </td> <td>4052428        </td> <td>4019106        </td> <td>4022432        </td> <td>4040169        </td>\n",
       "        </tr>\n",
       "        <tr>\n",
       "            <td>0   </td> <td>7   </td> <td>4030579      </td> <td>4030594          </td> <td>4043100        </td> <td>4083399        </td> <td>4085255        </td> <td>4108453        </td> <td>4154947        </td> <td>4148711        </td> <td>4034355        </td> <td>4048430        </td> <td>4063647        </td> <td>4027876        </td> <td>4029753        </td>\n",
       "        </tr>\n",
       "        <tr>\n",
       "            <td>0   </td> <td>8   </td> <td>4046486      </td> <td>4046497          </td> <td>4025624        </td> <td>4053313        </td> <td>4093553        </td> <td>4096033        </td> <td>4120476        </td> <td>4167765        </td> <td>4162142        </td> <td>4047130        </td> <td>4059209        </td> <td>4071894        </td> <td>4034785        </td>\n",
       "        </tr>\n",
       "        <tr>\n",
       "            <td>0   </td> <td>9   </td> <td>4148353      </td> <td>4148369          </td> <td>4125413        </td> <td>4035854        </td> <td>4063662        </td> <td>4104437        </td> <td>4107986        </td> <td>4133426        </td> <td>4181069        </td> <td>4175085        </td> <td>4058207        </td> <td>4067320        </td> <td>4078668        </td>\n",
       "        </tr>\n",
       "    </tbody>\n",
       "</table>\n",
       "<p>... (296 rows omitted)</p>"
      ],
      "text/plain": [
       "SEX  | AGE  | CENSUS2010POP | ESTIMATESBASE2010 | POPESTIMATE2010 | POPESTIMATE2011 | POPESTIMATE2012 | POPESTIMATE2013 | POPESTIMATE2014 | POPESTIMATE2015 | POPESTIMATE2016 | POPESTIMATE2017 | POPESTIMATE2018 | POPESTIMATE2019 | POPESTIMATE2020\n",
       "0    | 0    | 3944153       | 3944160           | 3951495         | 3963264         | 3926731         | 3931411         | 3954973         | 3984144         | 3963268         | 3882437         | 3826908         | 3762227         | 3735010\n",
       "0    | 1    | 3978070       | 3978090           | 3957904         | 3966768         | 3978210         | 3943348         | 3949559         | 3973828         | 4003586         | 3981864         | 3897917         | 3842257         | 3773884\n",
       "0    | 2    | 4096929       | 4096939           | 4090799         | 3971498         | 3980139         | 3993047         | 3960015         | 3967672         | 3992657         | 4021261         | 3996742         | 3911822         | 3853025\n",
       "0    | 3    | 4119040       | 4119051           | 4111869         | 4102429         | 3983007         | 3992839         | 4007852         | 3976277         | 3984985         | 4009060         | 4035053         | 4009037         | 3921526\n",
       "0    | 4    | 4063170       | 4063186           | 4077511         | 4122252         | 4112849         | 3994539         | 4006407         | 4022785         | 3992241         | 4000394         | 4021907         | 4045996         | 4017847\n",
       "0    | 5    | 4056858       | 4056872           | 4064653         | 4087770         | 4132349         | 4123745         | 4007123         | 4020489         | 4038022         | 4007233         | 4012789         | 4032231         | 4054336\n",
       "0    | 6    | 4066381       | 4066412           | 4073031         | 4075153         | 4097860         | 4142923         | 4135738         | 4020428         | 4034969         | 4052428         | 4019106         | 4022432         | 4040169\n",
       "0    | 7    | 4030579       | 4030594           | 4043100         | 4083399         | 4085255         | 4108453         | 4154947         | 4148711         | 4034355         | 4048430         | 4063647         | 4027876         | 4029753\n",
       "0    | 8    | 4046486       | 4046497           | 4025624         | 4053313         | 4093553         | 4096033         | 4120476         | 4167765         | 4162142         | 4047130         | 4059209         | 4071894         | 4034785\n",
       "0    | 9    | 4148353       | 4148369           | 4125413         | 4035854         | 4063662         | 4104437         | 4107986         | 4133426         | 4181069         | 4175085         | 4058207         | 4067320         | 4078668\n",
       "... (296 rows omitted)"
      ]
     },
     "execution_count": 24,
     "metadata": {},
     "output_type": "execute_result"
    }
   ],
   "source": [
    "\n",
    "data = 'http://www2.census.gov/programs-surveys/popest/datasets/2010-2020/national/asrh/nc-est2020-agesex-res.csv'\n",
    "\n",
    "# A local copy can be accessed here in case census.gov moves the file:\n",
    "# data = path_data + 'nc-est2015-agesex-res.csv'\n",
    "\n",
    "full_census_table = Table.read_table(data)\n",
    "full_census_table"
   ]
  },
  {
   "cell_type": "code",
   "execution_count": 5,
   "metadata": {},
   "outputs": [
    {
     "data": {
      "text/html": [
       "<table border=\"1\" class=\"dataframe\">\n",
       "    <thead>\n",
       "        <tr>\n",
       "            <th>SEX</th> <th>AGE</th> <th>POPESTIMATE2010</th> <th>POPESTIMATE2020</th>\n",
       "        </tr>\n",
       "    </thead>\n",
       "    <tbody>\n",
       "        <tr>\n",
       "            <td>0   </td> <td>0   </td> <td>3951495        </td> <td>3735010        </td>\n",
       "        </tr>\n",
       "        <tr>\n",
       "            <td>0   </td> <td>1   </td> <td>3957904        </td> <td>3773884        </td>\n",
       "        </tr>\n",
       "        <tr>\n",
       "            <td>0   </td> <td>2   </td> <td>4090799        </td> <td>3853025        </td>\n",
       "        </tr>\n",
       "        <tr>\n",
       "            <td>0   </td> <td>3   </td> <td>4111869        </td> <td>3921526        </td>\n",
       "        </tr>\n",
       "        <tr>\n",
       "            <td>0   </td> <td>4   </td> <td>4077511        </td> <td>4017847        </td>\n",
       "        </tr>\n",
       "        <tr>\n",
       "            <td>0   </td> <td>5   </td> <td>4064653        </td> <td>4054336        </td>\n",
       "        </tr>\n",
       "        <tr>\n",
       "            <td>0   </td> <td>6   </td> <td>4073031        </td> <td>4040169        </td>\n",
       "        </tr>\n",
       "        <tr>\n",
       "            <td>0   </td> <td>7   </td> <td>4043100        </td> <td>4029753        </td>\n",
       "        </tr>\n",
       "        <tr>\n",
       "            <td>0   </td> <td>8   </td> <td>4025624        </td> <td>4034785        </td>\n",
       "        </tr>\n",
       "        <tr>\n",
       "            <td>0   </td> <td>9   </td> <td>4125413        </td> <td>4078668        </td>\n",
       "        </tr>\n",
       "    </tbody>\n",
       "</table>\n",
       "<p>... (296 rows omitted)</p>"
      ],
      "text/plain": [
       "SEX  | AGE  | POPESTIMATE2010 | POPESTIMATE2020\n",
       "0    | 0    | 3951495         | 3735010\n",
       "0    | 1    | 3957904         | 3773884\n",
       "0    | 2    | 4090799         | 3853025\n",
       "0    | 3    | 4111869         | 3921526\n",
       "0    | 4    | 4077511         | 4017847\n",
       "0    | 5    | 4064653         | 4054336\n",
       "0    | 6    | 4073031         | 4040169\n",
       "0    | 7    | 4043100         | 4029753\n",
       "0    | 8    | 4025624         | 4034785\n",
       "0    | 9    | 4125413         | 4078668\n",
       "... (296 rows omitted)"
      ]
     },
     "execution_count": 5,
     "metadata": {},
     "output_type": "execute_result"
    }
   ],
   "source": [
    "partial_census_table = full_census_table.select('SEX', 'AGE', 'POPESTIMATE2010', 'POPESTIMATE2020')\n",
    "partial_census_table"
   ]
  },
  {
   "cell_type": "code",
   "execution_count": 26,
   "metadata": {},
   "outputs": [
    {
     "data": {
      "text/plain": [
       "array([   0,    3,    6,    9,   12,   15,   18,   21,   24,   27,   30,\n",
       "         33,   36,   39,   42,   45,   48,   51,   54,   57,   60,   63,\n",
       "         66,   69,   72,   75,   78,   81,   84,   87,   90,   93,   96,\n",
       "         99,  102,  105,  108,  111,  114,  117,  120,  123,  126,  129,\n",
       "        132,  135,  138,  141,  144,  147,  150,  153,  156,  159,  162,\n",
       "        165,  168,  171,  174,  177,  180,  183,  186,  189,  192,  195,\n",
       "        198,  201,  204,  207,  210,  213,  216,  219,  222,  225,  228,\n",
       "        231,  234,  237,  240,  243,  246,  249,  252,  255,  258,  261,\n",
       "        264,  267,  270,  273,  276,  279,  282,  285,  288,  291,  294,\n",
       "        297,  300, 2997,    0,    3,    6,    9,   12,   15,   18,   21,\n",
       "         24,   27,   30,   33,   36,   39,   42,   45,   48,   51,   54,\n",
       "         57,   60,   63,   66,   69,   72,   75,   78,   81,   84,   87,\n",
       "         90,   93,   96,   99,  102,  105,  108,  111,  114,  117,  120,\n",
       "        123,  126,  129,  132,  135,  138,  141,  144,  147,  150,  153,\n",
       "        156,  159,  162,  165,  168,  171,  174,  177,  180,  183,  186,\n",
       "        189,  192,  195,  198,  201,  204,  207,  210,  213,  216,  219,\n",
       "        222,  225,  228,  231,  234,  237,  240,  243,  246,  249,  252,\n",
       "        255,  258,  261,  264,  267,  270,  273,  276,  279,  282,  285,\n",
       "        288,  291,  294,  297,  300, 2997,    0,    3,    6,    9,   12,\n",
       "         15,   18,   21,   24,   27,   30,   33,   36,   39,   42,   45,\n",
       "         48,   51,   54,   57,   60,   63,   66,   69,   72,   75,   78,\n",
       "         81,   84,   87,   90,   93,   96,   99,  102,  105,  108,  111,\n",
       "        114,  117,  120,  123,  126,  129,  132,  135,  138,  141,  144,\n",
       "        147,  150,  153,  156,  159,  162,  165,  168,  171,  174,  177,\n",
       "        180,  183,  186,  189,  192,  195,  198,  201,  204,  207,  210,\n",
       "        213,  216,  219,  222,  225,  228,  231,  234,  237,  240,  243,\n",
       "        246,  249,  252,  255,  258,  261,  264,  267,  270,  273,  276,\n",
       "        279,  282,  285,  288,  291,  294,  297,  300, 2997])"
      ]
     },
     "execution_count": 26,
     "metadata": {},
     "output_type": "execute_result"
    }
   ],
   "source": [
    "3*partial_census_table.column(\"AGE\")"
   ]
  },
  {
   "cell_type": "code",
   "execution_count": 31,
   "metadata": {},
   "outputs": [
    {
     "data": {
      "text/html": [
       "<table border=\"1\" class=\"dataframe\">\n",
       "    <thead>\n",
       "        <tr>\n",
       "            <th>GENDER</th> <th>AGE</th> <th>2010</th> <th>2020</th>\n",
       "        </tr>\n",
       "    </thead>\n",
       "    <tbody>\n",
       "        <tr>\n",
       "            <td>0     </td> <td>0   </td> <td>3951495</td> <td>3735010</td>\n",
       "        </tr>\n",
       "        <tr>\n",
       "            <td>0     </td> <td>1   </td> <td>3957904</td> <td>3773884</td>\n",
       "        </tr>\n",
       "        <tr>\n",
       "            <td>0     </td> <td>2   </td> <td>4090799</td> <td>3853025</td>\n",
       "        </tr>\n",
       "        <tr>\n",
       "            <td>0     </td> <td>3   </td> <td>4111869</td> <td>3921526</td>\n",
       "        </tr>\n",
       "        <tr>\n",
       "            <td>0     </td> <td>4   </td> <td>4077511</td> <td>4017847</td>\n",
       "        </tr>\n",
       "        <tr>\n",
       "            <td>0     </td> <td>5   </td> <td>4064653</td> <td>4054336</td>\n",
       "        </tr>\n",
       "        <tr>\n",
       "            <td>0     </td> <td>6   </td> <td>4073031</td> <td>4040169</td>\n",
       "        </tr>\n",
       "        <tr>\n",
       "            <td>0     </td> <td>7   </td> <td>4043100</td> <td>4029753</td>\n",
       "        </tr>\n",
       "        <tr>\n",
       "            <td>0     </td> <td>8   </td> <td>4025624</td> <td>4034785</td>\n",
       "        </tr>\n",
       "        <tr>\n",
       "            <td>0     </td> <td>9   </td> <td>4125413</td> <td>4078668</td>\n",
       "        </tr>\n",
       "    </tbody>\n",
       "</table>\n",
       "<p>... (296 rows omitted)</p>"
      ],
      "text/plain": [
       "GENDER | AGE  | 2010    | 2020\n",
       "0      | 0    | 3951495 | 3735010\n",
       "0      | 1    | 3957904 | 3773884\n",
       "0      | 2    | 4090799 | 3853025\n",
       "0      | 3    | 4111869 | 3921526\n",
       "0      | 4    | 4077511 | 4017847\n",
       "0      | 5    | 4064653 | 4054336\n",
       "0      | 6    | 4073031 | 4040169\n",
       "0      | 7    | 4043100 | 4029753\n",
       "0      | 8    | 4025624 | 4034785\n",
       "0      | 9    | 4125413 | 4078668\n",
       "... (296 rows omitted)"
      ]
     },
     "execution_count": 31,
     "metadata": {},
     "output_type": "execute_result"
    }
   ],
   "source": [
    "us_pop = partial_census_table.relabeled('POPESTIMATE2010', '2010').relabeled('POPESTIMATE2020', '2020').relabeled('SEX','GENDER')\n",
    "us_pop"
   ]
  },
  {
   "cell_type": "markdown",
   "metadata": {},
   "source": [
    "### Population Change: Compute new arrays or apply Function"
   ]
  },
  {
   "cell_type": "code",
   "execution_count": 28,
   "metadata": {},
   "outputs": [
    {
     "data": {
      "text/html": [
       "<table border=\"1\" class=\"dataframe\">\n",
       "    <thead>\n",
       "        <tr>\n",
       "            <th>GENDER</th> <th>AGE</th> <th>2010</th> <th>2020</th> <th>Change</th> <th>Percent Change</th>\n",
       "        </tr>\n",
       "    </thead>\n",
       "    <tbody>\n",
       "        <tr>\n",
       "            <td>0     </td> <td>0   </td> <td>3951495</td> <td>3735010</td> <td>-216485</td> <td>-5.48%        </td>\n",
       "        </tr>\n",
       "        <tr>\n",
       "            <td>0     </td> <td>1   </td> <td>3957904</td> <td>3773884</td> <td>-184020</td> <td>-4.65%        </td>\n",
       "        </tr>\n",
       "        <tr>\n",
       "            <td>0     </td> <td>2   </td> <td>4090799</td> <td>3853025</td> <td>-237774</td> <td>-5.81%        </td>\n",
       "        </tr>\n",
       "        <tr>\n",
       "            <td>0     </td> <td>3   </td> <td>4111869</td> <td>3921526</td> <td>-190343</td> <td>-4.63%        </td>\n",
       "        </tr>\n",
       "        <tr>\n",
       "            <td>0     </td> <td>4   </td> <td>4077511</td> <td>4017847</td> <td>-59664 </td> <td>-1.46%        </td>\n",
       "        </tr>\n",
       "        <tr>\n",
       "            <td>0     </td> <td>5   </td> <td>4064653</td> <td>4054336</td> <td>-10317 </td> <td>-0.25%        </td>\n",
       "        </tr>\n",
       "        <tr>\n",
       "            <td>0     </td> <td>6   </td> <td>4073031</td> <td>4040169</td> <td>-32862 </td> <td>-0.81%        </td>\n",
       "        </tr>\n",
       "        <tr>\n",
       "            <td>0     </td> <td>7   </td> <td>4043100</td> <td>4029753</td> <td>-13347 </td> <td>-0.33%        </td>\n",
       "        </tr>\n",
       "        <tr>\n",
       "            <td>0     </td> <td>8   </td> <td>4025624</td> <td>4034785</td> <td>9161   </td> <td>0.23%         </td>\n",
       "        </tr>\n",
       "        <tr>\n",
       "            <td>0     </td> <td>9   </td> <td>4125413</td> <td>4078668</td> <td>-46745 </td> <td>-1.13%        </td>\n",
       "        </tr>\n",
       "    </tbody>\n",
       "</table>\n",
       "<p>... (296 rows omitted)</p>"
      ],
      "text/plain": [
       "GENDER | AGE  | 2010    | 2020    | Change  | Percent Change\n",
       "0      | 0    | 3951495 | 3735010 | -216485 | -5.48%\n",
       "0      | 1    | 3957904 | 3773884 | -184020 | -4.65%\n",
       "0      | 2    | 4090799 | 3853025 | -237774 | -5.81%\n",
       "0      | 3    | 4111869 | 3921526 | -190343 | -4.63%\n",
       "0      | 4    | 4077511 | 4017847 | -59664  | -1.46%\n",
       "0      | 5    | 4064653 | 4054336 | -10317  | -0.25%\n",
       "0      | 6    | 4073031 | 4040169 | -32862  | -0.81%\n",
       "0      | 7    | 4043100 | 4029753 | -13347  | -0.33%\n",
       "0      | 8    | 4025624 | 4034785 | 9161    | 0.23%\n",
       "0      | 9    | 4125413 | 4078668 | -46745  | -1.13%\n",
       "... (296 rows omitted)"
      ]
     },
     "execution_count": 28,
     "metadata": {},
     "output_type": "execute_result"
    }
   ],
   "source": [
    "change = us_pop.column('2020') - us_pop.column('2010')\n",
    "ratio = us_pop.column('2020')/us_pop.column('2010')\n",
    "\n",
    "census = us_pop.with_columns(\n",
    "    'Change', change,\n",
    "    'Percent Change', ratio-1\n",
    ")\n",
    "census.set_format('Percent Change', PercentFormatter)"
   ]
  },
  {
   "cell_type": "code",
   "execution_count": 29,
   "metadata": {},
   "outputs": [],
   "source": [
    "def pchange(x1,x2):\n",
    "    \"\"\"Percent change computation\"\"\"\n",
    "    ratio = x2/x1\n",
    "    return ratio-1"
   ]
  },
  {
   "cell_type": "code",
   "execution_count": 34,
   "metadata": {},
   "outputs": [
    {
     "data": {
      "text/html": [
       "<table border=\"1\" class=\"dataframe\">\n",
       "    <thead>\n",
       "        <tr>\n",
       "            <th>GENDER</th> <th>AGE</th> <th>2010</th> <th>2020</th> <th>Percent Change from Function</th>\n",
       "        </tr>\n",
       "    </thead>\n",
       "    <tbody>\n",
       "        <tr>\n",
       "            <td>0     </td> <td>0   </td> <td>3951495</td> <td>3735010</td> <td>-5.48%                      </td>\n",
       "        </tr>\n",
       "        <tr>\n",
       "            <td>0     </td> <td>1   </td> <td>3957904</td> <td>3773884</td> <td>-4.65%                      </td>\n",
       "        </tr>\n",
       "        <tr>\n",
       "            <td>0     </td> <td>2   </td> <td>4090799</td> <td>3853025</td> <td>-5.81%                      </td>\n",
       "        </tr>\n",
       "        <tr>\n",
       "            <td>0     </td> <td>3   </td> <td>4111869</td> <td>3921526</td> <td>-4.63%                      </td>\n",
       "        </tr>\n",
       "        <tr>\n",
       "            <td>0     </td> <td>4   </td> <td>4077511</td> <td>4017847</td> <td>-1.46%                      </td>\n",
       "        </tr>\n",
       "        <tr>\n",
       "            <td>0     </td> <td>5   </td> <td>4064653</td> <td>4054336</td> <td>-0.25%                      </td>\n",
       "        </tr>\n",
       "        <tr>\n",
       "            <td>0     </td> <td>6   </td> <td>4073031</td> <td>4040169</td> <td>-0.81%                      </td>\n",
       "        </tr>\n",
       "        <tr>\n",
       "            <td>0     </td> <td>7   </td> <td>4043100</td> <td>4029753</td> <td>-0.33%                      </td>\n",
       "        </tr>\n",
       "        <tr>\n",
       "            <td>0     </td> <td>8   </td> <td>4025624</td> <td>4034785</td> <td>0.23%                       </td>\n",
       "        </tr>\n",
       "        <tr>\n",
       "            <td>0     </td> <td>9   </td> <td>4125413</td> <td>4078668</td> <td>-1.13%                      </td>\n",
       "        </tr>\n",
       "    </tbody>\n",
       "</table>\n",
       "<p>... (296 rows omitted)</p>"
      ],
      "text/plain": [
       "GENDER | AGE  | 2010    | 2020    | Percent Change from Function\n",
       "0      | 0    | 3951495 | 3735010 | -5.48%\n",
       "0      | 1    | 3957904 | 3773884 | -4.65%\n",
       "0      | 2    | 4090799 | 3853025 | -5.81%\n",
       "0      | 3    | 4111869 | 3921526 | -4.63%\n",
       "0      | 4    | 4077511 | 4017847 | -1.46%\n",
       "0      | 5    | 4064653 | 4054336 | -0.25%\n",
       "0      | 6    | 4073031 | 4040169 | -0.81%\n",
       "0      | 7    | 4043100 | 4029753 | -0.33%\n",
       "0      | 8    | 4025624 | 4034785 | 0.23%\n",
       "0      | 9    | 4125413 | 4078668 | -1.13%\n",
       "... (296 rows omitted)"
      ]
     },
     "execution_count": 34,
     "metadata": {},
     "output_type": "execute_result"
    }
   ],
   "source": [
    "census2 = us_pop.with_columns(\"Percent Change from Function\",us_pop.apply(pchange,\"2010\",\"2020\"))\n",
    "census2.set_format('Percent Change from Function', PercentFormatter)\n",
    "census2"
   ]
  },
  {
   "cell_type": "code",
   "execution_count": 12,
   "metadata": {},
   "outputs": [
    {
     "data": {
      "text/html": [
       "<table border=\"1\" class=\"dataframe\">\n",
       "    <thead>\n",
       "        <tr>\n",
       "            <th>GENDER</th> <th>AGE</th> <th>2010</th> <th>2020</th> <th>Change</th> <th>Percent Change</th>\n",
       "        </tr>\n",
       "    </thead>\n",
       "    <tbody>\n",
       "        <tr>\n",
       "            <td>0     </td> <td>0   </td> <td>3,951,495</td> <td>3,735,010</td> <td>-216485</td> <td>-5.48%        </td>\n",
       "        </tr>\n",
       "        <tr>\n",
       "            <td>0     </td> <td>1   </td> <td>3,957,904</td> <td>3,773,884</td> <td>-184020</td> <td>-4.65%        </td>\n",
       "        </tr>\n",
       "        <tr>\n",
       "            <td>0     </td> <td>2   </td> <td>4,090,799</td> <td>3,853,025</td> <td>-237774</td> <td>-5.81%        </td>\n",
       "        </tr>\n",
       "        <tr>\n",
       "            <td>0     </td> <td>3   </td> <td>4,111,869</td> <td>3,921,526</td> <td>-190343</td> <td>-4.63%        </td>\n",
       "        </tr>\n",
       "        <tr>\n",
       "            <td>0     </td> <td>4   </td> <td>4,077,511</td> <td>4,017,847</td> <td>-59664 </td> <td>-1.46%        </td>\n",
       "        </tr>\n",
       "        <tr>\n",
       "            <td>0     </td> <td>5   </td> <td>4,064,653</td> <td>4,054,336</td> <td>-10317 </td> <td>-0.25%        </td>\n",
       "        </tr>\n",
       "        <tr>\n",
       "            <td>0     </td> <td>6   </td> <td>4,073,031</td> <td>4,040,169</td> <td>-32862 </td> <td>-0.81%        </td>\n",
       "        </tr>\n",
       "        <tr>\n",
       "            <td>0     </td> <td>7   </td> <td>4,043,100</td> <td>4,029,753</td> <td>-13347 </td> <td>-0.33%        </td>\n",
       "        </tr>\n",
       "        <tr>\n",
       "            <td>0     </td> <td>8   </td> <td>4,025,624</td> <td>4,034,785</td> <td>9161   </td> <td>0.23%         </td>\n",
       "        </tr>\n",
       "        <tr>\n",
       "            <td>0     </td> <td>9   </td> <td>4,125,413</td> <td>4,078,668</td> <td>-46745 </td> <td>-1.13%        </td>\n",
       "        </tr>\n",
       "    </tbody>\n",
       "</table>\n",
       "<p>... (296 rows omitted)</p>"
      ],
      "text/plain": [
       "GENDER | AGE  | 2010      | 2020      | Change  | Percent Change\n",
       "0      | 0    | 3,951,495 | 3,735,010 | -216485 | -5.48%\n",
       "0      | 1    | 3,957,904 | 3,773,884 | -184020 | -4.65%\n",
       "0      | 2    | 4,090,799 | 3,853,025 | -237774 | -5.81%\n",
       "0      | 3    | 4,111,869 | 3,921,526 | -190343 | -4.63%\n",
       "0      | 4    | 4,077,511 | 4,017,847 | -59664  | -1.46%\n",
       "0      | 5    | 4,064,653 | 4,054,336 | -10317  | -0.25%\n",
       "0      | 6    | 4,073,031 | 4,040,169 | -32862  | -0.81%\n",
       "0      | 7    | 4,043,100 | 4,029,753 | -13347  | -0.33%\n",
       "0      | 8    | 4,025,624 | 4,034,785 | 9161    | 0.23%\n",
       "0      | 9    | 4,125,413 | 4,078,668 | -46745  | -1.13%\n",
       "... (296 rows omitted)"
      ]
     },
     "execution_count": 12,
     "metadata": {},
     "output_type": "execute_result"
    }
   ],
   "source": [
    "census.set_format(['2010','2020'], NumberFormatter)"
   ]
  },
  {
   "cell_type": "code",
   "execution_count": 14,
   "metadata": {},
   "outputs": [
    {
     "data": {
      "text/html": [
       "<table border=\"1\" class=\"dataframe\">\n",
       "    <thead>\n",
       "        <tr>\n",
       "            <th>SEX</th> <th>AGE</th> <th>2010</th> <th>2020</th> <th>Change</th> <th>Percent Change</th>\n",
       "        </tr>\n",
       "    </thead>\n",
       "    <tbody>\n",
       "        <tr>\n",
       "            <td>2   </td> <td>0   </td> <td>1932979</td> <td>1826869</td> <td>-106110</td> <td>-5.49%        </td>\n",
       "        </tr>\n",
       "        <tr>\n",
       "            <td>2   </td> <td>1   </td> <td>1937584</td> <td>1847230</td> <td>-90354 </td> <td>-4.66%        </td>\n",
       "        </tr>\n",
       "        <tr>\n",
       "            <td>2   </td> <td>2   </td> <td>2002157</td> <td>1884480</td> <td>-117677</td> <td>-5.88%        </td>\n",
       "        </tr>\n",
       "        <tr>\n",
       "            <td>2   </td> <td>3   </td> <td>2010632</td> <td>1916691</td> <td>-93941 </td> <td>-4.67%        </td>\n",
       "        </tr>\n",
       "        <tr>\n",
       "            <td>2   </td> <td>4   </td> <td>1993216</td> <td>1964865</td> <td>-28351 </td> <td>-1.42%        </td>\n",
       "        </tr>\n",
       "        <tr>\n",
       "            <td>2   </td> <td>5   </td> <td>1988101</td> <td>1981945</td> <td>-6156  </td> <td>-0.31%        </td>\n",
       "        </tr>\n",
       "        <tr>\n",
       "            <td>2   </td> <td>6   </td> <td>1993604</td> <td>1972968</td> <td>-20636 </td> <td>-1.04%        </td>\n",
       "        </tr>\n",
       "        <tr>\n",
       "            <td>2   </td> <td>7   </td> <td>1979937</td> <td>1970498</td> <td>-9439  </td> <td>-0.48%        </td>\n",
       "        </tr>\n",
       "        <tr>\n",
       "            <td>2   </td> <td>8   </td> <td>1971169</td> <td>1972830</td> <td>1661   </td> <td>0.08%         </td>\n",
       "        </tr>\n",
       "        <tr>\n",
       "            <td>2   </td> <td>9   </td> <td>2018387</td> <td>1992717</td> <td>-25670 </td> <td>-1.27%        </td>\n",
       "        </tr>\n",
       "    </tbody>\n",
       "</table>\n",
       "<p>... (287 rows omitted)</p>"
      ],
      "text/plain": [
       "SEX  | AGE  | 2010    | 2020    | Change  | Percent Change\n",
       "2    | 0    | 1932979 | 1826869 | -106110 | -5.49%\n",
       "2    | 1    | 1937584 | 1847230 | -90354  | -4.66%\n",
       "2    | 2    | 2002157 | 1884480 | -117677 | -5.88%\n",
       "2    | 3    | 2010632 | 1916691 | -93941  | -4.67%\n",
       "2    | 4    | 1993216 | 1964865 | -28351  | -1.42%\n",
       "2    | 5    | 1988101 | 1981945 | -6156   | -0.31%\n",
       "2    | 6    | 1993604 | 1972968 | -20636  | -1.04%\n",
       "2    | 7    | 1979937 | 1970498 | -9439   | -0.48%\n",
       "2    | 8    | 1971169 | 1972830 | 1661    | 0.08%\n",
       "2    | 9    | 2018387 | 1992717 | -25670  | -1.27%\n",
       "... (287 rows omitted)"
      ]
     },
     "execution_count": 14,
     "metadata": {},
     "output_type": "execute_result"
    }
   ],
   "source": [
    "census.where(1,are.below(99)).sort('SEX', descending=True)"
   ]
  },
  {
   "cell_type": "code",
   "execution_count": 35,
   "metadata": {},
   "outputs": [
    {
     "data": {
      "text/html": [
       "<table border=\"1\" class=\"dataframe\">\n",
       "    <thead>\n",
       "        <tr>\n",
       "            <th>GENDER</th> <th>AGE</th> <th>Percent Change</th>\n",
       "        </tr>\n",
       "    </thead>\n",
       "    <tbody>\n",
       "        <tr>\n",
       "            <td>0     </td> <td>0   </td> <td>-5.48%        </td>\n",
       "        </tr>\n",
       "        <tr>\n",
       "            <td>0     </td> <td>1   </td> <td>-4.65%        </td>\n",
       "        </tr>\n",
       "        <tr>\n",
       "            <td>0     </td> <td>2   </td> <td>-5.81%        </td>\n",
       "        </tr>\n",
       "        <tr>\n",
       "            <td>0     </td> <td>3   </td> <td>-4.63%        </td>\n",
       "        </tr>\n",
       "        <tr>\n",
       "            <td>0     </td> <td>4   </td> <td>-1.46%        </td>\n",
       "        </tr>\n",
       "        <tr>\n",
       "            <td>0     </td> <td>5   </td> <td>-0.25%        </td>\n",
       "        </tr>\n",
       "        <tr>\n",
       "            <td>0     </td> <td>6   </td> <td>-0.81%        </td>\n",
       "        </tr>\n",
       "        <tr>\n",
       "            <td>0     </td> <td>7   </td> <td>-0.33%        </td>\n",
       "        </tr>\n",
       "        <tr>\n",
       "            <td>0     </td> <td>8   </td> <td>0.23%         </td>\n",
       "        </tr>\n",
       "        <tr>\n",
       "            <td>0     </td> <td>9   </td> <td>-1.13%        </td>\n",
       "        </tr>\n",
       "    </tbody>\n",
       "</table>\n",
       "<p>... (287 rows omitted)</p>"
      ],
      "text/plain": [
       "GENDER | AGE  | Percent Change\n",
       "0      | 0    | -5.48%\n",
       "0      | 1    | -4.65%\n",
       "0      | 2    | -5.81%\n",
       "0      | 3    | -4.63%\n",
       "0      | 4    | -1.46%\n",
       "0      | 5    | -0.25%\n",
       "0      | 6    | -0.81%\n",
       "0      | 7    | -0.33%\n",
       "0      | 8    | 0.23%\n",
       "0      | 9    | -1.13%\n",
       "... (287 rows omitted)"
      ]
     },
     "execution_count": 35,
     "metadata": {},
     "output_type": "execute_result"
    }
   ],
   "source": [
    "selection = census.where(1,are.below(99)).select(\"GENDER\",\"AGE\",\"Percent Change\")\n",
    "selection"
   ]
  },
  {
   "cell_type": "code",
   "execution_count": 36,
   "metadata": {},
   "outputs": [
    {
     "data": {
      "image/png": "[encoded data removed]",
      "text/plain": [
       "<Figure size 432x432 with 1 Axes>"
      ]
     },
     "metadata": {},
     "output_type": "display_data"
    }
   ],
   "source": [
    "selection.plot(\"AGE\",\"Percent Change\")"
   ]
  },
  {
   "cell_type": "code",
   "execution_count": 21,
   "metadata": {},
   "outputs": [
    {
     "data": {
      "text/html": [
       "<table border=\"1\" class=\"dataframe\">\n",
       "    <thead>\n",
       "        <tr>\n",
       "            <th>AGE</th> <th>2010</th> <th>2020</th>\n",
       "        </tr>\n",
       "    </thead>\n",
       "    <tbody>\n",
       "        <tr>\n",
       "            <td>0   </td> <td>3,951,495</td> <td>3,735,010</td>\n",
       "        </tr>\n",
       "        <tr>\n",
       "            <td>1   </td> <td>3,957,904</td> <td>3,773,884</td>\n",
       "        </tr>\n",
       "        <tr>\n",
       "            <td>2   </td> <td>4,090,799</td> <td>3,853,025</td>\n",
       "        </tr>\n",
       "        <tr>\n",
       "            <td>3   </td> <td>4,111,869</td> <td>3,921,526</td>\n",
       "        </tr>\n",
       "        <tr>\n",
       "            <td>4   </td> <td>4,077,511</td> <td>4,017,847</td>\n",
       "        </tr>\n",
       "        <tr>\n",
       "            <td>5   </td> <td>4,064,653</td> <td>4,054,336</td>\n",
       "        </tr>\n",
       "        <tr>\n",
       "            <td>6   </td> <td>4,073,031</td> <td>4,040,169</td>\n",
       "        </tr>\n",
       "        <tr>\n",
       "            <td>7   </td> <td>4,043,100</td> <td>4,029,753</td>\n",
       "        </tr>\n",
       "        <tr>\n",
       "            <td>8   </td> <td>4,025,624</td> <td>4,034,785</td>\n",
       "        </tr>\n",
       "        <tr>\n",
       "            <td>9   </td> <td>4,125,413</td> <td>4,078,668</td>\n",
       "        </tr>\n",
       "    </tbody>\n",
       "</table>\n",
       "<p>... (89 rows omitted)</p>"
      ],
      "text/plain": [
       "AGE  | 2010      | 2020\n",
       "0    | 3,951,495 | 3,735,010\n",
       "1    | 3,957,904 | 3,773,884\n",
       "2    | 4,090,799 | 3,853,025\n",
       "3    | 4,111,869 | 3,921,526\n",
       "4    | 4,077,511 | 4,017,847\n",
       "5    | 4,064,653 | 4,054,336\n",
       "6    | 4,073,031 | 4,040,169\n",
       "7    | 4,043,100 | 4,029,753\n",
       "8    | 4,025,624 | 4,034,785\n",
       "9    | 4,125,413 | 4,078,668\n",
       "... (89 rows omitted)"
      ]
     },
     "execution_count": 21,
     "metadata": {},
     "output_type": "execute_result"
    }
   ],
   "source": [
    "selection = census.where(1,are.below(99)).where(\"GENDER\",0).select(\"AGE\",\"2010\",\"2020\")\n",
    "selection"
   ]
  },
  {
   "cell_type": "code",
   "execution_count": 22,
   "metadata": {},
   "outputs": [
    {
     "data": {
      "image/png": "[encoded data removed]",
      "text/plain": [
       "<Figure size 432x432 with 1 Axes>"
      ]
     },
     "metadata": {},
     "output_type": "display_data"
    }
   ],
   "source": [
    "selection.plot(\"AGE\")"
   ]
  },
  {
   "cell_type": "code",
   "execution_count": 20,
   "metadata": {},
   "outputs": [
    {
     "data": {
      "image/png": "[encoded data removed]",
      "text/plain": [
       "<Figure size 432x432 with 1 Axes>"
      ]
     },
     "metadata": {},
     "output_type": "display_data"
    }
   ],
   "source": [
    "census.sort('Change', descending=False).where(0,are.equal_to(2)).where(1,are.below(99)).plot(1,'Percent Change',0)"
   ]
  },
  {
   "cell_type": "code",
   "execution_count": 30,
   "metadata": {},
   "outputs": [
    {
     "data": {
      "text/html": [
       "<table border=\"1\" class=\"dataframe\">\n",
       "    <thead>\n",
       "        <tr>\n",
       "            <th>SEX</th> <th>AGE</th> <th>2010</th> <th>2020</th>\n",
       "        </tr>\n",
       "    </thead>\n",
       "    <tbody>\n",
       "        <tr>\n",
       "            <td>0   </td> <td>73  </td> <td>1750230</td> <td>3117385</td>\n",
       "        </tr>\n",
       "        <tr>\n",
       "            <td>1   </td> <td>73  </td> <td>794611 </td> <td>1442000</td>\n",
       "        </tr>\n",
       "        <tr>\n",
       "            <td>2   </td> <td>73  </td> <td>955619 </td> <td>1675385</td>\n",
       "        </tr>\n",
       "    </tbody>\n",
       "</table>"
      ],
      "text/plain": [
       "SEX  | AGE  | 2010    | 2020\n",
       "0    | 73   | 1750230 | 3117385\n",
       "1    | 73   | 794611  | 1442000\n",
       "2    | 73   | 955619  | 1675385"
      ]
     },
     "execution_count": 30,
     "metadata": {},
     "output_type": "execute_result"
    }
   ],
   "source": [
    "census.select(0,1,2,3).where('AGE',are.equal_to(73))"
   ]
  },
  {
   "cell_type": "code",
   "execution_count": null,
   "metadata": {},
   "outputs": [],
   "source": [
    "census.select(0,1,2,3).where('AGE',are.equal_to(73)).barh()"
   ]
  },
  {
   "cell_type": "code",
   "execution_count": 36,
   "metadata": {},
   "outputs": [
    {
     "data": {
      "image/png": "[encoded data removed]",
      "text/plain": [
       "<Figure size 360x360 with 1 Axes>"
      ]
     },
     "metadata": {},
     "output_type": "display_data"
    }
   ],
   "source": [
    "census.select(0,1,2,3).where('SEX',are.equal_to(2)).where('AGE',are.below(99)).scatter(1,2)"
   ]
  },
  {
   "cell_type": "code",
   "execution_count": 37,
   "metadata": {},
   "outputs": [
    {
     "data": {
      "image/png": "[encoded data removed]",
      "text/plain": [
       "<Figure size 360x360 with 1 Axes>"
      ]
     },
     "metadata": {},
     "output_type": "display_data"
    }
   ],
   "source": [
    "census.select(0,1,2,3).where('SEX',are.equal_to(1)).where('AGE',are.below(99)).scatter(1,2)"
   ]
  },
  {
   "cell_type": "code",
   "execution_count": 52,
   "metadata": {},
   "outputs": [
    {
     "data": {
      "text/html": [
       "<table border=\"1\" class=\"dataframe\">\n",
       "    <thead>\n",
       "        <tr>\n",
       "            <th>SEX</th> <th>AGE</th> <th>2010</th> <th>2020</th>\n",
       "        </tr>\n",
       "    </thead>\n",
       "    <tbody>\n",
       "        <tr>\n",
       "            <td>1   </td> <td>0   </td> <td>2018516</td> <td>1908141</td>\n",
       "        </tr>\n",
       "        <tr>\n",
       "            <td>1   </td> <td>1   </td> <td>2020320</td> <td>1926654</td>\n",
       "        </tr>\n",
       "        <tr>\n",
       "            <td>1   </td> <td>2   </td> <td>2088642</td> <td>1968545</td>\n",
       "        </tr>\n",
       "        <tr>\n",
       "            <td>1   </td> <td>3   </td> <td>2101237</td> <td>2004835</td>\n",
       "        </tr>\n",
       "        <tr>\n",
       "            <td>1   </td> <td>4   </td> <td>2084295</td> <td>2052982</td>\n",
       "        </tr>\n",
       "        <tr>\n",
       "            <td>1   </td> <td>5   </td> <td>2076552</td> <td>2072391</td>\n",
       "        </tr>\n",
       "        <tr>\n",
       "            <td>1   </td> <td>6   </td> <td>2079427</td> <td>2067201</td>\n",
       "        </tr>\n",
       "        <tr>\n",
       "            <td>1   </td> <td>7   </td> <td>2063163</td> <td>2059255</td>\n",
       "        </tr>\n",
       "        <tr>\n",
       "            <td>1   </td> <td>8   </td> <td>2054455</td> <td>2061955</td>\n",
       "        </tr>\n",
       "        <tr>\n",
       "            <td>1   </td> <td>9   </td> <td>2107026</td> <td>2085951</td>\n",
       "        </tr>\n",
       "    </tbody>\n",
       "</table>\n",
       "<p>... (92 rows omitted)</p>"
      ],
      "text/plain": [
       "SEX  | AGE  | 2010    | 2020\n",
       "1    | 0    | 2018516 | 1908141\n",
       "1    | 1    | 2020320 | 1926654\n",
       "1    | 2    | 2088642 | 1968545\n",
       "1    | 3    | 2101237 | 2004835\n",
       "1    | 4    | 2084295 | 2052982\n",
       "1    | 5    | 2076552 | 2072391\n",
       "1    | 6    | 2079427 | 2067201\n",
       "1    | 7    | 2063163 | 2059255\n",
       "1    | 8    | 2054455 | 2061955\n",
       "1    | 9    | 2107026 | 2085951\n",
       "... (92 rows omitted)"
      ]
     },
     "execution_count": 52,
     "metadata": {},
     "output_type": "execute_result"
    }
   ],
   "source": [
    "us_pop.where(0,1)"
   ]
  },
  {
   "cell_type": "markdown",
   "metadata": {},
   "source": [
    "###### Now explore a new question... perhaps ratio of genders at each AGE or difference between 2010 and 2020 for each AGE."
   ]
  },
  {
   "cell_type": "code",
   "execution_count": null,
   "metadata": {},
   "outputs": [],
   "source": []
  }
 ],
 "metadata": {
  "kernelspec": {
   "display_name": "Python 3",
   "language": "python",
   "name": "python3"
  },
  "language_info": {
   "codemirror_mode": {
    "name": "ipython",
    "version": 3
   },
   "file_extension": ".py",
   "mimetype": "text/x-python",
   "name": "python",
   "nbconvert_exporter": "python",
   "pygments_lexer": "ipython3",
   "version": "3.7.7"
  }
 },
 "nbformat": 4,
 "nbformat_minor": 4
}
