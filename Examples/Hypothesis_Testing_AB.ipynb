{
 "cells": [
  {
   "cell_type": "markdown",
   "metadata": {},
   "source": [
    "### Hypothesis Testing\n",
    "See Inferential Thinking: https://inferentialthinking.com/chapters/12/1/AB_Testing.html"
   ]
  },
  {
   "cell_type": "code",
   "execution_count": 1,
   "metadata": {},
   "outputs": [],
   "source": [
    "# Import Numpy and Datascience modules.\n",
    "import numpy as np\n",
    "from datascience import *\n",
    "import pandas as pd\n",
    "\n",
    "# Plotting \n",
    "import matplotlib\n",
    "%matplotlib inline\n",
    "import matplotlib.pyplot as plt\n",
    "plt.style.use('fivethirtyeight')\n",
    "import warnings\n",
    "warnings.simplefilter('ignore', UserWarning)"
   ]
  },
  {
   "cell_type": "markdown",
   "metadata": {},
   "source": [
    "#### Concussion in sports data\n",
    "See: http://users.stat.ufl.edu/~winner/data/concussion.txt"
   ]
  },
  {
   "cell_type": "code",
   "execution_count": 50,
   "metadata": {},
   "outputs": [
    {
     "data": {
      "text/html": [
       "<table border=\"1\" class=\"dataframe\">\n",
       "    <thead>\n",
       "        <tr>\n",
       "            <th>gender</th> <th>sport</th> <th>year</th> <th>concussion</th> <th>number</th>\n",
       "        </tr>\n",
       "    </thead>\n",
       "    <tbody>\n",
       "        <tr>\n",
       "            <td>Female</td> <td>Soccer  </td> <td>1997</td> <td>0         </td> <td>24930 </td>\n",
       "        </tr>\n",
       "        <tr>\n",
       "            <td>Female</td> <td>Soccer  </td> <td>1997</td> <td>1         </td> <td>51    </td>\n",
       "        </tr>\n",
       "        <tr>\n",
       "            <td>Female</td> <td>Soccer  </td> <td>1998</td> <td>0         </td> <td>22887 </td>\n",
       "        </tr>\n",
       "        <tr>\n",
       "            <td>Female</td> <td>Soccer  </td> <td>1998</td> <td>1         </td> <td>47    </td>\n",
       "        </tr>\n",
       "        <tr>\n",
       "            <td>Female</td> <td>Soccer  </td> <td>1999</td> <td>0         </td> <td>27107 </td>\n",
       "        </tr>\n",
       "        <tr>\n",
       "            <td>Female</td> <td>Soccer  </td> <td>1999</td> <td>1         </td> <td>60    </td>\n",
       "        </tr>\n",
       "        <tr>\n",
       "            <td>Female</td> <td>Lacrosse</td> <td>1997</td> <td>0         </td> <td>8750  </td>\n",
       "        </tr>\n",
       "        <tr>\n",
       "            <td>Female</td> <td>Lacrosse</td> <td>1997</td> <td>1         </td> <td>12    </td>\n",
       "        </tr>\n",
       "        <tr>\n",
       "            <td>Female</td> <td>Lacrosse</td> <td>1998</td> <td>0         </td> <td>7115  </td>\n",
       "        </tr>\n",
       "        <tr>\n",
       "            <td>Female</td> <td>Lacrosse</td> <td>1998</td> <td>1         </td> <td>7     </td>\n",
       "        </tr>\n",
       "    </tbody>\n",
       "</table>\n",
       "<p>... (50 rows omitted)</p>"
      ],
      "text/plain": [
       "gender | sport    | year | concussion | number\n",
       "Female | Soccer   | 1997 | 0          | 24930\n",
       "Female | Soccer   | 1997 | 1          | 51\n",
       "Female | Soccer   | 1998 | 0          | 22887\n",
       "Female | Soccer   | 1998 | 1          | 47\n",
       "Female | Soccer   | 1999 | 0          | 27107\n",
       "Female | Soccer   | 1999 | 1          | 60\n",
       "Female | Lacrosse | 1997 | 0          | 8750\n",
       "Female | Lacrosse | 1997 | 1          | 12\n",
       "Female | Lacrosse | 1998 | 0          | 7115\n",
       "Female | Lacrosse | 1998 | 1          | 7\n",
       "... (50 rows omitted)"
      ]
     },
     "execution_count": 50,
     "metadata": {},
     "output_type": "execute_result"
    }
   ],
   "source": [
    "url = \"http://users.stat.ufl.edu/~winner/data/concussion.dat\"\n",
    "data_df = pd.read_csv(url, sep=\"\\s+\",header = None)\n",
    "data_df.columns = [\"gender\",\"sport\",\"year\",\"concussion\",\"number\"] #Need column labels\n",
    "data = Table.from_df(data_df)\n",
    "data"
   ]
  },
  {
   "cell_type": "code",
   "execution_count": 48,
   "metadata": {},
   "outputs": [
    {
     "data": {
      "text/html": [
       "<table border=\"1\" class=\"dataframe\">\n",
       "    <thead>\n",
       "        <tr>\n",
       "            <th>sport</th> <th>concussion</th> <th>number mean</th>\n",
       "        </tr>\n",
       "    </thead>\n",
       "    <tbody>\n",
       "        <tr>\n",
       "            <td>Basketball       </td> <td>0         </td> <td>32727.8    </td>\n",
       "        </tr>\n",
       "        <tr>\n",
       "            <td>Basketball       </td> <td>1         </td> <td>20.1667    </td>\n",
       "        </tr>\n",
       "        <tr>\n",
       "            <td>Gymnastics       </td> <td>0         </td> <td>2239       </td>\n",
       "        </tr>\n",
       "        <tr>\n",
       "            <td>Gymnastics       </td> <td>1         </td> <td>0.166667   </td>\n",
       "        </tr>\n",
       "        <tr>\n",
       "            <td>Lacrosse         </td> <td>0         </td> <td>9919.17    </td>\n",
       "        </tr>\n",
       "        <tr>\n",
       "            <td>Lacrosse         </td> <td>1         </td> <td>12.8333    </td>\n",
       "        </tr>\n",
       "        <tr>\n",
       "            <td>Soccer           </td> <td>0         </td> <td>25092.8    </td>\n",
       "        </tr>\n",
       "        <tr>\n",
       "            <td>Soccer           </td> <td>1         </td> <td>43.1667    </td>\n",
       "        </tr>\n",
       "        <tr>\n",
       "            <td>Softball/Baseball</td> <td>0         </td> <td>54523.7    </td>\n",
       "        </tr>\n",
       "        <tr>\n",
       "            <td>Softball/Baseball</td> <td>1         </td> <td>16.6667    </td>\n",
       "        </tr>\n",
       "    </tbody>\n",
       "</table>"
      ],
      "text/plain": [
       "sport             | concussion | number mean\n",
       "Basketball        | 0          | 32727.8\n",
       "Basketball        | 1          | 20.1667\n",
       "Gymnastics        | 0          | 2239\n",
       "Gymnastics        | 1          | 0.166667\n",
       "Lacrosse          | 0          | 9919.17\n",
       "Lacrosse          | 1          | 12.8333\n",
       "Soccer            | 0          | 25092.8\n",
       "Soccer            | 1          | 43.1667\n",
       "Softball/Baseball | 0          | 54523.7\n",
       "Softball/Baseball | 1          | 16.6667"
      ]
     },
     "execution_count": 48,
     "metadata": {},
     "output_type": "execute_result"
    }
   ],
   "source": [
    "group_data = data.drop(\"gender\",\"year\").group([\"sport\",\"concussion\"],np.mean)\n",
    "group_data"
   ]
  },
  {
   "cell_type": "code",
   "execution_count": 62,
   "metadata": {},
   "outputs": [
    {
     "data": {
      "text/plain": [
       "0.042648721729394296"
      ]
     },
     "execution_count": 62,
     "metadata": {},
     "output_type": "execute_result"
    }
   ],
   "source": [
    "ratio_S = group_data.where(\"sport\",\"Soccer\").where(1,1).column(2).take(0)/group_data.where(\"sport\",\"Soccer\").where(1,0).column(2).take(0)*100\n",
    "ratio_L = group_data.where(\"sport\",\"Lacrosse\").where(1,1).column(2).take(0)/group_data.where(\"sport\",\"Lacrosse\").where(1,0).column(2).take(0)*100\n",
    "ratio_S - ratio_L"
   ]
  },
  {
   "cell_type": "code",
   "execution_count": 60,
   "metadata": {},
   "outputs": [
    {
     "data": {
      "text/plain": [
       "43.166666666666664"
      ]
     },
     "execution_count": 60,
     "metadata": {},
     "output_type": "execute_result"
    }
   ],
   "source": [
    "group_data.where(\"sport\",\"Soccer\").where(1,1).column(2).take(0)"
   ]
  },
  {
   "cell_type": "code",
   "execution_count": 63,
   "metadata": {},
   "outputs": [
    {
     "data": {
      "text/plain": [
       "0.042648721729394296"
      ]
     },
     "execution_count": 63,
     "metadata": {},
     "output_type": "execute_result"
    }
   ],
   "source": [
    "def diff_means(data):\n",
    "    group_data = data.drop(\"gender\",\"year\").group([\"sport\",\"concussion\"],np.mean)\n",
    "    group_data\n",
    "    # Soccer vs. Lacrosse\n",
    "    ratio_S = group_data.where(\"sport\",\"Soccer\").where(1,1).column(2).take(0)/group_data.where(\"sport\",\"Soccer\").where(1,0).column(2).take(0)*100\n",
    "    ratio_L = group_data.where(\"sport\",\"Lacrosse\").where(1,1).column(2).take(0)/group_data.where(\"sport\",\"Lacrosse\").where(1,0).column(2).take(0)*100\n",
    "    ratio_S - ratio_L\n",
    "    return ratio_S - ratio_L\n",
    "diff_means(data)    "
   ]
  },
  {
   "cell_type": "code",
   "execution_count": 45,
   "metadata": {},
   "outputs": [
    {
     "data": {
      "text/plain": [
       "array([1, 0, 0, 1, 1, 0, 0, 0, 1, 0, 0, 0, 1, 1, 0, 1, 1, 0, 1, 1, 1, 1,\n",
       "       1, 0, 0, 1, 1, 1, 0, 1, 1, 0, 1, 0, 0, 1, 1, 1, 0, 1, 1, 1, 1, 0,\n",
       "       1, 0, 0, 1, 0, 0, 0, 0, 0, 0, 1, 0, 0, 1, 0, 0])"
      ]
     },
     "execution_count": 45,
     "metadata": {},
     "output_type": "execute_result"
    }
   ],
   "source": [
    "data.sample(with_replacement = False).column(3)"
   ]
  },
  {
   "cell_type": "code",
   "execution_count": 74,
   "metadata": {},
   "outputs": [
    {
     "data": {
      "text/plain": [
       "150.862315550497"
      ]
     },
     "execution_count": 74,
     "metadata": {},
     "output_type": "execute_result"
    }
   ],
   "source": [
    "reps = 1000\n",
    "for 1 in np.arange(reps):\n",
    "    shuffled_label = data.sample(with_replacement = False).column(3)\n",
    "    combined = data.with_column(\"shuffled\",shuffled_label)\n",
    "    sdata=combined.drop(\"gender\",\"year\",\"concussion\").group([\"sport\",\"shuffled\"],np.mean).relabel(1,\"concussion\")\n",
    "    diff_means(sdata) "
   ]
  },
  {
   "cell_type": "code",
   "execution_count": 89,
   "metadata": {},
   "outputs": [
    {
     "name": "stderr",
     "output_type": "stream",
     "text": [
      "/Users/jms/.conda/envs/MDQUANT/lib/python3.7/site-packages/datascience/predicates.py:261: SyntaxWarning: Do not pass an array or list to a predicate.                 If you are trying to find rows where two columns are the                 same, use table.where('c', are.equal_to, table.column('d'))                instead of table.where('c', are.equal_to(table.column('d'))).\n",
      "  SyntaxWarning)\n"
     ]
    },
    {
     "data": {
      "text/html": [
       "<table border=\"1\" class=\"dataframe\">\n",
       "    <thead>\n",
       "        <tr>\n",
       "            <th>sport</th> <th>concussion</th> <th>number</th>\n",
       "        </tr>\n",
       "    </thead>\n",
       "    <tbody>\n",
       "    </tbody>\n",
       "</table>"
      ],
      "text/plain": [
       "sport | concussion | number"
      ]
     },
     "execution_count": 89,
     "metadata": {},
     "output_type": "execute_result"
    }
   ],
   "source": [
    "data.drop(\"gender\",\"year\").with_column(\"S_L\",[\"Soccer\",\"Lacrosse\"])"
   ]
  },
  {
   "cell_type": "code",
   "execution_count": 104,
   "metadata": {},
   "outputs": [
    {
     "ename": "SyntaxError",
     "evalue": "invalid syntax (<ipython-input-104-db9d8d47bad7>, line 1)",
     "output_type": "error",
     "traceback": [
      "\u001b[0;36m  File \u001b[0;32m\"<ipython-input-104-db9d8d47bad7>\"\u001b[0;36m, line \u001b[0;32m1\u001b[0m\n\u001b[0;31m    x for x in data.column(\"sport\")\u001b[0m\n\u001b[0m        ^\u001b[0m\n\u001b[0;31mSyntaxError\u001b[0m\u001b[0;31m:\u001b[0m invalid syntax\n"
     ]
    }
   ],
   "source": [
    "x for x in data.column(\"sport\")"
   ]
  },
  {
   "cell_type": "code",
   "execution_count": 91,
   "metadata": {},
   "outputs": [
    {
     "name": "stderr",
     "output_type": "stream",
     "text": [
      "/Users/jms/.conda/envs/MDQUANT/lib/python3.7/site-packages/datascience/predicates.py:261: SyntaxWarning: Do not pass an array or list to a predicate.                 If you are trying to find rows where two columns are the                 same, use table.where('c', are.equal_to, table.column('d'))                instead of table.where('c', are.equal_to(table.column('d'))).\n",
      "  SyntaxWarning)\n"
     ]
    },
    {
     "data": {
      "text/html": [
       "<table border=\"1\" class=\"dataframe\">\n",
       "    <thead>\n",
       "        <tr>\n",
       "            <th>sport</th> <th>concussion</th> <th>number</th>\n",
       "        </tr>\n",
       "    </thead>\n",
       "    <tbody>\n",
       "    </tbody>\n",
       "</table>"
      ],
      "text/plain": [
       "sport | concussion | number"
      ]
     },
     "execution_count": 91,
     "metadata": {},
     "output_type": "execute_result"
    }
   ],
   "source": [
    "data.drop(\"gender\",\"year\").where(\"sport\",[\"Soccer\",\"Lacrosse\"])"
   ]
  },
  {
   "cell_type": "code",
   "execution_count": 100,
   "metadata": {},
   "outputs": [
    {
     "ename": "TypeError",
     "evalue": "ufunc 'bitwise_and' not supported for the input types, and the inputs could not be safely coerced to any supported types according to the casting rule ''safe''",
     "output_type": "error",
     "traceback": [
      "\u001b[0;31m---------------------------------------------------------------------------\u001b[0m",
      "\u001b[0;31mTypeError\u001b[0m                                 Traceback (most recent call last)",
      "\u001b[0;32m<ipython-input-100-341c12e67934>\u001b[0m in \u001b[0;36m<module>\u001b[0;34m\u001b[0m\n\u001b[0;32m----> 1\u001b[0;31m \u001b[0mdata\u001b[0m\u001b[0;34m.\u001b[0m\u001b[0mcolumn\u001b[0m\u001b[0;34m(\u001b[0m\u001b[0;34m\"sport\"\u001b[0m\u001b[0;34m)\u001b[0m \u001b[0;34m==\u001b[0m \u001b[0;34m\"Soccer\"\u001b[0m \u001b[0;34m&\u001b[0m \u001b[0mdata\u001b[0m\u001b[0;34m.\u001b[0m\u001b[0mcolumn\u001b[0m\u001b[0;34m(\u001b[0m\u001b[0;34m\"sport\"\u001b[0m\u001b[0;34m)\u001b[0m \u001b[0;34m==\u001b[0m \u001b[0;34m\"Lacrosse\"\u001b[0m\u001b[0;34m\u001b[0m\u001b[0;34m\u001b[0m\u001b[0m\n\u001b[0m",
      "\u001b[0;31mTypeError\u001b[0m: ufunc 'bitwise_and' not supported for the input types, and the inputs could not be safely coerced to any supported types according to the casting rule ''safe''"
     ]
    }
   ],
   "source": [
    "data.column(\"sport\") == \"Soccer\" & data.column(\"sport\") == \"Lacrosse\""
   ]
  },
  {
   "cell_type": "code",
   "execution_count": null,
   "metadata": {},
   "outputs": [],
   "source": []
  }
 ],
 "metadata": {
  "kernelspec": {
   "display_name": "Python 3",
   "language": "python",
   "name": "python3"
  },
  "language_info": {
   "codemirror_mode": {
    "name": "ipython",
    "version": 3
   },
   "file_extension": ".py",
   "mimetype": "text/x-python",
   "name": "python",
   "nbconvert_exporter": "python",
   "pygments_lexer": "ipython3",
   "version": "3.7.7"
  }
 },
 "nbformat": 4,
 "nbformat_minor": 4
}
