{
 "cells": [
  {
   "cell_type": "markdown",
   "metadata": {},
   "source": [
    "### Snow Proclivity Analysis\n",
    "Elements Of Data Science\n",
    "December 2021\n"
   ]
  },
  {
   "cell_type": "code",
   "execution_count": 245,
   "metadata": {},
   "outputs": [],
   "source": [
    "# Import Numpy and Datascience modules.\n",
    "import numpy as np\n",
    "from datascience import *\n",
    "import pandas as pd\n",
    "\n",
    "# Plotting \n",
    "import matplotlib.pyplot as plots\n",
    "from mpl_toolkits.mplot3d import Axes3D\n",
    "plots.style.use('fivethirtyeight')\n",
    "%matplotlib inline"
   ]
  },
  {
   "cell_type": "markdown",
   "metadata": {},
   "source": [
    "#### Tools"
   ]
  },
  {
   "cell_type": "code",
   "execution_count": 246,
   "metadata": {},
   "outputs": [],
   "source": [
    "def standard_units(xyz):\n",
    "    \"Convert any array of numbers to standard units.\"\n",
    "    return (xyz - np.mean(xyz))/np.std(xyz)  \n",
    "def correlation(t, label_x, label_y):\n",
    "    return np.mean(standard_units(t.column(label_x))*standard_units(t.column(label_y)))\n",
    "# Regression\n",
    "def slope(t, label_x, label_y):\n",
    "    r = correlation(t, label_x, label_y)\n",
    "    return r*np.std(t.column(label_y))/np.std(t.column(label_x))\n",
    "def intercept(t, label_x, label_y):\n",
    "    return np.mean(t.column(label_y)) - slope(t, label_x, label_y)*np.mean(t.column(label_x))"
   ]
  },
  {
   "cell_type": "markdown",
   "metadata": {},
   "source": [
    "##### Apply tools to snow proclivity class data"
   ]
  },
  {
   "cell_type": "code",
   "execution_count": 247,
   "metadata": {},
   "outputs": [
    {
     "data": {
      "text/html": [
       "<table border=\"1\" class=\"dataframe\">\n",
       "    <thead>\n",
       "        <tr>\n",
       "            <th>Timestamp</th> <th>Do you like snow? (Answer Yes or No)</th> <th>What month were you born in?</th> <th>What state or country did you grow up in?</th> <th>Introvert or extrovert?</th> <th>Did you grow up in a rural, suburban, or urban environment?</th> <th>Do you shovel snow where you currently live?</th> <th>How far do you travel by car annually (best estimate on scale)?</th> <th>Temple Major</th> <th>Enjoy Coding?</th> <th>Favorite Sport</th> <th>Age</th>\n",
       "        </tr>\n",
       "    </thead>\n",
       "    <tbody>\n",
       "        <tr>\n",
       "            <td>12/1/2021 11:04:11</td> <td>Yes                                 </td> <td>April                       </td> <td>Alaska                                   </td> <td>3                      </td> <td>Rural                                                      </td> <td>Yes                                         </td> <td>7                                                              </td> <td>Chemistry            </td> <td>5            </td> <td>Nordic skiing </td> <td>22  </td>\n",
       "        </tr>\n",
       "        <tr>\n",
       "            <td>12/1/2021 11:56:20</td> <td>Yes                                 </td> <td>April                       </td> <td>Pennsylvania                             </td> <td>3                      </td> <td>Suburban                                                   </td> <td>Yes                                         </td> <td>4                                                              </td> <td>Graphic design       </td> <td>2            </td> <td>Other         </td> <td>19  </td>\n",
       "        </tr>\n",
       "        <tr>\n",
       "            <td>12/1/2021 11:56:21</td> <td>Yes                                 </td> <td>February                    </td> <td>Maryland                                 </td> <td>4                      </td> <td>Suburban                                                   </td> <td>Yes                                         </td> <td>6                                                              </td> <td>Biology              </td> <td>4            </td> <td>Soccer        </td> <td>19  </td>\n",
       "        </tr>\n",
       "        <tr>\n",
       "            <td>12/1/2021 11:57:54</td> <td>No                                  </td> <td>April                       </td> <td>Pennsylvania                             </td> <td>2                      </td> <td>Urban                                                      </td> <td>No                                          </td> <td>5                                                              </td> <td>Biology              </td> <td>4            </td> <td>Tennis        </td> <td>18  </td>\n",
       "        </tr>\n",
       "        <tr>\n",
       "            <td>12/1/2021 11:58:42</td> <td>Yes                                 </td> <td>August                      </td> <td>Pennsylvania                             </td> <td>2                      </td> <td>Suburban                                                   </td> <td>Yes                                         </td> <td>6                                                              </td> <td>Biochemistry         </td> <td>3            </td> <td>Gymnastics    </td> <td>18  </td>\n",
       "        </tr>\n",
       "        <tr>\n",
       "            <td>12/1/2021 11:59:28</td> <td>Yes                                 </td> <td>February                    </td> <td>Vermont                                  </td> <td>4                      </td> <td>Suburban                                                   </td> <td>Yes                                         </td> <td>10                                                             </td> <td>Environmental Science</td> <td>2            </td> <td>Other         </td> <td>20  </td>\n",
       "        </tr>\n",
       "        <tr>\n",
       "            <td>12/1/2021 12:01:26</td> <td>Yes                                 </td> <td>November                    </td> <td>New Jersey                               </td> <td>2                      </td> <td>Suburban                                                   </td> <td>Yes                                         </td> <td>3                                                              </td> <td>Biology              </td> <td>4            </td> <td>Rugby         </td> <td>18  </td>\n",
       "        </tr>\n",
       "        <tr>\n",
       "            <td>12/1/2021 12:01:42</td> <td>Yes                                 </td> <td>August                      </td> <td>New Jersey                               </td> <td>3                      </td> <td>Suburban                                                   </td> <td>Yes                                         </td> <td>9                                                              </td> <td>Biology              </td> <td>2            </td> <td>Basketball    </td> <td>18  </td>\n",
       "        </tr>\n",
       "        <tr>\n",
       "            <td>12/1/2021 12:02:06</td> <td>No                                  </td> <td>May                         </td> <td>Pennsylvania                             </td> <td>1                      </td> <td>Suburban                                                   </td> <td>Yes                                         </td> <td>10                                                             </td> <td>Biology              </td> <td>2            </td> <td>Baseball      </td> <td>18  </td>\n",
       "        </tr>\n",
       "        <tr>\n",
       "            <td>12/1/2021 12:02:20</td> <td>Yes                                 </td> <td>July                        </td> <td>Outside US                               </td> <td>1                      </td> <td>Urban                                                      </td> <td>No                                          </td> <td>1                                                              </td> <td>Biochemistry         </td> <td>4            </td> <td>Tennis        </td> <td>22  </td>\n",
       "        </tr>\n",
       "    </tbody>\n",
       "</table>\n",
       "<p>... (66 rows omitted)</p>"
      ],
      "text/plain": [
       "Timestamp          | Do you like snow? (Answer Yes or No) | What month were you born in? | What state or country did you grow up in? | Introvert or extrovert? | Did you grow up in a rural, suburban, or urban environment? | Do you shovel snow where you currently live? | How far do you travel by car annually (best estimate on scale)? | Temple Major          | Enjoy Coding? | Favorite Sport | Age\n",
       "12/1/2021 11:04:11 | Yes                                  | April                        | Alaska                                    | 3                       | Rural                                                       | Yes                                          | 7                                                               | Chemistry             | 5             | Nordic skiing  | 22\n",
       "12/1/2021 11:56:20 | Yes                                  | April                        | Pennsylvania                              | 3                       | Suburban                                                    | Yes                                          | 4                                                               | Graphic design        | 2             | Other          | 19\n",
       "12/1/2021 11:56:21 | Yes                                  | February                     | Maryland                                  | 4                       | Suburban                                                    | Yes                                          | 6                                                               | Biology               | 4             | Soccer         | 19\n",
       "12/1/2021 11:57:54 | No                                   | April                        | Pennsylvania                              | 2                       | Urban                                                       | No                                           | 5                                                               | Biology               | 4             | Tennis         | 18\n",
       "12/1/2021 11:58:42 | Yes                                  | August                       | Pennsylvania                              | 2                       | Suburban                                                    | Yes                                          | 6                                                               | Biochemistry          | 3             | Gymnastics     | 18\n",
       "12/1/2021 11:59:28 | Yes                                  | February                     | Vermont                                   | 4                       | Suburban                                                    | Yes                                          | 10                                                              | Environmental Science | 2             | Other          | 20\n",
       "12/1/2021 12:01:26 | Yes                                  | November                     | New Jersey                                | 2                       | Suburban                                                    | Yes                                          | 3                                                               | Biology               | 4             | Rugby          | 18\n",
       "12/1/2021 12:01:42 | Yes                                  | August                       | New Jersey                                | 3                       | Suburban                                                    | Yes                                          | 9                                                               | Biology               | 2             | Basketball     | 18\n",
       "12/1/2021 12:02:06 | No                                   | May                          | Pennsylvania                              | 1                       | Suburban                                                    | Yes                                          | 10                                                              | Biology               | 2             | Baseball       | 18\n",
       "12/1/2021 12:02:20 | Yes                                  | July                         | Outside US                                | 1                       | Urban                                                       | No                                           | 1                                                               | Biochemistry          | 4             | Tennis         | 22\n",
       "... (66 rows omitted)"
      ]
     },
     "execution_count": 247,
     "metadata": {},
     "output_type": "execute_result"
    }
   ],
   "source": [
    "import pandas as pd\n",
    "url = \"Snow Proclivity Survey (Responses) - Form Responses 1.csv\"\n",
    "snow_df = pd.read_csv(url)\n",
    "snow_T = Table.from_df(snow_df) # Reading and converting using pandas dataframe\n",
    "snow = Table.read_table(url)\n",
    "snow"
   ]
  },
  {
   "cell_type": "code",
   "execution_count": 248,
   "metadata": {},
   "outputs": [
    {
     "data": {
      "text/html": [
       "<table border=\"1\" class=\"dataframe\">\n",
       "    <thead>\n",
       "        <tr>\n",
       "            <th>Do you like snow? (Answer Yes or No)</th> <th>count</th>\n",
       "        </tr>\n",
       "    </thead>\n",
       "    <tbody>\n",
       "        <tr>\n",
       "            <td>No                                  </td> <td>15   </td>\n",
       "        </tr>\n",
       "        <tr>\n",
       "            <td>Yes                                 </td> <td>61   </td>\n",
       "        </tr>\n",
       "    </tbody>\n",
       "</table>"
      ],
      "text/plain": [
       "Do you like snow? (Answer Yes or No) | count\n",
       "No                                   | 15\n",
       "Yes                                  | 61"
      ]
     },
     "execution_count": 248,
     "metadata": {},
     "output_type": "execute_result"
    }
   ],
   "source": [
    "snow.group(\"Do you like snow? (Answer Yes or No)\")"
   ]
  },
  {
   "cell_type": "code",
   "execution_count": 249,
   "metadata": {},
   "outputs": [
    {
     "data": {
      "text/html": [
       "<table border=\"1\" class=\"dataframe\">\n",
       "    <thead>\n",
       "        <tr>\n",
       "            <th>Favorite Sport</th> <th>count</th>\n",
       "        </tr>\n",
       "    </thead>\n",
       "    <tbody>\n",
       "        <tr>\n",
       "            <td>Alpine skiing </td> <td>1    </td>\n",
       "        </tr>\n",
       "        <tr>\n",
       "            <td>Badminton     </td> <td>6    </td>\n",
       "        </tr>\n",
       "        <tr>\n",
       "            <td>Baseball      </td> <td>1    </td>\n",
       "        </tr>\n",
       "        <tr>\n",
       "            <td>Basketball    </td> <td>12   </td>\n",
       "        </tr>\n",
       "        <tr>\n",
       "            <td>Crew          </td> <td>1    </td>\n",
       "        </tr>\n",
       "        <tr>\n",
       "            <td>Fencing       </td> <td>1    </td>\n",
       "        </tr>\n",
       "        <tr>\n",
       "            <td>Field Hockey  </td> <td>1    </td>\n",
       "        </tr>\n",
       "        <tr>\n",
       "            <td>Football      </td> <td>7    </td>\n",
       "        </tr>\n",
       "        <tr>\n",
       "            <td>Golf          </td> <td>2    </td>\n",
       "        </tr>\n",
       "        <tr>\n",
       "            <td>Gymnastics    </td> <td>3    </td>\n",
       "        </tr>\n",
       "    </tbody>\n",
       "</table>\n",
       "<p>... (10 rows omitted)</p>"
      ],
      "text/plain": [
       "Favorite Sport | count\n",
       "Alpine skiing  | 1\n",
       "Badminton      | 6\n",
       "Baseball       | 1\n",
       "Basketball     | 12\n",
       "Crew           | 1\n",
       "Fencing        | 1\n",
       "Field Hockey   | 1\n",
       "Football       | 7\n",
       "Golf           | 2\n",
       "Gymnastics     | 3\n",
       "... (10 rows omitted)"
      ]
     },
     "execution_count": 249,
     "metadata": {},
     "output_type": "execute_result"
    }
   ],
   "source": [
    "snow.sort(\"Favorite Sport\", descending=False).group(\"Favorite Sport\")"
   ]
  },
  {
   "cell_type": "code",
   "execution_count": 250,
   "metadata": {},
   "outputs": [
    {
     "data": {
      "text/html": [
       "<table border=\"1\" class=\"dataframe\">\n",
       "    <thead>\n",
       "        <tr>\n",
       "            <th>Average Temperature °F</th> <th>State</th> <th>Population</th>\n",
       "        </tr>\n",
       "    </thead>\n",
       "    <tbody>\n",
       "        <tr>\n",
       "            <td>62.68                 </td> <td>Alabama             </td> <td>4,817,678 </td>\n",
       "        </tr>\n",
       "        <tr>\n",
       "            <td>32.03                 </td> <td>Alaska              </td> <td>728,300   </td>\n",
       "        </tr>\n",
       "        <tr>\n",
       "            <td>65.97                 </td> <td>Arizona             </td> <td>6,561,516 </td>\n",
       "        </tr>\n",
       "        <tr>\n",
       "            <td>60.09                 </td> <td>Arkansas            </td> <td>2,947,036 </td>\n",
       "        </tr>\n",
       "        <tr>\n",
       "            <td>61.17                 </td> <td>California          </td> <td>38,066,920</td>\n",
       "        </tr>\n",
       "        <tr>\n",
       "            <td>46.26                 </td> <td>Colorado            </td> <td>5,197,580 </td>\n",
       "        </tr>\n",
       "        <tr>\n",
       "            <td>48.6                  </td> <td>Connecticut         </td> <td>3,592,053 </td>\n",
       "        </tr>\n",
       "        <tr>\n",
       "            <td>54.48                 </td> <td>Delaware            </td> <td>917,060   </td>\n",
       "        </tr>\n",
       "        <tr>\n",
       "            <td>54.73                 </td> <td>District of Columbia</td> <td>633,736   </td>\n",
       "        </tr>\n",
       "        <tr>\n",
       "            <td>71.8                  </td> <td>Florida             </td> <td>19,361,792</td>\n",
       "        </tr>\n",
       "    </tbody>\n",
       "</table>\n",
       "<p>... (42 rows omitted)</p>"
      ],
      "text/plain": [
       "Average Temperature °F | State                | Population\n",
       "62.68                  | Alabama              | 4,817,678\n",
       "32.03                  | Alaska               | 728,300\n",
       "65.97                  | Arizona              | 6,561,516\n",
       "60.09                  | Arkansas             | 2,947,036\n",
       "61.17                  | California           | 38,066,920\n",
       "46.26                  | Colorado             | 5,197,580\n",
       "48.6                   | Connecticut          | 3,592,053\n",
       "54.48                  | Delaware             | 917,060\n",
       "54.73                  | District of Columbia | 633,736\n",
       "71.8                   | Florida              | 19,361,792\n",
       "... (42 rows omitted)"
      ]
     },
     "execution_count": 250,
     "metadata": {},
     "output_type": "execute_result"
    }
   ],
   "source": [
    "url = \"state_data.csv\"\n",
    "state_df = pd.read_csv(url)\n",
    "state_T = Table.from_df(state_df) # Reading and converting using pandas dataframe\n",
    "state = Table.read_table(url)\n",
    "state"
   ]
  },
  {
   "cell_type": "code",
   "execution_count": 251,
   "metadata": {},
   "outputs": [
    {
     "data": {
      "text/html": [
       "<table border=\"1\" class=\"dataframe\">\n",
       "    <thead>\n",
       "        <tr>\n",
       "            <th>month</th> <th>bmonth_temp</th>\n",
       "        </tr>\n",
       "    </thead>\n",
       "    <tbody>\n",
       "        <tr>\n",
       "            <td>January  </td> <td>-10.2      </td>\n",
       "        </tr>\n",
       "        <tr>\n",
       "            <td>February </td> <td>-7.7       </td>\n",
       "        </tr>\n",
       "        <tr>\n",
       "            <td>March    </td> <td>-4.1       </td>\n",
       "        </tr>\n",
       "        <tr>\n",
       "            <td>April    </td> <td>1.9        </td>\n",
       "        </tr>\n",
       "        <tr>\n",
       "            <td>May      </td> <td>8.1        </td>\n",
       "        </tr>\n",
       "        <tr>\n",
       "            <td>June     </td> <td>12.5       </td>\n",
       "        </tr>\n",
       "        <tr>\n",
       "            <td>July     </td> <td>14.5       </td>\n",
       "        </tr>\n",
       "        <tr>\n",
       "            <td>August   </td> <td>13.4       </td>\n",
       "        </tr>\n",
       "        <tr>\n",
       "            <td>September</td> <td>9          </td>\n",
       "        </tr>\n",
       "        <tr>\n",
       "            <td>October  </td> <td>1.4        </td>\n",
       "        </tr>\n",
       "    </tbody>\n",
       "</table>\n",
       "<p>... (2 rows omitted)</p>"
      ],
      "text/plain": [
       "month     | bmonth_temp\n",
       "January   | -10.2\n",
       "February  | -7.7\n",
       "March     | -4.1\n",
       "April     | 1.9\n",
       "May       | 8.1\n",
       "June      | 12.5\n",
       "July      | 14.5\n",
       "August    | 13.4\n",
       "September | 9\n",
       "October   | 1.4\n",
       "... (2 rows omitted)"
      ]
     },
     "execution_count": 251,
     "metadata": {},
     "output_type": "execute_result"
    }
   ],
   "source": [
    "url = \"month_temp.csv\"\n",
    "month_df = pd.read_csv(url)\n",
    "month_T = Table.from_df(state_df) # Reading and converting using pandas dataframe\n",
    "month = Table.read_table(url)\n",
    "month"
   ]
  },
  {
   "cell_type": "markdown",
   "metadata": {},
   "source": [
    "#### Join survey and state data"
   ]
  },
  {
   "cell_type": "code",
   "execution_count": 252,
   "metadata": {},
   "outputs": [
    {
     "data": {
      "text/html": [
       "<table border=\"1\" class=\"dataframe\">\n",
       "    <thead>\n",
       "        <tr>\n",
       "            <th>What month were you born in?</th> <th>What state or country did you grow up in?</th> <th>Timestamp</th> <th>Do you like snow? (Answer Yes or No)</th> <th>Introvert or extrovert?</th> <th>Did you grow up in a rural, suburban, or urban environment?</th> <th>Do you shovel snow where you currently live?</th> <th>How far do you travel by car annually (best estimate on scale)?</th> <th>Temple Major</th> <th>Enjoy Coding?</th> <th>Favorite Sport</th> <th>Age</th> <th>Average Temperature °F</th> <th>Population</th> <th>bmonth_temp</th>\n",
       "        </tr>\n",
       "    </thead>\n",
       "    <tbody>\n",
       "        <tr>\n",
       "            <td>April                       </td> <td>Alaska                                   </td> <td>12/1/2021 11:04:11</td> <td>Yes                                 </td> <td>3                      </td> <td>Rural                                                      </td> <td>Yes                                         </td> <td>7                                                              </td> <td>Chemistry          </td> <td>5            </td> <td>Nordic skiing </td> <td>22  </td> <td>32.03                 </td> <td>728,300      </td> <td>1.9        </td>\n",
       "        </tr>\n",
       "        <tr>\n",
       "            <td>April                       </td> <td>Maryland                                 </td> <td>12/1/2021 22:14:35</td> <td>Yes                                 </td> <td>1                      </td> <td>Suburban                                                   </td> <td>No                                          </td> <td>5                                                              </td> <td>Computer Science   </td> <td>3            </td> <td>Other         </td> <td>18  </td> <td>54.61                 </td> <td>5,887,776    </td> <td>1.9        </td>\n",
       "        </tr>\n",
       "        <tr>\n",
       "            <td>April                       </td> <td>Outside US                               </td> <td>12/1/2021 19:06:42</td> <td>Yes                                 </td> <td>2                      </td> <td>Rural                                                      </td> <td>Yes                                         </td> <td>4                                                              </td> <td>Computer science   </td> <td>4            </td> <td>Other         </td> <td>18  </td> <td>58.6                  </td> <td>7,550,000,000</td> <td>1.9        </td>\n",
       "        </tr>\n",
       "        <tr>\n",
       "            <td>April                       </td> <td>Pennsylvania                             </td> <td>12/1/2021 11:56:20</td> <td>Yes                                 </td> <td>3                      </td> <td>Suburban                                                   </td> <td>Yes                                         </td> <td>4                                                              </td> <td>Graphic design     </td> <td>2            </td> <td>Other         </td> <td>19  </td> <td>49.8                  </td> <td>12,758,729   </td> <td>1.9        </td>\n",
       "        </tr>\n",
       "        <tr>\n",
       "            <td>April                       </td> <td>Pennsylvania                             </td> <td>12/1/2021 11:57:54</td> <td>No                                  </td> <td>2                      </td> <td>Urban                                                      </td> <td>No                                          </td> <td>5                                                              </td> <td>Biology            </td> <td>4            </td> <td>Tennis        </td> <td>18  </td> <td>49.8                  </td> <td>12,758,729   </td> <td>1.9        </td>\n",
       "        </tr>\n",
       "        <tr>\n",
       "            <td>April                       </td> <td>Pennsylvania                             </td> <td>12/1/2021 12:17:28</td> <td>No                                  </td> <td>5                      </td> <td>Suburban                                                   </td> <td>Yes                                         </td> <td>8                                                              </td> <td>Health Professions </td> <td>1            </td> <td>Softball      </td> <td>18  </td> <td>49.8                  </td> <td>12,758,729   </td> <td>1.9        </td>\n",
       "        </tr>\n",
       "        <tr>\n",
       "            <td>April                       </td> <td>Pennsylvania                             </td> <td>12/1/2021 18:38:18</td> <td>No                                  </td> <td>3                      </td> <td>Urban                                                      </td> <td>No                                          </td> <td>6                                                              </td> <td>Biochemistry       </td> <td>3            </td> <td>Soccer        </td> <td>18  </td> <td>49.8                  </td> <td>12,758,729   </td> <td>1.9        </td>\n",
       "        </tr>\n",
       "        <tr>\n",
       "            <td>April                       </td> <td>Pennsylvania                             </td> <td>12/1/2021 21:20:11</td> <td>Yes                                 </td> <td>3                      </td> <td>Suburban                                                   </td> <td>Yes                                         </td> <td>5                                                              </td> <td>Biology            </td> <td>2            </td> <td>Rugby         </td> <td>22  </td> <td>49.8                  </td> <td>12,758,729   </td> <td>1.9        </td>\n",
       "        </tr>\n",
       "        <tr>\n",
       "            <td>April                       </td> <td>Pennsylvania                             </td> <td>12/2/2021 8:03:32 </td> <td>No                                  </td> <td>2                      </td> <td>Suburban                                                   </td> <td>Yes                                         </td> <td>3                                                              </td> <td>CST                </td> <td>3            </td> <td>Basketball    </td> <td>18  </td> <td>49.8                  </td> <td>12,758,729   </td> <td>1.9        </td>\n",
       "        </tr>\n",
       "        <tr>\n",
       "            <td>April                       </td> <td>Pennsylvania                             </td> <td>12/2/2021 8:07:08 </td> <td>Yes                                 </td> <td>1                      </td> <td>Urban                                                      </td> <td>Yes                                         </td> <td>3                                                              </td> <td>Computer Science   </td> <td>4            </td> <td>Golf          </td> <td>18  </td> <td>49.8                  </td> <td>12,758,729   </td> <td>1.9        </td>\n",
       "        </tr>\n",
       "    </tbody>\n",
       "</table>\n",
       "<p>... (66 rows omitted)</p>"
      ],
      "text/plain": [
       "What month were you born in? | What state or country did you grow up in? | Timestamp          | Do you like snow? (Answer Yes or No) | Introvert or extrovert? | Did you grow up in a rural, suburban, or urban environment? | Do you shovel snow where you currently live? | How far do you travel by car annually (best estimate on scale)? | Temple Major        | Enjoy Coding? | Favorite Sport | Age  | Average Temperature °F | Population    | bmonth_temp\n",
       "April                        | Alaska                                    | 12/1/2021 11:04:11 | Yes                                  | 3                       | Rural                                                       | Yes                                          | 7                                                               | Chemistry           | 5             | Nordic skiing  | 22   | 32.03                  | 728,300       | 1.9\n",
       "April                        | Maryland                                  | 12/1/2021 22:14:35 | Yes                                  | 1                       | Suburban                                                    | No                                           | 5                                                               | Computer Science    | 3             | Other          | 18   | 54.61                  | 5,887,776     | 1.9\n",
       "April                        | Outside US                                | 12/1/2021 19:06:42 | Yes                                  | 2                       | Rural                                                       | Yes                                          | 4                                                               | Computer science    | 4             | Other          | 18   | 58.6                   | 7,550,000,000 | 1.9\n",
       "April                        | Pennsylvania                              | 12/1/2021 11:56:20 | Yes                                  | 3                       | Suburban                                                    | Yes                                          | 4                                                               | Graphic design      | 2             | Other          | 19   | 49.8                   | 12,758,729    | 1.9\n",
       "April                        | Pennsylvania                              | 12/1/2021 11:57:54 | No                                   | 2                       | Urban                                                       | No                                           | 5                                                               | Biology             | 4             | Tennis         | 18   | 49.8                   | 12,758,729    | 1.9\n",
       "April                        | Pennsylvania                              | 12/1/2021 12:17:28 | No                                   | 5                       | Suburban                                                    | Yes                                          | 8                                                               | Health Professions  | 1             | Softball       | 18   | 49.8                   | 12,758,729    | 1.9\n",
       "April                        | Pennsylvania                              | 12/1/2021 18:38:18 | No                                   | 3                       | Urban                                                       | No                                           | 6                                                               | Biochemistry        | 3             | Soccer         | 18   | 49.8                   | 12,758,729    | 1.9\n",
       "April                        | Pennsylvania                              | 12/1/2021 21:20:11 | Yes                                  | 3                       | Suburban                                                    | Yes                                          | 5                                                               | Biology             | 2             | Rugby          | 22   | 49.8                   | 12,758,729    | 1.9\n",
       "April                        | Pennsylvania                              | 12/2/2021 8:03:32  | No                                   | 2                       | Suburban                                                    | Yes                                          | 3                                                               | CST                 | 3             | Basketball     | 18   | 49.8                   | 12,758,729    | 1.9\n",
       "April                        | Pennsylvania                              | 12/2/2021 8:07:08  | Yes                                  | 1                       | Urban                                                       | Yes                                          | 3                                                               | Computer Science    | 4             | Golf           | 18   | 49.8                   | 12,758,729    | 1.9\n",
       "... (66 rows omitted)"
      ]
     },
     "execution_count": 252,
     "metadata": {},
     "output_type": "execute_result"
    }
   ],
   "source": [
    "snow_data = snow.join(\"What state or country did you grow up in?\",state,\"State\")\n",
    "snow_data = snow_data.join(\"What month were you born in?\",month,\"month\")\n",
    "snow_data"
   ]
  },
  {
   "cell_type": "code",
   "execution_count": 253,
   "metadata": {},
   "outputs": [],
   "source": [
    "snow_data=snow_data.with_column(\"snow\",snow_data.column(\"Do you like snow? (Answer Yes or No)\")==\"Yes\")"
   ]
  },
  {
   "cell_type": "code",
   "execution_count": 254,
   "metadata": {},
   "outputs": [],
   "source": [
    "snow_data=snow_data.with_column(\"snowi\",snow_data.apply(int,\"snow\"))"
   ]
  },
  {
   "cell_type": "code",
   "execution_count": 255,
   "metadata": {},
   "outputs": [
    {
     "data": {
      "text/html": [
       "<table border=\"1\" class=\"dataframe\">\n",
       "    <thead>\n",
       "        <tr>\n",
       "            <th>What month were you born in?</th> <th>What state or country did you grow up in?</th> <th>Timestamp</th> <th>Do you like snow? (Answer Yes or No)</th> <th>Introvert or extrovert?</th> <th>Did you grow up in a rural, suburban, or urban environment?</th> <th>Do you shovel snow where you currently live?</th> <th>How far do you travel by car annually (best estimate on scale)?</th> <th>Temple Major</th> <th>Enjoy Coding?</th> <th>Favorite Sport</th> <th>Age</th> <th>Average Temperature °F</th> <th>Population</th> <th>bmonth_temp</th> <th>snow</th> <th>snowi</th>\n",
       "        </tr>\n",
       "    </thead>\n",
       "    <tbody>\n",
       "        <tr>\n",
       "            <td>April                       </td> <td>Alaska                                   </td> <td>12/1/2021 11:04:11</td> <td>Yes                                 </td> <td>3                      </td> <td>Rural                                                      </td> <td>Yes                                         </td> <td>7                                                              </td> <td>Chemistry          </td> <td>5            </td> <td>Nordic skiing </td> <td>22  </td> <td>32.03                 </td> <td>728,300      </td> <td>1.9        </td> <td>True </td> <td>1    </td>\n",
       "        </tr>\n",
       "        <tr>\n",
       "            <td>April                       </td> <td>Maryland                                 </td> <td>12/1/2021 22:14:35</td> <td>Yes                                 </td> <td>1                      </td> <td>Suburban                                                   </td> <td>No                                          </td> <td>5                                                              </td> <td>Computer Science   </td> <td>3            </td> <td>Other         </td> <td>18  </td> <td>54.61                 </td> <td>5,887,776    </td> <td>1.9        </td> <td>True </td> <td>1    </td>\n",
       "        </tr>\n",
       "        <tr>\n",
       "            <td>April                       </td> <td>Outside US                               </td> <td>12/1/2021 19:06:42</td> <td>Yes                                 </td> <td>2                      </td> <td>Rural                                                      </td> <td>Yes                                         </td> <td>4                                                              </td> <td>Computer science   </td> <td>4            </td> <td>Other         </td> <td>18  </td> <td>58.6                  </td> <td>7,550,000,000</td> <td>1.9        </td> <td>True </td> <td>1    </td>\n",
       "        </tr>\n",
       "        <tr>\n",
       "            <td>April                       </td> <td>Pennsylvania                             </td> <td>12/1/2021 11:56:20</td> <td>Yes                                 </td> <td>3                      </td> <td>Suburban                                                   </td> <td>Yes                                         </td> <td>4                                                              </td> <td>Graphic design     </td> <td>2            </td> <td>Other         </td> <td>19  </td> <td>49.8                  </td> <td>12,758,729   </td> <td>1.9        </td> <td>True </td> <td>1    </td>\n",
       "        </tr>\n",
       "        <tr>\n",
       "            <td>April                       </td> <td>Pennsylvania                             </td> <td>12/1/2021 11:57:54</td> <td>No                                  </td> <td>2                      </td> <td>Urban                                                      </td> <td>No                                          </td> <td>5                                                              </td> <td>Biology            </td> <td>4            </td> <td>Tennis        </td> <td>18  </td> <td>49.8                  </td> <td>12,758,729   </td> <td>1.9        </td> <td>False</td> <td>0    </td>\n",
       "        </tr>\n",
       "        <tr>\n",
       "            <td>April                       </td> <td>Pennsylvania                             </td> <td>12/1/2021 12:17:28</td> <td>No                                  </td> <td>5                      </td> <td>Suburban                                                   </td> <td>Yes                                         </td> <td>8                                                              </td> <td>Health Professions </td> <td>1            </td> <td>Softball      </td> <td>18  </td> <td>49.8                  </td> <td>12,758,729   </td> <td>1.9        </td> <td>False</td> <td>0    </td>\n",
       "        </tr>\n",
       "        <tr>\n",
       "            <td>April                       </td> <td>Pennsylvania                             </td> <td>12/1/2021 18:38:18</td> <td>No                                  </td> <td>3                      </td> <td>Urban                                                      </td> <td>No                                          </td> <td>6                                                              </td> <td>Biochemistry       </td> <td>3            </td> <td>Soccer        </td> <td>18  </td> <td>49.8                  </td> <td>12,758,729   </td> <td>1.9        </td> <td>False</td> <td>0    </td>\n",
       "        </tr>\n",
       "        <tr>\n",
       "            <td>April                       </td> <td>Pennsylvania                             </td> <td>12/1/2021 21:20:11</td> <td>Yes                                 </td> <td>3                      </td> <td>Suburban                                                   </td> <td>Yes                                         </td> <td>5                                                              </td> <td>Biology            </td> <td>2            </td> <td>Rugby         </td> <td>22  </td> <td>49.8                  </td> <td>12,758,729   </td> <td>1.9        </td> <td>True </td> <td>1    </td>\n",
       "        </tr>\n",
       "        <tr>\n",
       "            <td>April                       </td> <td>Pennsylvania                             </td> <td>12/2/2021 8:03:32 </td> <td>No                                  </td> <td>2                      </td> <td>Suburban                                                   </td> <td>Yes                                         </td> <td>3                                                              </td> <td>CST                </td> <td>3            </td> <td>Basketball    </td> <td>18  </td> <td>49.8                  </td> <td>12,758,729   </td> <td>1.9        </td> <td>False</td> <td>0    </td>\n",
       "        </tr>\n",
       "        <tr>\n",
       "            <td>April                       </td> <td>Pennsylvania                             </td> <td>12/2/2021 8:07:08 </td> <td>Yes                                 </td> <td>1                      </td> <td>Urban                                                      </td> <td>Yes                                         </td> <td>3                                                              </td> <td>Computer Science   </td> <td>4            </td> <td>Golf          </td> <td>18  </td> <td>49.8                  </td> <td>12,758,729   </td> <td>1.9        </td> <td>True </td> <td>1    </td>\n",
       "        </tr>\n",
       "    </tbody>\n",
       "</table>\n",
       "<p>... (66 rows omitted)</p>"
      ],
      "text/plain": [
       "What month were you born in? | What state or country did you grow up in? | Timestamp          | Do you like snow? (Answer Yes or No) | Introvert or extrovert? | Did you grow up in a rural, suburban, or urban environment? | Do you shovel snow where you currently live? | How far do you travel by car annually (best estimate on scale)? | Temple Major        | Enjoy Coding? | Favorite Sport | Age  | Average Temperature °F | Population    | bmonth_temp | snow  | snowi\n",
       "April                        | Alaska                                    | 12/1/2021 11:04:11 | Yes                                  | 3                       | Rural                                                       | Yes                                          | 7                                                               | Chemistry           | 5             | Nordic skiing  | 22   | 32.03                  | 728,300       | 1.9         | True  | 1\n",
       "April                        | Maryland                                  | 12/1/2021 22:14:35 | Yes                                  | 1                       | Suburban                                                    | No                                           | 5                                                               | Computer Science    | 3             | Other          | 18   | 54.61                  | 5,887,776     | 1.9         | True  | 1\n",
       "April                        | Outside US                                | 12/1/2021 19:06:42 | Yes                                  | 2                       | Rural                                                       | Yes                                          | 4                                                               | Computer science    | 4             | Other          | 18   | 58.6                   | 7,550,000,000 | 1.9         | True  | 1\n",
       "April                        | Pennsylvania                              | 12/1/2021 11:56:20 | Yes                                  | 3                       | Suburban                                                    | Yes                                          | 4                                                               | Graphic design      | 2             | Other          | 19   | 49.8                   | 12,758,729    | 1.9         | True  | 1\n",
       "April                        | Pennsylvania                              | 12/1/2021 11:57:54 | No                                   | 2                       | Urban                                                       | No                                           | 5                                                               | Biology             | 4             | Tennis         | 18   | 49.8                   | 12,758,729    | 1.9         | False | 0\n",
       "April                        | Pennsylvania                              | 12/1/2021 12:17:28 | No                                   | 5                       | Suburban                                                    | Yes                                          | 8                                                               | Health Professions  | 1             | Softball       | 18   | 49.8                   | 12,758,729    | 1.9         | False | 0\n",
       "April                        | Pennsylvania                              | 12/1/2021 18:38:18 | No                                   | 3                       | Urban                                                       | No                                           | 6                                                               | Biochemistry        | 3             | Soccer         | 18   | 49.8                   | 12,758,729    | 1.9         | False | 0\n",
       "April                        | Pennsylvania                              | 12/1/2021 21:20:11 | Yes                                  | 3                       | Suburban                                                    | Yes                                          | 5                                                               | Biology             | 2             | Rugby          | 22   | 49.8                   | 12,758,729    | 1.9         | True  | 1\n",
       "April                        | Pennsylvania                              | 12/2/2021 8:03:32  | No                                   | 2                       | Suburban                                                    | Yes                                          | 3                                                               | CST                 | 3             | Basketball     | 18   | 49.8                   | 12,758,729    | 1.9         | False | 0\n",
       "April                        | Pennsylvania                              | 12/2/2021 8:07:08  | Yes                                  | 1                       | Urban                                                       | Yes                                          | 3                                                               | Computer Science    | 4             | Golf           | 18   | 49.8                   | 12,758,729    | 1.9         | True  | 1\n",
       "... (66 rows omitted)"
      ]
     },
     "execution_count": 255,
     "metadata": {},
     "output_type": "execute_result"
    }
   ],
   "source": [
    "snow_data"
   ]
  },
  {
   "cell_type": "code",
   "execution_count": 256,
   "metadata": {},
   "outputs": [
    {
     "data": {
      "image/png": "[encoded data removed]",
      "text/plain": [
       "<Figure size 360x360 with 1 Axes>"
      ]
     },
     "metadata": {
      "needs_background": "light"
     },
     "output_type": "display_data"
    }
   ],
   "source": [
    "snow_data.scatter('Average Temperature °F', 'Introvert or extrovert?', group = \"snowi\") # note new syntax"
   ]
  },
  {
   "cell_type": "code",
   "execution_count": 257,
   "metadata": {},
   "outputs": [
    {
     "data": {
      "image/png": "[encoded data removed]",
      "text/plain": [
       "<Figure size 360x360 with 1 Axes>"
      ]
     },
     "metadata": {
      "needs_background": "light"
     },
     "output_type": "display_data"
    }
   ],
   "source": [
    "snow_data.scatter('Average Temperature °F', 'bmonth_temp', group = \"snowi\")"
   ]
  },
  {
   "cell_type": "code",
   "execution_count": 258,
   "metadata": {},
   "outputs": [],
   "source": [
    "#snow_data.select(\"Introvert or extrovert?\",\"How far do you travel by car annually (best estimate on scale)?\",\"Enjoy Coding?\",\"Age\",\"Average Temperature °F\",\"bmonth_temp\",\"snowi\").barh( \"bmonth_temp\")"
   ]
  },
  {
   "cell_type": "code",
   "execution_count": 259,
   "metadata": {},
   "outputs": [
    {
     "data": {
      "text/html": [
       "<table border=\"1\" class=\"dataframe\">\n",
       "    <thead>\n",
       "        <tr>\n",
       "            <th>Did you grow up in a rural, suburban, or urban environment?</th> <th>count</th>\n",
       "        </tr>\n",
       "    </thead>\n",
       "    <tbody>\n",
       "        <tr>\n",
       "            <td>Rural                                                      </td> <td>6    </td>\n",
       "        </tr>\n",
       "        <tr>\n",
       "            <td>Suburban                                                   </td> <td>52   </td>\n",
       "        </tr>\n",
       "        <tr>\n",
       "            <td>Urban                                                      </td> <td>18   </td>\n",
       "        </tr>\n",
       "    </tbody>\n",
       "</table>"
      ],
      "text/plain": [
       "Did you grow up in a rural, suburban, or urban environment? | count\n",
       "Rural                                                       | 6\n",
       "Suburban                                                    | 52\n",
       "Urban                                                       | 18"
      ]
     },
     "execution_count": 259,
     "metadata": {},
     "output_type": "execute_result"
    }
   ],
   "source": [
    "snow_data.group(\"Did you grow up in a rural, suburban, or urban environment?\")"
   ]
  },
  {
   "cell_type": "markdown",
   "metadata": {},
   "source": [
    "##### Create table with only numerical data"
   ]
  },
  {
   "cell_type": "code",
   "execution_count": 424,
   "metadata": {},
   "outputs": [
    {
     "data": {
      "text/html": [
       "<table border=\"1\" class=\"dataframe\">\n",
       "    <thead>\n",
       "        <tr>\n",
       "            <th>Introvert or extrovert?</th> <th>How far do you travel by car annually (best estimate on scale)?</th> <th>Enjoy Coding?</th> <th>Age</th> <th>Average Temperature °F</th> <th>bmonth_temp</th> <th>snowi</th>\n",
       "        </tr>\n",
       "    </thead>\n",
       "    <tbody>\n",
       "        <tr>\n",
       "            <td>3                      </td> <td>7                                                              </td> <td>5            </td> <td>22  </td> <td>32.03                 </td> <td>1.9        </td> <td>1    </td>\n",
       "        </tr>\n",
       "        <tr>\n",
       "            <td>1                      </td> <td>5                                                              </td> <td>3            </td> <td>18  </td> <td>54.61                 </td> <td>1.9        </td> <td>1    </td>\n",
       "        </tr>\n",
       "        <tr>\n",
       "            <td>2                      </td> <td>4                                                              </td> <td>4            </td> <td>18  </td> <td>58.6                  </td> <td>1.9        </td> <td>1    </td>\n",
       "        </tr>\n",
       "        <tr>\n",
       "            <td>3                      </td> <td>4                                                              </td> <td>2            </td> <td>19  </td> <td>49.8                  </td> <td>1.9        </td> <td>1    </td>\n",
       "        </tr>\n",
       "        <tr>\n",
       "            <td>2                      </td> <td>5                                                              </td> <td>4            </td> <td>18  </td> <td>49.8                  </td> <td>1.9        </td> <td>0    </td>\n",
       "        </tr>\n",
       "        <tr>\n",
       "            <td>5                      </td> <td>8                                                              </td> <td>1            </td> <td>18  </td> <td>49.8                  </td> <td>1.9        </td> <td>0    </td>\n",
       "        </tr>\n",
       "        <tr>\n",
       "            <td>3                      </td> <td>6                                                              </td> <td>3            </td> <td>18  </td> <td>49.8                  </td> <td>1.9        </td> <td>0    </td>\n",
       "        </tr>\n",
       "        <tr>\n",
       "            <td>3                      </td> <td>5                                                              </td> <td>2            </td> <td>22  </td> <td>49.8                  </td> <td>1.9        </td> <td>1    </td>\n",
       "        </tr>\n",
       "        <tr>\n",
       "            <td>2                      </td> <td>3                                                              </td> <td>3            </td> <td>18  </td> <td>49.8                  </td> <td>1.9        </td> <td>0    </td>\n",
       "        </tr>\n",
       "        <tr>\n",
       "            <td>1                      </td> <td>3                                                              </td> <td>4            </td> <td>18  </td> <td>49.8                  </td> <td>1.9        </td> <td>1    </td>\n",
       "        </tr>\n",
       "    </tbody>\n",
       "</table>\n",
       "<p>... (69 rows omitted)</p>"
      ],
      "text/plain": [
       "Introvert or extrovert? | How far do you travel by car annually (best estimate on scale)? | Enjoy Coding? | Age  | Average Temperature °F | bmonth_temp | snowi\n",
       "3                       | 7                                                               | 5             | 22   | 32.03                  | 1.9         | 1\n",
       "1                       | 5                                                               | 3             | 18   | 54.61                  | 1.9         | 1\n",
       "2                       | 4                                                               | 4             | 18   | 58.6                   | 1.9         | 1\n",
       "3                       | 4                                                               | 2             | 19   | 49.8                   | 1.9         | 1\n",
       "2                       | 5                                                               | 4             | 18   | 49.8                   | 1.9         | 0\n",
       "5                       | 8                                                               | 1             | 18   | 49.8                   | 1.9         | 0\n",
       "3                       | 6                                                               | 3             | 18   | 49.8                   | 1.9         | 0\n",
       "3                       | 5                                                               | 2             | 22   | 49.8                   | 1.9         | 1\n",
       "2                       | 3                                                               | 3             | 18   | 49.8                   | 1.9         | 0\n",
       "1                       | 3                                                               | 4             | 18   | 49.8                   | 1.9         | 1\n",
       "... (69 rows omitted)"
      ]
     },
     "execution_count": 424,
     "metadata": {},
     "output_type": "execute_result"
    }
   ],
   "source": [
    "snow_num = snow_data.select(\"Introvert or extrovert?\",\"How far do you travel by car annually (best estimate on scale)?\",\"Enjoy Coding?\",\"Age\",\"Average Temperature °F\",\"bmonth_temp\",\"snowi\")\n",
    "snow_num"
   ]
  },
  {
   "cell_type": "markdown",
   "metadata": {},
   "source": [
    "### Now split sample: 60% training, 40% test"
   ]
  },
  {
   "cell_type": "code",
   "execution_count": 261,
   "metadata": {},
   "outputs": [],
   "source": [
    "ntrain = int(snow_data.num_rows)\n",
    "ntest = 1 - ntrain"
   ]
  },
  {
   "cell_type": "code",
   "execution_count": 262,
   "metadata": {},
   "outputs": [],
   "source": [
    "shuffled_snow = snow_num.sample(with_replacement=False)\n",
    "training = shuffled_snow.take(np.arange(ntrain))\n",
    "testing = shuffled_snow.take(np.arange(ntrain, snow_data.num_rows))"
   ]
  },
  {
   "cell_type": "markdown",
   "metadata": {},
   "source": [
    "### k-nearest neighbor training tools"
   ]
  },
  {
   "cell_type": "code",
   "execution_count": 455,
   "metadata": {},
   "outputs": [],
   "source": [
    "def distance(pt1, pt2):\n",
    "    \"\"\"Return the distance between two points (represented as arrays)\"\"\"\n",
    "    return np.sqrt(np.sum((pt1 - pt2) ** 2))\n",
    "\n",
    "def row_distance(row1, row2):\n",
    "    \"\"\"Return the distance between two numerical rows of a table\"\"\"\n",
    "    return distance(make_array(row1), make_array(row2))"
   ]
  },
  {
   "cell_type": "code",
   "execution_count": 456,
   "metadata": {},
   "outputs": [],
   "source": [
    "def distances(training, example):\n",
    "    \"\"\"Compute a table with the training set and distances to the example for each row in the training set.\"\"\"\n",
    "    dists = []\n",
    "    attributes = training.drop('Class')\n",
    "    for row in attributes.rows:\n",
    "        dist = row_distance(row, example)\n",
    "        dists.append(dist)\n",
    "    return training.with_column('Distance', dists)"
   ]
  },
  {
   "cell_type": "code",
   "execution_count": 457,
   "metadata": {},
   "outputs": [],
   "source": [
    "def closest(training, example, k):\n",
    "    \"\"\"Return a table of the k closest neighbors to example\"\"\"\n",
    "    return distances(training, example).sort('Distance').take(np.arange(k))"
   ]
  },
  {
   "cell_type": "code",
   "execution_count": 458,
   "metadata": {},
   "outputs": [],
   "source": [
    "def majority_class(neighbors):\n",
    "    \"\"\"Return the class that's most common among all these neighbors.\"\"\"\n",
    "    return neighbors.group('Class').sort('count', descending=True).column('Class').item(0)"
   ]
  },
  {
   "cell_type": "code",
   "execution_count": 459,
   "metadata": {},
   "outputs": [],
   "source": [
    "def classify(training, example, k):\n",
    "    \"Return the majority class among the k nearest neighbors.\"\n",
    "    nearest_neighbors = closest(training, example, k)\n",
    "    return majority_class(nearest_neighbors)"
   ]
  },
  {
   "cell_type": "code",
   "execution_count": 460,
   "metadata": {},
   "outputs": [],
   "source": [
    "def evaluate_accuracy(training, test, k):\n",
    "    test_attributes = test.drop('Class')\n",
    "    num_correct = 0\n",
    "    for i in np.arange(test.num_rows):\n",
    "        # Run the classifier on the ith patient in the test set\n",
    "        test_patient = test_attributes.row(i)\n",
    "        c = classify(training, test_patient, k)\n",
    "        # Was the classifier's prediction correct?\n",
    "        if c == test.column('Class').item(i):\n",
    "            num_correct = num_correct + 1\n",
    "    return num_correct / test.num_rows"
   ]
  },
  {
   "cell_type": "markdown",
   "metadata": {},
   "source": [
    "### Now carry out same with sklearning tools"
   ]
  },
  {
   "cell_type": "code",
   "execution_count": 425,
   "metadata": {},
   "outputs": [],
   "source": [
    "from sklearn.neighbors import KNeighborsClassifier"
   ]
  },
  {
   "cell_type": "code",
   "execution_count": 426,
   "metadata": {},
   "outputs": [],
   "source": [
    "model = KNeighborsClassifier(n_neighbors = 5)"
   ]
  },
  {
   "cell_type": "code",
   "execution_count": 427,
   "metadata": {},
   "outputs": [],
   "source": [
    "from sklearn.preprocessing import StandardScaler\n",
    "scaler = StandardScaler()"
   ]
  },
  {
   "cell_type": "code",
   "execution_count": 428,
   "metadata": {},
   "outputs": [],
   "source": [
    "snow_df = snow_num.to_df()"
   ]
  },
  {
   "cell_type": "code",
   "execution_count": 429,
   "metadata": {},
   "outputs": [
    {
     "data": {
      "text/plain": [
       "StandardScaler(copy=True, with_mean=True, with_std=True)"
      ]
     },
     "execution_count": 429,
     "metadata": {},
     "output_type": "execute_result"
    }
   ],
   "source": [
    "scaler.fit(snow_df.drop('snowi', axis=1))"
   ]
  },
  {
   "cell_type": "code",
   "execution_count": 430,
   "metadata": {},
   "outputs": [],
   "source": [
    "scaled_features = scaler.transform(snow_df.drop('snowi', axis=1))"
   ]
  },
  {
   "cell_type": "code",
   "execution_count": 431,
   "metadata": {},
   "outputs": [],
   "source": [
    "scaled_data = pd.DataFrame(scaled_features, columns = snow_df.drop('snowi', axis=1).columns)"
   ]
  },
  {
   "cell_type": "code",
   "execution_count": 432,
   "metadata": {},
   "outputs": [],
   "source": [
    "from sklearn.model_selection import train_test_split"
   ]
  },
  {
   "cell_type": "code",
   "execution_count": 433,
   "metadata": {},
   "outputs": [],
   "source": [
    "x = scaled_data\n",
    "\n",
    "y = snow_df['snowi']"
   ]
  },
  {
   "cell_type": "code",
   "execution_count": 434,
   "metadata": {},
   "outputs": [
    {
     "data": {
      "text/html": [
       "<div>\n",
       "<style scoped>\n",
       "    .dataframe tbody tr th:only-of-type {\n",
       "        vertical-align: middle;\n",
       "    }\n",
       "\n",
       "    .dataframe tbody tr th {\n",
       "        vertical-align: top;\n",
       "    }\n",
       "\n",
       "    .dataframe thead th {\n",
       "        text-align: right;\n",
       "    }\n",
       "</style>\n",
       "<table border=\"1\" class=\"dataframe\">\n",
       "  <thead>\n",
       "    <tr style=\"text-align: right;\">\n",
       "      <th></th>\n",
       "      <th>Introvert or extrovert?</th>\n",
       "      <th>How far do you travel by car annually (best estimate on scale)?</th>\n",
       "      <th>Enjoy Coding?</th>\n",
       "      <th>Age</th>\n",
       "      <th>Average Temperature °F</th>\n",
       "      <th>bmonth_temp</th>\n",
       "    </tr>\n",
       "  </thead>\n",
       "  <tbody>\n",
       "    <tr>\n",
       "      <th>0</th>\n",
       "      <td>-0.131024</td>\n",
       "      <td>0.923307</td>\n",
       "      <td>1.759944</td>\n",
       "      <td>2.973376</td>\n",
       "      <td>-3.374956</td>\n",
       "      <td>-0.077568</td>\n",
       "    </tr>\n",
       "    <tr>\n",
       "      <th>1</th>\n",
       "      <td>-1.856178</td>\n",
       "      <td>0.017204</td>\n",
       "      <td>0.094847</td>\n",
       "      <td>-0.532545</td>\n",
       "      <td>0.340278</td>\n",
       "      <td>-0.077568</td>\n",
       "    </tr>\n",
       "    <tr>\n",
       "      <th>2</th>\n",
       "      <td>-0.993601</td>\n",
       "      <td>-0.435847</td>\n",
       "      <td>0.927395</td>\n",
       "      <td>-0.532545</td>\n",
       "      <td>0.996779</td>\n",
       "      <td>-0.077568</td>\n",
       "    </tr>\n",
       "    <tr>\n",
       "      <th>3</th>\n",
       "      <td>-0.131024</td>\n",
       "      <td>-0.435847</td>\n",
       "      <td>-0.737701</td>\n",
       "      <td>0.343935</td>\n",
       "      <td>-0.451142</td>\n",
       "      <td>-0.077568</td>\n",
       "    </tr>\n",
       "    <tr>\n",
       "      <th>4</th>\n",
       "      <td>-0.993601</td>\n",
       "      <td>0.017204</td>\n",
       "      <td>0.927395</td>\n",
       "      <td>-0.532545</td>\n",
       "      <td>-0.451142</td>\n",
       "      <td>-0.077568</td>\n",
       "    </tr>\n",
       "    <tr>\n",
       "      <th>...</th>\n",
       "      <td>...</td>\n",
       "      <td>...</td>\n",
       "      <td>...</td>\n",
       "      <td>...</td>\n",
       "      <td>...</td>\n",
       "      <td>...</td>\n",
       "    </tr>\n",
       "    <tr>\n",
       "      <th>74</th>\n",
       "      <td>0.731553</td>\n",
       "      <td>1.376359</td>\n",
       "      <td>0.927395</td>\n",
       "      <td>0.343935</td>\n",
       "      <td>-0.451142</td>\n",
       "      <td>-0.135379</td>\n",
       "    </tr>\n",
       "    <tr>\n",
       "      <th>75</th>\n",
       "      <td>1.594130</td>\n",
       "      <td>-1.341950</td>\n",
       "      <td>1.759944</td>\n",
       "      <td>-0.532545</td>\n",
       "      <td>-0.451142</td>\n",
       "      <td>-0.135379</td>\n",
       "    </tr>\n",
       "    <tr>\n",
       "      <th>76</th>\n",
       "      <td>-0.993601</td>\n",
       "      <td>0.017204</td>\n",
       "      <td>0.927395</td>\n",
       "      <td>0.343935</td>\n",
       "      <td>-0.451142</td>\n",
       "      <td>0.743338</td>\n",
       "    </tr>\n",
       "    <tr>\n",
       "      <th>77</th>\n",
       "      <td>-0.131024</td>\n",
       "      <td>0.470256</td>\n",
       "      <td>-0.737701</td>\n",
       "      <td>0.343935</td>\n",
       "      <td>-0.451142</td>\n",
       "      <td>0.743338</td>\n",
       "    </tr>\n",
       "    <tr>\n",
       "      <th>78</th>\n",
       "      <td>0.731553</td>\n",
       "      <td>0.923307</td>\n",
       "      <td>0.927395</td>\n",
       "      <td>-0.532545</td>\n",
       "      <td>-0.451142</td>\n",
       "      <td>0.743338</td>\n",
       "    </tr>\n",
       "  </tbody>\n",
       "</table>\n",
       "<p>79 rows × 6 columns</p>\n",
       "</div>"
      ],
      "text/plain": [
       "    Introvert or extrovert?  \\\n",
       "0                 -0.131024   \n",
       "1                 -1.856178   \n",
       "2                 -0.993601   \n",
       "3                 -0.131024   \n",
       "4                 -0.993601   \n",
       "..                      ...   \n",
       "74                 0.731553   \n",
       "75                 1.594130   \n",
       "76                -0.993601   \n",
       "77                -0.131024   \n",
       "78                 0.731553   \n",
       "\n",
       "    How far do you travel by car annually (best estimate on scale)?  \\\n",
       "0                                            0.923307                 \n",
       "1                                            0.017204                 \n",
       "2                                           -0.435847                 \n",
       "3                                           -0.435847                 \n",
       "4                                            0.017204                 \n",
       "..                                                ...                 \n",
       "74                                           1.376359                 \n",
       "75                                          -1.341950                 \n",
       "76                                           0.017204                 \n",
       "77                                           0.470256                 \n",
       "78                                           0.923307                 \n",
       "\n",
       "    Enjoy Coding?       Age  Average Temperature °F  bmonth_temp  \n",
       "0        1.759944  2.973376               -3.374956    -0.077568  \n",
       "1        0.094847 -0.532545                0.340278    -0.077568  \n",
       "2        0.927395 -0.532545                0.996779    -0.077568  \n",
       "3       -0.737701  0.343935               -0.451142    -0.077568  \n",
       "4        0.927395 -0.532545               -0.451142    -0.077568  \n",
       "..            ...       ...                     ...          ...  \n",
       "74       0.927395  0.343935               -0.451142    -0.135379  \n",
       "75       1.759944 -0.532545               -0.451142    -0.135379  \n",
       "76       0.927395  0.343935               -0.451142     0.743338  \n",
       "77      -0.737701  0.343935               -0.451142     0.743338  \n",
       "78       0.927395 -0.532545               -0.451142     0.743338  \n",
       "\n",
       "[79 rows x 6 columns]"
      ]
     },
     "execution_count": 434,
     "metadata": {},
     "output_type": "execute_result"
    }
   ],
   "source": [
    "x"
   ]
  },
  {
   "cell_type": "code",
   "execution_count": 435,
   "metadata": {},
   "outputs": [],
   "source": [
    "x_training_data, x_test_data, y_training_data, y_test_data = train_test_split(x, y, test_size = 0.20)"
   ]
  },
  {
   "cell_type": "code",
   "execution_count": 436,
   "metadata": {},
   "outputs": [],
   "source": [
    "from sklearn.neighbors import KNeighborsClassifier"
   ]
  },
  {
   "cell_type": "code",
   "execution_count": 437,
   "metadata": {},
   "outputs": [],
   "source": [
    "model = KNeighborsClassifier(n_neighbors = 5)"
   ]
  },
  {
   "cell_type": "code",
   "execution_count": 438,
   "metadata": {},
   "outputs": [
    {
     "data": {
      "text/plain": [
       "KNeighborsClassifier(algorithm='auto', leaf_size=30, metric='minkowski',\n",
       "                     metric_params=None, n_jobs=None, n_neighbors=5, p=2,\n",
       "                     weights='uniform')"
      ]
     },
     "execution_count": 438,
     "metadata": {},
     "output_type": "execute_result"
    }
   ],
   "source": [
    "model.fit(x_training_data, y_training_data)"
   ]
  },
  {
   "cell_type": "code",
   "execution_count": 439,
   "metadata": {},
   "outputs": [
    {
     "data": {
      "text/plain": [
       "array([1])"
      ]
     },
     "execution_count": 439,
     "metadata": {},
     "output_type": "execute_result"
    }
   ],
   "source": [
    "predict = model.predict([[0,0,0,0,2.0,2.0]])\n",
    "predict"
   ]
  },
  {
   "cell_type": "code",
   "execution_count": 440,
   "metadata": {},
   "outputs": [
    {
     "data": {
      "text/html": [
       "<div>\n",
       "<style scoped>\n",
       "    .dataframe tbody tr th:only-of-type {\n",
       "        vertical-align: middle;\n",
       "    }\n",
       "\n",
       "    .dataframe tbody tr th {\n",
       "        vertical-align: top;\n",
       "    }\n",
       "\n",
       "    .dataframe thead th {\n",
       "        text-align: right;\n",
       "    }\n",
       "</style>\n",
       "<table border=\"1\" class=\"dataframe\">\n",
       "  <thead>\n",
       "    <tr style=\"text-align: right;\">\n",
       "      <th></th>\n",
       "      <th>Introvert or extrovert?</th>\n",
       "      <th>How far do you travel by car annually (best estimate on scale)?</th>\n",
       "      <th>Enjoy Coding?</th>\n",
       "      <th>Age</th>\n",
       "      <th>Average Temperature °F</th>\n",
       "      <th>bmonth_temp</th>\n",
       "    </tr>\n",
       "  </thead>\n",
       "  <tbody>\n",
       "    <tr>\n",
       "      <th>60</th>\n",
       "      <td>0.731553</td>\n",
       "      <td>-1.795001</td>\n",
       "      <td>0.094847</td>\n",
       "      <td>-0.532545</td>\n",
       "      <td>-0.451142</td>\n",
       "      <td>0.639279</td>\n",
       "    </tr>\n",
       "    <tr>\n",
       "      <th>9</th>\n",
       "      <td>-1.856178</td>\n",
       "      <td>-0.888898</td>\n",
       "      <td>0.927395</td>\n",
       "      <td>-0.532545</td>\n",
       "      <td>-0.451142</td>\n",
       "      <td>-0.077568</td>\n",
       "    </tr>\n",
       "    <tr>\n",
       "      <th>31</th>\n",
       "      <td>0.731553</td>\n",
       "      <td>1.376359</td>\n",
       "      <td>0.094847</td>\n",
       "      <td>-0.532545</td>\n",
       "      <td>0.340278</td>\n",
       "      <td>-1.476577</td>\n",
       "    </tr>\n",
       "    <tr>\n",
       "      <th>25</th>\n",
       "      <td>0.731553</td>\n",
       "      <td>0.017204</td>\n",
       "      <td>0.094847</td>\n",
       "      <td>-1.409025</td>\n",
       "      <td>-0.719337</td>\n",
       "      <td>-1.187526</td>\n",
       "    </tr>\n",
       "    <tr>\n",
       "      <th>67</th>\n",
       "      <td>-0.131024</td>\n",
       "      <td>-0.888898</td>\n",
       "      <td>0.094847</td>\n",
       "      <td>1.220416</td>\n",
       "      <td>0.996779</td>\n",
       "      <td>-0.967847</td>\n",
       "    </tr>\n",
       "    <tr>\n",
       "      <th>8</th>\n",
       "      <td>-0.993601</td>\n",
       "      <td>-0.888898</td>\n",
       "      <td>0.094847</td>\n",
       "      <td>-0.532545</td>\n",
       "      <td>-0.451142</td>\n",
       "      <td>-0.077568</td>\n",
       "    </tr>\n",
       "    <tr>\n",
       "      <th>4</th>\n",
       "      <td>-0.993601</td>\n",
       "      <td>0.017204</td>\n",
       "      <td>0.927395</td>\n",
       "      <td>-0.532545</td>\n",
       "      <td>-0.451142</td>\n",
       "      <td>-0.077568</td>\n",
       "    </tr>\n",
       "    <tr>\n",
       "      <th>12</th>\n",
       "      <td>-0.131024</td>\n",
       "      <td>1.829410</td>\n",
       "      <td>-0.737701</td>\n",
       "      <td>-0.532545</td>\n",
       "      <td>-0.100680</td>\n",
       "      <td>1.252068</td>\n",
       "    </tr>\n",
       "    <tr>\n",
       "      <th>66</th>\n",
       "      <td>-0.131024</td>\n",
       "      <td>-0.888898</td>\n",
       "      <td>0.927395</td>\n",
       "      <td>-0.532545</td>\n",
       "      <td>-0.719337</td>\n",
       "      <td>-0.967847</td>\n",
       "    </tr>\n",
       "    <tr>\n",
       "      <th>17</th>\n",
       "      <td>-0.131024</td>\n",
       "      <td>-0.435847</td>\n",
       "      <td>-0.737701</td>\n",
       "      <td>-0.532545</td>\n",
       "      <td>-0.451142</td>\n",
       "      <td>1.252068</td>\n",
       "    </tr>\n",
       "    <tr>\n",
       "      <th>1</th>\n",
       "      <td>-1.856178</td>\n",
       "      <td>0.017204</td>\n",
       "      <td>0.094847</td>\n",
       "      <td>-0.532545</td>\n",
       "      <td>0.340278</td>\n",
       "      <td>-0.077568</td>\n",
       "    </tr>\n",
       "    <tr>\n",
       "      <th>51</th>\n",
       "      <td>-0.131024</td>\n",
       "      <td>0.017204</td>\n",
       "      <td>0.927395</td>\n",
       "      <td>2.973376</td>\n",
       "      <td>0.996779</td>\n",
       "      <td>-0.771292</td>\n",
       "    </tr>\n",
       "    <tr>\n",
       "      <th>29</th>\n",
       "      <td>1.594130</td>\n",
       "      <td>0.470256</td>\n",
       "      <td>-0.737701</td>\n",
       "      <td>-0.532545</td>\n",
       "      <td>0.360022</td>\n",
       "      <td>-1.476577</td>\n",
       "    </tr>\n",
       "    <tr>\n",
       "      <th>69</th>\n",
       "      <td>-0.993601</td>\n",
       "      <td>-0.888898</td>\n",
       "      <td>0.927395</td>\n",
       "      <td>0.343935</td>\n",
       "      <td>-0.451142</td>\n",
       "      <td>-0.967847</td>\n",
       "    </tr>\n",
       "    <tr>\n",
       "      <th>39</th>\n",
       "      <td>-0.131024</td>\n",
       "      <td>0.923307</td>\n",
       "      <td>1.759944</td>\n",
       "      <td>1.220416</td>\n",
       "      <td>-0.451142</td>\n",
       "      <td>1.379251</td>\n",
       "    </tr>\n",
       "    <tr>\n",
       "      <th>70</th>\n",
       "      <td>-0.131024</td>\n",
       "      <td>1.376359</td>\n",
       "      <td>0.094847</td>\n",
       "      <td>-0.532545</td>\n",
       "      <td>-0.451142</td>\n",
       "      <td>-0.967847</td>\n",
       "    </tr>\n",
       "  </tbody>\n",
       "</table>\n",
       "</div>"
      ],
      "text/plain": [
       "    Introvert or extrovert?  \\\n",
       "60                 0.731553   \n",
       "9                 -1.856178   \n",
       "31                 0.731553   \n",
       "25                 0.731553   \n",
       "67                -0.131024   \n",
       "8                 -0.993601   \n",
       "4                 -0.993601   \n",
       "12                -0.131024   \n",
       "66                -0.131024   \n",
       "17                -0.131024   \n",
       "1                 -1.856178   \n",
       "51                -0.131024   \n",
       "29                 1.594130   \n",
       "69                -0.993601   \n",
       "39                -0.131024   \n",
       "70                -0.131024   \n",
       "\n",
       "    How far do you travel by car annually (best estimate on scale)?  \\\n",
       "60                                          -1.795001                 \n",
       "9                                           -0.888898                 \n",
       "31                                           1.376359                 \n",
       "25                                           0.017204                 \n",
       "67                                          -0.888898                 \n",
       "8                                           -0.888898                 \n",
       "4                                            0.017204                 \n",
       "12                                           1.829410                 \n",
       "66                                          -0.888898                 \n",
       "17                                          -0.435847                 \n",
       "1                                            0.017204                 \n",
       "51                                           0.017204                 \n",
       "29                                           0.470256                 \n",
       "69                                          -0.888898                 \n",
       "39                                           0.923307                 \n",
       "70                                           1.376359                 \n",
       "\n",
       "    Enjoy Coding?       Age  Average Temperature °F  bmonth_temp  \n",
       "60       0.094847 -0.532545               -0.451142     0.639279  \n",
       "9        0.927395 -0.532545               -0.451142    -0.077568  \n",
       "31       0.094847 -0.532545                0.340278    -1.476577  \n",
       "25       0.094847 -1.409025               -0.719337    -1.187526  \n",
       "67       0.094847  1.220416                0.996779    -0.967847  \n",
       "8        0.094847 -0.532545               -0.451142    -0.077568  \n",
       "4        0.927395 -0.532545               -0.451142    -0.077568  \n",
       "12      -0.737701 -0.532545               -0.100680     1.252068  \n",
       "66       0.927395 -0.532545               -0.719337    -0.967847  \n",
       "17      -0.737701 -0.532545               -0.451142     1.252068  \n",
       "1        0.094847 -0.532545                0.340278    -0.077568  \n",
       "51       0.927395  2.973376                0.996779    -0.771292  \n",
       "29      -0.737701 -0.532545                0.360022    -1.476577  \n",
       "69       0.927395  0.343935               -0.451142    -0.967847  \n",
       "39       1.759944  1.220416               -0.451142     1.379251  \n",
       "70       0.094847 -0.532545               -0.451142    -0.967847  "
      ]
     },
     "execution_count": 440,
     "metadata": {},
     "output_type": "execute_result"
    }
   ],
   "source": [
    "x_test_data"
   ]
  },
  {
   "cell_type": "code",
   "execution_count": 441,
   "metadata": {},
   "outputs": [
    {
     "data": {
      "text/plain": [
       "array([1, 1, 1, 1, 1, 1, 1, 1, 1, 1, 1, 1, 1, 1, 1, 1])"
      ]
     },
     "execution_count": 441,
     "metadata": {},
     "output_type": "execute_result"
    }
   ],
   "source": [
    "model.predict(x_test_data)"
   ]
  },
  {
   "cell_type": "code",
   "execution_count": 442,
   "metadata": {},
   "outputs": [
    {
     "data": {
      "text/plain": [
       "60    1\n",
       "9     1\n",
       "31    1\n",
       "25    1\n",
       "67    1\n",
       "8     0\n",
       "4     0\n",
       "12    1\n",
       "66    1\n",
       "17    1\n",
       "1     1\n",
       "51    1\n",
       "29    1\n",
       "69    1\n",
       "39    0\n",
       "70    1\n",
       "Name: snowi, dtype: int64"
      ]
     },
     "execution_count": 442,
     "metadata": {},
     "output_type": "execute_result"
    }
   ],
   "source": [
    "y_test_data"
   ]
  },
  {
   "cell_type": "code",
   "execution_count": 443,
   "metadata": {},
   "outputs": [
    {
     "data": {
      "text/plain": [
       "Introvert or extrovert?                                            16\n",
       "How far do you travel by car annually (best estimate on scale)?    16\n",
       "Enjoy Coding?                                                      16\n",
       "Age                                                                16\n",
       "Average Temperature °F                                             16\n",
       "bmonth_temp                                                        16\n",
       "dtype: int64"
      ]
     },
     "execution_count": 443,
     "metadata": {},
     "output_type": "execute_result"
    }
   ],
   "source": [
    "x_test_data.count()"
   ]
  },
  {
   "cell_type": "code",
   "execution_count": 444,
   "metadata": {},
   "outputs": [
    {
     "name": "stdout",
     "output_type": "stream",
     "text": [
      "Accuracy: 0.8125\n"
     ]
    }
   ],
   "source": [
    "#Import scikit-learn metrics module for accuracy calculation\n",
    "from sklearn import metrics\n",
    "# Model Accuracy, how often is the classifier correct?\n",
    "predictions=model.predict(x_test_data)\n",
    "print(\"Accuracy:\",metrics.accuracy_score(y_test_data, predictions))"
   ]
  },
  {
   "cell_type": "code",
   "execution_count": 445,
   "metadata": {},
   "outputs": [],
   "source": [
    "from sklearn.metrics import classification_report\n",
    "\n",
    "from sklearn.metrics import confusion_matrix"
   ]
  },
  {
   "cell_type": "code",
   "execution_count": 446,
   "metadata": {},
   "outputs": [
    {
     "name": "stdout",
     "output_type": "stream",
     "text": [
      "              precision    recall  f1-score   support\n",
      "\n",
      "           0       0.00      0.00      0.00         3\n",
      "           1       0.81      1.00      0.90        13\n",
      "\n",
      "    accuracy                           0.81        16\n",
      "   macro avg       0.41      0.50      0.45        16\n",
      "weighted avg       0.66      0.81      0.73        16\n",
      "\n"
     ]
    }
   ],
   "source": [
    "print(classification_report(y_test_data, predictions))"
   ]
  },
  {
   "cell_type": "code",
   "execution_count": 447,
   "metadata": {},
   "outputs": [],
   "source": [
    "error_rates = []\n",
    "for i in np.arange(1, 13):\n",
    "\n",
    "    new_model = KNeighborsClassifier(n_neighbors = i)\n",
    "\n",
    "    new_model.fit(x_training_data, y_training_data)\n",
    "\n",
    "    new_predictions = new_model.predict(x_test_data)\n",
    "\n",
    "    error_rates.append(np.mean(new_predictions != y_test_data))"
   ]
  },
  {
   "cell_type": "code",
   "execution_count": 448,
   "metadata": {},
   "outputs": [
    {
     "data": {
      "text/plain": [
       "[<matplotlib.lines.Line2D at 0x7f9737750410>]"
      ]
     },
     "execution_count": 448,
     "metadata": {},
     "output_type": "execute_result"
    },
    {
     "data": {
      "image/png": "[encoded data removed]",
      "text/plain": [
       "<Figure size 432x288 with 1 Axes>"
      ]
     },
     "metadata": {
      "needs_background": "light"
     },
     "output_type": "display_data"
    }
   ],
   "source": [
    "plt.plot(error_rates)"
   ]
  },
  {
   "cell_type": "code",
   "execution_count": 449,
   "metadata": {},
   "outputs": [
    {
     "data": {
      "text/html": [
       "<div>\n",
       "<style scoped>\n",
       "    .dataframe tbody tr th:only-of-type {\n",
       "        vertical-align: middle;\n",
       "    }\n",
       "\n",
       "    .dataframe tbody tr th {\n",
       "        vertical-align: top;\n",
       "    }\n",
       "\n",
       "    .dataframe thead th {\n",
       "        text-align: right;\n",
       "    }\n",
       "</style>\n",
       "<table border=\"1\" class=\"dataframe\">\n",
       "  <thead>\n",
       "    <tr style=\"text-align: right;\">\n",
       "      <th></th>\n",
       "      <th>Introvert or extrovert?</th>\n",
       "      <th>How far do you travel by car annually (best estimate on scale)?</th>\n",
       "      <th>Enjoy Coding?</th>\n",
       "      <th>Age</th>\n",
       "      <th>Average Temperature °F</th>\n",
       "      <th>bmonth_temp</th>\n",
       "    </tr>\n",
       "  </thead>\n",
       "  <tbody>\n",
       "    <tr>\n",
       "      <th>0</th>\n",
       "      <td>-0.131024</td>\n",
       "      <td>0.923307</td>\n",
       "      <td>1.759944</td>\n",
       "      <td>2.973376</td>\n",
       "      <td>-3.374956</td>\n",
       "      <td>-0.077568</td>\n",
       "    </tr>\n",
       "    <tr>\n",
       "      <th>1</th>\n",
       "      <td>-1.856178</td>\n",
       "      <td>0.017204</td>\n",
       "      <td>0.094847</td>\n",
       "      <td>-0.532545</td>\n",
       "      <td>0.340278</td>\n",
       "      <td>-0.077568</td>\n",
       "    </tr>\n",
       "    <tr>\n",
       "      <th>2</th>\n",
       "      <td>-0.993601</td>\n",
       "      <td>-0.435847</td>\n",
       "      <td>0.927395</td>\n",
       "      <td>-0.532545</td>\n",
       "      <td>0.996779</td>\n",
       "      <td>-0.077568</td>\n",
       "    </tr>\n",
       "    <tr>\n",
       "      <th>3</th>\n",
       "      <td>-0.131024</td>\n",
       "      <td>-0.435847</td>\n",
       "      <td>-0.737701</td>\n",
       "      <td>0.343935</td>\n",
       "      <td>-0.451142</td>\n",
       "      <td>-0.077568</td>\n",
       "    </tr>\n",
       "    <tr>\n",
       "      <th>4</th>\n",
       "      <td>-0.993601</td>\n",
       "      <td>0.017204</td>\n",
       "      <td>0.927395</td>\n",
       "      <td>-0.532545</td>\n",
       "      <td>-0.451142</td>\n",
       "      <td>-0.077568</td>\n",
       "    </tr>\n",
       "    <tr>\n",
       "      <th>...</th>\n",
       "      <td>...</td>\n",
       "      <td>...</td>\n",
       "      <td>...</td>\n",
       "      <td>...</td>\n",
       "      <td>...</td>\n",
       "      <td>...</td>\n",
       "    </tr>\n",
       "    <tr>\n",
       "      <th>74</th>\n",
       "      <td>0.731553</td>\n",
       "      <td>1.376359</td>\n",
       "      <td>0.927395</td>\n",
       "      <td>0.343935</td>\n",
       "      <td>-0.451142</td>\n",
       "      <td>-0.135379</td>\n",
       "    </tr>\n",
       "    <tr>\n",
       "      <th>75</th>\n",
       "      <td>1.594130</td>\n",
       "      <td>-1.341950</td>\n",
       "      <td>1.759944</td>\n",
       "      <td>-0.532545</td>\n",
       "      <td>-0.451142</td>\n",
       "      <td>-0.135379</td>\n",
       "    </tr>\n",
       "    <tr>\n",
       "      <th>76</th>\n",
       "      <td>-0.993601</td>\n",
       "      <td>0.017204</td>\n",
       "      <td>0.927395</td>\n",
       "      <td>0.343935</td>\n",
       "      <td>-0.451142</td>\n",
       "      <td>0.743338</td>\n",
       "    </tr>\n",
       "    <tr>\n",
       "      <th>77</th>\n",
       "      <td>-0.131024</td>\n",
       "      <td>0.470256</td>\n",
       "      <td>-0.737701</td>\n",
       "      <td>0.343935</td>\n",
       "      <td>-0.451142</td>\n",
       "      <td>0.743338</td>\n",
       "    </tr>\n",
       "    <tr>\n",
       "      <th>78</th>\n",
       "      <td>0.731553</td>\n",
       "      <td>0.923307</td>\n",
       "      <td>0.927395</td>\n",
       "      <td>-0.532545</td>\n",
       "      <td>-0.451142</td>\n",
       "      <td>0.743338</td>\n",
       "    </tr>\n",
       "  </tbody>\n",
       "</table>\n",
       "<p>79 rows × 6 columns</p>\n",
       "</div>"
      ],
      "text/plain": [
       "    Introvert or extrovert?  \\\n",
       "0                 -0.131024   \n",
       "1                 -1.856178   \n",
       "2                 -0.993601   \n",
       "3                 -0.131024   \n",
       "4                 -0.993601   \n",
       "..                      ...   \n",
       "74                 0.731553   \n",
       "75                 1.594130   \n",
       "76                -0.993601   \n",
       "77                -0.131024   \n",
       "78                 0.731553   \n",
       "\n",
       "    How far do you travel by car annually (best estimate on scale)?  \\\n",
       "0                                            0.923307                 \n",
       "1                                            0.017204                 \n",
       "2                                           -0.435847                 \n",
       "3                                           -0.435847                 \n",
       "4                                            0.017204                 \n",
       "..                                                ...                 \n",
       "74                                           1.376359                 \n",
       "75                                          -1.341950                 \n",
       "76                                           0.017204                 \n",
       "77                                           0.470256                 \n",
       "78                                           0.923307                 \n",
       "\n",
       "    Enjoy Coding?       Age  Average Temperature °F  bmonth_temp  \n",
       "0        1.759944  2.973376               -3.374956    -0.077568  \n",
       "1        0.094847 -0.532545                0.340278    -0.077568  \n",
       "2        0.927395 -0.532545                0.996779    -0.077568  \n",
       "3       -0.737701  0.343935               -0.451142    -0.077568  \n",
       "4        0.927395 -0.532545               -0.451142    -0.077568  \n",
       "..            ...       ...                     ...          ...  \n",
       "74       0.927395  0.343935               -0.451142    -0.135379  \n",
       "75       1.759944 -0.532545               -0.451142    -0.135379  \n",
       "76       0.927395  0.343935               -0.451142     0.743338  \n",
       "77      -0.737701  0.343935               -0.451142     0.743338  \n",
       "78       0.927395 -0.532545               -0.451142     0.743338  \n",
       "\n",
       "[79 rows x 6 columns]"
      ]
     },
     "execution_count": 449,
     "metadata": {},
     "output_type": "execute_result"
    }
   ],
   "source": [
    "x"
   ]
  },
  {
   "cell_type": "code",
   "execution_count": 452,
   "metadata": {},
   "outputs": [],
   "source": [
    "from matplotlib.colors import ListedColormap\n",
    "cmap_light = ListedColormap(['#FFAAAA', '#AAFFAA','#00AAFF'])\n",
    "cmap_bold = ListedColormap(['#FF0000', '#00FF00','#00AAFF'])\n",
    "# calculate min, max and limits\n",
    "h= .2\n",
    "X = x[[\"Enjoy Coding?\",\"bmonth_temp\"]].to_numpy() #Select attributes\n",
    "x_min, x_max = X[:, 0].min() - 1, X[:, 0].max() + 1\n",
    "y_min, y_max = X[:, 1].min() - 1, X[:, 1].max() + 1\n",
    "xx, yy = np.meshgrid(np.arange(x_min, x_max, h),np.arange(y_min, y_max, h))"
   ]
  },
  {
   "cell_type": "code",
   "execution_count": 454,
   "metadata": {},
   "outputs": [
    {
     "data": {
      "image/png": "[encoded data removed]",
      "text/plain": [
       "<Figure size 432x288 with 1 Axes>"
      ]
     },
     "metadata": {
      "needs_background": "light"
     },
     "output_type": "display_data"
    }
   ],
   "source": [
    "cmap_light = ListedColormap(['#FFAAAA', '#AAFFAA', '#00AAFF'])\n",
    "cmap_bold = ListedColormap(['#FF0000', '#00FF00', '#00AAFF'])\n",
    "clf = neighbors.KNeighborsClassifier(n_neighbors, weights='distance')\n",
    "clf.fit(X, y)\n",
    "Z = clf.predict(np.c_[xx.ravel(), yy.ravel()])\n",
    "\n",
    "Z = Z.reshape(xx.shape)\n",
    "plt.figure()\n",
    "plt.pcolormesh(xx, yy, Z, cmap=cmap_light)\n",
    "\n",
    "plt.scatter(X[:, 0], X[:, 1], c=y, cmap=cmap_bold)\n",
    "plt.xlim(xx.min(), xx.max())\n",
    "plt.ylim(yy.min(), yy.max())\n",
    "plt.title(\"2-Class classification (k = %i)\" % (n_neighbors))\n",
    "plt.show()"
   ]
  },
  {
   "cell_type": "markdown",
   "metadata": {},
   "source": [
    "### Example using Iris data"
   ]
  },
  {
   "cell_type": "code",
   "execution_count": 164,
   "metadata": {},
   "outputs": [
    {
     "data": {
      "image/png": "[encoded data removed]",
      "text/plain": [
       "<Figure size 576x720 with 1 Axes>"
      ]
     },
     "metadata": {
      "needs_background": "light"
     },
     "output_type": "display_data"
    }
   ],
   "source": [
    "import matplotlib\n",
    "#matplotlib.use('GTK3Agg')\n",
    "\n",
    "import numpy as np\n",
    "import matplotlib.pyplot as plt\n",
    "from matplotlib.colors import ListedColormap\n",
    "from sklearn import neighbors, datasets\n",
    "\n",
    "n_neighbors = 6\n",
    "\n",
    "# import some data to play with\n",
    "iris = datasets.load_iris()\n",
    "\n",
    "# prepare data\n",
    "X = iris.data[:, :2]\n",
    "y = iris.target\n",
    "h = .02\n",
    "\n",
    "# Create color maps\n",
    "cmap_light = ListedColormap(['#FFAAAA', '#AAFFAA','#00AAFF'])\n",
    "cmap_bold = ListedColormap(['#FF0000', '#00FF00','#00AAFF'])\n",
    "\n",
    "# we create an instance of Neighbours Classifier and fit the data.\n",
    "clf = neighbors.KNeighborsClassifier(n_neighbors, weights='distance')\n",
    "clf.fit(X, y)\n",
    "\n",
    "# calculate min, max and limits\n",
    "x_min, x_max = X[:, 0].min() - 1, X[:, 0].max() + 1\n",
    "y_min, y_max = X[:, 1].min() - 1, X[:, 1].max() + 1\n",
    "xx, yy = np.meshgrid(np.arange(x_min, x_max, h),\n",
    "np.arange(y_min, y_max, h))\n",
    "\n",
    "# predict class using data and kNN classifier\n",
    "Z = clf.predict(np.c_[xx.ravel(), yy.ravel()])\n",
    "\n",
    "# Put the result into a color plot\n",
    "Z = Z.reshape(xx.shape)\n",
    "plt.figure()\n",
    "plt.pcolormesh(xx, yy, Z, cmap=cmap_light)\n",
    "\n",
    "# Plot also the training points\n",
    "plt.scatter(X[:, 0], X[:, 1], c=y, cmap=cmap_bold)\n",
    "plt.xlim(xx.min(), xx.max())\n",
    "plt.ylim(yy.min(), yy.max())\n",
    "plt.title(\"3-Class classification (k = %i)\" % (n_neighbors))\n",
    "plt.show()\n"
   ]
  },
  {
   "cell_type": "code",
   "execution_count": null,
   "metadata": {},
   "outputs": [],
   "source": []
  }
 ],
 "metadata": {
  "kernelspec": {
   "display_name": "Python 3",
   "language": "python",
   "name": "python3"
  },
  "language_info": {
   "codemirror_mode": {
    "name": "ipython",
    "version": 3
   },
   "file_extension": ".py",
   "mimetype": "text/x-python",
   "name": "python",
   "nbconvert_exporter": "python",
   "pygments_lexer": "ipython3",
   "version": "3.7.7"
  }
 },
 "nbformat": 4,
 "nbformat_minor": 4
}
