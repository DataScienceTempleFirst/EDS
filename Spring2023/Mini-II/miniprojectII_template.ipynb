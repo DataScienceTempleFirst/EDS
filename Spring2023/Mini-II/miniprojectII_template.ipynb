{
 "cells": [
  {
   "cell_type": "markdown",
   "metadata": {},
   "source": [
    "## mini-project II\n",
    "Elements of Data Science"
   ]
  },
  {
   "cell_type": "code",
   "execution_count": null,
   "metadata": {},
   "outputs": [],
   "source": [
    "# Enter your name as a string\n",
    "name = ..."
   ]
  },
  {
   "cell_type": "code",
   "execution_count": null,
   "metadata": {},
   "outputs": [],
   "source": [
    "import numpy as np\n",
    "from datascience import *\n",
    "%matplotlib inline\n",
    "import matplotlib.pyplot as plt\n",
    "plt.style.use('fivethirtyeight')\n",
    "# Fix for datascience plots\n",
    "import collections as collections\n",
    "import collections.abc as abc\n",
    "collections.Iterable = abc.Iterable"
   ]
  },
  {
   "cell_type": "markdown",
   "metadata": {},
   "source": [
    "### Mount Saint Helens Eruption  8:32 A.M. on May 18, 1980\n",
    "We will explore data on ecosystem recovery following the volcanic eruption at Mount Saint Helens in Washington State.<br>\n",
    "<img src='data/Eruption.jpg'><br><img src='data/800px-1980_St._Helens_ashmap.png'>"
   ]
  },
  {
   "cell_type": "markdown",
   "metadata": {},
   "source": [
    "### Data Sets\n",
    "Mount Saint Helens erupted at 8:32 A.M. on May 18, 1980. \n",
    "<br>\n",
    "Professor Roger del Morales at University of Washington https://faculty.washington.edu/moral/ and his team set up circular, 9 meter radius, land plots near the volcano once it was safe to initiate the study in 1984. These plots are located in several distinct regions near the volcano cone to study the return of vegatation to these plots located in different positions relative to the colcanic cone (see mapping below). We will use this data to assess the rate of plant succession. Measures included in the data include yearly species richness, *RICHNESS*, defined as the number of species in a given region or in this case the 9 meter radius (250 m^2) land plot. We will use our data science tools to decide if the changes over time in *RICHNESS* are a pattern (Alternate hypothesis) or if they are just due to random fluctutaions (NULL hypothesis). Other variables include *COVER_%* which can also be analyzed. \n",
    "\n",
    "Data collected:\n",
    "1. del Moral, Roger (2016): Thirty years of permanent vegetation plots, Mount St. Helens, Washington, USA. Wiley. Collection. https://doi.org/10.6084/m9.figshare.c.3303093.v1 \n",
    "Source: https://figshare.com/collections/Thirty_years_of_permanent_vegetation_plots_Mount_St_Helens_Washington_USA/3303093\n",
    "\n",
    "A papers using this data:\n",
    "1. Del Moral, R.; Magnússon, B., \"Surtsey and Mount St. Helens: a comparison of early succession rates\". Biogeosciences 2014, 11 (7), 2099-2111.\n",
    "https://faculty.washington.edu/moral/publications/2014%20delMoral%20Magnusson.pdf\n",
    "\n",
    "2.  Cook, James E.; Halpern, Charles B., \"Vegetation changes in blown-down and scorched forests 10–26 years after the eruption of Mount St. Helens, Washington, USA\". Plant Ecology 2018, 219 (8), 957-972.\n",
    "https://link.springer.com/content/pdf/10.1007/s11258-018-0849-8.pdf\n",
    "\n"
   ]
  },
  {
   "cell_type": "markdown",
   "metadata": {},
   "source": [
    "### Mini project Goals and Rubric\n",
    "1. Create initial data tables and plots to explore the nature of the different plots included in \"data/MSH_PLOT_DESCRIPTORS2.csv\". Variables to consider include  elevation, slope, aspect (direction), impact type. You could use group or pivot methods here.\n",
    "2. Identify two *PLOT_CODE*s to study based on mapped location and characteristics given in \"data/MSH_PLOT_DESCRIPTORS2.csv\" file. Use a markdown cell to provide reasons for your two choices of plots. Include differences and similarities.\n",
    "3. Carry out exploratory data analysis on the yearly data included in \"data/MSH_STRUCTURE_PLOT_YEAR.csv\" for each of the identified plots. \n",
    "2. Formulate a hypothesis regarding plant vegation (*COVER_%*) and variety (*RICHNESS*) following the eruption. You can refer to the above links and papers for ideas. Create a detailed markdown cell to detail this hypothesis.\n",
    "3. State the NULL hypothesis for each measure.\n",
    "4. Formulate a data science plan to simulate random changes following the first year of data.\n",
    "5. Compare the the results of 1000+ simulations to the outcome.\n",
    "6. Identify a good test statistic such as positive and negative changes or other.\n",
    "7. Statistically test whether data supports the alternate hypothesis\n",
    "    1. Compute a P-value. (Hint: you can use np.count_nonzero())\n",
    "    2. Using a 5% P-value cutoff, draw a conclusion about the null and alternative hypotheses.\n",
    "    3. Describe your findings using simple, non-technical language.\n",
    "8. Examine data for a second *PLOT_CODE* and repeat proceedure.\n",
    "9. Sum up your observations in a large markdown cell."
   ]
  },
  {
   "cell_type": "code",
   "execution_count": null,
   "metadata": {},
   "outputs": [],
   "source": [
    "# Plot description dataset\n",
    "datafile = \"data/MSH_PLOT_DESCRIPTORS2.csv\"\n",
    "MSH_PLOT = Table.read_table(datafile)\n",
    "MSH_PLOT"
   ]
  },
  {
   "cell_type": "markdown",
   "metadata": {},
   "source": [
    "#### Biodiversity Data Collected following Mount Saint Helens Eruption\n",
    "Data is collected anually on on developing biodiversity on defined plots of land with given latitude and longitude. Thes locations can be mapped using the *map_table* method of a table object. There are several related plots in different regions of the volcanic cone. Zoom in on map, click on each circle to view the label for the data series and select one of the datasets for further analysis."
   ]
  },
  {
   "cell_type": "code",
   "execution_count": null,
   "metadata": {
    "scrolled": true
   },
   "outputs": [],
   "source": [
    "MSH_PLOT = MSH_PLOT.with_columns('NLONG',-1*(MSH_PLOT.column('LONG')))\n",
    "MSH_map = MSH_PLOT.select('LAT', 'NLONG', 'PLOT_CODE').relabel('PLOT_CODE', 'labels')\n",
    "Circle.map_table(MSH_map, color='blue',area=200)"
   ]
  },
  {
   "cell_type": "code",
   "execution_count": null,
   "metadata": {},
   "outputs": [],
   "source": [
    "# Plot vegatation trend yearly dataset\n",
    "datafile = \"data/MSH_STRUCTURE_PLOT_YEAR.csv\"\n",
    "MSH_YEAR = Table.read_table(datafile)\n",
    "MSH_YEAR"
   ]
  },
  {
   "cell_type": "code",
   "execution_count": null,
   "metadata": {},
   "outputs": [],
   "source": [
    "np.unique(MSH_YEAR.column('PLOT_NAME')) #Return unique plot names"
   ]
  },
  {
   "cell_type": "code",
   "execution_count": null,
   "metadata": {},
   "outputs": [],
   "source": [
    "np.unique(MSH_YEAR.column('YEAR')) #Return unique plot names"
   ]
  },
  {
   "cell_type": "code",
   "execution_count": null,
   "metadata": {},
   "outputs": [],
   "source": [
    "# Select a particular plot name based on examination of mapped data and descriptions in the plot description dataset.\n",
    "PLT = 'STRD' # Put the name for study hear, i.e ='STRD'\n",
    "data = MSH_YEAR.where('PLOT_NAME',are.contained_in(PLT)).sort('YEAR',descending=False)\n",
    "data"
   ]
  },
  {
   "cell_type": "code",
   "execution_count": null,
   "metadata": {},
   "outputs": [],
   "source": [
    "data.scatter('YEAR','RICHNESS')"
   ]
  },
  {
   "cell_type": "markdown",
   "metadata": {},
   "source": []
  },
  {
   "cell_type": "code",
   "execution_count": null,
   "metadata": {},
   "outputs": [],
   "source": []
  },
  {
   "cell_type": "code",
   "execution_count": null,
   "metadata": {},
   "outputs": [],
   "source": []
  },
  {
   "cell_type": "code",
   "execution_count": null,
   "metadata": {},
   "outputs": [],
   "source": []
  },
  {
   "cell_type": "code",
   "execution_count": null,
   "metadata": {},
   "outputs": [],
   "source": [
    "# Last cell to execute\n",
    "import datetime\n",
    "now = datetime.datetime.now()\n",
    "now = now.strftime('%H:%M:%S on %A, %B the %dth, %Y')\n",
    "print(\" Submitted by \", name, \" at \", now )"
   ]
  }
 ],
 "metadata": {
  "kernelspec": {
   "display_name": "Python 3 (ipykernel)",
   "language": "python",
   "name": "python3"
  },
  "language_info": {
   "codemirror_mode": {
    "name": "ipython",
    "version": 3
   },
   "file_extension": ".py",
   "mimetype": "text/x-python",
   "name": "python",
   "nbconvert_exporter": "python",
   "pygments_lexer": "ipython3",
   "version": "3.10.4"
  }
 },
 "nbformat": 4,
 "nbformat_minor": 4
}
