{
 "cells": [
  {
   "cell_type": "markdown",
   "id": "f29b42b8-2359-4774-9290-a1411be89a04",
   "metadata": {},
   "source": [
    "## Class 006 Tables tested"
   ]
  },
  {
   "cell_type": "code",
   "execution_count": null,
   "id": "8b570ee0-306d-4fad-8ffa-e4b3b356922e",
   "metadata": {},
   "outputs": [],
   "source": [
    "from datascience import *\n",
    "\n",
    "# import for plotting\n",
    "%matplotlib inline\n",
    "import matplotlib.pyplot as plots\n",
    "plots.style.use('fivethirtyeight')\n",
    "# Fix for datascience plots\n",
    "import collections as collections\n",
    "import collections.abc as abc\n",
    "collections.Iterable = abc.Iterable"
   ]
  },
  {
   "cell_type": "markdown",
   "id": "296f5b49-1c3b-4cec-bdc7-39f3bcac2b64",
   "metadata": {},
   "source": [
    "### Create a first datascience table object from an array\n",
    "As an example we can create a table directly from data inserted into an arr"
   ]
  },
  {
   "cell_type": "code",
   "execution_count": null,
   "id": "67c59a8e-fdba-4390-be3c-66ce031da766",
   "metadata": {},
   "outputs": [],
   "source": [
    "T=Table().with_columns('Tornados',make_array(0,0,0,1,0,0,0,1,5,1,0,0))"
   ]
  },
  {
   "cell_type": "code",
   "execution_count": null,
   "id": "6342bfd6-7410-422d-a1d7-d78569a0c923",
   "metadata": {},
   "outputs": [],
   "source": [
    "make_array(0,0,0,1,0,0,0,1,5,1,0,0)"
   ]
  },
  {
   "cell_type": "code",
   "execution_count": null,
   "id": "6e55ed11-88ab-46af-92e5-d702dbef8c8f",
   "metadata": {},
   "outputs": [],
   "source": [
    "import numpy as np\n",
    "T=T.with_columns('Month',np.arange(1,13,1))"
   ]
  },
  {
   "cell_type": "code",
   "execution_count": null,
   "id": "7e4654c5-3c27-4230-bb55-fce1450dbd13",
   "metadata": {},
   "outputs": [],
   "source": [
    "T"
   ]
  },
  {
   "cell_type": "code",
   "execution_count": null,
   "id": "cbb1a72d-9dc0-4a3d-8d09-a16def7346f6",
   "metadata": {},
   "outputs": [],
   "source": [
    "import numpy as np\n",
    "T=T.with_columns('Month',np.arange(1,13))"
   ]
  },
  {
   "cell_type": "code",
   "execution_count": null,
   "id": "205d03a4-76e3-4343-a834-ff74345ea3f9",
   "metadata": {},
   "outputs": [],
   "source": [
    "T.sort(0,descending=True)"
   ]
  },
  {
   "cell_type": "code",
   "execution_count": null,
   "id": "b30839e7-cb4f-43e0-b702-2c4fa6209715",
   "metadata": {},
   "outputs": [],
   "source": [
    "T=T.with_columns(\"Odd\",T.column(1)%2).where(\"Odd\",0)\n",
    "T"
   ]
  },
  {
   "cell_type": "markdown",
   "id": "b81b1987-aad6-4494-9ab1-7d668d7901d6",
   "metadata": {},
   "source": [
    "### Census data example"
   ]
  },
  {
   "cell_type": "code",
   "execution_count": null,
   "id": "0c46d4bd-1a53-4fcd-9193-c1d9e3f63c4c",
   "metadata": {},
   "outputs": [],
   "source": [
    "data = 'http://www2.census.gov/programs-surveys/popest/datasets/2010-2020/national/asrh/nc-est2020-agesex-res.csv'\n",
    "\n",
    "\n",
    "full_census_table = Table().read_table(data)\n",
    "full_census_table"
   ]
  },
  {
   "cell_type": "code",
   "execution_count": null,
   "id": "b7082ced-593c-42f2-8a85-bdf28490f5ac",
   "metadata": {},
   "outputs": [],
   "source": [
    "partial_census_table = full_census_table.select('SEX', 'AGE', 'POPESTIMATE2010', 'POPESTIMATE2020')\n",
    "partial_census_table"
   ]
  },
  {
   "cell_type": "code",
   "execution_count": null,
   "id": "587dd336-4bf0-4b72-9522-714d15ba2344",
   "metadata": {},
   "outputs": [],
   "source": [
    "type(3*partial_census_table.column(\"AGE\"))"
   ]
  },
  {
   "cell_type": "code",
   "execution_count": null,
   "id": "4dcc5207-4254-4c77-b035-699a9577963f",
   "metadata": {},
   "outputs": [],
   "source": [
    "us_pop = partial_census_table.relabeled('POPESTIMATE2010', '2010').relabeled('POPESTIMATE2020', '2020').relabeled('SEX','GENDER')\n",
    "us_pop"
   ]
  },
  {
   "cell_type": "code",
   "execution_count": null,
   "id": "0c463bc2-3e1c-4755-bfca-6ffe604cefd8",
   "metadata": {},
   "outputs": [],
   "source": [
    "type(us_pop)"
   ]
  },
  {
   "cell_type": "code",
   "execution_count": null,
   "id": "5af64f24-76ab-49ef-8bd1-82261306e7b7",
   "metadata": {},
   "outputs": [],
   "source": [
    "us_pop.where('AGE',81)"
   ]
  },
  {
   "cell_type": "code",
   "execution_count": null,
   "id": "fb08c304-2f6d-4bce-99ff-b219828b70d6",
   "metadata": {},
   "outputs": [],
   "source": [
    "us_pop.where('AGE',70)"
   ]
  },
  {
   "cell_type": "code",
   "execution_count": null,
   "id": "39326e89-d4cb-461a-b3e8-3d8b99e99267",
   "metadata": {},
   "outputs": [],
   "source": [
    "us_pop.where('GENDER',0).select('AGE','2010','2020').where('AGE',are.below(100)).plot('AGE')"
   ]
  },
  {
   "cell_type": "code",
   "execution_count": null,
   "id": "7c3b0c77-f6f1-4882-babe-e6dba850b341",
   "metadata": {},
   "outputs": [],
   "source": [
    "us_pop.where('GENDER',0).select('AGE','2010','2020').where('AGE',are.below(100))"
   ]
  },
  {
   "cell_type": "markdown",
   "id": "6173cece-b2ec-4cb5-998a-ec5f7bf09b63",
   "metadata": {},
   "source": [
    "## Philadelphia COVID Tests by ZIP (CSV)\n",
    "[Philly Open Data](https://www.opendataphilly.org/dataset/covid-cases/resource/d4d1e48a-d401-405c-972b-c45292c3d4f5?inner_span=True)"
   ]
  },
  {
   "cell_type": "code",
   "execution_count": null,
   "id": "bf9db7d8-2661-4fcd-bc10-6f80d8c69a71",
   "metadata": {},
   "outputs": [],
   "source": [
    "PHLcovid =\"https://phl.carto.com/api/v2/sql?q=SELECT+*+FROM+covid_cases_by_zip&filename=covid_cases_by_zip&format=csv&skipfields=cartodb_id\"\n",
    "\n",
    "Cdata = Table().read_table(PHLcovid)\n",
    "Cdata.where('covid_status','POS').sort('count',descending=True)"
   ]
  },
  {
   "cell_type": "code",
   "execution_count": null,
   "id": "2ea0e377-16a5-43b1-b87d-71d34e8fe43a",
   "metadata": {},
   "outputs": [],
   "source": [
    "Cdata.where('covid_status','POS').sort('count',descending=True).hist('count')"
   ]
  },
  {
   "cell_type": "code",
   "execution_count": null,
   "id": "adf84487-dc9d-47ed-9db4-210d9bf4ffe5",
   "metadata": {},
   "outputs": [],
   "source": [
    "Cdata.where('covid_status','NEG').sort('count',descending=True).where('count',are.below(200000)).hist('count')"
   ]
  },
  {
   "cell_type": "code",
   "execution_count": null,
   "id": "307df8b7-818b-4cfd-a5cb-ca2780a2fc72",
   "metadata": {},
   "outputs": [],
   "source": []
  }
 ],
 "metadata": {
  "kernelspec": {
   "display_name": "Python 3 (ipykernel)",
   "language": "python",
   "name": "python3"
  },
  "language_info": {
   "codemirror_mode": {
    "name": "ipython",
    "version": 3
   },
   "file_extension": ".py",
   "mimetype": "text/x-python",
   "name": "python",
   "nbconvert_exporter": "python",
   "pygments_lexer": "ipython3",
   "version": "3.10.4"
  }
 },
 "nbformat": 4,
 "nbformat_minor": 5
}
