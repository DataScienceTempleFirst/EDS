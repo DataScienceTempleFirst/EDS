{
 "cells": [
  {
   "cell_type": "markdown",
   "id": "a5467a5d",
   "metadata": {},
   "source": [
    "### k nearest neighbors example\n",
    "Chronic kidney disease data"
   ]
  },
  {
   "cell_type": "code",
   "execution_count": 4,
   "id": "e645a418",
   "metadata": {},
   "outputs": [],
   "source": [
    "import numpy as np\n",
    "from datascience import *\n",
    "import pandas as pd\n",
    "import matplotlib\n",
    "%matplotlib inline\n",
    "import matplotlib.pyplot as plt\n",
    "plt.style.use('fivethirtyeight')\n",
    "import warnings\n",
    "warnings.simplefilter('ignore', UserWarning)\n",
    "from IPython.display import Image\n",
    "from matplotlib.colors import ListedColormap\n",
    "from sklearn import neighbors, datasets"
   ]
  },
  {
   "cell_type": "code",
   "execution_count": 5,
   "id": "daf9a617",
   "metadata": {},
   "outputs": [
    {
     "data": {
      "text/html": [
       "<div>\n",
       "<style scoped>\n",
       "    .dataframe tbody tr th:only-of-type {\n",
       "        vertical-align: middle;\n",
       "    }\n",
       "\n",
       "    .dataframe tbody tr th {\n",
       "        vertical-align: top;\n",
       "    }\n",
       "\n",
       "    .dataframe thead th {\n",
       "        text-align: right;\n",
       "    }\n",
       "</style>\n",
       "<table border=\"1\" class=\"dataframe\">\n",
       "  <thead>\n",
       "    <tr style=\"text-align: right;\">\n",
       "      <th></th>\n",
       "      <th>id</th>\n",
       "      <th>age</th>\n",
       "      <th>bp</th>\n",
       "      <th>sg</th>\n",
       "      <th>al</th>\n",
       "      <th>su</th>\n",
       "      <th>rbc</th>\n",
       "      <th>pc</th>\n",
       "      <th>pcc</th>\n",
       "      <th>ba</th>\n",
       "      <th>...</th>\n",
       "      <th>pcv</th>\n",
       "      <th>wc</th>\n",
       "      <th>rc</th>\n",
       "      <th>htn</th>\n",
       "      <th>dm</th>\n",
       "      <th>cad</th>\n",
       "      <th>appet</th>\n",
       "      <th>pe</th>\n",
       "      <th>ane</th>\n",
       "      <th>classification</th>\n",
       "    </tr>\n",
       "  </thead>\n",
       "  <tbody>\n",
       "    <tr>\n",
       "      <th>3</th>\n",
       "      <td>3</td>\n",
       "      <td>48.0</td>\n",
       "      <td>70.0</td>\n",
       "      <td>1.005</td>\n",
       "      <td>4.0</td>\n",
       "      <td>0.0</td>\n",
       "      <td>normal</td>\n",
       "      <td>abnormal</td>\n",
       "      <td>present</td>\n",
       "      <td>notpresent</td>\n",
       "      <td>...</td>\n",
       "      <td>32.0</td>\n",
       "      <td>6700.0</td>\n",
       "      <td>3.9</td>\n",
       "      <td>yes</td>\n",
       "      <td>no</td>\n",
       "      <td>no</td>\n",
       "      <td>poor</td>\n",
       "      <td>yes</td>\n",
       "      <td>yes</td>\n",
       "      <td>ckd</td>\n",
       "    </tr>\n",
       "    <tr>\n",
       "      <th>9</th>\n",
       "      <td>9</td>\n",
       "      <td>53.0</td>\n",
       "      <td>90.0</td>\n",
       "      <td>1.020</td>\n",
       "      <td>2.0</td>\n",
       "      <td>0.0</td>\n",
       "      <td>abnormal</td>\n",
       "      <td>abnormal</td>\n",
       "      <td>present</td>\n",
       "      <td>notpresent</td>\n",
       "      <td>...</td>\n",
       "      <td>29.0</td>\n",
       "      <td>12100.0</td>\n",
       "      <td>3.7</td>\n",
       "      <td>yes</td>\n",
       "      <td>yes</td>\n",
       "      <td>no</td>\n",
       "      <td>poor</td>\n",
       "      <td>no</td>\n",
       "      <td>yes</td>\n",
       "      <td>ckd</td>\n",
       "    </tr>\n",
       "    <tr>\n",
       "      <th>11</th>\n",
       "      <td>11</td>\n",
       "      <td>63.0</td>\n",
       "      <td>70.0</td>\n",
       "      <td>1.010</td>\n",
       "      <td>3.0</td>\n",
       "      <td>0.0</td>\n",
       "      <td>abnormal</td>\n",
       "      <td>abnormal</td>\n",
       "      <td>present</td>\n",
       "      <td>notpresent</td>\n",
       "      <td>...</td>\n",
       "      <td>32.0</td>\n",
       "      <td>4500.0</td>\n",
       "      <td>3.8</td>\n",
       "      <td>yes</td>\n",
       "      <td>yes</td>\n",
       "      <td>no</td>\n",
       "      <td>poor</td>\n",
       "      <td>yes</td>\n",
       "      <td>no</td>\n",
       "      <td>ckd</td>\n",
       "    </tr>\n",
       "    <tr>\n",
       "      <th>14</th>\n",
       "      <td>14</td>\n",
       "      <td>68.0</td>\n",
       "      <td>80.0</td>\n",
       "      <td>1.010</td>\n",
       "      <td>3.0</td>\n",
       "      <td>2.0</td>\n",
       "      <td>normal</td>\n",
       "      <td>abnormal</td>\n",
       "      <td>present</td>\n",
       "      <td>present</td>\n",
       "      <td>...</td>\n",
       "      <td>16.0</td>\n",
       "      <td>11000.0</td>\n",
       "      <td>2.6</td>\n",
       "      <td>yes</td>\n",
       "      <td>yes</td>\n",
       "      <td>yes</td>\n",
       "      <td>poor</td>\n",
       "      <td>yes</td>\n",
       "      <td>no</td>\n",
       "      <td>ckd</td>\n",
       "    </tr>\n",
       "    <tr>\n",
       "      <th>20</th>\n",
       "      <td>20</td>\n",
       "      <td>61.0</td>\n",
       "      <td>80.0</td>\n",
       "      <td>1.015</td>\n",
       "      <td>2.0</td>\n",
       "      <td>0.0</td>\n",
       "      <td>abnormal</td>\n",
       "      <td>abnormal</td>\n",
       "      <td>notpresent</td>\n",
       "      <td>notpresent</td>\n",
       "      <td>...</td>\n",
       "      <td>24.0</td>\n",
       "      <td>9200.0</td>\n",
       "      <td>3.2</td>\n",
       "      <td>yes</td>\n",
       "      <td>yes</td>\n",
       "      <td>yes</td>\n",
       "      <td>poor</td>\n",
       "      <td>yes</td>\n",
       "      <td>yes</td>\n",
       "      <td>ckd</td>\n",
       "    </tr>\n",
       "    <tr>\n",
       "      <th>...</th>\n",
       "      <td>...</td>\n",
       "      <td>...</td>\n",
       "      <td>...</td>\n",
       "      <td>...</td>\n",
       "      <td>...</td>\n",
       "      <td>...</td>\n",
       "      <td>...</td>\n",
       "      <td>...</td>\n",
       "      <td>...</td>\n",
       "      <td>...</td>\n",
       "      <td>...</td>\n",
       "      <td>...</td>\n",
       "      <td>...</td>\n",
       "      <td>...</td>\n",
       "      <td>...</td>\n",
       "      <td>...</td>\n",
       "      <td>...</td>\n",
       "      <td>...</td>\n",
       "      <td>...</td>\n",
       "      <td>...</td>\n",
       "      <td>...</td>\n",
       "    </tr>\n",
       "    <tr>\n",
       "      <th>395</th>\n",
       "      <td>395</td>\n",
       "      <td>55.0</td>\n",
       "      <td>80.0</td>\n",
       "      <td>1.020</td>\n",
       "      <td>0.0</td>\n",
       "      <td>0.0</td>\n",
       "      <td>normal</td>\n",
       "      <td>normal</td>\n",
       "      <td>notpresent</td>\n",
       "      <td>notpresent</td>\n",
       "      <td>...</td>\n",
       "      <td>47.0</td>\n",
       "      <td>6700.0</td>\n",
       "      <td>4.9</td>\n",
       "      <td>no</td>\n",
       "      <td>no</td>\n",
       "      <td>no</td>\n",
       "      <td>good</td>\n",
       "      <td>no</td>\n",
       "      <td>no</td>\n",
       "      <td>notckd</td>\n",
       "    </tr>\n",
       "    <tr>\n",
       "      <th>396</th>\n",
       "      <td>396</td>\n",
       "      <td>42.0</td>\n",
       "      <td>70.0</td>\n",
       "      <td>1.025</td>\n",
       "      <td>0.0</td>\n",
       "      <td>0.0</td>\n",
       "      <td>normal</td>\n",
       "      <td>normal</td>\n",
       "      <td>notpresent</td>\n",
       "      <td>notpresent</td>\n",
       "      <td>...</td>\n",
       "      <td>54.0</td>\n",
       "      <td>7800.0</td>\n",
       "      <td>6.2</td>\n",
       "      <td>no</td>\n",
       "      <td>no</td>\n",
       "      <td>no</td>\n",
       "      <td>good</td>\n",
       "      <td>no</td>\n",
       "      <td>no</td>\n",
       "      <td>notckd</td>\n",
       "    </tr>\n",
       "    <tr>\n",
       "      <th>397</th>\n",
       "      <td>397</td>\n",
       "      <td>12.0</td>\n",
       "      <td>80.0</td>\n",
       "      <td>1.020</td>\n",
       "      <td>0.0</td>\n",
       "      <td>0.0</td>\n",
       "      <td>normal</td>\n",
       "      <td>normal</td>\n",
       "      <td>notpresent</td>\n",
       "      <td>notpresent</td>\n",
       "      <td>...</td>\n",
       "      <td>49.0</td>\n",
       "      <td>6600.0</td>\n",
       "      <td>5.4</td>\n",
       "      <td>no</td>\n",
       "      <td>no</td>\n",
       "      <td>no</td>\n",
       "      <td>good</td>\n",
       "      <td>no</td>\n",
       "      <td>no</td>\n",
       "      <td>notckd</td>\n",
       "    </tr>\n",
       "    <tr>\n",
       "      <th>398</th>\n",
       "      <td>398</td>\n",
       "      <td>17.0</td>\n",
       "      <td>60.0</td>\n",
       "      <td>1.025</td>\n",
       "      <td>0.0</td>\n",
       "      <td>0.0</td>\n",
       "      <td>normal</td>\n",
       "      <td>normal</td>\n",
       "      <td>notpresent</td>\n",
       "      <td>notpresent</td>\n",
       "      <td>...</td>\n",
       "      <td>51.0</td>\n",
       "      <td>7200.0</td>\n",
       "      <td>5.9</td>\n",
       "      <td>no</td>\n",
       "      <td>no</td>\n",
       "      <td>no</td>\n",
       "      <td>good</td>\n",
       "      <td>no</td>\n",
       "      <td>no</td>\n",
       "      <td>notckd</td>\n",
       "    </tr>\n",
       "    <tr>\n",
       "      <th>399</th>\n",
       "      <td>399</td>\n",
       "      <td>58.0</td>\n",
       "      <td>80.0</td>\n",
       "      <td>1.025</td>\n",
       "      <td>0.0</td>\n",
       "      <td>0.0</td>\n",
       "      <td>normal</td>\n",
       "      <td>normal</td>\n",
       "      <td>notpresent</td>\n",
       "      <td>notpresent</td>\n",
       "      <td>...</td>\n",
       "      <td>53.0</td>\n",
       "      <td>6800.0</td>\n",
       "      <td>6.1</td>\n",
       "      <td>no</td>\n",
       "      <td>no</td>\n",
       "      <td>no</td>\n",
       "      <td>good</td>\n",
       "      <td>no</td>\n",
       "      <td>no</td>\n",
       "      <td>notckd</td>\n",
       "    </tr>\n",
       "  </tbody>\n",
       "</table>\n",
       "<p>158 rows × 26 columns</p>\n",
       "</div>"
      ],
      "text/plain": [
       "      id   age    bp     sg   al   su       rbc        pc         pcc  \\\n",
       "3      3  48.0  70.0  1.005  4.0  0.0    normal  abnormal     present   \n",
       "9      9  53.0  90.0  1.020  2.0  0.0  abnormal  abnormal     present   \n",
       "11    11  63.0  70.0  1.010  3.0  0.0  abnormal  abnormal     present   \n",
       "14    14  68.0  80.0  1.010  3.0  2.0    normal  abnormal     present   \n",
       "20    20  61.0  80.0  1.015  2.0  0.0  abnormal  abnormal  notpresent   \n",
       "..   ...   ...   ...    ...  ...  ...       ...       ...         ...   \n",
       "395  395  55.0  80.0  1.020  0.0  0.0    normal    normal  notpresent   \n",
       "396  396  42.0  70.0  1.025  0.0  0.0    normal    normal  notpresent   \n",
       "397  397  12.0  80.0  1.020  0.0  0.0    normal    normal  notpresent   \n",
       "398  398  17.0  60.0  1.025  0.0  0.0    normal    normal  notpresent   \n",
       "399  399  58.0  80.0  1.025  0.0  0.0    normal    normal  notpresent   \n",
       "\n",
       "             ba  ...   pcv       wc   rc  htn   dm  cad  appet   pe  ane  \\\n",
       "3    notpresent  ...  32.0   6700.0  3.9  yes   no   no   poor  yes  yes   \n",
       "9    notpresent  ...  29.0  12100.0  3.7  yes  yes   no   poor   no  yes   \n",
       "11   notpresent  ...  32.0   4500.0  3.8  yes  yes   no   poor  yes   no   \n",
       "14      present  ...  16.0  11000.0  2.6  yes  yes  yes   poor  yes   no   \n",
       "20   notpresent  ...  24.0   9200.0  3.2  yes  yes  yes   poor  yes  yes   \n",
       "..          ...  ...   ...      ...  ...  ...  ...  ...    ...  ...  ...   \n",
       "395  notpresent  ...  47.0   6700.0  4.9   no   no   no   good   no   no   \n",
       "396  notpresent  ...  54.0   7800.0  6.2   no   no   no   good   no   no   \n",
       "397  notpresent  ...  49.0   6600.0  5.4   no   no   no   good   no   no   \n",
       "398  notpresent  ...  51.0   7200.0  5.9   no   no   no   good   no   no   \n",
       "399  notpresent  ...  53.0   6800.0  6.1   no   no   no   good   no   no   \n",
       "\n",
       "    classification  \n",
       "3              ckd  \n",
       "9              ckd  \n",
       "11             ckd  \n",
       "14             ckd  \n",
       "20             ckd  \n",
       "..             ...  \n",
       "395         notckd  \n",
       "396         notckd  \n",
       "397         notckd  \n",
       "398         notckd  \n",
       "399         notckd  \n",
       "\n",
       "[158 rows x 26 columns]"
      ]
     },
     "execution_count": 5,
     "metadata": {},
     "output_type": "execute_result"
    }
   ],
   "source": [
    "url = \"https://raw.githubusercontent.com/vamshikrishnajr/chronic-kidney-disease-diagnosis/master/kidney_disease.csv\"\n",
    "ckd_db = pd.read_csv(url)\n",
    "ckd_db.dropna(axis=0, how='any', thresh=None, subset=None, inplace=True)\n",
    "ckd_db"
   ]
  },
  {
   "cell_type": "code",
   "execution_count": 6,
   "id": "d82090fe",
   "metadata": {},
   "outputs": [
    {
     "data": {
      "text/html": [
       "<table border=\"1\" class=\"dataframe\">\n",
       "    <thead>\n",
       "        <tr>\n",
       "            <th>id</th> <th>age</th> <th>bp</th> <th>sg</th> <th>al</th> <th>su</th> <th>rbc</th> <th>pc</th> <th>pcc</th> <th>ba</th> <th>bgr</th> <th>bu</th> <th>sc</th> <th>sod</th> <th>pot</th> <th>hemo</th> <th>pcv</th> <th>wc</th> <th>rc</th> <th>htn</th> <th>dm</th> <th>cad</th> <th>appet</th> <th>pe</th> <th>ane</th> <th>classification</th> <th>Class</th>\n",
       "        </tr>\n",
       "    </thead>\n",
       "    <tbody>\n",
       "        <tr>\n",
       "            <td>3   </td> <td>48  </td> <td>70  </td> <td>1.005</td> <td>4   </td> <td>0   </td> <td>normal  </td> <td>abnormal</td> <td>present   </td> <td>notpresent</td> <td>117 </td> <td>56  </td> <td>3.8 </td> <td>111 </td> <td>2.5 </td> <td>11.2</td> <td>32  </td> <td>6700 </td> <td>3.9 </td> <td>yes </td> <td>no  </td> <td>no  </td> <td>poor </td> <td>yes </td> <td>yes </td> <td>ckd           </td> <td>1    </td>\n",
       "        </tr>\n",
       "        <tr>\n",
       "            <td>9   </td> <td>53  </td> <td>90  </td> <td>1.02 </td> <td>2   </td> <td>0   </td> <td>abnormal</td> <td>abnormal</td> <td>present   </td> <td>notpresent</td> <td>70  </td> <td>107 </td> <td>7.2 </td> <td>114 </td> <td>3.7 </td> <td>9.5 </td> <td>29  </td> <td>12100</td> <td>3.7 </td> <td>yes </td> <td>yes </td> <td>no  </td> <td>poor </td> <td>no  </td> <td>yes </td> <td>ckd           </td> <td>1    </td>\n",
       "        </tr>\n",
       "        <tr>\n",
       "            <td>11  </td> <td>63  </td> <td>70  </td> <td>1.01 </td> <td>3   </td> <td>0   </td> <td>abnormal</td> <td>abnormal</td> <td>present   </td> <td>notpresent</td> <td>380 </td> <td>60  </td> <td>2.7 </td> <td>131 </td> <td>4.2 </td> <td>10.8</td> <td>32  </td> <td>4500 </td> <td>3.8 </td> <td>yes </td> <td>yes </td> <td>no  </td> <td>poor </td> <td>yes </td> <td>no  </td> <td>ckd           </td> <td>1    </td>\n",
       "        </tr>\n",
       "        <tr>\n",
       "            <td>14  </td> <td>68  </td> <td>80  </td> <td>1.01 </td> <td>3   </td> <td>2   </td> <td>normal  </td> <td>abnormal</td> <td>present   </td> <td>present   </td> <td>157 </td> <td>90  </td> <td>4.1 </td> <td>130 </td> <td>6.4 </td> <td>5.6 </td> <td>16  </td> <td>11000</td> <td>2.6 </td> <td>yes </td> <td>yes </td> <td>yes </td> <td>poor </td> <td>yes </td> <td>no  </td> <td>ckd           </td> <td>1    </td>\n",
       "        </tr>\n",
       "        <tr>\n",
       "            <td>20  </td> <td>61  </td> <td>80  </td> <td>1.015</td> <td>2   </td> <td>0   </td> <td>abnormal</td> <td>abnormal</td> <td>notpresent</td> <td>notpresent</td> <td>173 </td> <td>148 </td> <td>3.9 </td> <td>135 </td> <td>5.2 </td> <td>7.7 </td> <td>24  </td> <td>9200 </td> <td>3.2 </td> <td>yes </td> <td>yes </td> <td>yes </td> <td>poor </td> <td>yes </td> <td>yes </td> <td>ckd           </td> <td>1    </td>\n",
       "        </tr>\n",
       "        <tr>\n",
       "            <td>22  </td> <td>48  </td> <td>80  </td> <td>1.025</td> <td>4   </td> <td>0   </td> <td>normal  </td> <td>abnormal</td> <td>notpresent</td> <td>notpresent</td> <td>95  </td> <td>163 </td> <td>7.7 </td> <td>136 </td> <td>3.8 </td> <td>9.8 </td> <td>32  </td> <td>6900 </td> <td>3.4 </td> <td>yes </td> <td>no  </td> <td>no  </td> <td>good </td> <td>no  </td> <td>yes </td> <td>ckd           </td> <td>1    </td>\n",
       "        </tr>\n",
       "        <tr>\n",
       "            <td>27  </td> <td>69  </td> <td>70  </td> <td>1.01 </td> <td>3   </td> <td>4   </td> <td>normal  </td> <td>abnormal</td> <td>notpresent</td> <td>notpresent</td> <td>264 </td> <td>87  </td> <td>2.7 </td> <td>130 </td> <td>4   </td> <td>12.5</td> <td>37  </td> <td>9600 </td> <td>4.1 </td> <td>yes </td> <td>yes </td> <td>yes </td> <td>good </td> <td>yes </td> <td>no  </td> <td>ckd           </td> <td>1    </td>\n",
       "        </tr>\n",
       "        <tr>\n",
       "            <td>48  </td> <td>73  </td> <td>70  </td> <td>1.005</td> <td>0   </td> <td>0   </td> <td>normal  </td> <td>normal  </td> <td>notpresent</td> <td>notpresent</td> <td>70  </td> <td>32  </td> <td>0.9 </td> <td>125 </td> <td>4   </td> <td>10  </td> <td>29  </td> <td>18900</td> <td>3.5 </td> <td>yes </td> <td>yes </td> <td>no  </td> <td>good </td> <td>yes </td> <td>no  </td> <td>ckd           </td> <td>1    </td>\n",
       "        </tr>\n",
       "        <tr>\n",
       "            <td>58  </td> <td>73  </td> <td>80  </td> <td>1.02 </td> <td>2   </td> <td>0   </td> <td>abnormal</td> <td>abnormal</td> <td>notpresent</td> <td>notpresent</td> <td>253 </td> <td>142 </td> <td>4.6 </td> <td>138 </td> <td>5.8 </td> <td>10.5</td> <td>33  </td> <td>7200 </td> <td>4.3 </td> <td>yes </td> <td>yes </td> <td>yes </td> <td>good </td> <td>no  </td> <td>no  </td> <td>ckd           </td> <td>1    </td>\n",
       "        </tr>\n",
       "        <tr>\n",
       "            <td>71  </td> <td>46  </td> <td>60  </td> <td>1.01 </td> <td>1   </td> <td>0   </td> <td>normal  </td> <td>normal  </td> <td>notpresent</td> <td>notpresent</td> <td>163 </td> <td>92  </td> <td>3.3 </td> <td>141 </td> <td>4   </td> <td>9.8 </td> <td>28  </td> <td>14600</td> <td>3.2 </td> <td>yes </td> <td>yes </td> <td>no  </td> <td>good </td> <td>no  </td> <td>no  </td> <td>ckd           </td> <td>1    </td>\n",
       "        </tr>\n",
       "    </tbody>\n",
       "</table>\n",
       "<p>... (148 rows omitted)</p>"
      ],
      "text/plain": [
       "id   | age  | bp   | sg    | al   | su   | rbc      | pc       | pcc        | ba         | bgr  | bu   | sc   | sod  | pot  | hemo | pcv  | wc    | rc   | htn  | dm   | cad  | appet | pe   | ane  | classification | Class\n",
       "3    | 48   | 70   | 1.005 | 4    | 0    | normal   | abnormal | present    | notpresent | 117  | 56   | 3.8  | 111  | 2.5  | 11.2 | 32   | 6700  | 3.9  | yes  | no   | no   | poor  | yes  | yes  | ckd            | 1\n",
       "9    | 53   | 90   | 1.02  | 2    | 0    | abnormal | abnormal | present    | notpresent | 70   | 107  | 7.2  | 114  | 3.7  | 9.5  | 29   | 12100 | 3.7  | yes  | yes  | no   | poor  | no   | yes  | ckd            | 1\n",
       "11   | 63   | 70   | 1.01  | 3    | 0    | abnormal | abnormal | present    | notpresent | 380  | 60   | 2.7  | 131  | 4.2  | 10.8 | 32   | 4500  | 3.8  | yes  | yes  | no   | poor  | yes  | no   | ckd            | 1\n",
       "14   | 68   | 80   | 1.01  | 3    | 2    | normal   | abnormal | present    | present    | 157  | 90   | 4.1  | 130  | 6.4  | 5.6  | 16   | 11000 | 2.6  | yes  | yes  | yes  | poor  | yes  | no   | ckd            | 1\n",
       "20   | 61   | 80   | 1.015 | 2    | 0    | abnormal | abnormal | notpresent | notpresent | 173  | 148  | 3.9  | 135  | 5.2  | 7.7  | 24   | 9200  | 3.2  | yes  | yes  | yes  | poor  | yes  | yes  | ckd            | 1\n",
       "22   | 48   | 80   | 1.025 | 4    | 0    | normal   | abnormal | notpresent | notpresent | 95   | 163  | 7.7  | 136  | 3.8  | 9.8  | 32   | 6900  | 3.4  | yes  | no   | no   | good  | no   | yes  | ckd            | 1\n",
       "27   | 69   | 70   | 1.01  | 3    | 4    | normal   | abnormal | notpresent | notpresent | 264  | 87   | 2.7  | 130  | 4    | 12.5 | 37   | 9600  | 4.1  | yes  | yes  | yes  | good  | yes  | no   | ckd            | 1\n",
       "48   | 73   | 70   | 1.005 | 0    | 0    | normal   | normal   | notpresent | notpresent | 70   | 32   | 0.9  | 125  | 4    | 10   | 29   | 18900 | 3.5  | yes  | yes  | no   | good  | yes  | no   | ckd            | 1\n",
       "58   | 73   | 80   | 1.02  | 2    | 0    | abnormal | abnormal | notpresent | notpresent | 253  | 142  | 4.6  | 138  | 5.8  | 10.5 | 33   | 7200  | 4.3  | yes  | yes  | yes  | good  | no   | no   | ckd            | 1\n",
       "71   | 46   | 60   | 1.01  | 1    | 0    | normal   | normal   | notpresent | notpresent | 163  | 92   | 3.3  | 141  | 4    | 9.8  | 28   | 14600 | 3.2  | yes  | yes  | no   | good  | no   | no   | ckd            | 1\n",
       "... (148 rows omitted)"
      ]
     },
     "execution_count": 6,
     "metadata": {},
     "output_type": "execute_result"
    }
   ],
   "source": [
    "ckd_db['Class'] = np.where(ckd_db['classification'] == \"ckd\", 1, 0)\n",
    "ckd = Table().from_df(ckd_db)\n",
    "ckd"
   ]
  },
  {
   "cell_type": "code",
   "execution_count": 7,
   "id": "29e792ef",
   "metadata": {},
   "outputs": [],
   "source": [
    "def standard_units(xyz):\n",
    "    \"Convert any array of numbers to standard units.\"\n",
    "    return (xyz - np.mean(xyz))/np.std(xyz)  "
   ]
  },
  {
   "cell_type": "code",
   "execution_count": 8,
   "id": "5f1e0a2d",
   "metadata": {},
   "outputs": [],
   "source": [
    "ckd_s = Table().with_columns(\n",
    "    'Hemoglobin', standard_units(ckd.column('hemo')),\n",
    "    'Glucose', standard_units(ckd.column('bgr')),\n",
    "    'White Blood Cell Count', standard_units(ckd.column('wc')),\n",
    "    'Class', (ckd.column('Class'))\n",
    ")"
   ]
  },
  {
   "cell_type": "code",
   "execution_count": 9,
   "id": "3f22563d",
   "metadata": {},
   "outputs": [
    {
     "data": {
      "text/html": [
       "<table border=\"1\" class=\"dataframe\">\n",
       "    <thead>\n",
       "        <tr>\n",
       "            <th>statistic</th> <th>Hemoglobin</th> <th>Glucose</th> <th>White Blood Cell Count</th> <th>Class</th>\n",
       "        </tr>\n",
       "    </thead>\n",
       "    <tbody>\n",
       "        <tr>\n",
       "            <td>min      </td> <td>-3.68503   </td> <td>-0.947597  </td> <td>-1.50016              </td> <td>0    </td>\n",
       "        </tr>\n",
       "        <tr>\n",
       "            <td>max      </td> <td>1.43145    </td> <td>5.54049    </td> <td>5.75047               </td> <td>1    </td>\n",
       "        </tr>\n",
       "        <tr>\n",
       "            <td>median   </td> <td>0.195839   </td> <td>-0.244721  </td> <td>-0.216861             </td> <td>0    </td>\n",
       "        </tr>\n",
       "        <tr>\n",
       "            <td>sum      </td> <td>3.24185e-14</td> <td>-1.5413e-14</td> <td>1.4766e-14            </td> <td>43   </td>\n",
       "        </tr>\n",
       "    </tbody>\n",
       "</table>"
      ],
      "text/plain": [
       "statistic | Hemoglobin  | Glucose     | White Blood Cell Count | Class\n",
       "min       | -3.68503    | -0.947597   | -1.50016               | 0\n",
       "max       | 1.43145     | 5.54049     | 5.75047                | 1\n",
       "median    | 0.195839    | -0.244721   | -0.216861              | 0\n",
       "sum       | 3.24185e-14 | -1.5413e-14 | 1.4766e-14             | 43"
      ]
     },
     "execution_count": 9,
     "metadata": {},
     "output_type": "execute_result"
    }
   ],
   "source": [
    "ckd_s.stats()"
   ]
  },
  {
   "cell_type": "code",
   "execution_count": 10,
   "id": "f696140a",
   "metadata": {},
   "outputs": [],
   "source": [
    "color_table = Table().with_columns(\n",
    "    'Class', make_array(1, 0),\n",
    "    'Color', make_array('darkblue', 'gold')\n",
    ")\n",
    "ckd_s = ckd_s.join('Class', color_table)"
   ]
  },
  {
   "cell_type": "code",
   "execution_count": 11,
   "id": "743b061a",
   "metadata": {},
   "outputs": [
    {
     "data": {
      "image/png": "[encoded data removed]",
      "text/plain": [
       "<Figure size 360x360 with 1 Axes>"
      ]
     },
     "metadata": {},
     "output_type": "display_data"
    }
   ],
   "source": [
    "ckd_s.scatter('Hemoglobin', 'Glucose', group='Color')"
   ]
  },
  {
   "cell_type": "code",
   "execution_count": 12,
   "id": "40fa56c3",
   "metadata": {},
   "outputs": [
    {
     "data": {
      "image/png": "[encoded data removed]",
      "text/plain": [
       "<Figure size 360x360 with 1 Axes>"
      ]
     },
     "metadata": {},
     "output_type": "display_data"
    }
   ],
   "source": [
    "ckd_s.scatter('White Blood Cell Count', 'Glucose', group='Color')"
   ]
  },
  {
   "cell_type": "code",
   "execution_count": 13,
   "id": "a484425f",
   "metadata": {},
   "outputs": [
    {
     "name": "stdout",
     "output_type": "stream",
     "text": [
      "126 training and 32 test instances.\n"
     ]
    }
   ],
   "source": [
    "train, test = ckd_s.split(int(ckd_s.num_rows*0.8))\n",
    "print(train.num_rows, 'training and', test.num_rows, 'test instances.')"
   ]
  },
  {
   "cell_type": "code",
   "execution_count": 14,
   "id": "aa736ca6",
   "metadata": {},
   "outputs": [],
   "source": [
    "def distance(point1, point2):\n",
    "    \"\"\"Returns the Euclidean distance between point1 and point2.\n",
    "    \n",
    "    Each argument is an array containing the coordinates of a point.\"\"\"\n",
    "    return np.sqrt(np.sum((point1 - point2)**2))"
   ]
  },
  {
   "cell_type": "code",
   "execution_count": 15,
   "id": "c70525fe",
   "metadata": {},
   "outputs": [],
   "source": [
    "def row_distance(row1, row2):\n",
    "    \"\"\"The distance between two rows of a table.\"\"\"\n",
    "    return distance(np.array(row1), np.array(row2)) # Need to convert rows into arrays"
   ]
  },
  {
   "cell_type": "code",
   "execution_count": 16,
   "id": "3fb1395e",
   "metadata": {},
   "outputs": [],
   "source": [
    "test_point_row = test.drop(\"Class\",\"Color\").row(10)\n",
    "train_point_row = train.drop(\"Class\",\"Color\").row(0)"
   ]
  },
  {
   "cell_type": "code",
   "execution_count": 17,
   "id": "fc02e102",
   "metadata": {},
   "outputs": [
    {
     "data": {
      "text/plain": [
       "Row(Hemoglobin=0.8397496002610102, Glucose=1.215099137387819, White Blood Cell Count=1.291013887679196)"
      ]
     },
     "execution_count": 17,
     "metadata": {},
     "output_type": "execute_result"
    }
   ],
   "source": [
    "test_point_row"
   ]
  },
  {
   "cell_type": "code",
   "execution_count": 18,
   "id": "9dbb35b6",
   "metadata": {},
   "outputs": [
    {
     "data": {
      "text/plain": [
       "2.4300894900810004"
      ]
     },
     "execution_count": 18,
     "metadata": {},
     "output_type": "execute_result"
    }
   ],
   "source": [
    "row_distance(test_point_row,train_point_row)"
   ]
  },
  {
   "cell_type": "code",
   "execution_count": 19,
   "id": "b5348948",
   "metadata": {},
   "outputs": [],
   "source": [
    "def distances(training, example, output):\n",
    "    \"\"\"Compute the distance from example for each row in training.\"\"\"\n",
    "    dists = []\n",
    "    attributes = training.drop(output)\n",
    "    for row in attributes.rows:\n",
    "        dists.append(row_distance(row, example))\n",
    "    return training.with_column('Distance', dists)\n",
    "\n",
    "def closest(training, example, k, output):\n",
    "    \"\"\"Return a table of the k closest neighbors to example.\"\"\"\n",
    "    return distances(training, example, output).sort('Distance').take(np.arange(k))"
   ]
  },
  {
   "cell_type": "code",
   "execution_count": 29,
   "id": "d682a864",
   "metadata": {},
   "outputs": [
    {
     "data": {
      "text/html": [
       "<table border=\"1\" class=\"dataframe\">\n",
       "    <thead>\n",
       "        <tr>\n",
       "            <th>Class</th> <th>Hemoglobin</th> <th>Glucose</th> <th>White Blood Cell Count</th> <th>Distance</th>\n",
       "        </tr>\n",
       "    </thead>\n",
       "    <tbody>\n",
       "        <tr>\n",
       "            <td>1    </td> <td>-0.865744 </td> <td>-0.221549 </td> <td>-0.569768             </td> <td>0.597547</td>\n",
       "        </tr>\n",
       "        <tr>\n",
       "            <td>1    </td> <td>-1.59667  </td> <td>-0.0361753</td> <td>-0.666015             </td> <td>0.600796</td>\n",
       "        </tr>\n",
       "        <tr>\n",
       "            <td>1    </td> <td>-1.179    </td> <td>0.025616  </td> <td>-0.73018              </td> <td>0.652159</td>\n",
       "        </tr>\n",
       "        <tr>\n",
       "            <td>1    </td> <td>-0.587296 </td> <td>-0.206101 </td> <td>-0.0243664            </td> <td>0.971685</td>\n",
       "        </tr>\n",
       "        <tr>\n",
       "            <td>1    </td> <td>-0.37846  </td> <td>-0.14431  </td> <td>-0.184779             </td> <td>1.10755 </td>\n",
       "        </tr>\n",
       "        <tr>\n",
       "            <td>1    </td> <td>-1.94473  </td> <td>-0.0361753</td> <td>0.360623              </td> <td>1.17317 </td>\n",
       "        </tr>\n",
       "        <tr>\n",
       "            <td>0    </td> <td>-0.239236 </td> <td>-0.221549 </td> <td>-0.345191             </td> <td>1.17548 </td>\n",
       "        </tr>\n",
       "        <tr>\n",
       "            <td>0    </td> <td>-0.239236 </td> <td>-0.49961  </td> <td>-0.0564489            </td> <td>1.20253 </td>\n",
       "        </tr>\n",
       "        <tr>\n",
       "            <td>0    </td> <td>-0.134818 </td> <td>-0.669536 </td> <td>-0.473521             </td> <td>1.22342 </td>\n",
       "        </tr>\n",
       "        <tr>\n",
       "            <td>1    </td> <td>-0.90055  </td> <td>-0.406923 </td> <td>0.649365              </td> <td>1.25002 </td>\n",
       "        </tr>\n",
       "    </tbody>\n",
       "</table>"
      ],
      "text/plain": [
       "Class | Hemoglobin | Glucose    | White Blood Cell Count | Distance\n",
       "1     | -0.865744  | -0.221549  | -0.569768              | 0.597547\n",
       "1     | -1.59667   | -0.0361753 | -0.666015              | 0.600796\n",
       "1     | -1.179     | 0.025616   | -0.73018               | 0.652159\n",
       "1     | -0.587296  | -0.206101  | -0.0243664             | 0.971685\n",
       "1     | -0.37846   | -0.14431   | -0.184779              | 1.10755\n",
       "1     | -1.94473   | -0.0361753 | 0.360623               | 1.17317\n",
       "0     | -0.239236  | -0.221549  | -0.345191              | 1.17548\n",
       "0     | -0.239236  | -0.49961   | -0.0564489             | 1.20253\n",
       "0     | -0.134818  | -0.669536  | -0.473521              | 1.22342\n",
       "1     | -0.90055   | -0.406923  | 0.649365               | 1.25002"
      ]
     },
     "execution_count": 29,
     "metadata": {},
     "output_type": "execute_result"
    }
   ],
   "source": [
    "cl_knn = closest(train.drop(\"Color\"), test.drop(\"Class\",\"Color\").row(31), 10, \"Class\")\n",
    "cl_knn"
   ]
  },
  {
   "cell_type": "markdown",
   "id": "acdfe215",
   "metadata": {},
   "source": [
    "### We can use most frequent value for the class as the prediction (like majority)"
   ]
  },
  {
   "cell_type": "code",
   "execution_count": 30,
   "id": "26c4a2f8",
   "metadata": {},
   "outputs": [
    {
     "name": "stdout",
     "output_type": "stream",
     "text": [
      "Most frequent value in the above array:\n",
      "1\n"
     ]
    }
   ],
   "source": [
    "print(\"Most frequent value in the above array:\")\n",
    "print(np.bincount(cl_knn.column(\"Class\")).argmax())"
   ]
  },
  {
   "cell_type": "markdown",
   "id": "46d8a433",
   "metadata": {},
   "source": [
    "### Prediction\n",
    "Now lets predict across all test rows and get a % accuracy"
   ]
  },
  {
   "cell_type": "code",
   "execution_count": 42,
   "id": "220e54b4",
   "metadata": {},
   "outputs": [
    {
     "name": "stdout",
     "output_type": "stream",
     "text": [
      "0  Prediction:  0  Actual:  0\n",
      "1  Prediction:  0  Actual:  0\n",
      "2  Prediction:  1  Actual:  1\n",
      "3  Prediction:  0  Actual:  0\n",
      "4  Prediction:  0  Actual:  0\n",
      "5  Prediction:  0  Actual:  0\n",
      "6  Prediction:  0  Actual:  0\n",
      "7  Prediction:  0  Actual:  1\n",
      "8  Prediction:  0  Actual:  0\n",
      "9  Prediction:  0  Actual:  0\n",
      "10  Prediction:  0  Actual:  1\n",
      "11  Prediction:  1  Actual:  1\n",
      "12  Prediction:  0  Actual:  0\n",
      "13  Prediction:  0  Actual:  0\n",
      "14  Prediction:  0  Actual:  0\n",
      "15  Prediction:  0  Actual:  0\n",
      "16  Prediction:  0  Actual:  0\n",
      "17  Prediction:  0  Actual:  0\n",
      "18  Prediction:  1  Actual:  1\n",
      "19  Prediction:  0  Actual:  0\n",
      "20  Prediction:  0  Actual:  0\n",
      "21  Prediction:  1  Actual:  1\n",
      "22  Prediction:  1  Actual:  1\n",
      "23  Prediction:  1  Actual:  1\n",
      "24  Prediction:  0  Actual:  0\n",
      "25  Prediction:  0  Actual:  0\n",
      "26  Prediction:  0  Actual:  0\n",
      "27  Prediction:  0  Actual:  0\n",
      "28  Prediction:  0  Actual:  1\n",
      "29  Prediction:  0  Actual:  0\n",
      "30  Prediction:  0  Actual:  0\n",
      "31  Prediction:  0  Actual:  1\n",
      "% Correct:  87.5\n"
     ]
    }
   ],
   "source": [
    "correct = 0\n",
    "k = 20\n",
    "for i, row in enumerate(test.drop(\"Color\").rows):\n",
    "    #print(i,row)\n",
    "    cl_knn = closest(train.drop(\"Color\"), test.drop(\"Class\",\"Color\").row(i), k, \"Class\")\n",
    "    print(i,\" Prediction: \",np.bincount(cl_knn.column(\"Class\")).argmax(),\" Actual: \",test.column(\"Class\").take(i))\n",
    "    correct += (np.bincount(cl_knn.column(\"Class\")).argmax()==test.column(\"Class\").take(i))\n",
    "print(\"% Correct: \",correct/(i+1)*100)"
   ]
  },
  {
   "cell_type": "code",
   "execution_count": null,
   "id": "a16e3508",
   "metadata": {},
   "outputs": [],
   "source": []
  }
 ],
 "metadata": {
  "kernelspec": {
   "display_name": "Python 3",
   "language": "python",
   "name": "python3"
  },
  "language_info": {
   "codemirror_mode": {
    "name": "ipython",
    "version": 3
   },
   "file_extension": ".py",
   "mimetype": "text/x-python",
   "name": "python",
   "nbconvert_exporter": "python",
   "pygments_lexer": "ipython3",
   "version": "3.7.7"
  }
 },
 "nbformat": 4,
 "nbformat_minor": 5
}
