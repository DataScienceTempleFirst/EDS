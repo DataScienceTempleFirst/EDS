{
 "cells": [
  {
   "cell_type": "code",
   "execution_count": 1,
   "metadata": {},
   "outputs": [],
   "source": [
    "from datascience import *\n",
    "import numpy as np\n",
    "\n",
    "%matplotlib inline\n",
    "import matplotlib.pyplot as plots\n",
    "plots.style.use('fivethirtyeight')"
   ]
  },
  {
   "cell_type": "code",
   "execution_count": 2,
   "metadata": {},
   "outputs": [],
   "source": [
    "def standard_units(any_numbers):\n",
    "    \"\"\"Convert any array of numbers to standard units.\"\"\"\n",
    "    return (any_numbers - np.average(any_numbers)) / np.std(any_numbers)\n",
    "\n",
    "# Below, t is a table; x and y are column indices or labels.\n",
    "\n",
    "def correlation(t, x, y):\n",
    "    \"\"\"Return the correlation coefficient (r) of two variables.\"\"\"\n",
    "    return np.mean(standard_units(t.column(x)) * standard_units(t.column(y)))\n",
    "\n",
    "def slope(t, x, y):\n",
    "    \"\"\"The slope of the regression line (original units).\"\"\"\n",
    "    r = correlation(t, x, y)\n",
    "    return r * np.std(t.column(y)) / np.std(t.column(x))\n",
    "\n",
    "def intercept(t, x, y):\n",
    "    \"\"\"The intercept of the regression line (original units).\"\"\"\n",
    "    return np.mean(t.column(y)) - slope(t, x, y) * np.mean(t.column(x))\n",
    "\n",
    "def fitted_values(t, x, y):\n",
    "    \"\"\"The fitted values along the regression line.\"\"\"\n",
    "    a = slope(t, x, y)\n",
    "    b = intercept(t, x, y)\n",
    "    return a * t.column(x) + b\n"
   ]
  },
  {
   "cell_type": "markdown",
   "metadata": {},
   "source": [
    "# Graphing the Residuals"
   ]
  },
  {
   "cell_type": "code",
   "execution_count": 3,
   "metadata": {},
   "outputs": [
    {
     "data": {
      "text/html": [
       "<table border=\"1\" class=\"dataframe\">\n",
       "    <thead>\n",
       "        <tr>\n",
       "            <th>V relative (km/s)</th> <th>V infinity (km/s)</th> <th>H (mag)</th> <th>CA Distance LD</th> <th>CA Distance AU</th>\n",
       "        </tr>\n",
       "    </thead>\n",
       "    <tbody>\n",
       "        <tr>\n",
       "            <td>12.88            </td> <td>12.87            </td> <td>25.4   </td> <td>5.88          </td> <td>0.01512       </td>\n",
       "        </tr>\n",
       "        <tr>\n",
       "            <td>13.31            </td> <td>13.24            </td> <td>27.5   </td> <td>1.11          </td> <td>0.00285       </td>\n",
       "        </tr>\n",
       "        <tr>\n",
       "            <td>4.77             </td> <td>4.75             </td> <td>27.9   </td> <td>11.07         </td> <td>0.02845       </td>\n",
       "        </tr>\n",
       "        <tr>\n",
       "            <td>8.44             </td> <td>8.42             </td> <td>27.2   </td> <td>7.28          </td> <td>0.01871       </td>\n",
       "        </tr>\n",
       "        <tr>\n",
       "            <td>5.46             </td> <td>5.33             </td> <td>29.6   </td> <td>1.53          </td> <td>0.00394       </td>\n",
       "        </tr>\n",
       "        <tr>\n",
       "            <td>10.04            </td> <td>10.02            </td> <td>27.2   </td> <td>5.94          </td> <td>0.01527       </td>\n",
       "        </tr>\n",
       "        <tr>\n",
       "            <td>17.25            </td> <td>17.23            </td> <td>27.7   </td> <td>3.01          </td> <td>0.00773       </td>\n",
       "        </tr>\n",
       "        <tr>\n",
       "            <td>8.28             </td> <td>8.25             </td> <td>26.9   </td> <td>4.27          </td> <td>0.01098       </td>\n",
       "        </tr>\n",
       "        <tr>\n",
       "            <td>7.96             </td> <td>7.9              </td> <td>28.4   </td> <td>2.07          </td> <td>0.00531       </td>\n",
       "        </tr>\n",
       "        <tr>\n",
       "            <td>11.59            </td> <td>11.59            </td> <td>25     </td> <td>16.19         </td> <td>0.04159       </td>\n",
       "        </tr>\n",
       "    </tbody>\n",
       "</table>\n",
       "<p>... (37 rows omitted)</p>"
      ],
      "text/plain": [
       "V relative (km/s) | V infinity (km/s) | H (mag) | CA Distance LD | CA Distance AU\n",
       "12.88             | 12.87             | 25.4    | 5.88           | 0.01512\n",
       "13.31             | 13.24             | 27.5    | 1.11           | 0.00285\n",
       "4.77              | 4.75              | 27.9    | 11.07          | 0.02845\n",
       "8.44              | 8.42              | 27.2    | 7.28           | 0.01871\n",
       "5.46              | 5.33              | 29.6    | 1.53           | 0.00394\n",
       "10.04             | 10.02             | 27.2    | 5.94           | 0.01527\n",
       "17.25             | 17.23             | 27.7    | 3.01           | 0.00773\n",
       "8.28              | 8.25              | 26.9    | 4.27           | 0.01098\n",
       "7.96              | 7.9               | 28.4    | 2.07           | 0.00531\n",
       "11.59             | 11.59             | 25      | 16.19          | 0.04159\n",
       "... (37 rows omitted)"
      ]
     },
     "execution_count": 3,
     "metadata": {},
     "output_type": "execute_result"
    }
   ],
   "source": [
    "neo = Table.read_table('neo.csv')\n",
    "neo"
   ]
  },
  {
   "cell_type": "code",
   "execution_count": 4,
   "metadata": {},
   "outputs": [
    {
     "data": {
      "text/html": [
       "<table border=\"1\" class=\"dataframe\">\n",
       "    <thead>\n",
       "        <tr>\n",
       "            <th>H (mag)</th> <th>V relative (km/s)</th>\n",
       "        </tr>\n",
       "    </thead>\n",
       "    <tbody>\n",
       "        <tr>\n",
       "            <td>25.4   </td> <td>12.88            </td>\n",
       "        </tr>\n",
       "        <tr>\n",
       "            <td>27.5   </td> <td>13.31            </td>\n",
       "        </tr>\n",
       "        <tr>\n",
       "            <td>27.9   </td> <td>4.77             </td>\n",
       "        </tr>\n",
       "        <tr>\n",
       "            <td>27.2   </td> <td>8.44             </td>\n",
       "        </tr>\n",
       "        <tr>\n",
       "            <td>29.6   </td> <td>5.46             </td>\n",
       "        </tr>\n",
       "        <tr>\n",
       "            <td>27.2   </td> <td>10.04            </td>\n",
       "        </tr>\n",
       "        <tr>\n",
       "            <td>27.7   </td> <td>17.25            </td>\n",
       "        </tr>\n",
       "        <tr>\n",
       "            <td>26.9   </td> <td>8.28             </td>\n",
       "        </tr>\n",
       "        <tr>\n",
       "            <td>28.4   </td> <td>7.96             </td>\n",
       "        </tr>\n",
       "        <tr>\n",
       "            <td>25     </td> <td>11.59            </td>\n",
       "        </tr>\n",
       "    </tbody>\n",
       "</table>\n",
       "<p>... (37 rows omitted)</p>"
      ],
      "text/plain": [
       "H (mag) | V relative (km/s)\n",
       "25.4    | 12.88\n",
       "27.5    | 13.31\n",
       "27.9    | 4.77\n",
       "27.2    | 8.44\n",
       "29.6    | 5.46\n",
       "27.2    | 10.04\n",
       "27.7    | 17.25\n",
       "26.9    | 8.28\n",
       "28.4    | 7.96\n",
       "25      | 11.59\n",
       "... (37 rows omitted)"
      ]
     },
     "execution_count": 4,
     "metadata": {},
     "output_type": "execute_result"
    }
   ],
   "source": [
    "size_velocity = neo.select('H (mag)', 'V relative (km/s)')\n",
    "size_velocity"
   ]
  },
  {
   "cell_type": "code",
   "execution_count": 5,
   "metadata": {},
   "outputs": [
    {
     "data": {
      "text/html": [
       "<table border=\"1\" class=\"dataframe\">\n",
       "    <thead>\n",
       "        <tr>\n",
       "            <th>H (mag)</th> <th>V relative (km/s)</th> <th>fitted y value</th>\n",
       "        </tr>\n",
       "    </thead>\n",
       "    <tbody>\n",
       "        <tr>\n",
       "            <td>25.4   </td> <td>12.88            </td> <td>8.98944       </td>\n",
       "        </tr>\n",
       "        <tr>\n",
       "            <td>27.5   </td> <td>13.31            </td> <td>6.81812       </td>\n",
       "        </tr>\n",
       "        <tr>\n",
       "            <td>27.9   </td> <td>4.77             </td> <td>6.40454       </td>\n",
       "        </tr>\n",
       "        <tr>\n",
       "            <td>27.2   </td> <td>8.44             </td> <td>7.12831       </td>\n",
       "        </tr>\n",
       "        <tr>\n",
       "            <td>29.6   </td> <td>5.46             </td> <td>4.6468        </td>\n",
       "        </tr>\n",
       "        <tr>\n",
       "            <td>27.2   </td> <td>10.04            </td> <td>7.12831       </td>\n",
       "        </tr>\n",
       "        <tr>\n",
       "            <td>27.7   </td> <td>17.25            </td> <td>6.61133       </td>\n",
       "        </tr>\n",
       "        <tr>\n",
       "            <td>26.9   </td> <td>8.28             </td> <td>7.4385        </td>\n",
       "        </tr>\n",
       "        <tr>\n",
       "            <td>28.4   </td> <td>7.96             </td> <td>5.88756       </td>\n",
       "        </tr>\n",
       "        <tr>\n",
       "            <td>25     </td> <td>11.59            </td> <td>9.40303       </td>\n",
       "        </tr>\n",
       "    </tbody>\n",
       "</table>\n",
       "<p>... (37 rows omitted)</p>"
      ],
      "text/plain": [
       "H (mag) | V relative (km/s) | fitted y value\n",
       "25.4    | 12.88             | 8.98944\n",
       "27.5    | 13.31             | 6.81812\n",
       "27.9    | 4.77              | 6.40454\n",
       "27.2    | 8.44              | 7.12831\n",
       "29.6    | 5.46              | 4.6468\n",
       "27.2    | 10.04             | 7.12831\n",
       "27.7    | 17.25             | 6.61133\n",
       "26.9    | 8.28              | 7.4385\n",
       "28.4    | 7.96              | 5.88756\n",
       "25      | 11.59             | 9.40303\n",
       "... (37 rows omitted)"
      ]
     },
     "execution_count": 5,
     "metadata": {},
     "output_type": "execute_result"
    }
   ],
   "source": [
    "dist_v = size_velocity.with_column(\"fitted y value\", fitted_values(size_velocity, 0, 1))\n",
    "dist_v"
   ]
  },
  {
   "cell_type": "code",
   "execution_count": 6,
   "metadata": {},
   "outputs": [
    {
     "data": {
      "image/png": "[encoded data removed]",
      "text/plain": [
       "<Figure size 360x360 with 1 Axes>"
      ]
     },
     "metadata": {},
     "output_type": "display_data"
    }
   ],
   "source": [
    "dist_v.scatter(0)"
   ]
  },
  {
   "cell_type": "code",
   "execution_count": 7,
   "metadata": {},
   "outputs": [],
   "source": [
    "def residuals(t, x, y):\n",
    "    return t.column(y) - fitted_values(t, x, y)"
   ]
  },
  {
   "cell_type": "code",
   "execution_count": 8,
   "metadata": {},
   "outputs": [
    {
     "data": {
      "text/html": [
       "<table border=\"1\" class=\"dataframe\">\n",
       "    <thead>\n",
       "        <tr>\n",
       "            <th>H (mag)</th> <th>V relative (km/s)</th> <th>fitted y value</th> <th>Residual</th>\n",
       "        </tr>\n",
       "    </thead>\n",
       "    <tbody>\n",
       "        <tr>\n",
       "            <td>25.4   </td> <td>12.88            </td> <td>8.98944       </td> <td>3.89056 </td>\n",
       "        </tr>\n",
       "        <tr>\n",
       "            <td>27.5   </td> <td>13.31            </td> <td>6.81812       </td> <td>6.49188 </td>\n",
       "        </tr>\n",
       "        <tr>\n",
       "            <td>27.9   </td> <td>4.77             </td> <td>6.40454       </td> <td>-1.63454</td>\n",
       "        </tr>\n",
       "        <tr>\n",
       "            <td>27.2   </td> <td>8.44             </td> <td>7.12831       </td> <td>1.31169 </td>\n",
       "        </tr>\n",
       "        <tr>\n",
       "            <td>29.6   </td> <td>5.46             </td> <td>4.6468        </td> <td>0.813195</td>\n",
       "        </tr>\n",
       "        <tr>\n",
       "            <td>27.2   </td> <td>10.04            </td> <td>7.12831       </td> <td>2.91169 </td>\n",
       "        </tr>\n",
       "        <tr>\n",
       "            <td>27.7   </td> <td>17.25            </td> <td>6.61133       </td> <td>10.6387 </td>\n",
       "        </tr>\n",
       "        <tr>\n",
       "            <td>26.9   </td> <td>8.28             </td> <td>7.4385        </td> <td>0.8415  </td>\n",
       "        </tr>\n",
       "        <tr>\n",
       "            <td>28.4   </td> <td>7.96             </td> <td>5.88756       </td> <td>2.07244 </td>\n",
       "        </tr>\n",
       "        <tr>\n",
       "            <td>25     </td> <td>11.59            </td> <td>9.40303       </td> <td>2.18697 </td>\n",
       "        </tr>\n",
       "    </tbody>\n",
       "</table>\n",
       "<p>... (37 rows omitted)</p>"
      ],
      "text/plain": [
       "H (mag) | V relative (km/s) | fitted y value | Residual\n",
       "25.4    | 12.88             | 8.98944        | 3.89056\n",
       "27.5    | 13.31             | 6.81812        | 6.49188\n",
       "27.9    | 4.77              | 6.40454        | -1.63454\n",
       "27.2    | 8.44              | 7.12831        | 1.31169\n",
       "29.6    | 5.46              | 4.6468         | 0.813195\n",
       "27.2    | 10.04             | 7.12831        | 2.91169\n",
       "27.7    | 17.25             | 6.61133        | 10.6387\n",
       "26.9    | 8.28              | 7.4385         | 0.8415\n",
       "28.4    | 7.96              | 5.88756        | 2.07244\n",
       "25      | 11.59             | 9.40303        | 2.18697\n",
       "... (37 rows omitted)"
      ]
     },
     "execution_count": 8,
     "metadata": {},
     "output_type": "execute_result"
    }
   ],
   "source": [
    "residual_tbl = dist_v.with_column('Residual', residuals(size_velocity, 0, 1))\n",
    "residual_tbl"
   ]
  },
  {
   "cell_type": "code",
   "execution_count": 9,
   "metadata": {},
   "outputs": [
    {
     "data": {
      "image/png": "[encoded data removed]",
      "text/plain": [
       "<Figure size 360x360 with 1 Axes>"
      ]
     },
     "metadata": {},
     "output_type": "display_data"
    }
   ],
   "source": [
    "residual_tbl.scatter(0)"
   ]
  },
  {
   "cell_type": "code",
   "execution_count": 10,
   "metadata": {},
   "outputs": [],
   "source": [
    "def plot_residuals(t, x, y):\n",
    "    with_residuals = t.with_columns(\n",
    "        'Fitted', fitted_values(t, x, y),\n",
    "        'Residual', residuals(t, x, y)\n",
    "    )\n",
    "    with_residuals.select(x, y, 'Fitted').scatter(0)\n",
    "    with_residuals.scatter(x, 'Residual');\n",
    "    plots.plot((18, 30), (0, 0), linestyle = \"--\", linewidth = 3)"
   ]
  },
  {
   "cell_type": "code",
   "execution_count": 11,
   "metadata": {},
   "outputs": [
    {
     "data": {
      "image/png": "[encoded data removed]",
      "text/plain": [
       "<Figure size 360x360 with 1 Axes>"
      ]
     },
     "metadata": {},
     "output_type": "display_data"
    },
    {
     "data": {
      "image/png": "[encoded data removed]",
      "text/plain": [
       "<Figure size 360x360 with 1 Axes>"
      ]
     },
     "metadata": {},
     "output_type": "display_data"
    }
   ],
   "source": [
    "plot_residuals(residual_tbl, 0, 1)"
   ]
  },
  {
   "cell_type": "code",
   "execution_count": null,
   "metadata": {},
   "outputs": [],
   "source": []
  },
  {
   "cell_type": "markdown",
   "metadata": {},
   "source": [
    "# Numerical Diagnostics"
   ]
  },
  {
   "cell_type": "code",
   "execution_count": 12,
   "metadata": {},
   "outputs": [],
   "source": [
    "def plot_fitted(t, x, y):\n",
    "    tbl = t.select(x, y)\n",
    "    tbl.with_columns('Fitted Value', fitted_values(t, x, y)).scatter(0)"
   ]
  },
  {
   "cell_type": "code",
   "execution_count": 13,
   "metadata": {},
   "outputs": [
    {
     "data": {
      "image/png": "[encoded data removed]",
      "text/plain": [
       "<Figure size 360x360 with 1 Axes>"
      ]
     },
     "metadata": {},
     "output_type": "display_data"
    }
   ],
   "source": [
    "plot_fitted(residual_tbl, 0, 3)"
   ]
  },
  {
   "cell_type": "code",
   "execution_count": 14,
   "metadata": {},
   "outputs": [
    {
     "data": {
      "text/plain": [
       "2.2676895822130855e-16"
      ]
     },
     "execution_count": 14,
     "metadata": {},
     "output_type": "execute_result"
    }
   ],
   "source": [
    "## 1. correlation coefficients\n",
    "r_res = correlation(residual_tbl, 0, 3)\n",
    "r_res"
   ]
  },
  {
   "cell_type": "code",
   "execution_count": 15,
   "metadata": {},
   "outputs": [
    {
     "data": {
      "text/plain": [
       "-2.0976128635471044e-15"
      ]
     },
     "execution_count": 15,
     "metadata": {},
     "output_type": "execute_result"
    }
   ],
   "source": [
    "## 2. average of residuals\n",
    "residual_values = residual_tbl.column('Residual')\n",
    "np.mean(residual_values)"
   ]
  },
  {
   "cell_type": "code",
   "execution_count": 16,
   "metadata": {},
   "outputs": [
    {
     "data": {
      "text/plain": [
       "4.099126154456977"
      ]
     },
     "execution_count": 16,
     "metadata": {},
     "output_type": "execute_result"
    }
   ],
   "source": [
    "## 3. standard deviation of residuals \n",
    "sd_res = np.std(residual_values)\n",
    "sd_res"
   ]
  },
  {
   "cell_type": "code",
   "execution_count": 17,
   "metadata": {},
   "outputs": [
    {
     "data": {
      "text/plain": [
       "4.099126154456977"
      ]
     },
     "execution_count": 17,
     "metadata": {},
     "output_type": "execute_result"
    }
   ],
   "source": [
    "## sd of residuals = sq root of 1 - r **2 * sd of y\n",
    "(1- r_res**2)**0.5  * sd_res"
   ]
  },
  {
   "cell_type": "code",
   "execution_count": 18,
   "metadata": {},
   "outputs": [
    {
     "data": {
      "text/plain": [
       "23.75804182888185"
      ]
     },
     "execution_count": 18,
     "metadata": {},
     "output_type": "execute_result"
    }
   ],
   "source": [
    "## Variance \n",
    "np.var(residual_tbl.column(1))"
   ]
  },
  {
   "cell_type": "code",
   "execution_count": 19,
   "metadata": {},
   "outputs": [
    {
     "data": {
      "text/plain": [
       "23.758041828881847"
      ]
     },
     "execution_count": 19,
     "metadata": {},
     "output_type": "execute_result"
    }
   ],
   "source": [
    "np.var(fitted_values(residual_tbl, 0, 1)) + np.var(residual_values)"
   ]
  },
  {
   "cell_type": "code",
   "execution_count": 20,
   "metadata": {},
   "outputs": [
    {
     "data": {
      "text/plain": [
       "0.2927516774666754"
      ]
     },
     "execution_count": 20,
     "metadata": {},
     "output_type": "execute_result"
    }
   ],
   "source": [
    "np.var(fitted_values(residual_tbl, 0, 1)) / np.var(size_velocity.column(1))"
   ]
  },
  {
   "cell_type": "code",
   "execution_count": 21,
   "metadata": {},
   "outputs": [
    {
     "data": {
      "text/plain": [
       "0.29275167746667524"
      ]
     },
     "execution_count": 21,
     "metadata": {},
     "output_type": "execute_result"
    }
   ],
   "source": [
    "r = correlation(size_velocity, 0, 1)\n",
    "r**2"
   ]
  },
  {
   "cell_type": "code",
   "execution_count": 22,
   "metadata": {},
   "outputs": [
    {
     "data": {
      "text/plain": [
       "0.5410653171907024"
      ]
     },
     "execution_count": 22,
     "metadata": {},
     "output_type": "execute_result"
    }
   ],
   "source": [
    "np.sqrt(np.var(fitted_values(size_velocity, 0, 1)) / np.var(size_velocity.column(1)))"
   ]
  },
  {
   "cell_type": "code",
   "execution_count": 23,
   "metadata": {},
   "outputs": [
    {
     "data": {
      "text/plain": [
       "-0.5410653171907023"
      ]
     },
     "execution_count": 23,
     "metadata": {},
     "output_type": "execute_result"
    }
   ],
   "source": [
    "r"
   ]
  },
  {
   "cell_type": "code",
   "execution_count": null,
   "metadata": {},
   "outputs": [],
   "source": []
  }
 ],
 "metadata": {
  "kernelspec": {
   "display_name": "Python 3",
   "language": "python",
   "name": "python3"
  },
  "language_info": {
   "codemirror_mode": {
    "name": "ipython",
    "version": 3
   },
   "file_extension": ".py",
   "mimetype": "text/x-python",
   "name": "python",
   "nbconvert_exporter": "python",
   "pygments_lexer": "ipython3",
   "version": "3.7.5"
  }
 },
 "nbformat": 4,
 "nbformat_minor": 2
}
