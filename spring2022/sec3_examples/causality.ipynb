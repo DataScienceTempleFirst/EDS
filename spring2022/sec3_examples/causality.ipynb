{
 "cells": [
  {
   "cell_type": "code",
   "execution_count": null,
   "metadata": {},
   "outputs": [],
   "source": [
    "## import statements\n",
    "from datascience import *\n",
    "import numpy as np\n",
    "\n",
    "import matplotlib.pyplot as plots\n",
    "plots.style.use('fivethirtyeight')\n",
    "%matplotlib inline"
   ]
  },
  {
   "cell_type": "code",
   "execution_count": null,
   "metadata": {},
   "outputs": [],
   "source": [
    "## making table based on clinical trial data\n",
    "group_array = make_array()\n",
    "symptoms = make_array()\n",
    "\n",
    "for x in range(203):\n",
    "    group_array = np.append(group_array, 'Ivermectin')\n",
    "    if x < 15:\n",
    "        symptoms = np.append(symptoms, 1)\n",
    "    else:\n",
    "        symptoms = np.append(symptoms, 0)\n",
    "\n",
    "for y in range(101):\n",
    "    group_array = np.append(group_array, 'Control')\n",
    "    if y < 59:\n",
    "        symptoms = np.append(symptoms, 1)\n",
    "    else:\n",
    "        symptoms = np.append(symptoms, 0)"
   ]
  },
  {
   "cell_type": "code",
   "execution_count": null,
   "metadata": {},
   "outputs": [],
   "source": [
    "prevention_covid = Table().with_columns('Group', group_array,\n",
    "                                       'Symptom', symptoms)\n",
    "prevention_covid.show() "
   ]
  },
  {
   "cell_type": "code",
   "execution_count": null,
   "metadata": {},
   "outputs": [],
   "source": [
    "prevention_covid....(['Group','Symptom'])"
   ]
  },
  {
   "cell_type": "code",
   "execution_count": null,
   "metadata": {},
   "outputs": [],
   "source": [
    "## How many participants are showing symptoms\n",
    "prevention_covid.group('Group', sum)"
   ]
  },
  {
   "cell_type": "code",
   "execution_count": null,
   "metadata": {},
   "outputs": [],
   "source": [
    "## rearrange table with all potential outcomes\n",
    "control = prevention_covid.where('Group', 'Control').relabel('Symptom', 'Outcome if assigned control').with_column('Outcome if assigned treatment', ['Unknown' for x in range(101)])\n",
    "treatment = prevention_covid.where('Group', 'Ivermectin').relabel('Symptom', 'Outcome if assigned treatment').with_column('Outcome if assigned control', ['Unknown' for x in range(203)])\n",
    "observed_table = control.append(treatment)\n",
    "observed_table.show()"
   ]
  },
  {
   "cell_type": "code",
   "execution_count": null,
   "metadata": {},
   "outputs": [],
   "source": [
    "## get the proportions of the observed symptoms in each of the groups\n",
    "obs_prop_tbl = prevention_covid.group('Group', np.average)\n",
    "obs_proportions = obs_prop_tbl.column(1)\n",
    "obs_prop_tbl"
   ]
  },
  {
   "cell_type": "code",
   "execution_count": null,
   "metadata": {},
   "outputs": [],
   "source": [
    "## get the distance between the proportions in our observed proportions \n",
    "obs_distance = abs(...)\n",
    "obs_distance"
   ]
  },
  {
   "cell_type": "code",
   "execution_count": null,
   "metadata": {},
   "outputs": [],
   "source": [
    "##  get a separate table for group labels and symptoms \n",
    "group_labels = prevention_covid.select('Group')\n",
    "symptoms = prevention_covid.select('Symptom')"
   ]
  },
  {
   "cell_type": "code",
   "execution_count": null,
   "metadata": {},
   "outputs": [],
   "source": [
    "distances = make_array()\n",
    "reps = 2500\n",
    "\n",
    "for i in np.arange(reps):\n",
    "    ## shuffle the values \n",
    "    shuffled_symptoms = symptoms....(with_replacement = False).column(0)\n",
    "    \n",
    "    ## assign it to a group\n",
    "    shuffle_tbl = group_labels.with_column('Shuffled Result', ...)\n",
    "    \n",
    "    ## get proportions and distance between them\n",
    "    proportion_col = shuffle_tbl.group('Group', np.average).column(1)\n",
    "    simulated_distance = abs(proportion_col.item(0) - proportion_col.item(1))\n",
    "    \n",
    "    ## add to array\n",
    "    distances = np.append(distances, simulated_distance)"
   ]
  },
  {
   "cell_type": "code",
   "execution_count": null,
   "metadata": {},
   "outputs": [],
   "source": [
    "Table().with_column('Distance', distances).hist(bins=np.arange(0,.6, 0.02), ec='w')\n",
    "plots.scatter(obs_distance, 0, color = 'red', s=40);"
   ]
  },
  {
   "cell_type": "code",
   "execution_count": null,
   "metadata": {},
   "outputs": [],
   "source": [
    "np.count_nonzero(distances >= obs_distance) / reps"
   ]
  },
  {
   "cell_type": "code",
   "execution_count": null,
   "metadata": {},
   "outputs": [],
   "source": [
    "distances >= obs_distance"
   ]
  },
  {
   "cell_type": "code",
   "execution_count": null,
   "metadata": {},
   "outputs": [],
   "source": []
  }
 ],
 "metadata": {
  "kernelspec": {
   "display_name": "Python 3",
   "language": "python",
   "name": "python3"
  },
  "language_info": {
   "codemirror_mode": {
    "name": "ipython",
    "version": 3
   },
   "file_extension": ".py",
   "mimetype": "text/x-python",
   "name": "python",
   "nbconvert_exporter": "python",
   "pygments_lexer": "ipython3",
   "version": "3.7.5"
  }
 },
 "nbformat": 4,
 "nbformat_minor": 2
}
