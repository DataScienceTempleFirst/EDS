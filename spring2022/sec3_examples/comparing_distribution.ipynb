{
 "cells": [
  {
   "cell_type": "code",
   "execution_count": 1,
   "metadata": {},
   "outputs": [],
   "source": [
    "from datascience import *\n",
    "import numpy as np\n",
    "\n",
    "import matplotlib.pyplot as plots\n",
    "plots.style.use('fivethirtyeight')\n",
    "%matplotlib inline"
   ]
  },
  {
   "cell_type": "code",
   "execution_count": 2,
   "metadata": {},
   "outputs": [
    {
     "data": {
      "text/html": [
       "<table border=\"1\" class=\"dataframe\">\n",
       "    <thead>\n",
       "        <tr>\n",
       "            <th>Phenotype</th> <th>Model</th> <th>Observed</th>\n",
       "        </tr>\n",
       "    </thead>\n",
       "    <tbody>\n",
       "        <tr>\n",
       "            <td>Red-eyed Female</td> <td>0.5  </td> <td>0.485759</td>\n",
       "        </tr>\n",
       "        <tr>\n",
       "            <td>Red-eyed Male  </td> <td>0.25 </td> <td>0.22943 </td>\n",
       "        </tr>\n",
       "        <tr>\n",
       "            <td>White-eyed Male</td> <td>0.25 </td> <td>0.28481 </td>\n",
       "        </tr>\n",
       "    </tbody>\n",
       "</table>"
      ],
      "text/plain": [
       "Phenotype       | Model | Observed\n",
       "Red-eyed Female | 0.5   | 0.485759\n",
       "Red-eyed Male   | 0.25  | 0.22943\n",
       "White-eyed Male | 0.25  | 0.28481"
      ]
     },
     "execution_count": 2,
     "metadata": {},
     "output_type": "execute_result"
    }
   ],
   "source": [
    "drosophila = Table().with_columns(\"Phenotype\", make_array('Red-eyed Female', 'Red-eyed Male', 'White-eyed Male'), \n",
    "                                 \"Model\", make_array(0.5, 0.25, 0.25),\n",
    "                                  \"Observed Number\", make_array(307, 145, 180))\n",
    "drosophila = drosophila.with_columns('Observed', drosophila.column(\"Observed Number\") / 632)\n",
    "drosophila = drosophila.drop(\"Observed Number\")\n",
    "drosophila"
   ]
  },
  {
   "cell_type": "code",
   "execution_count": 3,
   "metadata": {},
   "outputs": [
    {
     "data": {
      "image/png": "[encoded data removed]",
      "text/plain": [
       "<Figure size 432x288 with 1 Axes>"
      ]
     },
     "metadata": {
      "needs_background": "light"
     },
     "output_type": "display_data"
    }
   ],
   "source": [
    "drosophila.barh(\"Phenotype\")"
   ]
  },
  {
   "cell_type": "markdown",
   "metadata": {},
   "source": [
    "### How do we write a function to calculate the distance between the two distributions (TVDs)"
   ]
  },
  {
   "cell_type": "code",
   "execution_count": 4,
   "metadata": {},
   "outputs": [],
   "source": [
    "import math \n",
    "\n",
    "def calculate_tvd(column1, column2):\n",
    "    ## compute the absolute difference in proportions\n",
    "    differences = abs(column1 - column2)\n",
    "    ## sum it up \n",
    "    sum_of_differences = sum(differences)\n",
    "    tvd = sum_of_differences / 2\n",
    "    return tvd"
   ]
  },
  {
   "cell_type": "code",
   "execution_count": null,
   "metadata": {},
   "outputs": [],
   "source": []
  },
  {
   "cell_type": "code",
   "execution_count": 5,
   "metadata": {},
   "outputs": [
    {
     "data": {
      "text/plain": [
       "0.0348101265822785"
      ]
     },
     "execution_count": 5,
     "metadata": {},
     "output_type": "execute_result"
    }
   ],
   "source": [
    "obs_tvd = calculate_tvd(drosophila.column(\"Model\"), drosophila.column(\"Observed\"))\n",
    "obs_tvd"
   ]
  },
  {
   "cell_type": "code",
   "execution_count": null,
   "metadata": {},
   "outputs": [],
   "source": [
    "## Total Variation Distance between Observed and Model is ..."
   ]
  },
  {
   "cell_type": "markdown",
   "metadata": {},
   "source": [
    "## Let's take a look at a Single Random Sample.  Add a Random Sample Column to Figure"
   ]
  },
  {
   "cell_type": "code",
   "execution_count": 6,
   "metadata": {},
   "outputs": [
    {
     "data": {
      "text/plain": [
       "array([0.5 , 0.25, 0.25])"
      ]
     },
     "execution_count": 6,
     "metadata": {},
     "output_type": "execute_result"
    }
   ],
   "source": [
    "model = drosophila.column(\"Model\")\n",
    "model"
   ]
  },
  {
   "cell_type": "code",
   "execution_count": 7,
   "metadata": {},
   "outputs": [
    {
     "data": {
      "text/html": [
       "<table border=\"1\" class=\"dataframe\">\n",
       "    <thead>\n",
       "        <tr>\n",
       "            <th>Phenotype</th> <th>Model</th> <th>Observed</th> <th>Random Sample</th>\n",
       "        </tr>\n",
       "    </thead>\n",
       "    <tbody>\n",
       "        <tr>\n",
       "            <td>Red-eyed Female</td> <td>0.5  </td> <td>0.485759</td> <td>0.484177     </td>\n",
       "        </tr>\n",
       "        <tr>\n",
       "            <td>Red-eyed Male  </td> <td>0.25 </td> <td>0.22943 </td> <td>0.261076     </td>\n",
       "        </tr>\n",
       "        <tr>\n",
       "            <td>White-eyed Male</td> <td>0.25 </td> <td>0.28481 </td> <td>0.254747     </td>\n",
       "        </tr>\n",
       "    </tbody>\n",
       "</table>"
      ],
      "text/plain": [
       "Phenotype       | Model | Observed | Random Sample\n",
       "Red-eyed Female | 0.5   | 0.485759 | 0.484177\n",
       "Red-eyed Male   | 0.25  | 0.22943  | 0.261076\n",
       "White-eyed Male | 0.25  | 0.28481  | 0.254747"
      ]
     },
     "execution_count": 7,
     "metadata": {},
     "output_type": "execute_result"
    }
   ],
   "source": [
    "drosophila_w_sample = drosophila.with_column(\"Random Sample\", sample_proportions(632, model))\n",
    "drosophila_w_sample"
   ]
  },
  {
   "cell_type": "code",
   "execution_count": 8,
   "metadata": {},
   "outputs": [
    {
     "data": {
      "image/png": "[encoded data removed]",
      "text/plain": [
       "<Figure size 432x288 with 1 Axes>"
      ]
     },
     "metadata": {
      "needs_background": "light"
     },
     "output_type": "display_data"
    }
   ],
   "source": [
    "drosophila_w_sample.barh(\"Phenotype\")"
   ]
  },
  {
   "cell_type": "code",
   "execution_count": 9,
   "metadata": {},
   "outputs": [
    {
     "data": {
      "text/plain": [
       "0.015822784810126583"
      ]
     },
     "execution_count": 9,
     "metadata": {},
     "output_type": "execute_result"
    }
   ],
   "source": [
    "## What is the Total Variation Distance between the random sample and the model\n",
    "calculate_tvd(drosophila_w_sample.column(\"Random Sample\"), drosophila_w_sample.column(\"Model\"))"
   ]
  },
  {
   "cell_type": "markdown",
   "metadata": {},
   "source": [
    "### Let's run a simulation of many samples from the model.  "
   ]
  },
  {
   "cell_type": "code",
   "execution_count": 10,
   "metadata": {},
   "outputs": [
    {
     "name": "stdout",
     "output_type": "stream",
     "text": [
      "10000\n"
     ]
    }
   ],
   "source": [
    "total_var_dist = make_array()\n",
    "\n",
    "repetitions = 10000\n",
    "for i in np.arange(repetitions):\n",
    "    ## find sample proportions \n",
    "    sample_dist = sample_proportions(632, model)\n",
    "    ## calculate tvd between sample proportions and model \n",
    "    tvd = calculate_tvd(sample_dist, model)\n",
    "    total_var_dist = np.append(total_var_dist, tvd)\n",
    "\n",
    "print(len(total_var_dist))"
   ]
  },
  {
   "cell_type": "code",
   "execution_count": null,
   "metadata": {},
   "outputs": [],
   "source": []
  },
  {
   "cell_type": "code",
   "execution_count": 11,
   "metadata": {},
   "outputs": [
    {
     "data": {
      "text/plain": [
       "<matplotlib.collections.PathCollection at 0x7fee6b2dbc10>"
      ]
     },
     "execution_count": 11,
     "metadata": {},
     "output_type": "execute_result"
    },
    {
     "data": {
      "image/png": "[encoded data removed]",
      "text/plain": [
       "<Figure size 432x288 with 1 Axes>"
      ]
     },
     "metadata": {
      "needs_background": "light"
     },
     "output_type": "display_data"
    }
   ],
   "source": [
    "Table().with_column(\"Total Variation Distance\", total_var_dist).hist()\n",
    "plots.scatter(obs_tvd, 1.5, color = 'red', s =100)"
   ]
  },
  {
   "cell_type": "code",
   "execution_count": 12,
   "metadata": {},
   "outputs": [
    {
     "data": {
      "text/plain": [
       "0.0348101265822785"
      ]
     },
     "execution_count": 12,
     "metadata": {},
     "output_type": "execute_result"
    }
   ],
   "source": [
    "obs_tvd"
   ]
  },
  {
   "cell_type": "code",
   "execution_count": null,
   "metadata": {},
   "outputs": [],
   "source": []
  }
 ],
 "metadata": {
  "kernelspec": {
   "display_name": "Python 3",
   "language": "python",
   "name": "python3"
  },
  "language_info": {
   "codemirror_mode": {
    "name": "ipython",
    "version": 3
   },
   "file_extension": ".py",
   "mimetype": "text/x-python",
   "name": "python",
   "nbconvert_exporter": "python",
   "pygments_lexer": "ipython3",
   "version": "3.7.5"
  }
 },
 "nbformat": 4,
 "nbformat_minor": 2
}
