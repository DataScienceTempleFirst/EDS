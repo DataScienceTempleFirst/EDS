{
 "cells": [
  {
   "cell_type": "code",
   "execution_count": 1,
   "metadata": {},
   "outputs": [],
   "source": [
    "from datascience import *\n",
    "import numpy as np\n",
    "\n",
    "%matplotlib inline\n",
    "import matplotlib.pyplot as plots\n",
    "plots.style.use('fivethirtyeight')"
   ]
  },
  {
   "cell_type": "code",
   "execution_count": 2,
   "metadata": {},
   "outputs": [],
   "source": [
    "def standard_units(x):\n",
    "    return (x - np.average(x))/np.std(x)\n",
    "\n",
    "def correlation(t, x, y):\n",
    "    x_su = standard_units(t.column(x))\n",
    "    y_su = standard_units(t.column(y))\n",
    "    return np.average(x_su * y_su)"
   ]
  },
  {
   "cell_type": "markdown",
   "metadata": {},
   "source": [
    "# Graph of Averages"
   ]
  },
  {
   "cell_type": "code",
   "execution_count": 3,
   "metadata": {},
   "outputs": [
    {
     "data": {
      "text/html": [
       "<table border=\"1\" class=\"dataframe\">\n",
       "    <thead>\n",
       "        <tr>\n",
       "            <th>sort_number</th> <th>site</th> <th>Genus_species</th> <th>Family</th> <th>growthform</th> <th>height</th> <th>loght</th> <th>Country</th> <th>Site</th> <th>lat</th> <th>long</th> <th>entered.by</th> <th>alt</th> <th>temp</th> <th>diurn.temp</th> <th>isotherm</th> <th>temp.seas</th> <th>temp.max.warm</th> <th>temp.min.cold</th> <th>temp.ann.range</th> <th>temp.mean.wetqr</th> <th>temp.mean.dryqr</th> <th>temp.mean.warmqr</th> <th>temp.mean.coldqr</th> <th>rain</th> <th>rain.wetm</th> <th>rain.drym</th> <th>rain.seas</th> <th>rain.wetqr</th> <th>rain.dryqr</th> <th>rain.warmqr</th> <th>rain.coldqr</th> <th>LAI</th> <th>NPP</th> <th>hemisphere</th>\n",
       "        </tr>\n",
       "    </thead>\n",
       "    <tbody>\n",
       "        <tr>\n",
       "            <td>1402       </td> <td>193 </td> <td>Acer_macryophyllum   </td> <td>Sapindaceae   </td> <td>Tree      </td> <td>28    </td> <td>1.44716  </td> <td>USA          </td> <td>Oregon - McDun        </td> <td>44.6  </td> <td>-123.334</td> <td>Angela    </td> <td>179 </td> <td>10.8</td> <td>11.8      </td> <td>4.4     </td> <td>5.2      </td> <td>27           </td> <td>0.3          </td> <td>26.7          </td> <td>4.9            </td> <td>17.4           </td> <td>17.6            </td> <td>4.5             </td> <td>1208</td> <td>217      </td> <td>13       </td> <td>69       </td> <td>601       </td> <td>68        </td> <td>75         </td> <td>560        </td> <td>2.51</td> <td>572 </td> <td>1         </td>\n",
       "        </tr>\n",
       "        <tr>\n",
       "            <td>25246      </td> <td>103 </td> <td>Quararibea_cordata   </td> <td>Malvaceae     </td> <td>Tree      </td> <td>26.6  </td> <td>1.42488  </td> <td>Peru         </td> <td>Manu                  </td> <td>12.183</td> <td>-70.55  </td> <td>Angela    </td> <td>386 </td> <td>24.5</td> <td>10.8      </td> <td>7.4     </td> <td>0.9      </td> <td>31.2         </td> <td>16.7         </td> <td>14.5          </td> <td>25.1           </td> <td>23.2           </td> <td>25.3            </td> <td>23.1            </td> <td>3015</td> <td>416      </td> <td>99       </td> <td>45       </td> <td>1177      </td> <td>340       </td> <td>928        </td> <td>359        </td> <td>4.26</td> <td>1405</td> <td>-1        </td>\n",
       "        </tr>\n",
       "        <tr>\n",
       "            <td>11648      </td> <td>54  </td> <td>Eragrostis_dielsii   </td> <td>Poaceae       </td> <td>Herb      </td> <td>0.3   </td> <td>-0.522879</td> <td>Australia    </td> <td>Central Australia     </td> <td>23.8  </td> <td>133.833 </td> <td>Michelle  </td> <td>553 </td> <td>20.9</td> <td>16.3      </td> <td>4.8     </td> <td>6        </td> <td>37           </td> <td>3.6          </td> <td>33.4          </td> <td>28.1           </td> <td>14.8           </td> <td>28.1            </td> <td>12.8            </td> <td>278 </td> <td>37       </td> <td>9        </td> <td>42       </td> <td>109       </td> <td>35        </td> <td>109        </td> <td>42         </td> <td>1.32</td> <td>756 </td> <td>-1        </td>\n",
       "        </tr>\n",
       "        <tr>\n",
       "            <td>8168       </td> <td>144 </td> <td>Cistus_salvifolius   </td> <td>Cistaceae     </td> <td>Shrub     </td> <td>1.6   </td> <td>0.20412  </td> <td>Israel       </td> <td>Hanadiv               </td> <td>32.555</td> <td>34.938  </td> <td>Angela    </td> <td>115 </td> <td>19.9</td> <td>9.7       </td> <td>4.4     </td> <td>4.9      </td> <td>30.7         </td> <td>8.7          </td> <td>22            </td> <td>13.6           </td> <td>25.3           </td> <td>25.7            </td> <td>13.6            </td> <td>598 </td> <td>159      </td> <td>0        </td> <td>115      </td> <td>408       </td> <td>0         </td> <td>2          </td> <td>408        </td> <td>1.01</td> <td>359 </td> <td>1         </td>\n",
       "        </tr>\n",
       "        <tr>\n",
       "            <td>22422      </td> <td>178 </td> <td>Phlox_bifida         </td> <td>Polemoniaceae </td> <td>Herb      </td> <td>0.2   </td> <td>-0.69897 </td> <td>USA          </td> <td>Indiana Dunes         </td> <td>41.617</td> <td>-86.95  </td> <td>Michelle  </td> <td>200 </td> <td>9.7 </td> <td>10.7      </td> <td>2.8     </td> <td>9.7      </td> <td>28.6         </td> <td>-9.5         </td> <td>38.1          </td> <td>21.6           </td> <td>-3.3           </td> <td>21.6            </td> <td>-3.3            </td> <td>976 </td> <td>104      </td> <td>44       </td> <td>23       </td> <td>299       </td> <td>165       </td> <td>299        </td> <td>165        </td> <td>3.26</td> <td>1131</td> <td>1         </td>\n",
       "        </tr>\n",
       "        <tr>\n",
       "            <td>15925      </td> <td>59  </td> <td>Homalium_betulifolium</td> <td>Salicaceae    </td> <td>Shrub     </td> <td>1.7   </td> <td>0.230449 </td> <td>New Caledonia</td> <td>nan                   </td> <td>21.5  </td> <td>165.5   </td> <td>Laura     </td> <td>95  </td> <td>22.6</td> <td>7.4       </td> <td>5.4     </td> <td>2.2      </td> <td>29           </td> <td>15.5         </td> <td>13.5          </td> <td>25.4           </td> <td>20.4           </td> <td>25.4            </td> <td>19.7            </td> <td>1387</td> <td>216      </td> <td>59       </td> <td>46       </td> <td>600       </td> <td>186       </td> <td>600        </td> <td>212        </td> <td>6.99</td> <td>1552</td> <td>-1        </td>\n",
       "        </tr>\n",
       "        <tr>\n",
       "            <td>25151      </td> <td>27  </td> <td>Pultenaea_microphylla</td> <td>Fabaceae - P  </td> <td>Shrub     </td> <td>0.5   </td> <td>-0.30103 </td> <td>Australia    </td> <td>Kuringai Chase, Sydney</td> <td>33.65 </td> <td>151.2   </td> <td>Michelle  </td> <td>157 </td> <td>16.8</td> <td>10        </td> <td>4.8     </td> <td>3.9      </td> <td>26.1         </td> <td>5.5          </td> <td>20.6          </td> <td>21.2           </td> <td>12.3           </td> <td>21.4            </td> <td>11.5            </td> <td>1283</td> <td>157      </td> <td>63       </td> <td>29       </td> <td>450       </td> <td>208       </td> <td>385        </td> <td>279        </td> <td>4.14</td> <td>1563</td> <td>-1        </td>\n",
       "        </tr>\n",
       "        <tr>\n",
       "            <td>26007      </td> <td>118 </td> <td>Rhizophora_mucronata </td> <td>Rhizophoraceae</td> <td>Tree      </td> <td>10    </td> <td>1        </td> <td>nan          </td> <td>Marshall Islands      </td> <td>9     </td> <td>168     </td> <td>Laura     </td> <td>2   </td> <td>27.7</td> <td>4.8       </td> <td>8.8     </td> <td>0.2      </td> <td>30.6         </td> <td>25.2         </td> <td>5.4           </td> <td>27.9           </td> <td>27.5           </td> <td>27.9            </td> <td>27.5            </td> <td>2585</td> <td>300      </td> <td>82       </td> <td>34       </td> <td>870       </td> <td>305       </td> <td>855        </td> <td>405        </td> <td>nan </td> <td>nan </td> <td>1         </td>\n",
       "        </tr>\n",
       "        <tr>\n",
       "            <td>6597       </td> <td>154 </td> <td>Carya_ovata          </td> <td>Juglandaceae  </td> <td>Tree      </td> <td>40    </td> <td>1.60206  </td> <td>USA          </td> <td>Colorado              </td> <td>35.8  </td> <td>-89.9   </td> <td>Angela    </td> <td>71  </td> <td>15.5</td> <td>11.4      </td> <td>3.2     </td> <td>8.6      </td> <td>32.9         </td> <td>-2.6         </td> <td>35.5          </td> <td>15.6           </td> <td>21.5           </td> <td>26.1            </td> <td>3.8             </td> <td>1262</td> <td>129      </td> <td>66       </td> <td>18       </td> <td>382       </td> <td>249       </td> <td>268        </td> <td>325        </td> <td>3.14</td> <td>1266</td> <td>1         </td>\n",
       "        </tr>\n",
       "        <tr>\n",
       "            <td>16908      </td> <td>106 </td> <td>Ischaemum_nativitatis</td> <td>Poaceae       </td> <td>Herb      </td> <td>0.5   </td> <td>-0.30103 </td> <td>Australia    </td> <td>Christmas Island      </td> <td>10.417</td> <td>105.667 </td> <td>Laura     </td> <td>2   </td> <td>26.4</td> <td>5         </td> <td>7.4     </td> <td>0.6      </td> <td>29.9         </td> <td>23.2         </td> <td>6.7           </td> <td>26.8           </td> <td>25.7           </td> <td>27.1            </td> <td>25.5            </td> <td>1704</td> <td>309      </td> <td>16       </td> <td>66       </td> <td>806       </td> <td>92        </td> <td>659        </td> <td>135        </td> <td>4.51</td> <td>2296</td> <td>-1        </td>\n",
       "        </tr>\n",
       "    </tbody>\n",
       "</table>\n",
       "<p>... (168 rows omitted)</p>"
      ],
      "text/plain": [
       "sort_number | site | Genus_species         | Family         | growthform | height | loght     | Country       | Site                   | lat    | long     | entered.by | alt  | temp | diurn.temp | isotherm | temp.seas | temp.max.warm | temp.min.cold | temp.ann.range | temp.mean.wetqr | temp.mean.dryqr | temp.mean.warmqr | temp.mean.coldqr | rain | rain.wetm | rain.drym | rain.seas | rain.wetqr | rain.dryqr | rain.warmqr | rain.coldqr | LAI  | NPP  | hemisphere\n",
       "1402        | 193  | Acer_macryophyllum    | Sapindaceae    | Tree       | 28     | 1.44716   | USA           | Oregon - McDun         | 44.6   | -123.334 | Angela     | 179  | 10.8 | 11.8       | 4.4      | 5.2       | 27            | 0.3           | 26.7           | 4.9             | 17.4            | 17.6             | 4.5              | 1208 | 217       | 13        | 69        | 601        | 68         | 75          | 560         | 2.51 | 572  | 1\n",
       "25246       | 103  | Quararibea_cordata    | Malvaceae      | Tree       | 26.6   | 1.42488   | Peru          | Manu                   | 12.183 | -70.55   | Angela     | 386  | 24.5 | 10.8       | 7.4      | 0.9       | 31.2          | 16.7          | 14.5           | 25.1            | 23.2            | 25.3             | 23.1             | 3015 | 416       | 99        | 45        | 1177       | 340        | 928         | 359         | 4.26 | 1405 | -1\n",
       "11648       | 54   | Eragrostis_dielsii    | Poaceae        | Herb       | 0.3    | -0.522879 | Australia     | Central Australia      | 23.8   | 133.833  | Michelle   | 553  | 20.9 | 16.3       | 4.8      | 6         | 37            | 3.6           | 33.4           | 28.1            | 14.8            | 28.1             | 12.8             | 278  | 37        | 9         | 42        | 109        | 35         | 109         | 42          | 1.32 | 756  | -1\n",
       "8168        | 144  | Cistus_salvifolius    | Cistaceae      | Shrub      | 1.6    | 0.20412   | Israel        | Hanadiv                | 32.555 | 34.938   | Angela     | 115  | 19.9 | 9.7        | 4.4      | 4.9       | 30.7          | 8.7           | 22             | 13.6            | 25.3            | 25.7             | 13.6             | 598  | 159       | 0         | 115       | 408        | 0          | 2           | 408         | 1.01 | 359  | 1\n",
       "22422       | 178  | Phlox_bifida          | Polemoniaceae  | Herb       | 0.2    | -0.69897  | USA           | Indiana Dunes          | 41.617 | -86.95   | Michelle   | 200  | 9.7  | 10.7       | 2.8      | 9.7       | 28.6          | -9.5          | 38.1           | 21.6            | -3.3            | 21.6             | -3.3             | 976  | 104       | 44        | 23        | 299        | 165        | 299         | 165         | 3.26 | 1131 | 1\n",
       "15925       | 59   | Homalium_betulifolium | Salicaceae     | Shrub      | 1.7    | 0.230449  | New Caledonia | nan                    | 21.5   | 165.5    | Laura      | 95   | 22.6 | 7.4        | 5.4      | 2.2       | 29            | 15.5          | 13.5           | 25.4            | 20.4            | 25.4             | 19.7             | 1387 | 216       | 59        | 46        | 600        | 186        | 600         | 212         | 6.99 | 1552 | -1\n",
       "25151       | 27   | Pultenaea_microphylla | Fabaceae - P   | Shrub      | 0.5    | -0.30103  | Australia     | Kuringai Chase, Sydney | 33.65  | 151.2    | Michelle   | 157  | 16.8 | 10         | 4.8      | 3.9       | 26.1          | 5.5           | 20.6           | 21.2            | 12.3            | 21.4             | 11.5             | 1283 | 157       | 63        | 29        | 450        | 208        | 385         | 279         | 4.14 | 1563 | -1\n",
       "26007       | 118  | Rhizophora_mucronata  | Rhizophoraceae | Tree       | 10     | 1         | nan           | Marshall Islands       | 9      | 168      | Laura      | 2    | 27.7 | 4.8        | 8.8      | 0.2       | 30.6          | 25.2          | 5.4            | 27.9            | 27.5            | 27.9             | 27.5             | 2585 | 300       | 82        | 34        | 870        | 305        | 855         | 405         | nan  | nan  | 1\n",
       "6597        | 154  | Carya_ovata           | Juglandaceae   | Tree       | 40     | 1.60206   | USA           | Colorado               | 35.8   | -89.9    | Angela     | 71   | 15.5 | 11.4       | 3.2      | 8.6       | 32.9          | -2.6          | 35.5           | 15.6            | 21.5            | 26.1             | 3.8              | 1262 | 129       | 66        | 18        | 382        | 249        | 268         | 325         | 3.14 | 1266 | 1\n",
       "16908       | 106  | Ischaemum_nativitatis | Poaceae        | Herb       | 0.5    | -0.30103  | Australia     | Christmas Island       | 10.417 | 105.667  | Laura      | 2    | 26.4 | 5          | 7.4      | 0.6       | 29.9          | 23.2          | 6.7            | 26.8            | 25.7            | 27.1             | 25.5             | 1704 | 309       | 16        | 66        | 806        | 92         | 659         | 135         | 4.51 | 2296 | -1\n",
       "... (168 rows omitted)"
      ]
     },
     "execution_count": 3,
     "metadata": {},
     "output_type": "execute_result"
    }
   ],
   "source": [
    "plant_height = Table.read_table('Plant_height.csv')\n",
    "plant_height"
   ]
  },
  {
   "cell_type": "code",
   "execution_count": 4,
   "metadata": {},
   "outputs": [
    {
     "data": {
      "text/html": [
       "<table border=\"1\" class=\"dataframe\">\n",
       "    <thead>\n",
       "        <tr>\n",
       "            <th>temp</th> <th>loght</th>\n",
       "        </tr>\n",
       "    </thead>\n",
       "    <tbody>\n",
       "        <tr>\n",
       "            <td>10.8</td> <td>1.44716  </td>\n",
       "        </tr>\n",
       "        <tr>\n",
       "            <td>24.5</td> <td>1.42488  </td>\n",
       "        </tr>\n",
       "        <tr>\n",
       "            <td>20.9</td> <td>-0.522879</td>\n",
       "        </tr>\n",
       "        <tr>\n",
       "            <td>19.9</td> <td>0.20412  </td>\n",
       "        </tr>\n",
       "        <tr>\n",
       "            <td>9.7 </td> <td>-0.69897 </td>\n",
       "        </tr>\n",
       "        <tr>\n",
       "            <td>22.6</td> <td>0.230449 </td>\n",
       "        </tr>\n",
       "        <tr>\n",
       "            <td>16.8</td> <td>-0.30103 </td>\n",
       "        </tr>\n",
       "        <tr>\n",
       "            <td>27.7</td> <td>1        </td>\n",
       "        </tr>\n",
       "        <tr>\n",
       "            <td>15.5</td> <td>1.60206  </td>\n",
       "        </tr>\n",
       "        <tr>\n",
       "            <td>26.4</td> <td>-0.30103 </td>\n",
       "        </tr>\n",
       "    </tbody>\n",
       "</table>\n",
       "<p>... (168 rows omitted)</p>"
      ],
      "text/plain": [
       "temp | loght\n",
       "10.8 | 1.44716\n",
       "24.5 | 1.42488\n",
       "20.9 | -0.522879\n",
       "19.9 | 0.20412\n",
       "9.7  | -0.69897\n",
       "22.6 | 0.230449\n",
       "16.8 | -0.30103\n",
       "27.7 | 1\n",
       "15.5 | 1.60206\n",
       "26.4 | -0.30103\n",
       "... (168 rows omitted)"
      ]
     },
     "execution_count": 4,
     "metadata": {},
     "output_type": "execute_result"
    }
   ],
   "source": [
    "## select the columns we want \n",
    "p_h = plant_height.select('temp', 'loght')\n",
    "p_h"
   ]
  },
  {
   "cell_type": "code",
   "execution_count": 5,
   "metadata": {},
   "outputs": [
    {
     "data": {
      "image/png": "[encoded data removed]",
      "text/plain": [
       "<Figure size 360x360 with 1 Axes>"
      ]
     },
     "metadata": {},
     "output_type": "display_data"
    }
   ],
   "source": [
    "p_h.scatter('temp')"
   ]
  },
  {
   "cell_type": "code",
   "execution_count": 6,
   "metadata": {},
   "outputs": [
    {
     "data": {
      "text/plain": [
       "0.4962426104103495"
      ]
     },
     "execution_count": 6,
     "metadata": {},
     "output_type": "execute_result"
    }
   ],
   "source": [
    "correlation(p_h, 'temp', 'loght')"
   ]
  },
  {
   "cell_type": "code",
   "execution_count": 19,
   "metadata": {},
   "outputs": [],
   "source": [
    "def predict_height(x):\n",
    "    section = p_h.where('temp', are.between(x-7, x+7))\n",
    "    return np.average(section.column(\"loght\"))"
   ]
  },
  {
   "cell_type": "code",
   "execution_count": 20,
   "metadata": {},
   "outputs": [
    {
     "data": {
      "text/plain": [
       "array([ 0.30530301,  0.7710773 ,  0.67320203,  0.61129443,  0.27606151,\n",
       "        0.68590021,  0.38145355,  0.87090951,  0.32075383,  0.80825253,\n",
       "        0.19620918,  0.78468664,  0.59653584,  0.82663702,  0.77768826,\n",
       "        0.32100998,  0.63459083,  0.77768826,  0.70253852,  0.36348944,\n",
       "        0.80870018,  0.19109597,  0.79606806,  0.61129443,  0.77768826,\n",
       "        0.80778613,  0.78106542,  0.78165   ,  0.80690336,  0.52375373,\n",
       "        0.7710773 ,  0.68720428,  0.33821703,  0.36487408,  0.5379056 ,\n",
       "       -0.69656651,  0.33906272,  0.2041482 ,  0.64676739,  0.36487408,\n",
       "        0.80778613,  0.70035   , -0.05618278,  0.79606806,  0.78165   ,\n",
       "        0.77768826,  0.36278577,  0.80870018,  0.33395849,  0.79606806,\n",
       "        0.83368142,  0.77473051,  0.18705057, -0.59293065,  0.18705057,\n",
       "        0.36278577,  0.14809105,  0.38649812,  0.78468664,  0.33821703,\n",
       "        0.77768826,  0.77768826,  0.46615985,  0.35715249,  0.80690336,\n",
       "        0.38329388, -0.55950294,  0.68590021,  0.77768826,  0.69211505,\n",
       "        0.08795575,  0.16507288,  0.38145355,  0.67320203,  0.78165   ,\n",
       "       -0.35167935,  0.36348944,  0.77473051,  0.36278577,  0.80778613,\n",
       "        0.80870018,  0.22684426,  0.33906272,  0.59535919,  0.77768826,\n",
       "       -0.16915603,  0.19109597,  0.7710773 ,  0.70394477,  0.2111106 ,\n",
       "        0.81882596,  0.27672173,  0.28089389,  0.78237928, -0.55950294,\n",
       "        0.28416434,  0.60927888,  0.78106542,  0.55239914,  0.38145355,\n",
       "        0.83368142,  0.26522319,  0.77768826, -0.58477378,  0.2689541 ,\n",
       "        0.77768826,  0.55239914, -0.12561887,  0.22684426,  0.77768826,\n",
       "        0.36578435,  0.35777685,  0.30530301,  0.36487408,  0.24369697,\n",
       "        0.68590021,  0.78106542,  0.70394477,  0.77768826, -0.69656651,\n",
       "        0.62990647,  0.77473051,  0.34176619,  0.55812009,  0.77768826,\n",
       "       -0.16915603,  0.18654607,  0.16507288,  0.67320203,  0.77768826,\n",
       "        0.38649812,  0.32100998,  0.68590021,  0.36811499,  0.2471452 ,\n",
       "        0.38649812,  0.67373509,  0.55812009,  0.59206821,  0.27586905,\n",
       "        0.36578435,  0.67320203,  0.77768826,  0.63459083,  0.08795575,\n",
       "       -0.44607947,  0.18705057,  0.36811499,  0.36834147,  0.62668827,\n",
       "        0.35715249,  0.24369697,  0.84776684,  0.51899127,  0.35715249,\n",
       "        0.18705057,  0.35161363,  0.80778613,  0.18705057,  0.63459083,\n",
       "        0.63459083,  0.24806662, -0.29826093,  0.27672173,  0.67320203,\n",
       "        0.23031504,  0.36811499,  0.23966574,  0.24369697,  0.32100998,\n",
       "        0.81882596,  0.32542139,  0.78106542,  0.80870018,  0.77768826,\n",
       "        0.36811499,  0.21160498,  0.2041482 ])"
      ]
     },
     "execution_count": 20,
     "metadata": {},
     "output_type": "execute_result"
    }
   ],
   "source": [
    "predictions = p_h.apply(predict_height, 'temp')\n",
    "predictions"
   ]
  },
  {
   "cell_type": "code",
   "execution_count": 21,
   "metadata": {},
   "outputs": [
    {
     "data": {
      "text/html": [
       "<table border=\"1\" class=\"dataframe\">\n",
       "    <thead>\n",
       "        <tr>\n",
       "            <th>temp</th> <th>loght</th> <th>graph of average prediction</th>\n",
       "        </tr>\n",
       "    </thead>\n",
       "    <tbody>\n",
       "        <tr>\n",
       "            <td>10.8</td> <td>1.44716  </td> <td>0.305303                   </td>\n",
       "        </tr>\n",
       "        <tr>\n",
       "            <td>24.5</td> <td>1.42488  </td> <td>0.771077                   </td>\n",
       "        </tr>\n",
       "        <tr>\n",
       "            <td>20.9</td> <td>-0.522879</td> <td>0.673202                   </td>\n",
       "        </tr>\n",
       "        <tr>\n",
       "            <td>19.9</td> <td>0.20412  </td> <td>0.611294                   </td>\n",
       "        </tr>\n",
       "        <tr>\n",
       "            <td>9.7 </td> <td>-0.69897 </td> <td>0.276062                   </td>\n",
       "        </tr>\n",
       "        <tr>\n",
       "            <td>22.6</td> <td>0.230449 </td> <td>0.6859                     </td>\n",
       "        </tr>\n",
       "        <tr>\n",
       "            <td>16.8</td> <td>-0.30103 </td> <td>0.381454                   </td>\n",
       "        </tr>\n",
       "        <tr>\n",
       "            <td>27.7</td> <td>1        </td> <td>0.87091                    </td>\n",
       "        </tr>\n",
       "        <tr>\n",
       "            <td>15.5</td> <td>1.60206  </td> <td>0.320754                   </td>\n",
       "        </tr>\n",
       "        <tr>\n",
       "            <td>26.4</td> <td>-0.30103 </td> <td>0.808253                   </td>\n",
       "        </tr>\n",
       "    </tbody>\n",
       "</table>\n",
       "<p>... (168 rows omitted)</p>"
      ],
      "text/plain": [
       "temp | loght     | graph of average prediction\n",
       "10.8 | 1.44716   | 0.305303\n",
       "24.5 | 1.42488   | 0.771077\n",
       "20.9 | -0.522879 | 0.673202\n",
       "19.9 | 0.20412   | 0.611294\n",
       "9.7  | -0.69897  | 0.276062\n",
       "22.6 | 0.230449  | 0.6859\n",
       "16.8 | -0.30103  | 0.381454\n",
       "27.7 | 1         | 0.87091\n",
       "15.5 | 1.60206   | 0.320754\n",
       "26.4 | -0.30103  | 0.808253\n",
       "... (168 rows omitted)"
      ]
     },
     "execution_count": 21,
     "metadata": {},
     "output_type": "execute_result"
    }
   ],
   "source": [
    "p_h = p_h.with_column(\n",
    "        'graph of average prediction', predictions\n",
    ")\n",
    "p_h"
   ]
  },
  {
   "cell_type": "code",
   "execution_count": 22,
   "metadata": {},
   "outputs": [
    {
     "data": {
      "image/png": "[encoded data removed]",
      "text/plain": [
       "<Figure size 360x360 with 1 Axes>"
      ]
     },
     "metadata": {},
     "output_type": "display_data"
    }
   ],
   "source": [
    "p_h.scatter('temp')"
   ]
  },
  {
   "cell_type": "markdown",
   "metadata": {},
   "source": [
    "# Linear Prediction"
   ]
  },
  {
   "cell_type": "code",
   "execution_count": 23,
   "metadata": {},
   "outputs": [],
   "source": [
    "## Estimate the y (dependent value) based on some given x value "
   ]
  },
  {
   "cell_type": "code",
   "execution_count": 24,
   "metadata": {},
   "outputs": [
    {
     "data": {
      "text/plain": [
       "array([-0.58028614,  0.91257786,  0.52029243,  0.41132425, -0.70015114,\n",
       "        0.70553833,  0.07352291,  1.26127602, -0.06813572,  1.11961739,\n",
       "       -1.16871429,  0.98885558,  0.34594335,  1.20679193,  0.94526831,\n",
       "       -0.08992935,  0.47670516,  0.95616513,  0.80360968, -0.25338162,\n",
       "        1.07603012, -1.21230156,  1.05423649,  0.41132425,  0.95616513,\n",
       "        1.16320466,  0.96706195,  1.01064922,  1.10872057,  0.22607835,\n",
       "        0.86899059,  0.67284787, -0.04634208, -0.34055616,  0.23697517,\n",
       "       -2.96668918, -0.13351662, -1.38665064,  0.49849879, -0.34055616,\n",
       "        1.13051421,  0.79271287, -1.7353488 ,  1.0651333 ,  1.02154603,\n",
       "        0.92347468,  0.09531654,  1.07603012, -0.0572389 ,  1.0651333 ,\n",
       "        1.21768875,  0.84719695, -1.2994761 , -2.37826104, -1.23409519,\n",
       "        0.09531654, -1.49561882,  0.008142  ,  0.98885558, -0.04634208,\n",
       "        0.95616513,  0.92347468,  0.1933879 , -0.26427843,  1.09782376,\n",
       "        0.04083246, -2.31288013,  0.71643514,  0.94526831,  0.69464151,\n",
       "       -1.62638063, -1.35396019,  0.07352291,  0.55298288,  1.01064922,\n",
       "       -2.07315014, -0.25338162,  0.84719695,  0.09531654,  1.13051421,\n",
       "        1.07603012, -0.99436521, -0.13351662,  0.35684017,  0.94526831,\n",
       "       -1.86611061, -1.21230156,  0.89078422,  0.7491256 , -0.6783575 ,\n",
       "        1.19589511, -0.77642886, -0.73284159,  0.9997524 , -2.31288013,\n",
       "       -0.72194477,  0.40042744,  0.96706195,  0.26966562,  0.08441973,\n",
       "        1.21768875, -0.60207978,  0.94526831, -2.45453876, -0.83091295,\n",
       "        0.94526831,  0.26966562, -1.83342016, -0.99436521,  0.94526831,\n",
       "       -0.28607207, -0.37324661, -0.56938933, -0.34055616, -0.93988112,\n",
       "        0.71643514,  0.97795876,  0.73822878,  0.95616513, -2.90130828,\n",
       "        0.44401471,  0.84719695, -0.40593706,  0.30235608,  0.94526831,\n",
       "       -1.88790425, -1.20140474, -1.35396019,  0.52029243,  0.94526831,\n",
       "        0.02993564, -0.08992935,  0.70553833,  0.06262609, -1.05974611,\n",
       "        0.008142  ,  0.50939561,  0.30235608,  0.32414971, -0.71104795,\n",
       "       -0.28607207,  0.53118925,  0.94526831,  0.47670516, -1.61548381,\n",
       "       -2.22570559, -1.22319838,  0.06262609,  0.14980063,  0.43311789,\n",
       "       -0.26427843, -0.89629385,  1.23948239,  0.21518154, -0.27517525,\n",
       "       -1.28857928, -0.44952433,  1.13051421, -1.26678565,  0.46580834,\n",
       "        0.46580834, -0.65656387, -1.9859756 , -0.76553204,  0.53118925,\n",
       "       -0.88539703,  0.05172927, -1.08153975, -0.90719067, -0.08992935,\n",
       "        1.1849983 , -0.43862751,  0.96706195,  1.07603012,  0.95616513,\n",
       "        0.06262609, -1.46292836, -1.37575382])"
      ]
     },
     "execution_count": 24,
     "metadata": {},
     "output_type": "execute_result"
    }
   ],
   "source": [
    "## convert the given x to standard units\n",
    "su_x = standard_units(p_h.column(\"temp\"))\n",
    "su_x"
   ]
  },
  {
   "cell_type": "code",
   "execution_count": 25,
   "metadata": {},
   "outputs": [
    {
     "data": {
      "text/plain": [
       "array([ 1.26077299,  1.23237201, -1.25089813, -0.32402116, -1.47540324,\n",
       "       -0.29045345, -0.96805514,  0.69067505,  1.4582631 , -0.96805514,\n",
       "       -0.9152821 ,  1.33470902,  0.30688102,  0.49318494,  0.79162608,\n",
       "       -0.29700616, -0.78175122,  0.18332694, -0.8671041 , -0.32402116,\n",
       "        1.33470902,  1.69192045,  0.90774787, -0.58426111,  0.91518016,\n",
       "        0.49318494,  1.07446908,  0.49318494,  0.00526682,  0.67209474,\n",
       "        0.56712097, -0.20046708, -0.8671041 , -0.29045345,  0.49318494,\n",
       "       -1.98275135, -1.47540324, -0.77624174,  0.49318494, -0.96805514,\n",
       "        1.16376289,  0.950915  , -1.39084192,  1.36827674,  0.91518016,\n",
       "        0.91518016, -0.359756  ,  0.950915  , -0.01416317,  1.19802316,\n",
       "        1.07446908, -1.09160922,  0.40783206, -1.47540324,  0.10939091,\n",
       "        1.19802316,  1.0161312 ,  0.69067505,  0.69067505, -0.96805514,\n",
       "        1.0460681 ,  1.07446908,  0.02403803, -1.80642424,  0.81422913,\n",
       "       -0.8671041 , -2.24299129,  1.29897419,  1.38432707,  0.02403803,\n",
       "       -1.47540324, -2.24299129, -2.48664961,  0.10939091,  0.79162608,\n",
       "       -0.70781519,  0.950915  ,  0.950915  ,  1.29897419,  1.29897419,\n",
       "        1.01919878,  0.69067505,  0.02403803,  0.49318494,  0.18332694,\n",
       "       -1.98275135,  0.30688102, -0.076913  ,  1.33470902,  1.29897419,\n",
       "        0.69067505, -0.20046708,  1.28590146,  0.18332694, -1.42263021,\n",
       "        1.47193535,  1.17542011, -0.20046708,  0.24854315, -0.09951605,\n",
       "       -0.20046708, -2.36654537,  1.26077299, -2.05668738, -1.28909933,\n",
       "        0.30688102, -0.96805514, -0.70781519,  1.38432707,  1.07446908,\n",
       "       -0.25880496,  1.0460681 , -1.16554525, -1.35184916,  1.29897419,\n",
       "        0.91518016,  0.69067505,  0.02403803,  1.29897419, -1.98275135,\n",
       "       -0.19495761, -0.70781519, -0.50687524, -1.02639301,  0.40783206,\n",
       "       -1.63469215, -0.32927388, -1.67289335,  0.30688102, -0.076913  ,\n",
       "        0.02403803,  1.07446908,  0.40783206, -0.29045345, -1.47540324,\n",
       "        0.40783206,  0.15492596,  0.56712097,  0.63233717, -0.8671041 ,\n",
       "       -1.3767641 ,  0.24854315,  0.79162608, -0.29045345, -0.70093687,\n",
       "        0.85684228, -0.96805514, -0.76615307, -0.359756  , -0.28720594,\n",
       "       -1.25089813,  0.02403803,  0.56712097,  0.00526682,  0.83594555,\n",
       "       -1.47540324, -0.58426111,  1.45269826, -1.60592216, -0.96805514,\n",
       "        0.63233717,  0.02403803, -0.55724611, -0.96805514,  0.74344808,\n",
       "        1.44424469, -0.21733228,  0.80978173, -0.359756  , -0.58426111,\n",
       "       -0.74355002,  0.18332694,  0.91518016, -0.9152821 ,  0.40783206,\n",
       "       -0.96805514,  0.91518016, -1.36077996])"
      ]
     },
     "execution_count": 25,
     "metadata": {},
     "output_type": "execute_result"
    }
   ],
   "source": [
    "su_y = standard_units(p_h.column(\"loght\"))\n",
    "su_y"
   ]
  },
  {
   "cell_type": "code",
   "execution_count": 26,
   "metadata": {},
   "outputs": [
    {
     "data": {
      "text/plain": [
       "0.4962426104103495"
      ]
     },
     "execution_count": 26,
     "metadata": {},
     "output_type": "execute_result"
    }
   ],
   "source": [
    "r = np.average(su_x * su_y)\n",
    "r"
   ]
  },
  {
   "cell_type": "code",
   "execution_count": 27,
   "metadata": {},
   "outputs": [
    {
     "data": {
      "text/html": [
       "<table border=\"1\" class=\"dataframe\">\n",
       "    <thead>\n",
       "        <tr>\n",
       "            <th>temp (su)</th> <th>log Height (su)</th> <th>standard unit regression prediction</th>\n",
       "        </tr>\n",
       "    </thead>\n",
       "    <tbody>\n",
       "        <tr>\n",
       "            <td>-0.580286 </td> <td>1.26077        </td> <td>-0.287963                          </td>\n",
       "        </tr>\n",
       "        <tr>\n",
       "            <td>0.912578  </td> <td>1.23237        </td> <td>0.45286                            </td>\n",
       "        </tr>\n",
       "        <tr>\n",
       "            <td>0.520292  </td> <td>-1.2509        </td> <td>0.258191                           </td>\n",
       "        </tr>\n",
       "        <tr>\n",
       "            <td>0.411324  </td> <td>-0.324021      </td> <td>0.204117                           </td>\n",
       "        </tr>\n",
       "        <tr>\n",
       "            <td>-0.700151 </td> <td>-1.4754        </td> <td>-0.347445                          </td>\n",
       "        </tr>\n",
       "        <tr>\n",
       "            <td>0.705538  </td> <td>-0.290453      </td> <td>0.350118                           </td>\n",
       "        </tr>\n",
       "        <tr>\n",
       "            <td>0.0735229 </td> <td>-0.968055      </td> <td>0.0364852                          </td>\n",
       "        </tr>\n",
       "        <tr>\n",
       "            <td>1.26128   </td> <td>0.690675       </td> <td>0.625899                           </td>\n",
       "        </tr>\n",
       "        <tr>\n",
       "            <td>-0.0681357</td> <td>1.45826        </td> <td>-0.0338118                         </td>\n",
       "        </tr>\n",
       "        <tr>\n",
       "            <td>1.11962   </td> <td>-0.968055      </td> <td>0.555602                           </td>\n",
       "        </tr>\n",
       "    </tbody>\n",
       "</table>\n",
       "<p>... (168 rows omitted)</p>"
      ],
      "text/plain": [
       "temp (su)  | log Height (su) | standard unit regression prediction\n",
       "-0.580286  | 1.26077         | -0.287963\n",
       "0.912578   | 1.23237         | 0.45286\n",
       "0.520292   | -1.2509         | 0.258191\n",
       "0.411324   | -0.324021       | 0.204117\n",
       "-0.700151  | -1.4754         | -0.347445\n",
       "0.705538   | -0.290453       | 0.350118\n",
       "0.0735229  | -0.968055       | 0.0364852\n",
       "1.26128    | 0.690675        | 0.625899\n",
       "-0.0681357 | 1.45826         | -0.0338118\n",
       "1.11962    | -0.968055       | 0.555602\n",
       "... (168 rows omitted)"
      ]
     },
     "execution_count": 27,
     "metadata": {},
     "output_type": "execute_result"
    }
   ],
   "source": [
    "## y = r * x \n",
    "su_p_h = Table().with_columns(\n",
    "    'temp (su)', su_x,\n",
    "    'log Height (su)', su_y,\n",
    "    'standard unit regression prediction', r * su_x\n",
    ")\n",
    "su_p_h"
   ]
  },
  {
   "cell_type": "code",
   "execution_count": 28,
   "metadata": {},
   "outputs": [
    {
     "data": {
      "image/png": "[encoded data removed]",
      "text/plain": [
       "<Figure size 360x360 with 1 Axes>"
      ]
     },
     "metadata": {},
     "output_type": "display_data"
    }
   ],
   "source": [
    "su_p_h.scatter(0)"
   ]
  },
  {
   "cell_type": "markdown",
   "metadata": {},
   "source": [
    "# Regression Line"
   ]
  },
  {
   "cell_type": "code",
   "execution_count": 29,
   "metadata": {},
   "outputs": [],
   "source": [
    "def slope(t, x, y):\n",
    "    r = correlation(t, x, y)\n",
    "    ## r * sd of y / sd of x\n",
    "    return r * np.std(t.column(y)) / np.std(t.column(x))\n",
    "\n",
    "\n",
    "def intercept(t, x, y):\n",
    "    a = slope(t, x, y)\n",
    "    ## avg of y - slope * avg of x \n",
    "    return np.average(t.column(y)) - a * np.average(t.column(x))"
   ]
  },
  {
   "cell_type": "code",
   "execution_count": 30,
   "metadata": {},
   "outputs": [
    {
     "data": {
      "text/plain": [
       "(0.0424136152843201, -0.22566450772799984)"
      ]
     },
     "execution_count": 30,
     "metadata": {},
     "output_type": "execute_result"
    }
   ],
   "source": [
    "ph_slope = slope(p_h, 'temp', 'loght')\n",
    "ph_intercept = intercept(p_h, 'temp', 'loght')\n",
    "(ph_slope, ph_intercept)"
   ]
  },
  {
   "cell_type": "code",
   "execution_count": 32,
   "metadata": {},
   "outputs": [
    {
     "data": {
      "text/html": [
       "<table border=\"1\" class=\"dataframe\">\n",
       "    <thead>\n",
       "        <tr>\n",
       "            <th>temp</th> <th>loght</th> <th>graph of average prediction</th>\n",
       "        </tr>\n",
       "    </thead>\n",
       "    <tbody>\n",
       "        <tr>\n",
       "            <td>24.6</td> <td>1.17609</td> <td>0.777688                   </td>\n",
       "        </tr>\n",
       "    </tbody>\n",
       "</table>"
      ],
      "text/plain": [
       "temp | loght   | graph of average prediction\n",
       "24.6 | 1.17609 | 0.777688"
      ]
     },
     "execution_count": 32,
     "metadata": {},
     "output_type": "execute_result"
    }
   ],
   "source": [
    "p_h.take(45)"
   ]
  },
  {
   "cell_type": "code",
   "execution_count": 33,
   "metadata": {},
   "outputs": [
    {
     "data": {
      "text/plain": [
       "0.8177104282662747"
      ]
     },
     "execution_count": 33,
     "metadata": {},
     "output_type": "execute_result"
    }
   ],
   "source": [
    "ph_slope * 24.6 + ph_intercept"
   ]
  },
  {
   "cell_type": "code",
   "execution_count": 34,
   "metadata": {},
   "outputs": [],
   "source": [
    "def fitted_values(t, x, y):\n",
    "    m = slope(t, x, y)\n",
    "    b = intercept(t, x, y)\n",
    "    return m * t.column(x) + b"
   ]
  },
  {
   "cell_type": "code",
   "execution_count": 35,
   "metadata": {},
   "outputs": [
    {
     "data": {
      "text/html": [
       "<table border=\"1\" class=\"dataframe\">\n",
       "    <thead>\n",
       "        <tr>\n",
       "            <th>temp</th> <th>loght</th> <th>graph of average prediction</th> <th>Original Unit Regression Prediction</th>\n",
       "        </tr>\n",
       "    </thead>\n",
       "    <tbody>\n",
       "        <tr>\n",
       "            <td>10.8</td> <td>1.44716  </td> <td>0.305303                   </td> <td>0.232403                           </td>\n",
       "        </tr>\n",
       "        <tr>\n",
       "            <td>24.5</td> <td>1.42488  </td> <td>0.771077                   </td> <td>0.813469                           </td>\n",
       "        </tr>\n",
       "        <tr>\n",
       "            <td>20.9</td> <td>-0.522879</td> <td>0.673202                   </td> <td>0.66078                            </td>\n",
       "        </tr>\n",
       "        <tr>\n",
       "            <td>19.9</td> <td>0.20412  </td> <td>0.611294                   </td> <td>0.618366                           </td>\n",
       "        </tr>\n",
       "        <tr>\n",
       "            <td>9.7 </td> <td>-0.69897 </td> <td>0.276062                   </td> <td>0.185748                           </td>\n",
       "        </tr>\n",
       "        <tr>\n",
       "            <td>22.6</td> <td>0.230449 </td> <td>0.6859                     </td> <td>0.732883                           </td>\n",
       "        </tr>\n",
       "        <tr>\n",
       "            <td>16.8</td> <td>-0.30103 </td> <td>0.381454                   </td> <td>0.486884                           </td>\n",
       "        </tr>\n",
       "        <tr>\n",
       "            <td>27.7</td> <td>1        </td> <td>0.87091                    </td> <td>0.949193                           </td>\n",
       "        </tr>\n",
       "        <tr>\n",
       "            <td>15.5</td> <td>1.60206  </td> <td>0.320754                   </td> <td>0.431747                           </td>\n",
       "        </tr>\n",
       "        <tr>\n",
       "            <td>26.4</td> <td>-0.30103 </td> <td>0.808253                   </td> <td>0.894055                           </td>\n",
       "        </tr>\n",
       "    </tbody>\n",
       "</table>\n",
       "<p>... (168 rows omitted)</p>"
      ],
      "text/plain": [
       "temp | loght     | graph of average prediction | Original Unit Regression Prediction\n",
       "10.8 | 1.44716   | 0.305303                    | 0.232403\n",
       "24.5 | 1.42488   | 0.771077                    | 0.813469\n",
       "20.9 | -0.522879 | 0.673202                    | 0.66078\n",
       "19.9 | 0.20412   | 0.611294                    | 0.618366\n",
       "9.7  | -0.69897  | 0.276062                    | 0.185748\n",
       "22.6 | 0.230449  | 0.6859                      | 0.732883\n",
       "16.8 | -0.30103  | 0.381454                    | 0.486884\n",
       "27.7 | 1         | 0.87091                     | 0.949193\n",
       "15.5 | 1.60206   | 0.320754                    | 0.431747\n",
       "26.4 | -0.30103  | 0.808253                    | 0.894055\n",
       "... (168 rows omitted)"
      ]
     },
     "execution_count": 35,
     "metadata": {},
     "output_type": "execute_result"
    }
   ],
   "source": [
    "p_h = p_h.with_column(\n",
    "    'Original Unit Regression Prediction', fitted_values(p_h, 'temp', 'loght'))\n",
    "p_h"
   ]
  },
  {
   "cell_type": "code",
   "execution_count": 36,
   "metadata": {},
   "outputs": [
    {
     "data": {
      "image/png": "[encoded data removed]",
      "text/plain": [
       "<Figure size 360x360 with 1 Axes>"
      ]
     },
     "metadata": {},
     "output_type": "display_data"
    }
   ],
   "source": [
    "p_h.scatter('temp')"
   ]
  },
  {
   "cell_type": "code",
   "execution_count": null,
   "metadata": {},
   "outputs": [],
   "source": []
  }
 ],
 "metadata": {
  "kernelspec": {
   "display_name": "Python 3",
   "language": "python",
   "name": "python3"
  },
  "language_info": {
   "codemirror_mode": {
    "name": "ipython",
    "version": 3
   },
   "file_extension": ".py",
   "mimetype": "text/x-python",
   "name": "python",
   "nbconvert_exporter": "python",
   "pygments_lexer": "ipython3",
   "version": "3.7.5"
  }
 },
 "nbformat": 4,
 "nbformat_minor": 2
}
