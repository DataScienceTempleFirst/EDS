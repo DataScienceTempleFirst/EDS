{
 "cells": [
  {
   "cell_type": "markdown",
   "metadata": {},
   "source": [
    "### Datascience Table\n",
    "\n",
    "|Method name|Value|\n",
    "|-|-|\n",
    "|`read_table(url)`|create table object and read data from url or file |\n",
    "|`sort(col,descending=True`|sort table by column labeled/numbered col|\n",
    "|`labels`|list column labels|\n",
    "|`join(col1,table2,col2)`|join two tables using col1 from first joined by matching col2 in table2|\n",
    "|`where(col,value)`|select rows where col = value|\n"
   ]
  },
  {
   "cell_type": "code",
   "execution_count": 1,
   "metadata": {},
   "outputs": [],
   "source": [
    "from datascience import *  # Import new data manipulation functionality\n",
    "import pandas as pd        # pandas provides greater control over Data handling"
   ]
  },
  {
   "cell_type": "code",
   "execution_count": 2,
   "metadata": {},
   "outputs": [
    {
     "data": {
      "text/html": [
       "<table border=\"1\" class=\"dataframe\">\n",
       "    <thead>\n",
       "        <tr>\n",
       "            <th>zip_code</th> <th>partially_vaccinated</th> <th>fully_vaccinated</th> <th>etl_timestamp</th>\n",
       "        </tr>\n",
       "    </thead>\n",
       "    <tbody>\n",
       "        <tr>\n",
       "            <td>19138   </td> <td>3147                </td> <td>14836           </td> <td>2022-01-25 16:00:02</td>\n",
       "        </tr>\n",
       "        <tr>\n",
       "            <td>19125   </td> <td>4407                </td> <td>15101           </td> <td>2022-01-25 16:00:02</td>\n",
       "        </tr>\n",
       "        <tr>\n",
       "            <td>19144   </td> <td>5030                </td> <td>20783           </td> <td>2022-01-25 16:00:02</td>\n",
       "        </tr>\n",
       "        <tr>\n",
       "            <td>19152   </td> <td>4623                </td> <td>19969           </td> <td>2022-01-25 16:00:02</td>\n",
       "        </tr>\n",
       "        <tr>\n",
       "            <td>19153   </td> <td>1149                </td> <td>6060            </td> <td>2022-01-25 16:00:02</td>\n",
       "        </tr>\n",
       "        <tr>\n",
       "            <td>19133   </td> <td>3408                </td> <td>12500           </td> <td>2022-01-25 16:00:02</td>\n",
       "        </tr>\n",
       "        <tr>\n",
       "            <td>19126   </td> <td>1709                </td> <td>7609            </td> <td>2022-01-25 16:00:02</td>\n",
       "        </tr>\n",
       "        <tr>\n",
       "            <td>19119   </td> <td>3738                </td> <td>15663           </td> <td>2022-01-25 16:00:02</td>\n",
       "        </tr>\n",
       "        <tr>\n",
       "            <td>19120   </td> <td>8310                </td> <td>33702           </td> <td>2022-01-25 16:00:02</td>\n",
       "        </tr>\n",
       "        <tr>\n",
       "            <td>19128   </td> <td>4191                </td> <td>18826           </td> <td>2022-01-25 16:00:02</td>\n",
       "        </tr>\n",
       "    </tbody>\n",
       "</table>\n",
       "<p>... (36 rows omitted)</p>"
      ],
      "text/plain": [
       "zip_code | partially_vaccinated | fully_vaccinated | etl_timestamp\n",
       "19138    | 3147                 | 14836            | 2022-01-25 16:00:02\n",
       "19125    | 4407                 | 15101            | 2022-01-25 16:00:02\n",
       "19144    | 5030                 | 20783            | 2022-01-25 16:00:02\n",
       "19152    | 4623                 | 19969            | 2022-01-25 16:00:02\n",
       "19153    | 1149                 | 6060             | 2022-01-25 16:00:02\n",
       "19133    | 3408                 | 12500            | 2022-01-25 16:00:02\n",
       "19126    | 1709                 | 7609             | 2022-01-25 16:00:02\n",
       "19119    | 3738                 | 15663            | 2022-01-25 16:00:02\n",
       "19120    | 8310                 | 33702            | 2022-01-25 16:00:02\n",
       "19128    | 4191                 | 18826            | 2022-01-25 16:00:02\n",
       "... (36 rows omitted)"
      ]
     },
     "execution_count": 2,
     "metadata": {},
     "output_type": "execute_result"
    }
   ],
   "source": [
    "url = \"https://phl.carto.com/api/v2/sql?filename=covid_vaccines_by_zip&format=csv&skipfields=cartodb_id,the_geom,the_geom_webmercator&q=SELECT%20*%20FROM%20covid_vaccines_by_zip\"\n",
    "data_db = pd.read_csv(url) # Read data with pandas\n",
    "data = Table.from_df(data_db) # Create datascience Table object\n",
    "data"
   ]
  },
  {
   "cell_type": "code",
   "execution_count": 3,
   "metadata": {},
   "outputs": [
    {
     "data": {
      "text/html": [
       "<table border=\"1\" class=\"dataframe\">\n",
       "    <thead>\n",
       "        <tr>\n",
       "            <th>zip_code</th> <th>partially_vaccinated</th> <th>fully_vaccinated</th> <th>etl_timestamp</th>\n",
       "        </tr>\n",
       "    </thead>\n",
       "    <tbody>\n",
       "        <tr>\n",
       "            <td>19149   </td> <td>9334                </td> <td>32122           </td> <td>2022-01-25 16:00:02</td>\n",
       "        </tr>\n",
       "        <tr>\n",
       "            <td>19104   </td> <td>9237                </td> <td>28689           </td> <td>2022-01-25 16:00:02</td>\n",
       "        </tr>\n",
       "        <tr>\n",
       "            <td>19120   </td> <td>8310                </td> <td>33702           </td> <td>2022-01-25 16:00:02</td>\n",
       "        </tr>\n",
       "        <tr>\n",
       "            <td>19148   </td> <td>8091                </td> <td>33941           </td> <td>2022-01-25 16:00:02</td>\n",
       "        </tr>\n",
       "        <tr>\n",
       "            <td>19124   </td> <td>7553                </td> <td>33034           </td> <td>2022-01-25 16:00:02</td>\n",
       "        </tr>\n",
       "        <tr>\n",
       "            <td>19147   </td> <td>7277                </td> <td>27063           </td> <td>2022-01-25 16:00:02</td>\n",
       "        </tr>\n",
       "        <tr>\n",
       "            <td>19111   </td> <td>7154                </td> <td>34157           </td> <td>2022-01-25 16:00:02</td>\n",
       "        </tr>\n",
       "        <tr>\n",
       "            <td>19143   </td> <td>7033                </td> <td>31854           </td> <td>2022-01-25 16:00:02</td>\n",
       "        </tr>\n",
       "        <tr>\n",
       "            <td>19134   </td> <td>6994                </td> <td>27871           </td> <td>2022-01-25 16:00:02</td>\n",
       "        </tr>\n",
       "        <tr>\n",
       "            <td>19146   </td> <td>6636                </td> <td>27409           </td> <td>2022-01-25 16:00:02</td>\n",
       "        </tr>\n",
       "    </tbody>\n",
       "</table>\n",
       "<p>... (36 rows omitted)</p>"
      ],
      "text/plain": [
       "zip_code | partially_vaccinated | fully_vaccinated | etl_timestamp\n",
       "19149    | 9334                 | 32122            | 2022-01-25 16:00:02\n",
       "19104    | 9237                 | 28689            | 2022-01-25 16:00:02\n",
       "19120    | 8310                 | 33702            | 2022-01-25 16:00:02\n",
       "19148    | 8091                 | 33941            | 2022-01-25 16:00:02\n",
       "19124    | 7553                 | 33034            | 2022-01-25 16:00:02\n",
       "19147    | 7277                 | 27063            | 2022-01-25 16:00:02\n",
       "19111    | 7154                 | 34157            | 2022-01-25 16:00:02\n",
       "19143    | 7033                 | 31854            | 2022-01-25 16:00:02\n",
       "19134    | 6994                 | 27871            | 2022-01-25 16:00:02\n",
       "19146    | 6636                 | 27409            | 2022-01-25 16:00:02\n",
       "... (36 rows omitted)"
      ]
     },
     "execution_count": 3,
     "metadata": {},
     "output_type": "execute_result"
    }
   ],
   "source": [
    "data.sort(1,descending=True) # the Table sort method, columns are labelled 0,1,2,..."
   ]
  },
  {
   "cell_type": "code",
   "execution_count": 4,
   "metadata": {},
   "outputs": [
    {
     "data": {
      "text/plain": [
       "('zip_code', 'partially_vaccinated', 'fully_vaccinated', 'etl_timestamp')"
      ]
     },
     "execution_count": 4,
     "metadata": {},
     "output_type": "execute_result"
    }
   ],
   "source": [
    "data.labels # Displays labels"
   ]
  },
  {
   "cell_type": "code",
   "execution_count": 5,
   "metadata": {},
   "outputs": [
    {
     "data": {
      "text/html": [
       "<table border=\"1\" class=\"dataframe\">\n",
       "    <thead>\n",
       "        <tr>\n",
       "            <th>zip</th> <th>city</th> <th>county</th> <th>pop</th>\n",
       "        </tr>\n",
       "    </thead>\n",
       "    <tbody>\n",
       "        <tr>\n",
       "            <td>19120</td> <td>Philadelphia</td> <td>Philadelphia</td> <td>74060</td>\n",
       "        </tr>\n",
       "        <tr>\n",
       "            <td>19124</td> <td>Philadelphia</td> <td>Philadelphia</td> <td>70304</td>\n",
       "        </tr>\n",
       "        <tr>\n",
       "            <td>19111</td> <td>Philadelphia</td> <td>Philadelphia</td> <td>68113</td>\n",
       "        </tr>\n",
       "        <tr>\n",
       "            <td>19143</td> <td>Philadelphia</td> <td>Philadelphia</td> <td>64630</td>\n",
       "        </tr>\n",
       "        <tr>\n",
       "            <td>17603</td> <td>Lancaster   </td> <td>Lancaster   </td> <td>64242</td>\n",
       "        </tr>\n",
       "        <tr>\n",
       "            <td>19134</td> <td>Philadelphia</td> <td>Philadelphia</td> <td>62087</td>\n",
       "        </tr>\n",
       "        <tr>\n",
       "            <td>19149</td> <td>Philadelphia</td> <td>Philadelphia</td> <td>58055</td>\n",
       "        </tr>\n",
       "        <tr>\n",
       "            <td>15601</td> <td>Greensburg  </td> <td>Westmoreland</td> <td>56955</td>\n",
       "        </tr>\n",
       "        <tr>\n",
       "            <td>19446</td> <td>Lansdale    </td> <td>Montgomery  </td> <td>56720</td>\n",
       "        </tr>\n",
       "        <tr>\n",
       "            <td>19382</td> <td>West Chester</td> <td>Chester     </td> <td>55036</td>\n",
       "        </tr>\n",
       "    </tbody>\n",
       "</table>\n",
       "<p>... (1782 rows omitted)</p>"
      ],
      "text/plain": [
       "zip   | city         | county       | pop\n",
       "19120 | Philadelphia | Philadelphia | 74060\n",
       "19124 | Philadelphia | Philadelphia | 70304\n",
       "19111 | Philadelphia | Philadelphia | 68113\n",
       "19143 | Philadelphia | Philadelphia | 64630\n",
       "17603 | Lancaster    | Lancaster    | 64242\n",
       "19134 | Philadelphia | Philadelphia | 62087\n",
       "19149 | Philadelphia | Philadelphia | 58055\n",
       "15601 | Greensburg   | Westmoreland | 56955\n",
       "19446 | Lansdale     | Montgomery   | 56720\n",
       "19382 | West Chester | Chester      | 55036\n",
       "... (1782 rows omitted)"
      ]
     },
     "execution_count": 5,
     "metadata": {},
     "output_type": "execute_result"
    }
   ],
   "source": [
    "url = \"https://raw.githubusercontent.com/DataScienceTempleFirst/code-cod/main/PA_zip_pop.csv\"\n",
    "zipdata = Table.read_table(url)\n",
    "zipdata.sort(\"pop\",descending=True)"
   ]
  },
  {
   "cell_type": "code",
   "execution_count": 6,
   "metadata": {},
   "outputs": [
    {
     "data": {
      "text/html": [
       "<table border=\"1\" class=\"dataframe\">\n",
       "    <thead>\n",
       "        <tr>\n",
       "            <th>zip</th> <th>city</th> <th>county</th> <th>pop</th>\n",
       "        </tr>\n",
       "    </thead>\n",
       "    <tbody>\n",
       "        <tr>\n",
       "            <td>19138</td> <td>Philadelphia</td> <td>Philadelphia</td> <td>32766</td>\n",
       "        </tr>\n",
       "    </tbody>\n",
       "</table>"
      ],
      "text/plain": [
       "zip   | city         | county       | pop\n",
       "19138 | Philadelphia | Philadelphia | 32766"
      ]
     },
     "execution_count": 6,
     "metadata": {},
     "output_type": "execute_result"
    }
   ],
   "source": [
    "zipdata.where('zip',19138)"
   ]
  },
  {
   "cell_type": "code",
   "execution_count": 7,
   "metadata": {},
   "outputs": [
    {
     "data": {
      "text/html": [
       "<table border=\"1\" class=\"dataframe\">\n",
       "    <thead>\n",
       "        <tr>\n",
       "            <th>zip_code</th> <th>partially_vaccinated</th> <th>fully_vaccinated</th> <th>etl_timestamp</th> <th>city</th> <th>county</th> <th>pop</th>\n",
       "        </tr>\n",
       "    </thead>\n",
       "    <tbody>\n",
       "        <tr>\n",
       "            <td>19102   </td> <td>1475                </td> <td>3862            </td> <td>2022-01-25 16:00:02</td> <td>Philadelphia</td> <td>Philadelphia</td> <td>5147 </td>\n",
       "        </tr>\n",
       "        <tr>\n",
       "            <td>19103   </td> <td>5954                </td> <td>16826           </td> <td>2022-01-25 16:00:02</td> <td>Philadelphia</td> <td>Philadelphia</td> <td>24214</td>\n",
       "        </tr>\n",
       "        <tr>\n",
       "            <td>19104   </td> <td>9237                </td> <td>28689           </td> <td>2022-01-25 16:00:02</td> <td>Philadelphia</td> <td>Philadelphia</td> <td>53560</td>\n",
       "        </tr>\n",
       "        <tr>\n",
       "            <td>19106   </td> <td>2493                </td> <td>7967            </td> <td>2022-01-25 16:00:02</td> <td>Philadelphia</td> <td>Philadelphia</td> <td>12592</td>\n",
       "        </tr>\n",
       "        <tr>\n",
       "            <td>19107   </td> <td>3575                </td> <td>10745           </td> <td>2022-01-25 16:00:02</td> <td>Philadelphia</td> <td>Philadelphia</td> <td>14526</td>\n",
       "        </tr>\n",
       "        <tr>\n",
       "            <td>19111   </td> <td>7154                </td> <td>34157           </td> <td>2022-01-25 16:00:02</td> <td>Philadelphia</td> <td>Philadelphia</td> <td>68113</td>\n",
       "        </tr>\n",
       "        <tr>\n",
       "            <td>19114   </td> <td>3387                </td> <td>16546           </td> <td>2022-01-25 16:00:02</td> <td>Philadelphia</td> <td>Philadelphia</td> <td>31668</td>\n",
       "        </tr>\n",
       "        <tr>\n",
       "            <td>19115   </td> <td>3567                </td> <td>18580           </td> <td>2022-01-25 16:00:02</td> <td>Philadelphia</td> <td>Philadelphia</td> <td>35346</td>\n",
       "        </tr>\n",
       "        <tr>\n",
       "            <td>19116   </td> <td>3192                </td> <td>15387           </td> <td>2022-01-25 16:00:02</td> <td>Philadelphia</td> <td>Philadelphia</td> <td>34747</td>\n",
       "        </tr>\n",
       "        <tr>\n",
       "            <td>19118   </td> <td>1195                </td> <td>5163            </td> <td>2022-01-25 16:00:02</td> <td>Philadelphia</td> <td>Philadelphia</td> <td>10884</td>\n",
       "        </tr>\n",
       "    </tbody>\n",
       "</table>\n",
       "<p>... (36 rows omitted)</p>"
      ],
      "text/plain": [
       "zip_code | partially_vaccinated | fully_vaccinated | etl_timestamp       | city         | county       | pop\n",
       "19102    | 1475                 | 3862             | 2022-01-25 16:00:02 | Philadelphia | Philadelphia | 5147\n",
       "19103    | 5954                 | 16826            | 2022-01-25 16:00:02 | Philadelphia | Philadelphia | 24214\n",
       "19104    | 9237                 | 28689            | 2022-01-25 16:00:02 | Philadelphia | Philadelphia | 53560\n",
       "19106    | 2493                 | 7967             | 2022-01-25 16:00:02 | Philadelphia | Philadelphia | 12592\n",
       "19107    | 3575                 | 10745            | 2022-01-25 16:00:02 | Philadelphia | Philadelphia | 14526\n",
       "19111    | 7154                 | 34157            | 2022-01-25 16:00:02 | Philadelphia | Philadelphia | 68113\n",
       "19114    | 3387                 | 16546            | 2022-01-25 16:00:02 | Philadelphia | Philadelphia | 31668\n",
       "19115    | 3567                 | 18580            | 2022-01-25 16:00:02 | Philadelphia | Philadelphia | 35346\n",
       "19116    | 3192                 | 15387            | 2022-01-25 16:00:02 | Philadelphia | Philadelphia | 34747\n",
       "19118    | 1195                 | 5163             | 2022-01-25 16:00:02 | Philadelphia | Philadelphia | 10884\n",
       "... (36 rows omitted)"
      ]
     },
     "execution_count": 7,
     "metadata": {},
     "output_type": "execute_result"
    }
   ],
   "source": [
    "data=data.join('zip_code',zipdata,'zip') # Join two tables to get population\n",
    "data"
   ]
  },
  {
   "cell_type": "markdown",
   "metadata": {},
   "source": [
    "#### Add column with % vaxed"
   ]
  },
  {
   "cell_type": "code",
   "execution_count": 8,
   "metadata": {},
   "outputs": [],
   "source": [
    "data = data.with_column('percent vax',data.column('fully_vaccinated')/data.column('pop')).sort('percent vax',descending=True)"
   ]
  },
  {
   "cell_type": "code",
   "execution_count": 9,
   "metadata": {},
   "outputs": [
    {
     "data": {
      "text/html": [
       "<table border=\"1\" class=\"dataframe\">\n",
       "    <thead>\n",
       "        <tr>\n",
       "            <th>zip_code</th> <th>partially_vaccinated</th> <th>fully_vaccinated</th> <th>etl_timestamp</th> <th>city</th> <th>county</th> <th>pop</th> <th>percent vax</th>\n",
       "        </tr>\n",
       "    </thead>\n",
       "    <tbody>\n",
       "        <tr>\n",
       "            <td>19102   </td> <td>1475                </td> <td>3862            </td> <td>2022-01-25 16:00:02</td> <td>Philadelphia</td> <td>Philadelphia</td> <td>5147 </td> <td>0.75034    </td>\n",
       "        </tr>\n",
       "        <tr>\n",
       "            <td>19107   </td> <td>3575                </td> <td>10745           </td> <td>2022-01-25 16:00:02</td> <td>Philadelphia</td> <td>Philadelphia</td> <td>14526</td> <td>0.739708   </td>\n",
       "        </tr>\n",
       "        <tr>\n",
       "            <td>19147   </td> <td>7277                </td> <td>27063           </td> <td>2022-01-25 16:00:02</td> <td>Philadelphia</td> <td>Philadelphia</td> <td>38472</td> <td>0.703447   </td>\n",
       "        </tr>\n",
       "        <tr>\n",
       "            <td>19146   </td> <td>6636                </td> <td>27409           </td> <td>2022-01-25 16:00:02</td> <td>Philadelphia</td> <td>Philadelphia</td> <td>39282</td> <td>0.69775    </td>\n",
       "        </tr>\n",
       "        <tr>\n",
       "            <td>19103   </td> <td>5954                </td> <td>16826           </td> <td>2022-01-25 16:00:02</td> <td>Philadelphia</td> <td>Philadelphia</td> <td>24214</td> <td>0.694887   </td>\n",
       "        </tr>\n",
       "        <tr>\n",
       "            <td>19148   </td> <td>8091                </td> <td>33941           </td> <td>2022-01-25 16:00:02</td> <td>Philadelphia</td> <td>Philadelphia</td> <td>52259</td> <td>0.649477   </td>\n",
       "        </tr>\n",
       "        <tr>\n",
       "            <td>19130   </td> <td>5700                </td> <td>17587           </td> <td>2022-01-25 16:00:02</td> <td>Philadelphia</td> <td>Philadelphia</td> <td>27093</td> <td>0.649134   </td>\n",
       "        </tr>\n",
       "        <tr>\n",
       "            <td>19106   </td> <td>2493                </td> <td>7967            </td> <td>2022-01-25 16:00:02</td> <td>Philadelphia</td> <td>Philadelphia</td> <td>12592</td> <td>0.632703   </td>\n",
       "        </tr>\n",
       "        <tr>\n",
       "            <td>19123   </td> <td>3490                </td> <td>10772           </td> <td>2022-01-25 16:00:02</td> <td>Philadelphia</td> <td>Philadelphia</td> <td>17351</td> <td>0.620829   </td>\n",
       "        </tr>\n",
       "        <tr>\n",
       "            <td>19145   </td> <td>6171                </td> <td>28573           </td> <td>2022-01-25 16:00:02</td> <td>Philadelphia</td> <td>Philadelphia</td> <td>46052</td> <td>0.620451   </td>\n",
       "        </tr>\n",
       "    </tbody>\n",
       "</table>\n",
       "<p>... (36 rows omitted)</p>"
      ],
      "text/plain": [
       "zip_code | partially_vaccinated | fully_vaccinated | etl_timestamp       | city         | county       | pop   | percent vax\n",
       "19102    | 1475                 | 3862             | 2022-01-25 16:00:02 | Philadelphia | Philadelphia | 5147  | 0.75034\n",
       "19107    | 3575                 | 10745            | 2022-01-25 16:00:02 | Philadelphia | Philadelphia | 14526 | 0.739708\n",
       "19147    | 7277                 | 27063            | 2022-01-25 16:00:02 | Philadelphia | Philadelphia | 38472 | 0.703447\n",
       "19146    | 6636                 | 27409            | 2022-01-25 16:00:02 | Philadelphia | Philadelphia | 39282 | 0.69775\n",
       "19103    | 5954                 | 16826            | 2022-01-25 16:00:02 | Philadelphia | Philadelphia | 24214 | 0.694887\n",
       "19148    | 8091                 | 33941            | 2022-01-25 16:00:02 | Philadelphia | Philadelphia | 52259 | 0.649477\n",
       "19130    | 5700                 | 17587            | 2022-01-25 16:00:02 | Philadelphia | Philadelphia | 27093 | 0.649134\n",
       "19106    | 2493                 | 7967             | 2022-01-25 16:00:02 | Philadelphia | Philadelphia | 12592 | 0.632703\n",
       "19123    | 3490                 | 10772            | 2022-01-25 16:00:02 | Philadelphia | Philadelphia | 17351 | 0.620829\n",
       "19145    | 6171                 | 28573            | 2022-01-25 16:00:02 | Philadelphia | Philadelphia | 46052 | 0.620451\n",
       "... (36 rows omitted)"
      ]
     },
     "execution_count": 9,
     "metadata": {},
     "output_type": "execute_result"
    }
   ],
   "source": [
    "data"
   ]
  },
  {
   "cell_type": "code",
   "execution_count": 10,
   "metadata": {},
   "outputs": [
    {
     "data": {
      "text/html": [
       "<table border=\"1\" class=\"dataframe\">\n",
       "    <thead>\n",
       "        <tr>\n",
       "            <th>zip_code</th> <th>partially_vaccinated</th> <th>fully_vaccinated</th> <th>etl_timestamp</th>\n",
       "        </tr>\n",
       "    </thead>\n",
       "    <tbody>\n",
       "        <tr>\n",
       "            <td>19138   </td> <td>3147                </td> <td>14836           </td> <td>2022-01-25 16:00:02</td>\n",
       "        </tr>\n",
       "        <tr>\n",
       "            <td>19125   </td> <td>4407                </td> <td>15101           </td> <td>2022-01-25 16:00:02</td>\n",
       "        </tr>\n",
       "        <tr>\n",
       "            <td>19144   </td> <td>5030                </td> <td>20783           </td> <td>2022-01-25 16:00:02</td>\n",
       "        </tr>\n",
       "        <tr>\n",
       "            <td>19152   </td> <td>4623                </td> <td>19969           </td> <td>2022-01-25 16:00:02</td>\n",
       "        </tr>\n",
       "        <tr>\n",
       "            <td>19153   </td> <td>1149                </td> <td>6060            </td> <td>2022-01-25 16:00:02</td>\n",
       "        </tr>\n",
       "        <tr>\n",
       "            <td>19133   </td> <td>3408                </td> <td>12500           </td> <td>2022-01-25 16:00:02</td>\n",
       "        </tr>\n",
       "        <tr>\n",
       "            <td>19126   </td> <td>1709                </td> <td>7609            </td> <td>2022-01-25 16:00:02</td>\n",
       "        </tr>\n",
       "        <tr>\n",
       "            <td>19119   </td> <td>3738                </td> <td>15663           </td> <td>2022-01-25 16:00:02</td>\n",
       "        </tr>\n",
       "        <tr>\n",
       "            <td>19120   </td> <td>8310                </td> <td>33702           </td> <td>2022-01-25 16:00:02</td>\n",
       "        </tr>\n",
       "        <tr>\n",
       "            <td>19128   </td> <td>4191                </td> <td>18826           </td> <td>2022-01-25 16:00:02</td>\n",
       "        </tr>\n",
       "    </tbody>\n",
       "</table>\n",
       "<p>... (36 rows omitted)</p>"
      ],
      "text/plain": [
       "zip_code | partially_vaccinated | fully_vaccinated | etl_timestamp\n",
       "19138    | 3147                 | 14836            | 2022-01-25 16:00:02\n",
       "19125    | 4407                 | 15101            | 2022-01-25 16:00:02\n",
       "19144    | 5030                 | 20783            | 2022-01-25 16:00:02\n",
       "19152    | 4623                 | 19969            | 2022-01-25 16:00:02\n",
       "19153    | 1149                 | 6060             | 2022-01-25 16:00:02\n",
       "19133    | 3408                 | 12500            | 2022-01-25 16:00:02\n",
       "19126    | 1709                 | 7609             | 2022-01-25 16:00:02\n",
       "19119    | 3738                 | 15663            | 2022-01-25 16:00:02\n",
       "19120    | 8310                 | 33702            | 2022-01-25 16:00:02\n",
       "19128    | 4191                 | 18826            | 2022-01-25 16:00:02\n",
       "... (36 rows omitted)"
      ]
     },
     "execution_count": 10,
     "metadata": {},
     "output_type": "execute_result"
    }
   ],
   "source": [
    "url = \"https://phl.carto.com/api/v2/sql?filename=covid_vaccines_by_zip&format=csv&skipfields=cartodb_id,the_geom,the_geom_webmercator&q=SELECT%20*%20FROM%20covid_vaccines_by_zip\"\n",
    "\n",
    "data = Table.read_table(url) # Create datascience Table oject\n",
    "data"
   ]
  },
  {
   "cell_type": "code",
   "execution_count": null,
   "metadata": {},
   "outputs": [],
   "source": []
  }
 ],
 "metadata": {
  "kernelspec": {
   "display_name": "Python 3",
   "language": "python",
   "name": "python3"
  },
  "language_info": {
   "codemirror_mode": {
    "name": "ipython",
    "version": 3
   },
   "file_extension": ".py",
   "mimetype": "text/x-python",
   "name": "python",
   "nbconvert_exporter": "python",
   "pygments_lexer": "ipython3",
   "version": "3.7.7"
  }
 },
 "nbformat": 4,
 "nbformat_minor": 4
}
