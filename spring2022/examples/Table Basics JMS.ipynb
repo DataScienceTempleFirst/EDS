{
 "cells": [
  {
   "cell_type": "markdown",
   "metadata": {},
   "source": [
    "### Datascience Table\n",
    "\n",
    "|Method name|Value|\n",
    "|-|-|\n",
    "|`read_table(url)`|create table object and read data from url or file |\n",
    "|`sort(col,descending=True`|sort table by column labeled/numbered col|\n",
    "|`labels`|list column labels|\n",
    "|`join(col1,table2,col2)`|join two tables using col1 from first joined by matching col2 in table2|\n",
    "|`where(col,value)`|select rows where col = value|\n"
   ]
  },
  {
   "cell_type": "code",
   "execution_count": 1,
   "metadata": {},
   "outputs": [],
   "source": [
    "from datascience import *  # Import new data manipulation functionality"
   ]
  },
  {
   "cell_type": "code",
   "execution_count": 2,
   "metadata": {},
   "outputs": [
    {
     "data": {
      "text/html": [
       "<table border=\"1\" class=\"dataframe\">\n",
       "    <thead>\n",
       "        <tr>\n",
       "            <th>zip_code</th> <th>partially_vaccinated</th> <th>fully_vaccinated</th> <th>etl_timestamp</th>\n",
       "        </tr>\n",
       "    </thead>\n",
       "    <tbody>\n",
       "        <tr>\n",
       "            <td>19138   </td> <td>3131                </td> <td>14787           </td> <td>2022-01-24 16:00:02</td>\n",
       "        </tr>\n",
       "        <tr>\n",
       "            <td>19125   </td> <td>4408                </td> <td>15057           </td> <td>2022-01-24 16:00:02</td>\n",
       "        </tr>\n",
       "        <tr>\n",
       "            <td>19144   </td> <td>5007                </td> <td>20737           </td> <td>2022-01-24 16:00:02</td>\n",
       "        </tr>\n",
       "        <tr>\n",
       "            <td>19152   </td> <td>4620                </td> <td>19898           </td> <td>2022-01-24 16:00:02</td>\n",
       "        </tr>\n",
       "        <tr>\n",
       "            <td>19153   </td> <td>1143                </td> <td>6039            </td> <td>2022-01-24 16:00:02</td>\n",
       "        </tr>\n",
       "        <tr>\n",
       "            <td>19133   </td> <td>3414                </td> <td>12469           </td> <td>2022-01-24 16:00:02</td>\n",
       "        </tr>\n",
       "        <tr>\n",
       "            <td>19126   </td> <td>1717                </td> <td>7595            </td> <td>2022-01-24 16:00:02</td>\n",
       "        </tr>\n",
       "        <tr>\n",
       "            <td>19119   </td> <td>3743                </td> <td>15589           </td> <td>2022-01-24 16:00:02</td>\n",
       "        </tr>\n",
       "        <tr>\n",
       "            <td>19120   </td> <td>8286                </td> <td>33592           </td> <td>2022-01-24 16:00:02</td>\n",
       "        </tr>\n",
       "        <tr>\n",
       "            <td>19128   </td> <td>4160                </td> <td>18710           </td> <td>2022-01-24 16:00:02</td>\n",
       "        </tr>\n",
       "    </tbody>\n",
       "</table>\n",
       "<p>... (36 rows omitted)</p>"
      ],
      "text/plain": [
       "zip_code | partially_vaccinated | fully_vaccinated | etl_timestamp\n",
       "19138    | 3131                 | 14787            | 2022-01-24 16:00:02\n",
       "19125    | 4408                 | 15057            | 2022-01-24 16:00:02\n",
       "19144    | 5007                 | 20737            | 2022-01-24 16:00:02\n",
       "19152    | 4620                 | 19898            | 2022-01-24 16:00:02\n",
       "19153    | 1143                 | 6039             | 2022-01-24 16:00:02\n",
       "19133    | 3414                 | 12469            | 2022-01-24 16:00:02\n",
       "19126    | 1717                 | 7595             | 2022-01-24 16:00:02\n",
       "19119    | 3743                 | 15589            | 2022-01-24 16:00:02\n",
       "19120    | 8286                 | 33592            | 2022-01-24 16:00:02\n",
       "19128    | 4160                 | 18710            | 2022-01-24 16:00:02\n",
       "... (36 rows omitted)"
      ]
     },
     "execution_count": 2,
     "metadata": {},
     "output_type": "execute_result"
    }
   ],
   "source": [
    "url = \"https://phl.carto.com/api/v2/sql?filename=covid_vaccines_by_zip&format=csv&skipfields=cartodb_id,the_geom,the_geom_webmercator&q=SELECT%20*%20FROM%20covid_vaccines_by_zip\"\n",
    "\n",
    "data = Table.read_table(url) # Create datascience Table object\n",
    "data"
   ]
  },
  {
   "cell_type": "code",
   "execution_count": 3,
   "metadata": {},
   "outputs": [
    {
     "data": {
      "text/html": [
       "<table border=\"1\" class=\"dataframe\">\n",
       "    <thead>\n",
       "        <tr>\n",
       "            <th>zip_code</th> <th>partially_vaccinated</th> <th>fully_vaccinated</th> <th>etl_timestamp</th>\n",
       "        </tr>\n",
       "    </thead>\n",
       "    <tbody>\n",
       "        <tr>\n",
       "            <td>19149   </td> <td>9319                </td> <td>32041           </td> <td>2022-01-24 16:00:02</td>\n",
       "        </tr>\n",
       "        <tr>\n",
       "            <td>19104   </td> <td>9131                </td> <td>28520           </td> <td>2022-01-24 16:00:02</td>\n",
       "        </tr>\n",
       "        <tr>\n",
       "            <td>19120   </td> <td>8286                </td> <td>33592           </td> <td>2022-01-24 16:00:02</td>\n",
       "        </tr>\n",
       "        <tr>\n",
       "            <td>19148   </td> <td>8071                </td> <td>33880           </td> <td>2022-01-24 16:00:02</td>\n",
       "        </tr>\n",
       "        <tr>\n",
       "            <td>19124   </td> <td>7532                </td> <td>32926           </td> <td>2022-01-24 16:00:02</td>\n",
       "        </tr>\n",
       "        <tr>\n",
       "            <td>19147   </td> <td>7244                </td> <td>26936           </td> <td>2022-01-24 16:00:02</td>\n",
       "        </tr>\n",
       "        <tr>\n",
       "            <td>19111   </td> <td>7144                </td> <td>34078           </td> <td>2022-01-24 16:00:02</td>\n",
       "        </tr>\n",
       "        <tr>\n",
       "            <td>19143   </td> <td>7017                </td> <td>31798           </td> <td>2022-01-24 16:00:02</td>\n",
       "        </tr>\n",
       "        <tr>\n",
       "            <td>19134   </td> <td>6971                </td> <td>27838           </td> <td>2022-01-24 16:00:02</td>\n",
       "        </tr>\n",
       "        <tr>\n",
       "            <td>19146   </td> <td>6629                </td> <td>27282           </td> <td>2022-01-24 16:00:02</td>\n",
       "        </tr>\n",
       "    </tbody>\n",
       "</table>\n",
       "<p>... (36 rows omitted)</p>"
      ],
      "text/plain": [
       "zip_code | partially_vaccinated | fully_vaccinated | etl_timestamp\n",
       "19149    | 9319                 | 32041            | 2022-01-24 16:00:02\n",
       "19104    | 9131                 | 28520            | 2022-01-24 16:00:02\n",
       "19120    | 8286                 | 33592            | 2022-01-24 16:00:02\n",
       "19148    | 8071                 | 33880            | 2022-01-24 16:00:02\n",
       "19124    | 7532                 | 32926            | 2022-01-24 16:00:02\n",
       "19147    | 7244                 | 26936            | 2022-01-24 16:00:02\n",
       "19111    | 7144                 | 34078            | 2022-01-24 16:00:02\n",
       "19143    | 7017                 | 31798            | 2022-01-24 16:00:02\n",
       "19134    | 6971                 | 27838            | 2022-01-24 16:00:02\n",
       "19146    | 6629                 | 27282            | 2022-01-24 16:00:02\n",
       "... (36 rows omitted)"
      ]
     },
     "execution_count": 3,
     "metadata": {},
     "output_type": "execute_result"
    }
   ],
   "source": [
    "data.sort(1,descending=True) # the Table sort method, columns are labelled 0,1,2,..."
   ]
  },
  {
   "cell_type": "code",
   "execution_count": 4,
   "metadata": {},
   "outputs": [
    {
     "data": {
      "text/plain": [
       "('zip_code', 'partially_vaccinated', 'fully_vaccinated', 'etl_timestamp')"
      ]
     },
     "execution_count": 4,
     "metadata": {},
     "output_type": "execute_result"
    }
   ],
   "source": [
    "data.labels # Displays labels"
   ]
  },
  {
   "cell_type": "code",
   "execution_count": 13,
   "metadata": {},
   "outputs": [
    {
     "data": {
      "text/html": [
       "<table border=\"1\" class=\"dataframe\">\n",
       "    <thead>\n",
       "        <tr>\n",
       "            <th>zip</th> <th>city</th> <th>county</th> <th>pop</th>\n",
       "        </tr>\n",
       "    </thead>\n",
       "    <tbody>\n",
       "        <tr>\n",
       "            <td>19138</td> <td>Philadelphia</td> <td>Philadelphia</td> <td>32766</td>\n",
       "        </tr>\n",
       "    </tbody>\n",
       "</table>"
      ],
      "text/plain": [
       "zip   | city         | county       | pop\n",
       "19138 | Philadelphia | Philadelphia | 32766"
      ]
     },
     "execution_count": 13,
     "metadata": {},
     "output_type": "execute_result"
    }
   ],
   "source": [
    "url = \"https://raw.githubusercontent.com/DataScienceTempleFirst/code-cod/main/PA_zip_pop.csv\"\n",
    "zipdata = Table.read_table(url)\n",
    "zipdata.sort(\"pop\",descending=True)\n",
    "zipdata.where('zip',19138)"
   ]
  },
  {
   "cell_type": "code",
   "execution_count": 6,
   "metadata": {},
   "outputs": [
    {
     "data": {
      "text/html": [
       "<table border=\"1\" class=\"dataframe\">\n",
       "    <thead>\n",
       "        <tr>\n",
       "            <th>zip_code</th> <th>partially_vaccinated</th> <th>fully_vaccinated</th> <th>etl_timestamp</th> <th>city</th> <th>county</th> <th>pop</th>\n",
       "        </tr>\n",
       "    </thead>\n",
       "    <tbody>\n",
       "        <tr>\n",
       "            <td>19102   </td> <td>1476                </td> <td>3824            </td> <td>2022-01-24 16:00:02</td> <td>Philadelphia</td> <td>Philadelphia</td> <td>5147 </td>\n",
       "        </tr>\n",
       "        <tr>\n",
       "            <td>19103   </td> <td>5918                </td> <td>16705           </td> <td>2022-01-24 16:00:02</td> <td>Philadelphia</td> <td>Philadelphia</td> <td>24214</td>\n",
       "        </tr>\n",
       "        <tr>\n",
       "            <td>19104   </td> <td>9131                </td> <td>28520           </td> <td>2022-01-24 16:00:02</td> <td>Philadelphia</td> <td>Philadelphia</td> <td>53560</td>\n",
       "        </tr>\n",
       "        <tr>\n",
       "            <td>19106   </td> <td>2504                </td> <td>7923            </td> <td>2022-01-24 16:00:02</td> <td>Philadelphia</td> <td>Philadelphia</td> <td>12592</td>\n",
       "        </tr>\n",
       "        <tr>\n",
       "            <td>19107   </td> <td>3570                </td> <td>10644           </td> <td>2022-01-24 16:00:02</td> <td>Philadelphia</td> <td>Philadelphia</td> <td>14526</td>\n",
       "        </tr>\n",
       "        <tr>\n",
       "            <td>19111   </td> <td>7144                </td> <td>34078           </td> <td>2022-01-24 16:00:02</td> <td>Philadelphia</td> <td>Philadelphia</td> <td>68113</td>\n",
       "        </tr>\n",
       "        <tr>\n",
       "            <td>19114   </td> <td>3358                </td> <td>16531           </td> <td>2022-01-24 16:00:02</td> <td>Philadelphia</td> <td>Philadelphia</td> <td>31668</td>\n",
       "        </tr>\n",
       "        <tr>\n",
       "            <td>19115   </td> <td>3573                </td> <td>18550           </td> <td>2022-01-24 16:00:02</td> <td>Philadelphia</td> <td>Philadelphia</td> <td>35346</td>\n",
       "        </tr>\n",
       "        <tr>\n",
       "            <td>19116   </td> <td>3182                </td> <td>15310           </td> <td>2022-01-24 16:00:02</td> <td>Philadelphia</td> <td>Philadelphia</td> <td>34747</td>\n",
       "        </tr>\n",
       "        <tr>\n",
       "            <td>19118   </td> <td>1191                </td> <td>5128            </td> <td>2022-01-24 16:00:02</td> <td>Philadelphia</td> <td>Philadelphia</td> <td>10884</td>\n",
       "        </tr>\n",
       "    </tbody>\n",
       "</table>\n",
       "<p>... (36 rows omitted)</p>"
      ],
      "text/plain": [
       "zip_code | partially_vaccinated | fully_vaccinated | etl_timestamp       | city         | county       | pop\n",
       "19102    | 1476                 | 3824             | 2022-01-24 16:00:02 | Philadelphia | Philadelphia | 5147\n",
       "19103    | 5918                 | 16705            | 2022-01-24 16:00:02 | Philadelphia | Philadelphia | 24214\n",
       "19104    | 9131                 | 28520            | 2022-01-24 16:00:02 | Philadelphia | Philadelphia | 53560\n",
       "19106    | 2504                 | 7923             | 2022-01-24 16:00:02 | Philadelphia | Philadelphia | 12592\n",
       "19107    | 3570                 | 10644            | 2022-01-24 16:00:02 | Philadelphia | Philadelphia | 14526\n",
       "19111    | 7144                 | 34078            | 2022-01-24 16:00:02 | Philadelphia | Philadelphia | 68113\n",
       "19114    | 3358                 | 16531            | 2022-01-24 16:00:02 | Philadelphia | Philadelphia | 31668\n",
       "19115    | 3573                 | 18550            | 2022-01-24 16:00:02 | Philadelphia | Philadelphia | 35346\n",
       "19116    | 3182                 | 15310            | 2022-01-24 16:00:02 | Philadelphia | Philadelphia | 34747\n",
       "19118    | 1191                 | 5128             | 2022-01-24 16:00:02 | Philadelphia | Philadelphia | 10884\n",
       "... (36 rows omitted)"
      ]
     },
     "execution_count": 6,
     "metadata": {},
     "output_type": "execute_result"
    }
   ],
   "source": [
    "data=data.join('zip_code',zipdata,'zip') # Join two tables to get population\n",
    "data"
   ]
  },
  {
   "cell_type": "markdown",
   "metadata": {},
   "source": [
    "#### Add column with % vaxed"
   ]
  },
  {
   "cell_type": "code",
   "execution_count": 7,
   "metadata": {},
   "outputs": [],
   "source": [
    "data = data.with_column('percent vax',data.column('fully_vaccinated')/data.column('pop')).sort('percent vax',descending=True)"
   ]
  },
  {
   "cell_type": "code",
   "execution_count": 8,
   "metadata": {},
   "outputs": [
    {
     "data": {
      "text/html": [
       "<table border=\"1\" class=\"dataframe\">\n",
       "    <thead>\n",
       "        <tr>\n",
       "            <th>zip_code</th> <th>partially_vaccinated</th> <th>fully_vaccinated</th> <th>etl_timestamp</th> <th>city</th> <th>county</th> <th>pop</th> <th>percent vax</th>\n",
       "        </tr>\n",
       "    </thead>\n",
       "    <tbody>\n",
       "        <tr>\n",
       "            <td>19102   </td> <td>1476                </td> <td>3824            </td> <td>2022-01-24 16:00:02</td> <td>Philadelphia</td> <td>Philadelphia</td> <td>5147 </td> <td>0.742957   </td>\n",
       "        </tr>\n",
       "        <tr>\n",
       "            <td>19107   </td> <td>3570                </td> <td>10644           </td> <td>2022-01-24 16:00:02</td> <td>Philadelphia</td> <td>Philadelphia</td> <td>14526</td> <td>0.732755   </td>\n",
       "        </tr>\n",
       "        <tr>\n",
       "            <td>19147   </td> <td>7244                </td> <td>26936           </td> <td>2022-01-24 16:00:02</td> <td>Philadelphia</td> <td>Philadelphia</td> <td>38472</td> <td>0.700146   </td>\n",
       "        </tr>\n",
       "        <tr>\n",
       "            <td>19146   </td> <td>6629                </td> <td>27282           </td> <td>2022-01-24 16:00:02</td> <td>Philadelphia</td> <td>Philadelphia</td> <td>39282</td> <td>0.694517   </td>\n",
       "        </tr>\n",
       "        <tr>\n",
       "            <td>19103   </td> <td>5918                </td> <td>16705           </td> <td>2022-01-24 16:00:02</td> <td>Philadelphia</td> <td>Philadelphia</td> <td>24214</td> <td>0.68989    </td>\n",
       "        </tr>\n",
       "        <tr>\n",
       "            <td>19148   </td> <td>8071                </td> <td>33880           </td> <td>2022-01-24 16:00:02</td> <td>Philadelphia</td> <td>Philadelphia</td> <td>52259</td> <td>0.648309   </td>\n",
       "        </tr>\n",
       "        <tr>\n",
       "            <td>19130   </td> <td>5685                </td> <td>17474           </td> <td>2022-01-24 16:00:02</td> <td>Philadelphia</td> <td>Philadelphia</td> <td>27093</td> <td>0.644964   </td>\n",
       "        </tr>\n",
       "        <tr>\n",
       "            <td>19106   </td> <td>2504                </td> <td>7923            </td> <td>2022-01-24 16:00:02</td> <td>Philadelphia</td> <td>Philadelphia</td> <td>12592</td> <td>0.629209   </td>\n",
       "        </tr>\n",
       "        <tr>\n",
       "            <td>19145   </td> <td>6162                </td> <td>28537           </td> <td>2022-01-24 16:00:02</td> <td>Philadelphia</td> <td>Philadelphia</td> <td>46052</td> <td>0.619669   </td>\n",
       "        </tr>\n",
       "        <tr>\n",
       "            <td>19123   </td> <td>3496                </td> <td>10735           </td> <td>2022-01-24 16:00:02</td> <td>Philadelphia</td> <td>Philadelphia</td> <td>17351</td> <td>0.618696   </td>\n",
       "        </tr>\n",
       "    </tbody>\n",
       "</table>\n",
       "<p>... (36 rows omitted)</p>"
      ],
      "text/plain": [
       "zip_code | partially_vaccinated | fully_vaccinated | etl_timestamp       | city         | county       | pop   | percent vax\n",
       "19102    | 1476                 | 3824             | 2022-01-24 16:00:02 | Philadelphia | Philadelphia | 5147  | 0.742957\n",
       "19107    | 3570                 | 10644            | 2022-01-24 16:00:02 | Philadelphia | Philadelphia | 14526 | 0.732755\n",
       "19147    | 7244                 | 26936            | 2022-01-24 16:00:02 | Philadelphia | Philadelphia | 38472 | 0.700146\n",
       "19146    | 6629                 | 27282            | 2022-01-24 16:00:02 | Philadelphia | Philadelphia | 39282 | 0.694517\n",
       "19103    | 5918                 | 16705            | 2022-01-24 16:00:02 | Philadelphia | Philadelphia | 24214 | 0.68989\n",
       "19148    | 8071                 | 33880            | 2022-01-24 16:00:02 | Philadelphia | Philadelphia | 52259 | 0.648309\n",
       "19130    | 5685                 | 17474            | 2022-01-24 16:00:02 | Philadelphia | Philadelphia | 27093 | 0.644964\n",
       "19106    | 2504                 | 7923             | 2022-01-24 16:00:02 | Philadelphia | Philadelphia | 12592 | 0.629209\n",
       "19145    | 6162                 | 28537            | 2022-01-24 16:00:02 | Philadelphia | Philadelphia | 46052 | 0.619669\n",
       "19123    | 3496                 | 10735            | 2022-01-24 16:00:02 | Philadelphia | Philadelphia | 17351 | 0.618696\n",
       "... (36 rows omitted)"
      ]
     },
     "execution_count": 8,
     "metadata": {},
     "output_type": "execute_result"
    }
   ],
   "source": [
    "data"
   ]
  },
  {
   "cell_type": "code",
   "execution_count": 14,
   "metadata": {},
   "outputs": [
    {
     "data": {
      "text/html": [
       "<table border=\"1\" class=\"dataframe\">\n",
       "    <thead>\n",
       "        <tr>\n",
       "            <th>zip_code</th> <th>partially_vaccinated</th> <th>fully_vaccinated</th> <th>etl_timestamp</th>\n",
       "        </tr>\n",
       "    </thead>\n",
       "    <tbody>\n",
       "        <tr>\n",
       "            <td>19138   </td> <td>3147                </td> <td>14836           </td> <td>2022-01-25 16:00:02</td>\n",
       "        </tr>\n",
       "        <tr>\n",
       "            <td>19125   </td> <td>4407                </td> <td>15101           </td> <td>2022-01-25 16:00:02</td>\n",
       "        </tr>\n",
       "        <tr>\n",
       "            <td>19144   </td> <td>5030                </td> <td>20783           </td> <td>2022-01-25 16:00:02</td>\n",
       "        </tr>\n",
       "        <tr>\n",
       "            <td>19152   </td> <td>4623                </td> <td>19969           </td> <td>2022-01-25 16:00:02</td>\n",
       "        </tr>\n",
       "        <tr>\n",
       "            <td>19153   </td> <td>1149                </td> <td>6060            </td> <td>2022-01-25 16:00:02</td>\n",
       "        </tr>\n",
       "        <tr>\n",
       "            <td>19133   </td> <td>3408                </td> <td>12500           </td> <td>2022-01-25 16:00:02</td>\n",
       "        </tr>\n",
       "        <tr>\n",
       "            <td>19126   </td> <td>1709                </td> <td>7609            </td> <td>2022-01-25 16:00:02</td>\n",
       "        </tr>\n",
       "        <tr>\n",
       "            <td>19119   </td> <td>3738                </td> <td>15663           </td> <td>2022-01-25 16:00:02</td>\n",
       "        </tr>\n",
       "        <tr>\n",
       "            <td>19120   </td> <td>8310                </td> <td>33702           </td> <td>2022-01-25 16:00:02</td>\n",
       "        </tr>\n",
       "        <tr>\n",
       "            <td>19128   </td> <td>4191                </td> <td>18826           </td> <td>2022-01-25 16:00:02</td>\n",
       "        </tr>\n",
       "    </tbody>\n",
       "</table>\n",
       "<p>... (36 rows omitted)</p>"
      ],
      "text/plain": [
       "zip_code | partially_vaccinated | fully_vaccinated | etl_timestamp\n",
       "19138    | 3147                 | 14836            | 2022-01-25 16:00:02\n",
       "19125    | 4407                 | 15101            | 2022-01-25 16:00:02\n",
       "19144    | 5030                 | 20783            | 2022-01-25 16:00:02\n",
       "19152    | 4623                 | 19969            | 2022-01-25 16:00:02\n",
       "19153    | 1149                 | 6060             | 2022-01-25 16:00:02\n",
       "19133    | 3408                 | 12500            | 2022-01-25 16:00:02\n",
       "19126    | 1709                 | 7609             | 2022-01-25 16:00:02\n",
       "19119    | 3738                 | 15663            | 2022-01-25 16:00:02\n",
       "19120    | 8310                 | 33702            | 2022-01-25 16:00:02\n",
       "19128    | 4191                 | 18826            | 2022-01-25 16:00:02\n",
       "... (36 rows omitted)"
      ]
     },
     "execution_count": 14,
     "metadata": {},
     "output_type": "execute_result"
    }
   ],
   "source": [
    "url = \"https://phl.carto.com/api/v2/sql?filename=covid_vaccines_by_zip&format=csv&skipfields=cartodb_id,the_geom,the_geom_webmercator&q=SELECT%20*%20FROM%20covid_vaccines_by_zip\"\n",
    "\n",
    "data = Table.read_table(url) # Create datascience Table oject\n",
    "data"
   ]
  },
  {
   "cell_type": "code",
   "execution_count": null,
   "metadata": {},
   "outputs": [],
   "source": []
  }
 ],
 "metadata": {
  "kernelspec": {
   "display_name": "Python 3",
   "language": "python",
   "name": "python3"
  },
  "language_info": {
   "codemirror_mode": {
    "name": "ipython",
    "version": 3
   },
   "file_extension": ".py",
   "mimetype": "text/x-python",
   "name": "python",
   "nbconvert_exporter": "python",
   "pygments_lexer": "ipython3",
   "version": "3.7.7"
  }
 },
 "nbformat": 4,
 "nbformat_minor": 4
}
