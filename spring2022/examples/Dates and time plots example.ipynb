{
 "cells": [
  {
   "cell_type": "markdown",
   "metadata": {},
   "source": [
    "### Date and Time Functions and Plotting Time Series\n",
    "One thing that is more complicated then we would like but is a common need for a data scientist is encoding data and time. Computer operating systems like Windows and Linux use as a reference point or epoch January 1, 1970 and determine the number of seconds since midnight the start of 1970 to do time computations."
   ]
  },
  {
   "cell_type": "code",
   "execution_count": 9,
   "metadata": {},
   "outputs": [],
   "source": [
    "import numpy as np\n",
    "from datascience import *\n",
    "%matplotlib inline\n",
    "import matplotlib.pyplot as plt\n",
    "plt.style.use('fivethirtyeight')"
   ]
  },
  {
   "cell_type": "code",
   "execution_count": 10,
   "metadata": {},
   "outputs": [],
   "source": [
    "COVID_data = 'https://raw.githubusercontent.com/nytimes/covid-19-data/master/rolling-averages/us.csv'\n",
    "COVID=Table.read_table(COVID_data)\n",
    "COVID=COVID.set_format(0, DateFormatter(format='%Y-%m-%d',))"
   ]
  },
  {
   "cell_type": "markdown",
   "metadata": {},
   "source": [
    "Try to sort data by dates"
   ]
  },
  {
   "cell_type": "code",
   "execution_count": null,
   "metadata": {},
   "outputs": [],
   "source": []
  },
  {
   "cell_type": "code",
   "execution_count": 11,
   "metadata": {},
   "outputs": [
    {
     "data": {
      "text/html": [
       "<table border=\"1\" class=\"dataframe\">\n",
       "    <thead>\n",
       "        <tr>\n",
       "            <th>date</th> <th>geoid</th> <th>cases</th> <th>cases_avg</th> <th>cases_avg_per_100k</th> <th>deaths</th> <th>deaths_avg</th> <th>deaths_avg_per_100k</th>\n",
       "        </tr>\n",
       "    </thead>\n",
       "    <tbody>\n",
       "        <tr>\n",
       "            <td>2022-01-31</td> <td>USA  </td> <td>660923 </td> <td>456871   </td> <td>137.69            </td> <td>2568  </td> <td>2558.35   </td> <td>0.77               </td>\n",
       "        </tr>\n",
       "        <tr>\n",
       "            <td>2022-01-30</td> <td>USA  </td> <td>104085 </td> <td>519421   </td> <td>156.54            </td> <td>361   </td> <td>2534      </td> <td>0.76               </td>\n",
       "        </tr>\n",
       "        <tr>\n",
       "            <td>2022-01-29</td> <td>USA  </td> <td>246791 </td> <td>537169   </td> <td>161.89            </td> <td>1347  </td> <td>2571.46   </td> <td>0.77               </td>\n",
       "        </tr>\n",
       "        <tr>\n",
       "            <td>2022-01-28</td> <td>USA  </td> <td>550853 </td> <td>555076   </td> <td>167.29            </td> <td>3838  </td> <td>2529.58   </td> <td>0.76               </td>\n",
       "        </tr>\n",
       "        <tr>\n",
       "            <td>2022-01-27</td> <td>USA  </td> <td>529815 </td> <td>591020   </td> <td>178.12            </td> <td>3091  </td> <td>2531.25   </td> <td>0.76               </td>\n",
       "        </tr>\n",
       "        <tr>\n",
       "            <td>2022-01-26</td> <td>USA  </td> <td>686136 </td> <td>618231   </td> <td>186.32            </td> <td>3895  </td> <td>2465.59   </td> <td>0.74               </td>\n",
       "        </tr>\n",
       "        <tr>\n",
       "            <td>2022-01-25</td> <td>USA  </td> <td>510913 </td> <td>650010   </td> <td>195.9             </td> <td>2972  </td> <td>2362.33   </td> <td>0.71               </td>\n",
       "        </tr>\n",
       "        <tr>\n",
       "            <td>2022-01-24</td> <td>USA  </td> <td>1032159</td> <td>665800   </td> <td>200.66            </td> <td>2179  </td> <td>2083.18   </td> <td>0.63               </td>\n",
       "        </tr>\n",
       "        <tr>\n",
       "            <td>2022-01-23</td> <td>USA  </td> <td>199481 </td> <td>692438   </td> <td>208.68            </td> <td>571   </td> <td>2182.34   </td> <td>0.66               </td>\n",
       "        </tr>\n",
       "        <tr>\n",
       "            <td>2022-01-22</td> <td>USA  </td> <td>337384 </td> <td>705904   </td> <td>212.74            </td> <td>934   </td> <td>2152.34   </td> <td>0.65               </td>\n",
       "        </tr>\n",
       "    </tbody>\n",
       "</table>\n",
       "<p>... (732 rows omitted)</p>"
      ],
      "text/plain": [
       "date       | geoid | cases   | cases_avg | cases_avg_per_100k | deaths | deaths_avg | deaths_avg_per_100k\n",
       "2022-01-31 | USA   | 660923  | 456871    | 137.69             | 2568   | 2558.35    | 0.77\n",
       "2022-01-30 | USA   | 104085  | 519421    | 156.54             | 361    | 2534       | 0.76\n",
       "2022-01-29 | USA   | 246791  | 537169    | 161.89             | 1347   | 2571.46    | 0.77\n",
       "2022-01-28 | USA   | 550853  | 555076    | 167.29             | 3838   | 2529.58    | 0.76\n",
       "2022-01-27 | USA   | 529815  | 591020    | 178.12             | 3091   | 2531.25    | 0.76\n",
       "2022-01-26 | USA   | 686136  | 618231    | 186.32             | 3895   | 2465.59    | 0.74\n",
       "2022-01-25 | USA   | 510913  | 650010    | 195.9              | 2972   | 2362.33    | 0.71\n",
       "2022-01-24 | USA   | 1032159 | 665800    | 200.66             | 2179   | 2083.18    | 0.63\n",
       "2022-01-23 | USA   | 199481  | 692438    | 208.68             | 571    | 2182.34    | 0.66\n",
       "2022-01-22 | USA   | 337384  | 705904    | 212.74             | 934    | 2152.34    | 0.65\n",
       "... (732 rows omitted)"
      ]
     },
     "execution_count": 11,
     "metadata": {},
     "output_type": "execute_result"
    }
   ],
   "source": [
    "COVID.sort(\"date\",descending=True) # Why does this sort this way?"
   ]
  },
  {
   "cell_type": "code",
   "execution_count": null,
   "metadata": {},
   "outputs": [],
   "source": []
  },
  {
   "cell_type": "code",
   "execution_count": 12,
   "metadata": {},
   "outputs": [
    {
     "data": {
      "text/plain": [
       "1643723408.178895"
      ]
     },
     "execution_count": 12,
     "metadata": {},
     "output_type": "execute_result"
    }
   ],
   "source": [
    "import time                # Python time functions\n",
    "from time import strptime \n",
    "time.time() # Seconds since common epoch"
   ]
  },
  {
   "cell_type": "code",
   "execution_count": 15,
   "metadata": {},
   "outputs": [
    {
     "data": {
      "text/plain": [
       "1635739200.0"
      ]
     },
     "execution_count": 15,
     "metadata": {},
     "output_type": "execute_result"
    }
   ],
   "source": [
    "time1 = time.mktime(strptime('2021-11-01', '%Y-%m-%d'))\n",
    "time1"
   ]
  },
  {
   "cell_type": "markdown",
   "metadata": {},
   "source": [
    "###  Select table data by dates \n",
    "Select 2021 data"
   ]
  },
  {
   "cell_type": "code",
   "execution_count": 17,
   "metadata": {},
   "outputs": [
    {
     "name": "stdout",
     "output_type": "stream",
     "text": [
      "1609477200.0 1640926800.0\n"
     ]
    }
   ],
   "source": [
    "time1 = time.mktime(strptime('2021-1-01', '%Y-%m-%d'))\n",
    "time2 = time.mktime(strptime('2021-12-31', '%Y-%m-%d')) # Seconds since epoch\n",
    "print(time1, time2)"
   ]
  },
  {
   "cell_type": "code",
   "execution_count": 18,
   "metadata": {},
   "outputs": [
    {
     "data": {
      "text/html": [
       "<table border=\"1\" class=\"dataframe\">\n",
       "    <thead>\n",
       "        <tr>\n",
       "            <th>date</th> <th>geoid</th> <th>cases</th> <th>cases_avg</th> <th>cases_avg_per_100k</th> <th>deaths</th> <th>deaths_avg</th> <th>deaths_avg_per_100k</th>\n",
       "        </tr>\n",
       "    </thead>\n",
       "    <tbody>\n",
       "        <tr>\n",
       "            <td>2021-01-01</td> <td>USA  </td> <td>147248</td> <td>195605   </td> <td>58.95             </td> <td>1920  </td> <td>2507.56   </td> <td>0.76               </td>\n",
       "        </tr>\n",
       "        <tr>\n",
       "            <td>2021-01-02</td> <td>USA  </td> <td>291610</td> <td>205235   </td> <td>61.85             </td> <td>2373  </td> <td>2586.62   </td> <td>0.78               </td>\n",
       "        </tr>\n",
       "        <tr>\n",
       "            <td>2021-01-03</td> <td>USA  </td> <td>201780</td> <td>212411   </td> <td>64.02             </td> <td>1351  </td> <td>2606.8    </td> <td>0.79               </td>\n",
       "        </tr>\n",
       "        <tr>\n",
       "            <td>2021-01-04</td> <td>USA  </td> <td>251830</td> <td>215016   </td> <td>64.8              </td> <td>2049  </td> <td>2652.15   </td> <td>0.8                </td>\n",
       "        </tr>\n",
       "        <tr>\n",
       "            <td>2021-01-05</td> <td>USA  </td> <td>235016</td> <td>220002   </td> <td>66.3              </td> <td>3689  </td> <td>2660.99   </td> <td>0.8                </td>\n",
       "        </tr>\n",
       "        <tr>\n",
       "            <td>2021-01-06</td> <td>USA  </td> <td>255966</td> <td>224018   </td> <td>67.51             </td> <td>3964  </td> <td>2688.15   </td> <td>0.81               </td>\n",
       "        </tr>\n",
       "        <tr>\n",
       "            <td>2021-01-07</td> <td>USA  </td> <td>280334</td> <td>230965   </td> <td>69.61             </td> <td>4113  </td> <td>2765.7    </td> <td>0.83               </td>\n",
       "        </tr>\n",
       "        <tr>\n",
       "            <td>2021-01-08</td> <td>USA  </td> <td>300777</td> <td>244361   </td> <td>73.64             </td> <td>3895  </td> <td>2942.48   </td> <td>0.89               </td>\n",
       "        </tr>\n",
       "        <tr>\n",
       "            <td>2021-01-09</td> <td>USA  </td> <td>251919</td> <td>246656   </td> <td>74.34             </td> <td>3259  </td> <td>3173.8    </td> <td>0.96               </td>\n",
       "        </tr>\n",
       "        <tr>\n",
       "            <td>2021-01-10</td> <td>USA  </td> <td>208295</td> <td>247582   </td> <td>74.62             </td> <td>1777  </td> <td>3217.65   </td> <td>0.97               </td>\n",
       "        </tr>\n",
       "    </tbody>\n",
       "</table>\n",
       "<p>... (354 rows omitted)</p>"
      ],
      "text/plain": [
       "date       | geoid | cases  | cases_avg | cases_avg_per_100k | deaths | deaths_avg | deaths_avg_per_100k\n",
       "2021-01-01 | USA   | 147248 | 195605    | 58.95              | 1920   | 2507.56    | 0.76\n",
       "2021-01-02 | USA   | 291610 | 205235    | 61.85              | 2373   | 2586.62    | 0.78\n",
       "2021-01-03 | USA   | 201780 | 212411    | 64.02              | 1351   | 2606.8     | 0.79\n",
       "2021-01-04 | USA   | 251830 | 215016    | 64.8               | 2049   | 2652.15    | 0.8\n",
       "2021-01-05 | USA   | 235016 | 220002    | 66.3               | 3689   | 2660.99    | 0.8\n",
       "2021-01-06 | USA   | 255966 | 224018    | 67.51              | 3964   | 2688.15    | 0.81\n",
       "2021-01-07 | USA   | 280334 | 230965    | 69.61              | 4113   | 2765.7     | 0.83\n",
       "2021-01-08 | USA   | 300777 | 244361    | 73.64              | 3895   | 2942.48    | 0.89\n",
       "2021-01-09 | USA   | 251919 | 246656    | 74.34              | 3259   | 3173.8     | 0.96\n",
       "2021-01-10 | USA   | 208295 | 247582    | 74.62              | 1777   | 3217.65    | 0.97\n",
       "... (354 rows omitted)"
      ]
     },
     "execution_count": 18,
     "metadata": {},
     "output_type": "execute_result"
    }
   ],
   "source": [
    "C2021 = COVID.where(0,are.between(time1,time2))\n",
    "C2021"
   ]
  },
  {
   "cell_type": "markdown",
   "metadata": {},
   "source": [
    "### Plotting with Python using matplotlib.dates\n",
    "Special plotting functionality for dates"
   ]
  },
  {
   "cell_type": "code",
   "execution_count": 23,
   "metadata": {},
   "outputs": [],
   "source": [
    "# see https://www.geeksforgeeks.org/matplotlib-pyplot-plot_date-in-python/\n",
    "import datetime as dt\n",
    "from matplotlib.dates import DayLocator, HourLocator, DateFormatter, drange\n",
    "date1 = dt.datetime(2020, 4, 2)\n",
    "date2 = dt.datetime(2020, 4, 6)\n",
    "delta = dt.timedelta(hours = 6)\n",
    "dates = drange(date1, date2, delta)"
   ]
  },
  {
   "cell_type": "code",
   "execution_count": 24,
   "metadata": {},
   "outputs": [
    {
     "data": {
      "text/plain": [
       "datetime.datetime(2022, 1, 29, 19, 5, 14, 471360)"
      ]
     },
     "execution_count": 24,
     "metadata": {},
     "output_type": "execute_result"
    }
   ],
   "source": [
    "now = dt.datetime.now()\n",
    "now"
   ]
  },
  {
   "cell_type": "code",
   "execution_count": 20,
   "metadata": {},
   "outputs": [
    {
     "data": {
      "image/png": "[encoded data removed]",
      "text/plain": [
       "<Figure size 432x288 with 1 Axes>"
      ]
     },
     "metadata": {},
     "output_type": "display_data"
    }
   ],
   "source": [
    "# Input Data as arrays\n",
    "dates = C2021.column('date')  \n",
    "deaths = C2021.column('deaths') \n",
    "# https://matplotlib.org/stable/api/dates_api.html\n",
    "#import matplotlib.pyplot as plt\n",
    "import matplotlib.dates as mdates\n",
    "sec = mdates.epoch2num(dates)\n",
    "date_fmt = '%d-%m-%y'\n",
    "loc = mdates.AutoDateLocator()\n",
    "fmt = mdates.AutoDateFormatter(loc)\n",
    "plt.gca().xaxis.set_major_formatter(fmt)\n",
    "plt.gca().xaxis.set_major_locator(loc)\n",
    "plt.plot(sec,deaths)\n",
    "plt.gcf().autofmt_xdate()"
   ]
  },
  {
   "cell_type": "code",
   "execution_count": null,
   "metadata": {},
   "outputs": [],
   "source": []
  }
 ],
 "metadata": {
  "kernelspec": {
   "display_name": "Python 3",
   "language": "python",
   "name": "python3"
  },
  "language_info": {
   "codemirror_mode": {
    "name": "ipython",
    "version": 3
   },
   "file_extension": ".py",
   "mimetype": "text/x-python",
   "name": "python",
   "nbconvert_exporter": "python",
   "pygments_lexer": "ipython3",
   "version": "3.7.7"
  }
 },
 "nbformat": 4,
 "nbformat_minor": 4
}
