{
 "cells": [
  {
   "cell_type": "markdown",
   "metadata": {},
   "source": [
    "### Datascience Table\n",
    "\n",
    "|Method name|Value|\n",
    "|-|-|\n",
    "|`read_table(url)`|create table object and read data from url or file |\n",
    "|`sort(col,descending=True`|sort table by column labeled/numbered col|\n",
    "|`labels`|list column labels|\n",
    "|`join(col1,table2,col2)`|join two tables using col1 from first joined by matching col2 in table2|\n",
    "|`where(col,value)`|select rows where col = value|\n"
   ]
  },
  {
   "cell_type": "code",
   "execution_count": 1,
   "metadata": {},
   "outputs": [],
   "source": [
    "from datascience import *  # Import new data manipulation functionality\n",
    "import pandas as pd        # Pandas provides greater control over Data handling"
   ]
  },
  {
   "cell_type": "code",
   "execution_count": 2,
   "metadata": {},
   "outputs": [
    {
     "data": {
      "text/html": [
       "<table border=\"1\" class=\"dataframe\">\n",
       "    <thead>\n",
       "        <tr>\n",
       "            <th>zip_code</th> <th>partially_vaccinated</th> <th>fully_vaccinated</th> <th>etl_timestamp</th>\n",
       "        </tr>\n",
       "    </thead>\n",
       "    <tbody>\n",
       "        <tr>\n",
       "            <td>19138   </td> <td>3623                </td> <td>17304           </td> <td>2022-02-09 16:00:01</td>\n",
       "        </tr>\n",
       "    </tbody>\n",
       "        <tr>\n",
       "            <td>19125   </td> <td>5040                </td> <td>16352           </td> <td>2022-02-09 16:00:01</td>\n",
       "        </tr>\n",
       "    </tbody>\n",
       "        <tr>\n",
       "            <td>19144   </td> <td>5665                </td> <td>23325           </td> <td>2022-02-09 16:00:01</td>\n",
       "        </tr>\n",
       "    </tbody>\n",
       "        <tr>\n",
       "            <td>19152   </td> <td>5261                </td> <td>22347           </td> <td>2022-02-09 16:00:01</td>\n",
       "        </tr>\n",
       "    </tbody>\n",
       "        <tr>\n",
       "            <td>19153   </td> <td>1391                </td> <td>7188            </td> <td>2022-02-09 16:00:01</td>\n",
       "        </tr>\n",
       "    </tbody>\n",
       "        <tr>\n",
       "            <td>19133   </td> <td>3553                </td> <td>13264           </td> <td>2022-02-09 16:00:01</td>\n",
       "        </tr>\n",
       "    </tbody>\n",
       "        <tr>\n",
       "            <td>19126   </td> <td>2015                </td> <td>9019            </td> <td>2022-02-09 16:00:01</td>\n",
       "        </tr>\n",
       "    </tbody>\n",
       "        <tr>\n",
       "            <td>19119   </td> <td>4513                </td> <td>18292           </td> <td>2022-02-09 16:00:01</td>\n",
       "        </tr>\n",
       "    </tbody>\n",
       "        <tr>\n",
       "            <td>19120   </td> <td>9098                </td> <td>37848           </td> <td>2022-02-09 16:00:01</td>\n",
       "        </tr>\n",
       "    </tbody>\n",
       "        <tr>\n",
       "            <td>19128   </td> <td>5816                </td> <td>24057           </td> <td>2022-02-09 16:00:01</td>\n",
       "        </tr>\n",
       "    </tbody>\n",
       "</table>\n",
       "<p>... (36 rows omitted)</p>"
      ],
      "text/plain": [
       "zip_code | partially_vaccinated | fully_vaccinated | etl_timestamp\n",
       "19138    | 3623                 | 17304            | 2022-02-09 16:00:01\n",
       "19125    | 5040                 | 16352            | 2022-02-09 16:00:01\n",
       "19144    | 5665                 | 23325            | 2022-02-09 16:00:01\n",
       "19152    | 5261                 | 22347            | 2022-02-09 16:00:01\n",
       "19153    | 1391                 | 7188             | 2022-02-09 16:00:01\n",
       "19133    | 3553                 | 13264            | 2022-02-09 16:00:01\n",
       "19126    | 2015                 | 9019             | 2022-02-09 16:00:01\n",
       "19119    | 4513                 | 18292            | 2022-02-09 16:00:01\n",
       "19120    | 9098                 | 37848            | 2022-02-09 16:00:01\n",
       "19128    | 5816                 | 24057            | 2022-02-09 16:00:01\n",
       "... (36 rows omitted)"
      ]
     },
     "execution_count": 2,
     "metadata": {},
     "output_type": "execute_result"
    }
   ],
   "source": [
    "url = \"https://phl.carto.com/api/v2/sql?filename=covid_vaccines_by_zip&format=csv&skipfields=cartodb_id,the_geom,the_geom_webmercator&q=SELECT%20*%20FROM%20covid_vaccines_by_zip\"\n",
    "data_db = pd.read_csv(url)\n",
    "data = Table.from_df(data_db) # Create datascience Table object\n",
    "data"
   ]
  },
  {
   "cell_type": "code",
   "execution_count": 3,
   "metadata": {},
   "outputs": [
    {
     "data": {
      "text/html": [
       "<table border=\"1\" class=\"dataframe\">\n",
       "    <thead>\n",
       "        <tr>\n",
       "            <th>zip_code</th> <th>partially_vaccinated</th> <th>fully_vaccinated</th> <th>etl_timestamp</th>\n",
       "        </tr>\n",
       "    </thead>\n",
       "    <tbody>\n",
       "        <tr>\n",
       "            <td>19154   </td> <td>3716                </td> <td>20267           </td> <td>2022-02-09 16:00:01</td>\n",
       "        </tr>\n",
       "    </tbody>\n",
       "        <tr>\n",
       "            <td>19153   </td> <td>1391                </td> <td>7188            </td> <td>2022-02-09 16:00:01</td>\n",
       "        </tr>\n",
       "    </tbody>\n",
       "        <tr>\n",
       "            <td>19152   </td> <td>5261                </td> <td>22347           </td> <td>2022-02-09 16:00:01</td>\n",
       "        </tr>\n",
       "    </tbody>\n",
       "        <tr>\n",
       "            <td>19151   </td> <td>3449                </td> <td>16905           </td> <td>2022-02-09 16:00:01</td>\n",
       "        </tr>\n",
       "    </tbody>\n",
       "        <tr>\n",
       "            <td>19150   </td> <td>2731                </td> <td>14351           </td> <td>2022-02-09 16:00:01</td>\n",
       "        </tr>\n",
       "    </tbody>\n",
       "        <tr>\n",
       "            <td>19149   </td> <td>10411               </td> <td>35259           </td> <td>2022-02-09 16:00:01</td>\n",
       "        </tr>\n",
       "    </tbody>\n",
       "        <tr>\n",
       "            <td>19148   </td> <td>9112                </td> <td>36196           </td> <td>2022-02-09 16:00:01</td>\n",
       "        </tr>\n",
       "    </tbody>\n",
       "        <tr>\n",
       "            <td>19147   </td> <td>8858                </td> <td>29317           </td> <td>2022-02-09 16:00:01</td>\n",
       "        </tr>\n",
       "    </tbody>\n",
       "        <tr>\n",
       "            <td>19146   </td> <td>8104                </td> <td>29620           </td> <td>2022-02-09 16:00:01</td>\n",
       "        </tr>\n",
       "    </tbody>\n",
       "        <tr>\n",
       "            <td>19145   </td> <td>7071                </td> <td>30473           </td> <td>2022-02-09 16:00:01</td>\n",
       "        </tr>\n",
       "    </tbody>\n",
       "</table>\n",
       "<p>... (36 rows omitted)</p>"
      ],
      "text/plain": [
       "zip_code | partially_vaccinated | fully_vaccinated | etl_timestamp\n",
       "19154    | 3716                 | 20267            | 2022-02-09 16:00:01\n",
       "19153    | 1391                 | 7188             | 2022-02-09 16:00:01\n",
       "19152    | 5261                 | 22347            | 2022-02-09 16:00:01\n",
       "19151    | 3449                 | 16905            | 2022-02-09 16:00:01\n",
       "19150    | 2731                 | 14351            | 2022-02-09 16:00:01\n",
       "19149    | 10411                | 35259            | 2022-02-09 16:00:01\n",
       "19148    | 9112                 | 36196            | 2022-02-09 16:00:01\n",
       "19147    | 8858                 | 29317            | 2022-02-09 16:00:01\n",
       "19146    | 8104                 | 29620            | 2022-02-09 16:00:01\n",
       "19145    | 7071                 | 30473            | 2022-02-09 16:00:01\n",
       "... (36 rows omitted)"
      ]
     },
     "execution_count": 3,
     "metadata": {},
     "output_type": "execute_result"
    }
   ],
   "source": [
    "data.sort(\"zip_code\",descending=True) # the Table sort method, columns are labelled 0,1,2,..."
   ]
  },
  {
   "cell_type": "code",
   "execution_count": 4,
   "metadata": {},
   "outputs": [
    {
     "data": {
      "text/plain": [
       "('zip_code', 'partially_vaccinated', 'fully_vaccinated', 'etl_timestamp')"
      ]
     },
     "execution_count": 4,
     "metadata": {},
     "output_type": "execute_result"
    }
   ],
   "source": [
    "data.labels # Displays labels"
   ]
  },
  {
   "cell_type": "code",
   "execution_count": 7,
   "metadata": {},
   "outputs": [
    {
     "data": {
      "text/html": [
       "<table border=\"1\" class=\"dataframe\">\n",
       "    <thead>\n",
       "        <tr>\n",
       "            <th>zip</th> <th>city</th> <th>county</th> <th>pop</th>\n",
       "        </tr>\n",
       "    </thead>\n",
       "    <tbody>\n",
       "        <tr>\n",
       "            <td>18936</td> <td>Montgomeryville</td> <td>Montgomery  </td> <td>0   </td>\n",
       "        </tr>\n",
       "    </tbody>\n",
       "        <tr>\n",
       "            <td>19375</td> <td>Unionville     </td> <td>Chester     </td> <td>0   </td>\n",
       "        </tr>\n",
       "    </tbody>\n",
       "        <tr>\n",
       "            <td>19112</td> <td>Philadelphia   </td> <td>Philadelphia</td> <td>0   </td>\n",
       "        </tr>\n",
       "    </tbody>\n",
       "        <tr>\n",
       "            <td>19109</td> <td>Philadelphia   </td> <td>Philadelphia</td> <td>0   </td>\n",
       "        </tr>\n",
       "    </tbody>\n",
       "        <tr>\n",
       "            <td>17822</td> <td>Danville       </td> <td>Montour     </td> <td>0   </td>\n",
       "        </tr>\n",
       "    </tbody>\n",
       "        <tr>\n",
       "            <td>18195</td> <td>Allentown      </td> <td>Lehigh      </td> <td>0   </td>\n",
       "        </tr>\n",
       "    </tbody>\n",
       "        <tr>\n",
       "            <td>18068</td> <td>Old Zionsville </td> <td>Lehigh      </td> <td>0   </td>\n",
       "        </tr>\n",
       "    </tbody>\n",
       "        <tr>\n",
       "            <td>18046</td> <td>East Texas     </td> <td>Lehigh      </td> <td>0   </td>\n",
       "        </tr>\n",
       "    </tbody>\n",
       "        <tr>\n",
       "            <td>18016</td> <td>Bethlehem      </td> <td>Northampton </td> <td>0   </td>\n",
       "        </tr>\n",
       "    </tbody>\n",
       "        <tr>\n",
       "            <td>19442</td> <td>Kimberton      </td> <td>Chester     </td> <td>0   </td>\n",
       "        </tr>\n",
       "    </tbody>\n",
       "</table>\n",
       "<p>... (1782 rows omitted)</p>"
      ],
      "text/plain": [
       "zip   | city            | county       | pop\n",
       "18936 | Montgomeryville | Montgomery   | 0\n",
       "19375 | Unionville      | Chester      | 0\n",
       "19112 | Philadelphia    | Philadelphia | 0\n",
       "19109 | Philadelphia    | Philadelphia | 0\n",
       "17822 | Danville        | Montour      | 0\n",
       "18195 | Allentown       | Lehigh       | 0\n",
       "18068 | Old Zionsville  | Lehigh       | 0\n",
       "18046 | East Texas      | Lehigh       | 0\n",
       "18016 | Bethlehem       | Northampton  | 0\n",
       "19442 | Kimberton       | Chester      | 0\n",
       "... (1782 rows omitted)"
      ]
     },
     "execution_count": 7,
     "metadata": {},
     "output_type": "execute_result"
    }
   ],
   "source": [
    "url = \"https://raw.githubusercontent.com/DataScienceTempleFirst/code-cod/main/PA_zip_pop.csv\"\n",
    "zipdata = Table.read_table(url)\n",
    "zipdata.sort(\"pop\",descending=False)"
   ]
  },
  {
   "cell_type": "code",
   "execution_count": 8,
   "metadata": {},
   "outputs": [
    {
     "data": {
      "text/html": [
       "<table border=\"1\" class=\"dataframe\">\n",
       "    <thead>\n",
       "        <tr>\n",
       "            <th>zip</th> <th>city</th> <th>county</th> <th>pop</th>\n",
       "        </tr>\n",
       "    </thead>\n",
       "    <tbody>\n",
       "        <tr>\n",
       "            <td>19138</td> <td>Philadelphia</td> <td>Philadelphia</td> <td>32766</td>\n",
       "        </tr>\n",
       "    </tbody>\n",
       "</table>"
      ],
      "text/plain": [
       "zip   | city         | county       | pop\n",
       "19138 | Philadelphia | Philadelphia | 32766"
      ]
     },
     "execution_count": 8,
     "metadata": {},
     "output_type": "execute_result"
    }
   ],
   "source": [
    "zipdata.where('zip',19138)"
   ]
  },
  {
   "cell_type": "code",
   "execution_count": 9,
   "metadata": {},
   "outputs": [
    {
     "data": {
      "text/html": [
       "<table border=\"1\" class=\"dataframe\">\n",
       "    <thead>\n",
       "        <tr>\n",
       "            <th>zip_code</th> <th>partially_vaccinated</th> <th>fully_vaccinated</th> <th>etl_timestamp</th> <th>city</th> <th>county</th> <th>pop</th>\n",
       "        </tr>\n",
       "    </thead>\n",
       "    <tbody>\n",
       "        <tr>\n",
       "            <td>19102   </td> <td>1741                </td> <td>4228            </td> <td>2022-02-09 16:00:01</td> <td>Philadelphia</td> <td>Philadelphia</td> <td>5147 </td>\n",
       "        </tr>\n",
       "    </tbody>\n",
       "        <tr>\n",
       "            <td>19103   </td> <td>6871                </td> <td>18255           </td> <td>2022-02-09 16:00:01</td> <td>Philadelphia</td> <td>Philadelphia</td> <td>24214</td>\n",
       "        </tr>\n",
       "    </tbody>\n",
       "        <tr>\n",
       "            <td>19104   </td> <td>10858               </td> <td>31258           </td> <td>2022-02-09 16:00:01</td> <td>Philadelphia</td> <td>Philadelphia</td> <td>53560</td>\n",
       "        </tr>\n",
       "    </tbody>\n",
       "        <tr>\n",
       "            <td>19106   </td> <td>3001                </td> <td>8809            </td> <td>2022-02-09 16:00:01</td> <td>Philadelphia</td> <td>Philadelphia</td> <td>12592</td>\n",
       "        </tr>\n",
       "    </tbody>\n",
       "        <tr>\n",
       "            <td>19107   </td> <td>4081                </td> <td>11452           </td> <td>2022-02-09 16:00:01</td> <td>Philadelphia</td> <td>Philadelphia</td> <td>14526</td>\n",
       "        </tr>\n",
       "    </tbody>\n",
       "        <tr>\n",
       "            <td>19111   </td> <td>8269                </td> <td>39038           </td> <td>2022-02-09 16:00:01</td> <td>Philadelphia</td> <td>Philadelphia</td> <td>68113</td>\n",
       "        </tr>\n",
       "    </tbody>\n",
       "        <tr>\n",
       "            <td>19114   </td> <td>3823                </td> <td>18859           </td> <td>2022-02-09 16:00:01</td> <td>Philadelphia</td> <td>Philadelphia</td> <td>31668</td>\n",
       "        </tr>\n",
       "    </tbody>\n",
       "        <tr>\n",
       "            <td>19115   </td> <td>4092                </td> <td>21859           </td> <td>2022-02-09 16:00:01</td> <td>Philadelphia</td> <td>Philadelphia</td> <td>35346</td>\n",
       "        </tr>\n",
       "    </tbody>\n",
       "        <tr>\n",
       "            <td>19116   </td> <td>3909                </td> <td>18820           </td> <td>2022-02-09 16:00:01</td> <td>Philadelphia</td> <td>Philadelphia</td> <td>34747</td>\n",
       "        </tr>\n",
       "    </tbody>\n",
       "        <tr>\n",
       "            <td>19118   </td> <td>1829                </td> <td>6795            </td> <td>2022-02-09 16:00:01</td> <td>Philadelphia</td> <td>Philadelphia</td> <td>10884</td>\n",
       "        </tr>\n",
       "    </tbody>\n",
       "</table>\n",
       "<p>... (36 rows omitted)</p>"
      ],
      "text/plain": [
       "zip_code | partially_vaccinated | fully_vaccinated | etl_timestamp       | city         | county       | pop\n",
       "19102    | 1741                 | 4228             | 2022-02-09 16:00:01 | Philadelphia | Philadelphia | 5147\n",
       "19103    | 6871                 | 18255            | 2022-02-09 16:00:01 | Philadelphia | Philadelphia | 24214\n",
       "19104    | 10858                | 31258            | 2022-02-09 16:00:01 | Philadelphia | Philadelphia | 53560\n",
       "19106    | 3001                 | 8809             | 2022-02-09 16:00:01 | Philadelphia | Philadelphia | 12592\n",
       "19107    | 4081                 | 11452            | 2022-02-09 16:00:01 | Philadelphia | Philadelphia | 14526\n",
       "19111    | 8269                 | 39038            | 2022-02-09 16:00:01 | Philadelphia | Philadelphia | 68113\n",
       "19114    | 3823                 | 18859            | 2022-02-09 16:00:01 | Philadelphia | Philadelphia | 31668\n",
       "19115    | 4092                 | 21859            | 2022-02-09 16:00:01 | Philadelphia | Philadelphia | 35346\n",
       "19116    | 3909                 | 18820            | 2022-02-09 16:00:01 | Philadelphia | Philadelphia | 34747\n",
       "19118    | 1829                 | 6795             | 2022-02-09 16:00:01 | Philadelphia | Philadelphia | 10884\n",
       "... (36 rows omitted)"
      ]
     },
     "execution_count": 9,
     "metadata": {},
     "output_type": "execute_result"
    }
   ],
   "source": [
    "data=data.join('zip_code',zipdata,'zip') # Join two tables to get population\n",
    "data"
   ]
  },
  {
   "cell_type": "markdown",
   "metadata": {},
   "source": [
    "#### Add column with % vaxed"
   ]
  },
  {
   "cell_type": "code",
   "execution_count": 10,
   "metadata": {},
   "outputs": [],
   "source": [
    "data = data.with_column('percent vax',data.column('fully_vaccinated')/data.column('pop')*100).sort('percent vax',descending=True)"
   ]
  },
  {
   "cell_type": "code",
   "execution_count": 11,
   "metadata": {},
   "outputs": [
    {
     "data": {
      "text/html": [
       "<table border=\"1\" class=\"dataframe\">\n",
       "    <thead>\n",
       "        <tr>\n",
       "            <th>zip_code</th> <th>partially_vaccinated</th> <th>fully_vaccinated</th> <th>etl_timestamp</th> <th>city</th> <th>county</th> <th>pop</th> <th>percent vax</th>\n",
       "        </tr>\n",
       "    </thead>\n",
       "    <tbody>\n",
       "        <tr>\n",
       "            <td>19102   </td> <td>1741                </td> <td>4228            </td> <td>2022-02-09 16:00:01</td> <td>Philadelphia</td> <td>Philadelphia</td> <td>5147 </td> <td>82.1449    </td>\n",
       "        </tr>\n",
       "    </tbody>\n",
       "        <tr>\n",
       "            <td>19107   </td> <td>4081                </td> <td>11452           </td> <td>2022-02-09 16:00:01</td> <td>Philadelphia</td> <td>Philadelphia</td> <td>14526</td> <td>78.8379    </td>\n",
       "        </tr>\n",
       "    </tbody>\n",
       "        <tr>\n",
       "            <td>19147   </td> <td>8858                </td> <td>29317           </td> <td>2022-02-09 16:00:01</td> <td>Philadelphia</td> <td>Philadelphia</td> <td>38472</td> <td>76.2035    </td>\n",
       "        </tr>\n",
       "    </tbody>\n",
       "        <tr>\n",
       "            <td>19146   </td> <td>8104                </td> <td>29620           </td> <td>2022-02-09 16:00:01</td> <td>Philadelphia</td> <td>Philadelphia</td> <td>39282</td> <td>75.4035    </td>\n",
       "        </tr>\n",
       "    </tbody>\n",
       "        <tr>\n",
       "            <td>19103   </td> <td>6871                </td> <td>18255           </td> <td>2022-02-09 16:00:01</td> <td>Philadelphia</td> <td>Philadelphia</td> <td>24214</td> <td>75.3903    </td>\n",
       "        </tr>\n",
       "    </tbody>\n",
       "        <tr>\n",
       "            <td>19130   </td> <td>6941                </td> <td>19545           </td> <td>2022-02-09 16:00:01</td> <td>Philadelphia</td> <td>Philadelphia</td> <td>27093</td> <td>72.1404    </td>\n",
       "        </tr>\n",
       "    </tbody>\n",
       "        <tr>\n",
       "            <td>19106   </td> <td>3001                </td> <td>8809            </td> <td>2022-02-09 16:00:01</td> <td>Philadelphia</td> <td>Philadelphia</td> <td>12592</td> <td>69.9571    </td>\n",
       "        </tr>\n",
       "    </tbody>\n",
       "        <tr>\n",
       "            <td>19148   </td> <td>9112                </td> <td>36196           </td> <td>2022-02-09 16:00:01</td> <td>Philadelphia</td> <td>Philadelphia</td> <td>52259</td> <td>69.2627    </td>\n",
       "        </tr>\n",
       "    </tbody>\n",
       "        <tr>\n",
       "            <td>19123   </td> <td>4075                </td> <td>11696           </td> <td>2022-02-09 16:00:01</td> <td>Philadelphia</td> <td>Philadelphia</td> <td>17351</td> <td>67.4082    </td>\n",
       "        </tr>\n",
       "    </tbody>\n",
       "        <tr>\n",
       "            <td>19127   </td> <td>1151                </td> <td>3879            </td> <td>2022-02-09 16:00:01</td> <td>Philadelphia</td> <td>Philadelphia</td> <td>5760 </td> <td>67.3438    </td>\n",
       "        </tr>\n",
       "    </tbody>\n",
       "</table>\n",
       "<p>... (36 rows omitted)</p>"
      ],
      "text/plain": [
       "zip_code | partially_vaccinated | fully_vaccinated | etl_timestamp       | city         | county       | pop   | percent vax\n",
       "19102    | 1741                 | 4228             | 2022-02-09 16:00:01 | Philadelphia | Philadelphia | 5147  | 82.1449\n",
       "19107    | 4081                 | 11452            | 2022-02-09 16:00:01 | Philadelphia | Philadelphia | 14526 | 78.8379\n",
       "19147    | 8858                 | 29317            | 2022-02-09 16:00:01 | Philadelphia | Philadelphia | 38472 | 76.2035\n",
       "19146    | 8104                 | 29620            | 2022-02-09 16:00:01 | Philadelphia | Philadelphia | 39282 | 75.4035\n",
       "19103    | 6871                 | 18255            | 2022-02-09 16:00:01 | Philadelphia | Philadelphia | 24214 | 75.3903\n",
       "19130    | 6941                 | 19545            | 2022-02-09 16:00:01 | Philadelphia | Philadelphia | 27093 | 72.1404\n",
       "19106    | 3001                 | 8809             | 2022-02-09 16:00:01 | Philadelphia | Philadelphia | 12592 | 69.9571\n",
       "19148    | 9112                 | 36196            | 2022-02-09 16:00:01 | Philadelphia | Philadelphia | 52259 | 69.2627\n",
       "19123    | 4075                 | 11696            | 2022-02-09 16:00:01 | Philadelphia | Philadelphia | 17351 | 67.4082\n",
       "19127    | 1151                 | 3879             | 2022-02-09 16:00:01 | Philadelphia | Philadelphia | 5760  | 67.3438\n",
       "... (36 rows omitted)"
      ]
     },
     "execution_count": 11,
     "metadata": {},
     "output_type": "execute_result"
    }
   ],
   "source": [
    "data"
   ]
  },
  {
   "cell_type": "code",
   "execution_count": 12,
   "metadata": {},
   "outputs": [
    {
     "data": {
      "text/html": [
       "<table border=\"1\" class=\"dataframe\">\n",
       "    <thead>\n",
       "        <tr>\n",
       "            <th>zip_code</th> <th>partially_vaccinated</th> <th>fully_vaccinated</th> <th>etl_timestamp</th> <th>city</th> <th>county</th> <th>pop</th> <th>percent vax</th>\n",
       "        </tr>\n",
       "    </thead>\n",
       "    <tbody>\n",
       "        <tr>\n",
       "            <td>19122   </td> <td>3314                </td> <td>12602           </td> <td>2022-02-09 16:00:01</td> <td>Philadelphia</td> <td>Philadelphia</td> <td>21666</td> <td>58.1649    </td>\n",
       "        </tr>\n",
       "    </tbody>\n",
       "</table>"
      ],
      "text/plain": [
       "zip_code | partially_vaccinated | fully_vaccinated | etl_timestamp       | city         | county       | pop   | percent vax\n",
       "19122    | 3314                 | 12602            | 2022-02-09 16:00:01 | Philadelphia | Philadelphia | 21666 | 58.1649"
      ]
     },
     "execution_count": 12,
     "metadata": {},
     "output_type": "execute_result"
    }
   ],
   "source": [
    "data.where(0,19122)"
   ]
  }
 ],
 "metadata": {
  "kernelspec": {
   "display_name": "Python 3",
   "language": "python",
   "name": "python3"
  },
  "language_info": {
   "codemirror_mode": {
    "name": "ipython",
    "version": 3
   },
   "file_extension": ".py",
   "mimetype": "text/x-python",
   "name": "python",
   "nbconvert_exporter": "python",
   "pygments_lexer": "ipython3",
   "version": "3.6.1"
  }
 },
 "nbformat": 4,
 "nbformat_minor": 4
}
