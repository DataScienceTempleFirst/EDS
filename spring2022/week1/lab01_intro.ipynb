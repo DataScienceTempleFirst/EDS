{
 "cells": [
  {
   "cell_type": "markdown",
   "metadata": {},
   "source": [
    "# Lab 1: Introduction and Practice with Jupyter Notebooks"
   ]
  },
  {
   "cell_type": "markdown",
   "metadata": {},
   "source": [
    "Wlecome to Elements of Data Science!  Each week you will complete a lab assignment like this one. You can't learn technical subjects without hands-on practice, so labs are an important part of the course.  \n",
    "\n",
    "In Lab 1, you will learn how to navigate a Jupyter Notebook (like this one). All of the required lab assignments in this course are published as jupyter notebooks. You follow the instructions in the notebook to complete the assignment.\n",
    "\n",
    "This is one is graded on completeness only, but in the future the labs will be checked for correctness as well. \n",
    "\n",
    "Collaborating on labs is more than okay -- it's encouraged! You should rarely be stuck for more than a few minutes on questions in labs, so ask a neighbor or an instructor for help. (Explaining things is beneficial, too -- the best way to solidify your knowledge of a subject is to explain it.) Please don't just share answers, though.\n",
    "\n",
    "Let's get started!"
   ]
  },
  {
   "cell_type": "markdown",
   "metadata": {},
   "source": [
    "## 1. Jupyter notebooks\n",
    "This webpage is called a Jupyter notebook. A notebook is a place to write programs and view their results.\n",
    "\n",
    "### 1.1. Text cells\n",
    "In a notebook, each rectangle containing text or code is called a *cell*.\n",
    "\n",
    "Text cells (like this one) can be edited by double-clicking on them. They're written in a simple format called [Markdown](http://daringfireball.net/projects/markdown/syntax) to add formatting and section headings.  You don't need to learn Markdown, but you might want to.\n",
    "\n",
    "After you edit a text cell, select the \"run cell\" button at the top that looks like ▶| to confirm any changes.  You can also use a keyboard shortcut to run a cell by holding down the Ctrl key and pressing Enter.  "
   ]
  },
  {
   "cell_type": "markdown",
   "metadata": {},
   "source": [
    "**Question 1.1.1.** <br />\n",
    "This paragraph is in its own text cell.  Try editing it so that **this** sentence is the last sentence in the paragraph, and then select the \"run cell\" ▶| button on the top.  This sentence, for example, should be deleted.  So should this one."
   ]
  },
  {
   "cell_type": "code",
   "execution_count": null,
   "metadata": {},
   "outputs": [],
   "source": [
    "print(\"Hello, World!\")"
   ]
  },
  {
   "cell_type": "markdown",
   "metadata": {},
   "source": [
    "And this one:"
   ]
  },
  {
   "cell_type": "code",
   "execution_count": null,
   "metadata": {},
   "outputs": [],
   "source": [
    "print(\"\\N{WAVING HAND SIGN}, \\N{EARTH GLOBE ASIA-AUSTRALIA}!\")"
   ]
  },
  {
   "cell_type": "markdown",
   "metadata": {},
   "source": [
    "The fundamental building block of Python code is an expression. Cells can contain multiple lines with multiple expressions. When you run a cell, the lines of code are executed in the order in which they appear. Every `print` expression prints a line. Run the next cell and notice the order of the output."
   ]
  },
  {
   "cell_type": "code",
   "execution_count": null,
   "metadata": {},
   "outputs": [],
   "source": [
    "print(\"First this line is printed,\")\n",
    "print(\"and then this one.\")"
   ]
  },
  {
   "cell_type": "markdown",
   "metadata": {},
   "source": [
    "**Question 1.2.1.** <br />\n",
    "Change the cell above so that it prints out:\n",
    "\n",
    "    First this line,\n",
    "    then the whole 🌏,\n",
    "    and then this one.\n",
    "\n",
    "*Hint:* If you're stuck on how to print the Earth symbol, try looking at the print expressions above."
   ]
  },
  {
   "cell_type": "markdown",
   "metadata": {},
   "source": [
    "### 1.3. Writing Jupyter notebooks\n",
    "You can use Jupyter notebooks for your own projects or documents. They are among the world's most popular programming environments for data science. When you make your own notebook, you'll need to create your own cells for text and code.\n",
    "\n",
    "To add a cell, select the + button in the menu bar.  A new cell starts out as text.  You can change it to a code cell by selecting it so that it's highlighted, then selecting the drop-down box next to the restart (⟳) button in the menu bar, and choosing Code instead of Markdown.\n",
    "\n",
    "**Question 1.3.1.** <br />\n",
    "Add a code cell below this one.  Write code in it that prints out:\n",
    "   \n",
    "    A whole new cell! \n",
    "    ♪🌏♪\n",
    "\n",
    "(That musical note symbol is like the Earth symbol.  Its long-form name is `\\N{EIGHTH NOTE}`.)\n",
    "\n",
    "Run your cell to verify that it works."
   ]
  },
  {
   "cell_type": "markdown",
   "metadata": {},
   "source": [
    "### 1.4. Errors\n",
    "Python is a language, and like natural human languages, it has rules.  It differs from natural language in two important ways:\n",
    "1. The rules are *simple*.  You can learn most of them in a few weeks and gain reasonable proficiency with the language in a semester.\n",
    "2. The rules are *rigid*.  If you're proficient in a natural language, you can understand a non-proficient speaker, glossing over small mistakes.  A computer running Python code is not smart enough to do that.\n",
    "\n",
    "Whenever you write code, you'll make mistakes.  When you run a code cell that has errors, Python will sometimes produce error messages to tell you what you did wrong.\n",
    "\n",
    "Errors are okay; even experienced programmers make many errors.  When you make an error, you just have to find the source of the problem, fix it, and move on.\n",
    "\n",
    "We have made an error in the next cell.  Run it and see what happens."
   ]
  },
  {
   "cell_type": "code",
   "execution_count": null,
   "metadata": {},
   "outputs": [],
   "source": [
    "print(\"This line is missing something.\""
   ]
  },
  {
   "cell_type": "markdown",
   "metadata": {},
   "source": [
    "You should see something like this (minus our annotations):\n",
    "\n",
    "<img src=\"error.jpg\" alt=\"\"/>\n",
    "\n",
    "The last line of the error output attempts to tell you what went wrong.  The *syntax* of a language is its structure, and this `SyntaxError` tells you that you have created an illegal structure.  \"`EOF`\" means \"end of file,\" so the message is saying Python expected you to write something more (in this case, a right parenthesis) before finishing the cell.\n",
    "\n",
    "There's a lot of terminology in programming languages. You'll learn as you go. If you are ever having trouble understanding an error message, search the discussion forum. If you don't find an answer, post a question about the error yourself.\n",
    "\n",
    "Try to fix the code above so that you can run the cell and see the intended message instead of an error."
   ]
  },
  {
   "cell_type": "markdown",
   "metadata": {},
   "source": [
    "### 1.5. The Kernel\n",
    "The kernel is a program that executes the code inside your notebook and outputs the results. In the top right of your window, you can see a circle that indicates the status of your kernel. If the circle is empty (⚪), the kernel is idle and ready to execute code. If the circle is filled in (⚫), the kernel is busy running some code. \n",
    "\n",
    "You may run into problems where your kernel is stuck for an excessive amount of time, your notebook is very slow and unresponsive, or your kernel loses its connection. If this happens, try the following steps:\n",
    "1. At the top of your screen, select **Kernel**, then **Interrupt**.\n",
    "2. If that doesn't help, select **Kernel**, then **Restart**. If you do this, you will have to run your code cells from the start of your notebook up until where you paused your work.\n",
    "3. If that doesn't help, restart your server. First, save your work by selecting **File** at the top left of your screen, then **Save and Checkpoint**. Next, select **Control Panel** at the top right. Choose **Stop My Server** to shut it down, then **My Server** to start it back up. Then, navigate back to the notebook you were working on."
   ]
  },
  {
   "cell_type": "markdown",
   "metadata": {},
   "source": [
    "## Submitting Assignments and the Grader "
   ]
  },
  {
   "cell_type": "markdown",
   "metadata": {},
   "source": [
    "To check assignments in the course, there will be a grader called Gofer Grader. At the bottom of an assignment, under the Submission header, you may see some lines of code that look like this: \n",
    "\n",
    "<img src=\"intro_jupyter_images/gofer.png\">\n",
    "\n",
    "These lines of code import the grader and run all of the tests in the notebook. You can see what the tests are in the notebook by identifying the code cells with the format `check(test/...)`. These tests/checks are placed after a question usually, in order to see if you have gotten the question correct. If the question is correct, you should see something that looks similar to this:\n",
    "\n",
    "<img src=\"intro_jupyter_images/checkpass.png\">\n",
    "\n",
    "If you have gotten the question wrong and therefore \"failed\" the check, you will see something like this:\n",
    "\n",
    "<img src=\"intro_jupyter_images/checkfail.png\">\n",
    "\n",
    "If you get this result, make sure to go back to your code that was being tested and change it before submitting!"
   ]
  },
  {
   "cell_type": "markdown",
   "metadata": {},
   "source": [
    "### 1.6. Completing a lab\n",
    "All assignments in the course will be distributed as notebooks like this one. At the top of each assignment, you'll see a cell like the one below that imports autograder tests. Run it to import the autograder tests.\n",
    "\n"
   ]
  },
  {
   "cell_type": "code",
   "execution_count": null,
   "metadata": {},
   "outputs": [],
   "source": [
    "# Install a pip package in the current Jupyter kernel\n",
    "import sys\n",
    "!{sys.executable} -m pip install git+https://github.com/grading/gradememaybe.git"
   ]
  },
  {
   "cell_type": "code",
   "execution_count": null,
   "metadata": {},
   "outputs": [],
   "source": [
    "# Don't change this cell, just run it\n",
    "# Import autograder tests\n",
    "from gofer.ok import check"
   ]
  },
  {
   "cell_type": "markdown",
   "metadata": {},
   "source": [
    "When you finish a question, you need to check your answer by running the check command below.  It's OK to grade multiple times; Gofer will only try to grade your final submission for each question. There are no hidden autograder tests.  If you pass all the given autograder tests for a question, you will receive full credit for that question."
   ]
  },
  {
   "cell_type": "code",
   "execution_count": null,
   "metadata": {},
   "outputs": [],
   "source": [
    "check(\"tests/q0.py\")"
   ]
  },
  {
   "cell_type": "markdown",
   "metadata": {},
   "source": [
    "The notebook resides on a server that is run by the course staff, and so we have access to it as well. Once you're finished with a lab, use the File menu within the notebook page (below the Jupyter logo) to \"Save and Checkpoint\" and you're done. You may also check your notebook in its entirety with the following command."
   ]
  },
  {
   "cell_type": "code",
   "execution_count": null,
   "metadata": {},
   "outputs": [],
   "source": [
    "import glob\n",
    "from gofer.ok import check\n",
    "for x in range(1):\n",
    "    print('Testing question {}: '.format(str(x)))\n",
    "    display(check('tests/q{}.py'.format(str(x))))"
   ]
  },
  {
   "cell_type": "markdown",
   "metadata": {},
   "source": [
    "# Further Reference"
   ]
  },
  {
   "cell_type": "markdown",
   "metadata": {},
   "source": [
    "This notebook is an introductory notebook to help learn about what Jupyter Notebooks are, how you can use it, shortcuts for some common actions, and information about Gofer Grader which is used in this Data 8X course. "
   ]
  },
  {
   "cell_type": "markdown",
   "metadata": {},
   "source": [
    "## What is a Jupyter Notebook?"
   ]
  },
  {
   "cell_type": "markdown",
   "metadata": {},
   "source": [
    "A Jupyter Notebook is a file/notebook that can contain both code and regular text (like this paragraph here!) as well as math formulas, images, links, and more. The fact that a Jupyter Notebook can contains all of these various elements makes it a valuable tool for people, especially when doing data analysis, since the analysis description and the results can be contained in the same document. \n",
    "\n",
    "There are two ways to run and execute a Jupyter notebook:\n",
    "1. On a local Desktop (which requires no internet access)\n",
    "2. On a remote server (many Berkeley classes like Data 8X and Data 100 use this option so you can save your work and submit it online)\n",
    "\n",
    "Every notebook has something called a ** kernel **, which acts as the operation part of the notebook. With the kernel, we can execute the lines of code that are in a notebook. When you open a notebook, the kernel associated with that notebook is automatically launched as well. When we execute or run a notebook (more on this down below), the kernel performs the computations and then returns the results. To see when the kernel is running/executing, you can look at the top right hand corner of your notebook, at a circle. If the circle is gray/filled in, the kernel is currently executing cells. If the circle is not filled in, the kernel is not currently executing cells. In the diagram below, the circle shows us that the kernel is not executing anything at the moment. \n",
    "\n",
    "<img src=\"intro_jupyter_images/circle.png\">\n",
    "\n",
    "When you first open your Jupyter Notebook, you are given an empty cell that you are free to edit. Cells can be of different types based on the content you want to write in it. Any Python code that is written will be in a \"Code\" cell, while paragraphs and images will be in a \"Markdown\" cell. \n",
    "\n",
    "Cells can also be in Edit Mode or Command Mode. When a cell is in edit mode, in the top right corner of the menu, there will be a pencil icon (as shown in the image above). When the cell is in command mode, this icon will not be there. Based on which mode the cell is in, we can do different actions/shortcuts."
   ]
  },
  {
   "cell_type": "markdown",
   "metadata": {},
   "source": [
    "### Actions you can do in a Jupyter Notebook\n",
    "There are many different actions that you can do once you are within a notebook, a lot of which is in the top toolbar (containing icons) or the \"File Edit View ...\" menu. In this section, we will go over some common actions you can take to use your notebook. "
   ]
  },
  {
   "cell_type": "markdown",
   "metadata": {},
   "source": [
    "#### Change Type of Cell\n",
    "Based on what purpose you are using your Jupyter Notebook for, you may want one type of cell or various types of cells within your notebook. The most common types of cells are Markdown cells and Code cells, which exist among Heading cells and Raw NBConvert cells. For any cells in your notebook, you can change what type of cell it is by selecting the cell you want to change and then going to the top toolbar and looking for the drop down menu with all the types options (as shown in the diagram below). \n",
    "<img src=\"intro_jupyter_images/toolbar.png\">\n",
    "\n",
    "<img src=\"intro_jupyter_images/typecell.png\">"
   ]
  },
  {
   "cell_type": "markdown",
   "metadata": {},
   "source": [
    "#### Add a Cell\n",
    "In order to add a cell to your notebook, select an existing cell and then navigate to the toolbar and click on the plus symbol. A cell will be added, below the cell you selected before. The cell will be default be a \"Code\" type cell. "
   ]
  },
  {
   "cell_type": "markdown",
   "metadata": {},
   "source": [
    "#### Delete a Cell \n",
    "To delete a cell from your notebook, select the cell you want to delete (by clicking on the cell) and then navigate to the menu at the top and do `Edit -> Delete Cells`."
   ]
  },
  {
   "cell_type": "markdown",
   "metadata": {},
   "source": [
    "#### Run Cells\n",
    "To run a single cell (so the kernel can evaluate what is in the cell), select the cell and then navigate to the menu and do: `Cell -> Run Cells`.\n",
    "\n",
    "To run a single cell and then select the next cell after the evaluation is complete, select the cell and then navigate to the menu and do: `Cell -> Run Cells and Select Below`. This can also be done by selecting the cell, going to the toolbar and clicking on the step icon (the triangle with a line on the right side). \n",
    "\n",
    "To run a single cell and then add a new cell after the evaluation is complete, select the cell and then navigate to the menu and do: `Cell -> Run Cells and Insert Below`.\n",
    "\n",
    "To run all the cells in the notebook, navigate to the menu and do: `Cell -> Run All`.\n",
    "\n",
    "To run all the cells above a certain cell, click on the cell then navigate to the menu and do: `Cell -> Run All Above`.\n",
    "\n",
    "To run all the cells below a certain cell, click on the cell then navigate to the menu and do: `Cell -> Run All Below`."
   ]
  },
  {
   "cell_type": "markdown",
   "metadata": {},
   "source": [
    "#### Stop Executing\n",
    "Suppose you run a cell (which is taking a long time to finish), and you want to stop the kernel from executing it. Simply closing the window that your notebook is in will not make the kernel stop executing. To do this, you can go to the menu and select `Kernel -> Interrupt`. Alternatively, you can go to toolbar and press the stop icon (the full black square). Doing either of these actions will stop the kernel from executing the current cell."
   ]
  },
  {
   "cell_type": "markdown",
   "metadata": {},
   "source": [
    "#### Other Kernel Actions\n",
    "There are other actions (besides interrupting) that you can do with your kernel. These actions are in the menu under `Kernel`. \n",
    "\n",
    "`Kernel -> Restart`: This restarts the kernel and refreshes all the current variables in the kernel (variables are lost). The notebook cells are NOT run automatically but the output from the cells from before the restart are still there on the screen.\n",
    "\n",
    "`Kernel -> Restart & Clear Output`: This restarts the kernel and refreshes all the current variables in the kernel (variables are lost). The notebook cells are NOT run automatically and the output from the cells from before the restart are cleared from the screen.\n",
    "\n",
    "`Kernel -> Restart & Run All`: This restarts your kernel (and refreshes all the outputs/variables previously computed) and then runs all the cells in the notebook from the top. \n",
    "\n",
    "`Kernel -> Reconnect`: This helps to reconnect to the kernel in the case that your kernel disconnects or is having a problem. If your kernel is not working, you can try this action so that you can connect and execute with the kernel again.\n",
    "\n",
    "`Kernel -> Shutdown`: This shuts down the kernel so it will not be running or executing or taking up memory/storage."
   ]
  },
  {
   "cell_type": "markdown",
   "metadata": {},
   "source": [
    "#### Markdown Cells\n",
    "Markdown cells can contain text, photos, videos, even code chunks that cannot be executed. To insert these elements and change the text (headings, bold, italics, links, etc), there is a language called Markdown Language. \n",
    "\n",
    "With Markdown you can:\n",
    "\n",
    "Make text **bold** by surrounding the text with double asterisks or double underscores.\n",
    "\n",
    "\n",
    "Make text *italicized* by surrounding the text with single asterisks or single underscores.\n",
    "\n",
    "\n",
    "* Create bulleted lists\n",
    "* By adding \n",
    "* An asterisk and a space and then your text\n",
    "\n",
    "\n",
    "Insert a [link](https://medium.com/ibm-data-science-experience/markdown-for-jupyter-notebooks-cheatsheet-386c05aeebed) into your text, by surrounding the text with brackets and immediately putting your url with parentheses around it.\n",
    "\n",
    "\n",
    "Add headings by starting a line with one or more # followed by a space and your heading text,\n",
    "### Like\n",
    "## this\n",
    "# example\n",
    "\n",
    "\n",
    "You can also embed code for illustration purposes (not execution) by surrounding the code with a single backtick, like `x = 5`.\n",
    "\n",
    "\n",
    "It is also possible to include mathematical equations by surrounding the expression with single dollar signs. The way you write the math formulas follows LaTeX rules. To have the expression on its own line, surround the expression with double dollar signs.\n",
    "$e^x=\\sum_{i=0}^\\infty \\frac{1}{i!}x^i$ \n",
    "$$e^x=\\sum_{i=0}^\\infty \\frac{1}{i!}x^i$$\n",
    "\n",
    "\n",
    "There are many more commands and tricks you can do with Markdown, check out this cheat sheet for more tips: https://medium.com/ibm-data-science-experience/markdown-for-jupyter-notebooks-cheatsheet-386c05aeebed.\n"
   ]
  },
  {
   "cell_type": "markdown",
   "metadata": {},
   "source": [
    "#### Save Notebook\n",
    "To save your notebook in the location where it is currently, you can click on the save icon in the leftmost side of the toolbar or go to File -> Save and Checkpoint in the Menu. Checkpoints are created with this command so you are able to go back to the checkpoint if needed (similar to Google Docs and how you can see previous edits and versions of the document). "
   ]
  },
  {
   "cell_type": "markdown",
   "metadata": {},
   "source": [
    "#### Cut, Copy, Paste Cells\n",
    "Similar to how you can cut, copy, and paste text in other editors like Google Docs or Word, you can do the same with cells in Jupyter Notebook. To do any of these commands you can select the cells and then navigate to the toolbar - the scissor icon is the Cut command, the double pages icon next to it is the Copy command, and the clipboard and page icon next to that is the Paste icon. Alternatively, you can do the same commands by going to the Menu and clicking Edit (where there are commands Cut Cells, Copy Cells, Paste Cells Above, Paste Cells Below, Paste Cells and Replace)."
   ]
  },
  {
   "cell_type": "markdown",
   "metadata": {},
   "source": [
    "#### Move Cells Up and Down \n",
    "It is also possible to move cells up or down if you want to change their location within the notebook. This can be done by selecting the cell(s) and clicking the up or down icons (based on where you want the cell to be). Each time the buttons is pressed, the cell selected will move one cell in that direction. This can also be done with Edit -> Move Cell Up or Move Cell Down."
   ]
  },
  {
   "cell_type": "markdown",
   "metadata": {},
   "source": [
    "## Jupyter Notebook Shortcuts\n",
    "In the previous section, we talked about various actions we can do within a Jupyter Notebook. All of these actions required going to the Toolbar or the Menu at the top of the notebook. Doing this for every single action can be tiring, so luckily for us, there are a number of neat shortcuts to help us do the same actions.\n",
    "\n",
    "Some of these shortcuts require you to be in the Edit Mode or the Command Mode of a cell. Remember, you are in Edit Mode if you can see the pencil icon in the top right corner of the Menu. \n",
    "\n",
    "To activate command mode, press `Esc` and to activate Edit Mode, press `Enter`. \n",
    "\n",
    "Below the shortcuts are grouped based on what mode you are in."
   ]
  },
  {
   "cell_type": "markdown",
   "metadata": {},
   "source": [
    "#### Shortcuts for Both Modes\n",
    "* Run the current cell and select below: `Shift + Enter`\n",
    "* Run the selected cell: `Ctrl + Enter`\n",
    "* Run the current cell and insert cell below: `Alt + Enter`\n",
    "* Save and checkpoint: `Ctrl + S`\n",
    "\n",
    "\n",
    "#### Shortcuts while in Command Mode\n",
    "* Show all shortcuts: `H`\n",
    "* Select cell above: `Up`\n",
    "* Select cell below: `Down`\n",
    "* Extend selected cells above: `Shift + Up`\n",
    "* Extend selected cells below: `Shift + Down`\n",
    "* Insert cell above: `A`\n",
    "* Insert cell below: `B`\n",
    "* Cut selected cells: `X`\n",
    "* Copy selected cells: `C`\n",
    "* Paste cells above: `Shift + V`\n",
    "* Paste cells below: `V`\n",
    "* Delete selected cells: `D, D` (press `D` key twice)\n",
    "* Undo deleting cell: `Z`\n",
    "* Save and checkpoint: `S`\n",
    "* Change to Code cell type: `Y`\n",
    "* Change to Markdown cell type: `M`\n",
    "* Scroll notebook up: `Shift + Space`\n",
    "* Scroll notebook down: `Space`\n",
    "\n",
    "\n",
    "#### Shortcuts while in Edit Mode\n",
    "Many of these are similar to other text editors because we are doing them in Edit Mode.\n",
    "* Code completion or indent: `Tab`\n",
    "* Indent: `Ctrl + ]`\n",
    "* Dedent: `Ctrl + [`\n",
    "* Select all: `Ctrl + A`\n",
    "* Undo: ` Ctrl + Z`\n",
    "* Redo: ` Ctrl + Y`\n",
    "* Go to left of line: `Ctrl + Left`\n",
    "* Go to right of line: `Ctrl + Right`\n",
    "* Move cursor down: `Down`\n",
    "* Move cursor up: `Up`\n",
    "\n",
    "There are other shortcuts that also exist, many of them are documented online as well as in the Jupyter Notebook documentation."
   ]
  }
 ],
 "metadata": {
  "kernelspec": {
   "display_name": "Python 3",
   "language": "python",
   "name": "python3"
  },
  "language_info": {
   "codemirror_mode": {
    "name": "ipython",
    "version": 3
   },
   "file_extension": ".py",
   "mimetype": "text/x-python",
   "name": "python",
   "nbconvert_exporter": "python",
   "pygments_lexer": "ipython3",
   "version": "3.7.5"
  }
 },
 "nbformat": 4,
 "nbformat_minor": 2
}
